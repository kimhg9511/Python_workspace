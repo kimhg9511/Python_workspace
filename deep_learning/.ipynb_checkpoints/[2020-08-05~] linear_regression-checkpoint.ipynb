{
 "cells": [
  {
   "cell_type": "code",
   "execution_count": 4,
   "metadata": {},
   "outputs": [],
   "source": [
    "import torch\n",
    "import torch.nn as nn\n",
    "import torch.nn.functional as F\n",
    "import torch.optim as optim"
   ]
  },
  {
   "cell_type": "code",
   "execution_count": 5,
   "metadata": {},
   "outputs": [
    {
     "data": {
      "text/plain": [
       "<torch._C.Generator at 0x1a5b172d030>"
      ]
     },
     "execution_count": 5,
     "metadata": {},
     "output_type": "execute_result"
    }
   ],
   "source": [
    "torch.manual_seed(1)"
   ]
  },
  {
   "cell_type": "code",
   "execution_count": 6,
   "metadata": {},
   "outputs": [],
   "source": [
    "x_train = torch.FloatTensor([[1], \n",
    "                             [2], \n",
    "                             [3]]) # 입력\n",
    "y_train = torch.FloatTensor([[2], \n",
    "                             [4], \n",
    "                             [6]]) # 레이블 / 클래스"
   ]
  },
  {
   "cell_type": "code",
   "execution_count": 8,
   "metadata": {},
   "outputs": [
    {
     "data": {
      "text/plain": [
       "tensor([0.], requires_grad=True)"
      ]
     },
     "execution_count": 8,
     "metadata": {},
     "output_type": "execute_result"
    }
   ],
   "source": [
    "W = torch.zeros(1, requires_grad=True)\n",
    "W"
   ]
  },
  {
   "cell_type": "code",
   "execution_count": 9,
   "metadata": {},
   "outputs": [
    {
     "data": {
      "text/plain": [
       "tensor([0.], requires_grad=True)"
      ]
     },
     "execution_count": 9,
     "metadata": {},
     "output_type": "execute_result"
    }
   ],
   "source": [
    "b = torch.zeros(1, requires_grad=True)\n",
    "b"
   ]
  },
  {
   "cell_type": "code",
   "execution_count": 12,
   "metadata": {},
   "outputs": [
    {
     "data": {
      "text/plain": [
       "tensor([[0.],\n",
       "        [0.],\n",
       "        [0.]], grad_fn=<AddBackward0>)"
      ]
     },
     "execution_count": 12,
     "metadata": {},
     "output_type": "execute_result"
    }
   ],
   "source": [
    "hypothesis = x_train * W + b\n",
    "hypothesis"
   ]
  },
  {
   "cell_type": "code",
   "execution_count": 14,
   "metadata": {},
   "outputs": [
    {
     "data": {
      "text/plain": [
       "tensor(18.6667, grad_fn=<MeanBackward0>)"
      ]
     },
     "execution_count": 14,
     "metadata": {},
     "output_type": "execute_result"
    }
   ],
   "source": [
    "cost = torch.mean((hypothesis - y_train) ** 2)\n",
    "cost"
   ]
  },
  {
   "cell_type": "code",
   "execution_count": 15,
   "metadata": {},
   "outputs": [],
   "source": [
    "optimizer = optim.SGD([W, b], lr=0.01)"
   ]
  },
  {
   "cell_type": "code",
   "execution_count": 16,
   "metadata": {},
   "outputs": [],
   "source": [
    "optimizer.zero_grad()\n",
    "cost.backward()\n",
    "optimizer.step()"
   ]
  },
  {
   "cell_type": "code",
   "execution_count": 29,
   "metadata": {},
   "outputs": [
    {
     "name": "stdout",
     "output_type": "stream",
     "text": [
      "Epoch    0/3000 W: 0.187, b: 0.080 Cost: 18.666666\n",
      "Epoch  100/3000 W: 1.746, b: 0.578 Cost: 0.048171\n",
      "Epoch  200/3000 W: 1.800, b: 0.454 Cost: 0.029767\n",
      "Epoch  300/3000 W: 1.843, b: 0.357 Cost: 0.018394\n",
      "Epoch  400/3000 W: 1.876, b: 0.281 Cost: 0.011366\n",
      "Epoch  500/3000 W: 1.903, b: 0.221 Cost: 0.007024\n",
      "Epoch  600/3000 W: 1.924, b: 0.174 Cost: 0.004340\n",
      "Epoch  700/3000 W: 1.940, b: 0.136 Cost: 0.002682\n",
      "Epoch  800/3000 W: 1.953, b: 0.107 Cost: 0.001657\n",
      "Epoch  900/3000 W: 1.963, b: 0.084 Cost: 0.001024\n",
      "Epoch 1000/3000 W: 1.971, b: 0.066 Cost: 0.000633\n",
      "Epoch 1100/3000 W: 1.977, b: 0.052 Cost: 0.000391\n",
      "Epoch 1200/3000 W: 1.982, b: 0.041 Cost: 0.000242\n",
      "Epoch 1300/3000 W: 1.986, b: 0.032 Cost: 0.000149\n",
      "Epoch 1400/3000 W: 1.989, b: 0.025 Cost: 0.000092\n",
      "Epoch 1500/3000 W: 1.991, b: 0.020 Cost: 0.000057\n",
      "Epoch 1600/3000 W: 1.993, b: 0.016 Cost: 0.000035\n",
      "Epoch 1700/3000 W: 1.995, b: 0.012 Cost: 0.000022\n",
      "Epoch 1800/3000 W: 1.996, b: 0.010 Cost: 0.000013\n",
      "Epoch 1900/3000 W: 1.997, b: 0.008 Cost: 0.000008\n",
      "Epoch 2000/3000 W: 1.997, b: 0.006 Cost: 0.000005\n",
      "Epoch 2100/3000 W: 1.998, b: 0.005 Cost: 0.000003\n",
      "Epoch 2200/3000 W: 1.998, b: 0.004 Cost: 0.000002\n",
      "Epoch 2300/3000 W: 1.999, b: 0.003 Cost: 0.000001\n",
      "Epoch 2400/3000 W: 1.999, b: 0.002 Cost: 0.000001\n",
      "Epoch 2500/3000 W: 1.999, b: 0.002 Cost: 0.000000\n",
      "Epoch 2600/3000 W: 1.999, b: 0.001 Cost: 0.000000\n",
      "Epoch 2700/3000 W: 2.000, b: 0.001 Cost: 0.000000\n",
      "Epoch 2800/3000 W: 2.000, b: 0.001 Cost: 0.000000\n",
      "Epoch 2900/3000 W: 2.000, b: 0.001 Cost: 0.000000\n",
      "Epoch 3000/3000 W: 2.000, b: 0.001 Cost: 0.000000\n"
     ]
    }
   ],
   "source": [
    "# 데이터\n",
    "x_train = torch.FloatTensor([[1], [2], [3]])\n",
    "y_train = torch.FloatTensor([[2], [4], [6]])\n",
    "# 모델 초기화\n",
    "W = torch.zeros(1, requires_grad=True)\n",
    "b = torch.zeros(1, requires_grad=True)\n",
    "# optimizer 설정\n",
    "optimizer = optim.SGD([W, b], lr=0.01)\n",
    "\n",
    "nb_epochs = 3000 # 원하는만큼 경사 하강법을 반복\n",
    "for epoch in range(nb_epochs + 1):\n",
    "\n",
    "    # H(x) 계산\n",
    "    hypothesis = x_train * W + b\n",
    "\n",
    "    # cost 계산\n",
    "    cost = torch.mean((hypothesis - y_train) ** 2)\n",
    "\n",
    "    # cost로 H(x) 개선\n",
    "    optimizer.zero_grad()\n",
    "    cost.backward()\n",
    "    optimizer.step()\n",
    "\n",
    "    # 100번마다 로그 출력\n",
    "    if epoch % 100 == 0:\n",
    "        print('Epoch {:4d}/{} W: {:.3f}, b: {:.3f} Cost: {:.6f}'.format(\n",
    "            epoch, nb_epochs, W.item(), b.item(), cost.item()\n",
    "        ))"
   ]
  },
  {
   "cell_type": "code",
   "execution_count": 30,
   "metadata": {},
   "outputs": [],
   "source": [
    "x1_train = torch.FloatTensor([[73], [93], [89], [96], [73]])\n",
    "x2_train = torch.FloatTensor([[80], [88], [91], [98], [66]])\n",
    "x3_train = torch.FloatTensor([[75], [93], [90], [100], [70]])\n",
    "y_train = torch.FloatTensor([[152], [185], [180], [196], [142]])"
   ]
  },
  {
   "cell_type": "code",
   "execution_count": 36,
   "metadata": {},
   "outputs": [],
   "source": []
  },
  {
   "cell_type": "code",
   "execution_count": 46,
   "metadata": {
    "scrolled": true
   },
   "outputs": [
    {
     "name": "stdout",
     "output_type": "stream",
     "text": [
      "Epoch    0/1000000 w1: 0.294 w2: 0.294 w3: 0.297 b: 0.003 Cost: 29661.800781\n",
      "Epoch 10000/1000000 w1: 0.888 w2: 0.464 w3: 0.658 b: 0.020 Cost: 0.271221\n",
      "Epoch 20000/1000000 w1: 0.933 w2: 0.466 w3: 0.612 b: 0.028 Cost: 0.227060\n",
      "Epoch 30000/1000000 w1: 0.960 w2: 0.478 w3: 0.574 b: 0.036 Cost: 0.203366\n",
      "Epoch 40000/1000000 w1: 0.980 w2: 0.488 w3: 0.544 b: 0.042 Cost: 0.188761\n",
      "Epoch 50000/1000000 w1: 0.996 w2: 0.496 w3: 0.521 b: 0.048 Cost: 0.179748\n",
      "Epoch 60000/1000000 w1: 1.008 w2: 0.502 w3: 0.502 b: 0.053 Cost: 0.174160\n",
      "Epoch 70000/1000000 w1: 1.018 w2: 0.507 w3: 0.488 b: 0.058 Cost: 0.170696\n",
      "Epoch 80000/1000000 w1: 1.025 w2: 0.510 w3: 0.477 b: 0.062 Cost: 0.168529\n",
      "Epoch 90000/1000000 w1: 1.031 w2: 0.513 w3: 0.468 b: 0.066 Cost: 0.167173\n",
      "Epoch 100000/1000000 w1: 1.036 w2: 0.516 w3: 0.461 b: 0.070 Cost: 0.166300\n",
      "Epoch 110000/1000000 w1: 1.039 w2: 0.517 w3: 0.456 b: 0.073 Cost: 0.165737\n",
      "Epoch 120000/1000000 w1: 1.042 w2: 0.519 w3: 0.452 b: 0.076 Cost: 0.165366\n",
      "Epoch 130000/1000000 w1: 1.044 w2: 0.520 w3: 0.448 b: 0.079 Cost: 0.165098\n",
      "Epoch 140000/1000000 w1: 1.046 w2: 0.521 w3: 0.446 b: 0.083 Cost: 0.164907\n",
      "Epoch 150000/1000000 w1: 1.047 w2: 0.521 w3: 0.444 b: 0.086 Cost: 0.164765\n",
      "Epoch 160000/1000000 w1: 1.048 w2: 0.522 w3: 0.443 b: 0.089 Cost: 0.164634\n",
      "Epoch 170000/1000000 w1: 1.049 w2: 0.522 w3: 0.441 b: 0.092 Cost: 0.164534\n",
      "Epoch 180000/1000000 w1: 1.049 w2: 0.522 w3: 0.441 b: 0.094 Cost: 0.164441\n",
      "Epoch 190000/1000000 w1: 1.049 w2: 0.523 w3: 0.440 b: 0.097 Cost: 0.164355\n",
      "Epoch 200000/1000000 w1: 1.050 w2: 0.523 w3: 0.440 b: 0.100 Cost: 0.164269\n",
      "Epoch 210000/1000000 w1: 1.050 w2: 0.523 w3: 0.440 b: 0.103 Cost: 0.164193\n",
      "Epoch 220000/1000000 w1: 1.050 w2: 0.523 w3: 0.440 b: 0.106 Cost: 0.164114\n",
      "Epoch 230000/1000000 w1: 1.050 w2: 0.523 w3: 0.440 b: 0.109 Cost: 0.164035\n",
      "Epoch 240000/1000000 w1: 1.050 w2: 0.523 w3: 0.440 b: 0.111 Cost: 0.163956\n",
      "Epoch 250000/1000000 w1: 1.050 w2: 0.523 w3: 0.440 b: 0.114 Cost: 0.163876\n",
      "Epoch 260000/1000000 w1: 1.050 w2: 0.523 w3: 0.440 b: 0.117 Cost: 0.163796\n",
      "Epoch 270000/1000000 w1: 1.050 w2: 0.523 w3: 0.440 b: 0.120 Cost: 0.163722\n",
      "Epoch 280000/1000000 w1: 1.050 w2: 0.523 w3: 0.440 b: 0.122 Cost: 0.163646\n",
      "Epoch 290000/1000000 w1: 1.050 w2: 0.523 w3: 0.440 b: 0.125 Cost: 0.163572\n",
      "Epoch 300000/1000000 w1: 1.050 w2: 0.523 w3: 0.440 b: 0.128 Cost: 0.163492\n",
      "Epoch 310000/1000000 w1: 1.050 w2: 0.523 w3: 0.440 b: 0.131 Cost: 0.163422\n",
      "Epoch 320000/1000000 w1: 1.050 w2: 0.523 w3: 0.440 b: 0.133 Cost: 0.163346\n",
      "Epoch 330000/1000000 w1: 1.050 w2: 0.523 w3: 0.440 b: 0.136 Cost: 0.163274\n",
      "Epoch 340000/1000000 w1: 1.050 w2: 0.523 w3: 0.440 b: 0.139 Cost: 0.163203\n",
      "Epoch 350000/1000000 w1: 1.049 w2: 0.523 w3: 0.440 b: 0.141 Cost: 0.163130\n",
      "Epoch 360000/1000000 w1: 1.049 w2: 0.523 w3: 0.440 b: 0.144 Cost: 0.163055\n",
      "Epoch 370000/1000000 w1: 1.049 w2: 0.522 w3: 0.440 b: 0.147 Cost: 0.162983\n",
      "Epoch 380000/1000000 w1: 1.049 w2: 0.522 w3: 0.440 b: 0.149 Cost: 0.162912\n",
      "Epoch 390000/1000000 w1: 1.049 w2: 0.522 w3: 0.440 b: 0.152 Cost: 0.162834\n",
      "Epoch 400000/1000000 w1: 1.049 w2: 0.522 w3: 0.441 b: 0.155 Cost: 0.162761\n",
      "Epoch 410000/1000000 w1: 1.048 w2: 0.522 w3: 0.441 b: 0.157 Cost: 0.162686\n",
      "Epoch 420000/1000000 w1: 1.048 w2: 0.522 w3: 0.441 b: 0.160 Cost: 0.162611\n",
      "Epoch 430000/1000000 w1: 1.048 w2: 0.522 w3: 0.441 b: 0.163 Cost: 0.162538\n",
      "Epoch 440000/1000000 w1: 1.048 w2: 0.522 w3: 0.441 b: 0.165 Cost: 0.162463\n",
      "Epoch 450000/1000000 w1: 1.048 w2: 0.522 w3: 0.442 b: 0.168 Cost: 0.162389\n",
      "Epoch 460000/1000000 w1: 1.048 w2: 0.522 w3: 0.442 b: 0.171 Cost: 0.162318\n",
      "Epoch 470000/1000000 w1: 1.048 w2: 0.522 w3: 0.442 b: 0.174 Cost: 0.162242\n",
      "Epoch 480000/1000000 w1: 1.047 w2: 0.522 w3: 0.442 b: 0.176 Cost: 0.162170\n",
      "Epoch 490000/1000000 w1: 1.047 w2: 0.522 w3: 0.442 b: 0.179 Cost: 0.162094\n",
      "Epoch 500000/1000000 w1: 1.047 w2: 0.522 w3: 0.443 b: 0.182 Cost: 0.162027\n",
      "Epoch 510000/1000000 w1: 1.047 w2: 0.521 w3: 0.443 b: 0.184 Cost: 0.161953\n",
      "Epoch 520000/1000000 w1: 1.047 w2: 0.521 w3: 0.443 b: 0.187 Cost: 0.161878\n",
      "Epoch 530000/1000000 w1: 1.047 w2: 0.521 w3: 0.443 b: 0.190 Cost: 0.161802\n",
      "Epoch 540000/1000000 w1: 1.046 w2: 0.521 w3: 0.443 b: 0.192 Cost: 0.161731\n",
      "Epoch 550000/1000000 w1: 1.046 w2: 0.521 w3: 0.444 b: 0.195 Cost: 0.161659\n",
      "Epoch 560000/1000000 w1: 1.046 w2: 0.521 w3: 0.444 b: 0.198 Cost: 0.161584\n",
      "Epoch 570000/1000000 w1: 1.046 w2: 0.521 w3: 0.444 b: 0.200 Cost: 0.161511\n",
      "Epoch 580000/1000000 w1: 1.046 w2: 0.521 w3: 0.444 b: 0.203 Cost: 0.161437\n",
      "Epoch 590000/1000000 w1: 1.046 w2: 0.521 w3: 0.444 b: 0.206 Cost: 0.161363\n",
      "Epoch 600000/1000000 w1: 1.045 w2: 0.521 w3: 0.445 b: 0.208 Cost: 0.161291\n",
      "Epoch 610000/1000000 w1: 1.045 w2: 0.521 w3: 0.445 b: 0.211 Cost: 0.161218\n",
      "Epoch 620000/1000000 w1: 1.045 w2: 0.521 w3: 0.445 b: 0.214 Cost: 0.161149\n",
      "Epoch 630000/1000000 w1: 1.045 w2: 0.521 w3: 0.445 b: 0.216 Cost: 0.161077\n",
      "Epoch 640000/1000000 w1: 1.045 w2: 0.521 w3: 0.445 b: 0.219 Cost: 0.161000\n",
      "Epoch 650000/1000000 w1: 1.045 w2: 0.520 w3: 0.446 b: 0.222 Cost: 0.160931\n",
      "Epoch 660000/1000000 w1: 1.045 w2: 0.520 w3: 0.446 b: 0.224 Cost: 0.160859\n",
      "Epoch 670000/1000000 w1: 1.044 w2: 0.520 w3: 0.446 b: 0.227 Cost: 0.160787\n",
      "Epoch 680000/1000000 w1: 1.044 w2: 0.520 w3: 0.446 b: 0.230 Cost: 0.160711\n",
      "Epoch 690000/1000000 w1: 1.044 w2: 0.520 w3: 0.446 b: 0.233 Cost: 0.160641\n",
      "Epoch 700000/1000000 w1: 1.044 w2: 0.520 w3: 0.447 b: 0.235 Cost: 0.160566\n",
      "Epoch 710000/1000000 w1: 1.044 w2: 0.520 w3: 0.447 b: 0.238 Cost: 0.160493\n",
      "Epoch 720000/1000000 w1: 1.044 w2: 0.520 w3: 0.447 b: 0.241 Cost: 0.160423\n",
      "Epoch 730000/1000000 w1: 1.043 w2: 0.520 w3: 0.447 b: 0.243 Cost: 0.160347\n",
      "Epoch 740000/1000000 w1: 1.043 w2: 0.520 w3: 0.447 b: 0.246 Cost: 0.160282\n",
      "Epoch 750000/1000000 w1: 1.043 w2: 0.520 w3: 0.448 b: 0.249 Cost: 0.160203\n",
      "Epoch 760000/1000000 w1: 1.043 w2: 0.520 w3: 0.448 b: 0.251 Cost: 0.160134\n",
      "Epoch 770000/1000000 w1: 1.043 w2: 0.520 w3: 0.448 b: 0.254 Cost: 0.160059\n",
      "Epoch 780000/1000000 w1: 1.043 w2: 0.520 w3: 0.448 b: 0.257 Cost: 0.159989\n",
      "Epoch 790000/1000000 w1: 1.042 w2: 0.519 w3: 0.448 b: 0.259 Cost: 0.159915\n",
      "Epoch 800000/1000000 w1: 1.042 w2: 0.519 w3: 0.449 b: 0.262 Cost: 0.159847\n",
      "Epoch 810000/1000000 w1: 1.042 w2: 0.519 w3: 0.449 b: 0.265 Cost: 0.159769\n",
      "Epoch 820000/1000000 w1: 1.042 w2: 0.519 w3: 0.449 b: 0.267 Cost: 0.159701\n",
      "Epoch 830000/1000000 w1: 1.042 w2: 0.519 w3: 0.449 b: 0.270 Cost: 0.159627\n",
      "Epoch 840000/1000000 w1: 1.042 w2: 0.519 w3: 0.449 b: 0.273 Cost: 0.159557\n",
      "Epoch 850000/1000000 w1: 1.041 w2: 0.519 w3: 0.450 b: 0.275 Cost: 0.159487\n",
      "Epoch 860000/1000000 w1: 1.041 w2: 0.519 w3: 0.450 b: 0.278 Cost: 0.159410\n",
      "Epoch 870000/1000000 w1: 1.041 w2: 0.519 w3: 0.450 b: 0.281 Cost: 0.159340\n",
      "Epoch 880000/1000000 w1: 1.041 w2: 0.519 w3: 0.450 b: 0.283 Cost: 0.159270\n",
      "Epoch 890000/1000000 w1: 1.041 w2: 0.519 w3: 0.450 b: 0.286 Cost: 0.159202\n",
      "Epoch 900000/1000000 w1: 1.041 w2: 0.519 w3: 0.451 b: 0.289 Cost: 0.159123\n",
      "Epoch 910000/1000000 w1: 1.041 w2: 0.519 w3: 0.451 b: 0.292 Cost: 0.159056\n",
      "Epoch 920000/1000000 w1: 1.040 w2: 0.519 w3: 0.451 b: 0.294 Cost: 0.158983\n",
      "Epoch 930000/1000000 w1: 1.040 w2: 0.518 w3: 0.451 b: 0.297 Cost: 0.158918\n",
      "Epoch 940000/1000000 w1: 1.040 w2: 0.518 w3: 0.451 b: 0.300 Cost: 0.158844\n",
      "Epoch 950000/1000000 w1: 1.040 w2: 0.518 w3: 0.452 b: 0.302 Cost: 0.158767\n",
      "Epoch 960000/1000000 w1: 1.040 w2: 0.518 w3: 0.452 b: 0.305 Cost: 0.158697\n",
      "Epoch 970000/1000000 w1: 1.040 w2: 0.518 w3: 0.452 b: 0.308 Cost: 0.158628\n",
      "Epoch 980000/1000000 w1: 1.039 w2: 0.518 w3: 0.452 b: 0.310 Cost: 0.158559\n",
      "Epoch 990000/1000000 w1: 1.039 w2: 0.518 w3: 0.452 b: 0.313 Cost: 0.158489\n",
      "Epoch 1000000/1000000 w1: 1.039 w2: 0.518 w3: 0.453 b: 0.316 Cost: 0.158419\n"
     ]
    }
   ],
   "source": [
    "w1 = torch.zeros(1, requires_grad=True)\n",
    "w2 = torch.zeros(1, requires_grad=True)\n",
    "w3 = torch.zeros(1, requires_grad=True)\n",
    "b = torch.zeros(1, requires_grad=True)\n",
    "\n",
    "optimizer = optim.SGD([w1, w2, w3, b], lr=0.00001)\n",
    "\n",
    "nb_epochs = 10000\n",
    "for epoch in range(nb_epochs + 1):\n",
    "\n",
    "    # H(x) 계산\n",
    "    hypothesis = x1_train * w1 + x2_train * w2 + x3_train * w3 + b\n",
    "\n",
    "    # cost 계산\n",
    "    cost = torch.mean((hypothesis - y_train) ** 2)\n",
    "\n",
    "    # cost로 H(x) 개선\n",
    "    optimizer.zero_grad()\n",
    "    cost.backward()\n",
    "    optimizer.step()\n",
    "\n",
    "    # 100번마다 로그 출력\n",
    "    if epoch % 100 == 0:\n",
    "        print('Epoch {:4d}/{} w1: {:.3f} w2: {:.3f} w3: {:.3f} b: {:.3f} Cost: {:.6f}'.format(\n",
    "            epoch, nb_epochs, w1.item(), w2.item(), w3.item(), b.item(), cost.item()\n",
    "        ))"
   ]
  },
  {
   "cell_type": "code",
   "execution_count": null,
   "metadata": {},
   "outputs": [],
   "source": []
  }
 ],
 "metadata": {
  "kernelspec": {
   "display_name": "Python 3",
   "language": "python",
   "name": "python3"
  },
  "language_info": {
   "codemirror_mode": {
    "name": "ipython",
    "version": 3
   },
   "file_extension": ".py",
   "mimetype": "text/x-python",
   "name": "python",
   "nbconvert_exporter": "python",
   "pygments_lexer": "ipython3",
   "version": "3.7.7"
  }
 },
 "nbformat": 4,
 "nbformat_minor": 4
}
