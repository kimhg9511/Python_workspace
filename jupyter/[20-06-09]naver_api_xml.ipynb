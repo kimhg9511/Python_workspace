{
 "cells": [
  {
   "cell_type": "code",
   "execution_count": 3,
   "metadata": {},
   "outputs": [],
   "source": [
    "import requests\n",
    "from bs4 import BeautifulSoup as bs"
   ]
  },
  {
   "cell_type": "code",
   "execution_count": 4,
   "metadata": {},
   "outputs": [],
   "source": [
    "kinds = ['book','blog','news', 'shop']\n",
    "prompt = '''\n",
    "    1. Book Search\n",
    "    2. Blog Search\n",
    "    3. News Search\n",
    "    4. Shopping Search\n",
    "    5. Quit\n",
    "'''"
   ]
  },
  {
   "cell_type": "code",
   "execution_count": 5,
   "metadata": {},
   "outputs": [],
   "source": [
    "def naver_search_xml(number, query, display, start, sort): #, dtype\n",
    "#     types = ['xml', 'json']\n",
    "    client_id = \"Cu_DbXmzUvA5GQoVwtnG\"\n",
    "    client_secret = \"qUeRsSEWAf\"\n",
    "    url = f'https://openapi.naver.com/v1/search/{kinds[int(number)-1]}.xml' # {types[int(dtype)-1]}\n",
    "    params = {'query': query, 'display': display, 'start': start, 'sort': sort}\n",
    "    headers = {'X-Naver-Client-Id': client_id, 'X-Naver-Client-Secret': client_secret}\n",
    "    resp = requests.get(url, headers=headers, params=params)\n",
    "    if resp.status_code == 200:\n",
    "        return [resp.text, resp.status_code]\n",
    "    else:\n",
    "        return ['잘못된 요청입니다.', resp.status_code]"
   ]
  },
  {
   "cell_type": "code",
   "execution_count": 6,
   "metadata": {},
   "outputs": [],
   "source": [
    "def get_book_list(resp):\n",
    "    soup = bs(resp)\n",
    "    title_list = list(map(lambda i:i.text.replace('<b>','').replace('</b>',''), soup.select('item>title')))\n",
    "    price_list = list(map(lambda i:i.text, soup.select('item>price')))\n",
    "    discount_list = list(map(lambda i:i.text, soup.select('item>discount')))\n",
    "    book_list = [(t, p, d) for t, p, d in zip(title_list, price_list, discount_list)]\n",
    "    return book_list"
   ]
  },
  {
   "cell_type": "code",
   "execution_count": 7,
   "metadata": {},
   "outputs": [],
   "source": [
    "def get_blog_list(resp):\n",
    "    soup = bs(resp)\n",
    "    title_list = list(map(lambda i:i.text.replace('<b>','').replace('</b>',''), soup.select('item>title')))\n",
    "    name_list = list(map(lambda i:i.text, soup.select('item>bloggername')))\n",
    "    link_list = list(map(lambda i:i.text, soup.select('item>bloggerlink')))\n",
    "    blog_list = [(t, n, l) for t, n, l in zip(title_list, name_list, link_list)]\n",
    "    return blog_list"
   ]
  },
  {
   "cell_type": "code",
   "execution_count": 8,
   "metadata": {},
   "outputs": [],
   "source": [
    "def get_news_list(resp):\n",
    "    soup = bs(resp)\n",
    "    title_list = list(map(lambda i:i.text.replace('<b>','').replace('</b>',''), soup.select('item>title')))\n",
    "    olink_list = list(map(lambda i:i.text, soup.select('item>originallink')))\n",
    "    link_list = list(map(lambda i:i.next, soup.select('item>link')))\n",
    "    news_list = [(t, o, l) for t, o, l in zip(title_list, olink_list, link_list)]\n",
    "    return news_list"
   ]
  },
  {
   "cell_type": "code",
   "execution_count": 9,
   "metadata": {},
   "outputs": [],
   "source": [
    "def get_shop_list(resp):\n",
    "    soup = bs(resp)\n",
    "    title_list = list(map(lambda i:i.text.replace('<b>','').replace('</b>',''), soup.select('item>title')))\n",
    "    price_list = list(map(lambda i:i.text, soup.select('item>lprice')))\n",
    "    mall_list = list(map(lambda i:i.text, soup.select('item>mallname')))\n",
    "    shop_list = [(t, p, m) for t, p, m in zip(title_list, price_list, mall_list)]\n",
    "    return shop_list"
   ]
  },
  {
   "cell_type": "code",
   "execution_count": 14,
   "metadata": {},
   "outputs": [],
   "source": [
    "def app():\n",
    "#     prompt2 = '''\n",
    "#         데이터 출력 선택\n",
    "#         1. xml\n",
    "#         2. json\n",
    "#     '''\n",
    "    number = 0\n",
    "    while True:\n",
    "\n",
    "        print(prompt)\n",
    "        number = input()\n",
    "        if number == '5':\n",
    "            print('종료')\n",
    "            break\n",
    "        query = input('검색어를 넣으세요 >')\n",
    "#         dtype = input(prompt2)\n",
    "        display = 10\n",
    "        start = 1\n",
    "        sort = 'date'\n",
    "        resp = naver_search_xml(number, query, display, start, sort)# , dtype\n",
    "        if resp[1] == 200:\n",
    "            resp = resp[0]\n",
    "        else:\n",
    "            print(resp[0])\n",
    "            continue\n",
    "        list = []\n",
    "        if number == '1':\n",
    "            list = get_book_list(resp)\n",
    "        elif number == '2':\n",
    "            list = get_blog_list(resp)\n",
    "        elif number == '3':\n",
    "            list = get_news_list(resp)\n",
    "        elif number == '4':\n",
    "            list = get_shop_list(resp)\n",
    "        print(f'\\n{kinds[int(number)-1]} 검색 keyword : {query}\\n')\n",
    "        for i in range(len(list)):\n",
    "            print(f'*************************{i+1}*************************')\n",
    "            for item in list[i]:\n",
    "                print(item)"
   ]
  },
  {
   "cell_type": "code",
   "execution_count": 16,
   "metadata": {},
   "outputs": [],
   "source": [
    "# app()"
   ]
  },
  {
   "cell_type": "code",
   "execution_count": 130,
   "metadata": {},
   "outputs": [],
   "source": [
    "resp = naver_search_xml(3, 'bigdata', display, start, sort)# , dtype\n",
    "soup = bs(resp[0])\n",
    "title_list = list(map(lambda i:i.text.replace('<b>','').replace('</b>',''), soup.select('item>title')))\n",
    "olink_list = list(map(lambda i:i.text, soup.select('item>originallink')))\n",
    "link_list = list(map(lambda i:i.text, soup.select('item')))\n",
    "news_list = [(t, o, l) for t, o, l in zip(title_list, olink_list, link_list)]\n",
    "sel = soup.select_one('item>link')"
   ]
  }
 ],
 "metadata": {
  "kernelspec": {
   "display_name": "Python 3",
   "language": "python",
   "name": "python3"
  }
 },
 "nbformat": 4,
 "nbformat_minor": 4
}
