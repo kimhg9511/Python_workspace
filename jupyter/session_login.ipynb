{
 "cells": [
  {
   "cell_type": "code",
   "execution_count": 2,
   "metadata": {},
   "outputs": [],
   "source": [
    "import requests\n",
    "from bs4 import BeautifulSoup as bs"
   ]
  },
  {
   "cell_type": "code",
   "execution_count": 4,
   "metadata": {},
   "outputs": [],
   "source": [
    "# url 가공\n",
    "url = 'https://www.kangcom.com/member/member_check.asp'\n",
    "# id, password\n",
    "data = {\n",
    "    'id': 'empalxom1117',\n",
    "    'pwd': '1q2w3e4r!'\n",
    "}"
   ]
  },
  {
   "cell_type": "code",
   "execution_count": 8,
   "metadata": {},
   "outputs": [],
   "source": [
    "# session 생성\n",
    "s = requests.Session()"
   ]
  },
  {
   "cell_type": "code",
   "execution_count": 14,
   "metadata": {},
   "outputs": [
    {
     "data": {
      "text/plain": [
       "500"
      ]
     },
     "execution_count": 14,
     "metadata": {},
     "output_type": "execute_result"
    }
   ],
   "source": [
    "# 요청\n",
    "resp = s.post(url, data=data)\n",
    "resp.status_code"
   ]
  },
  {
   "cell_type": "code",
   "execution_count": 15,
   "metadata": {},
   "outputs": [
    {
     "data": {
      "text/plain": [
       "200"
      ]
     },
     "execution_count": 15,
     "metadata": {},
     "output_type": "execute_result"
    }
   ],
   "source": [
    "# mypage로 이동\n",
    "mypage = 'https://www.kangcom.com/mypage/'\n",
    "resp = s.get(mypage)\n",
    "resp.status_code"
   ]
  },
  {
   "cell_type": "code",
   "execution_count": 22,
   "metadata": {},
   "outputs": [
    {
     "data": {
      "text/plain": [
       "'0'"
      ]
     },
     "execution_count": 22,
     "metadata": {},
     "output_type": "execute_result"
    }
   ],
   "source": [
    "# 마일리지 정보 가져오기\n",
    "soup = bs(resp.text)\n",
    "mileage = soup.select_one('td.a_bbslist55[align=left]').text.split('원')[0]\n",
    "mileage"
   ]
  },
  {
   "cell_type": "code",
   "execution_count": 31,
   "metadata": {},
   "outputs": [
    {
     "data": {
      "text/plain": [
       "200"
      ]
     },
     "execution_count": 31,
     "metadata": {},
     "output_type": "execute_result"
    }
   ],
   "source": [
    "#\n",
    "url = 'https://www.hanbit.co.kr/member/login_proc.php'\n",
    "data = {\n",
    "    'm_id': 'empalxom1117',\n",
    "    'm_passwd': '1q2w3e4r!'\n",
    "}\n",
    "s = requests.Session()\n",
    "resp = s.post(url, data=data)\n",
    "resp.status_code\n",
    "resp"
   ]
  },
  {
   "cell_type": "code",
   "execution_count": 43,
   "metadata": {},
   "outputs": [
    {
     "data": {
      "text/plain": [
       "'2,000'"
      ]
     },
     "execution_count": 43,
     "metadata": {},
     "output_type": "execute_result"
    }
   ],
   "source": [
    "mypage = 'https://www.hanbit.co.kr/myhanbit/myhanbit.html'\n",
    "resp = s.get(mypage)\n",
    "soup = bs(resp.text)\n",
    "mileage = soup.select_one('dl.mileage_section1 span').text\n",
    "mileage"
   ]
  }
 ],
 "metadata": {
  "kernelspec": {
   "display_name": "Python 3",
   "language": "python",
   "name": "python3"
  },
  "language_info": {
   "codemirror_mode": {
    "name": "ipython",
    "version": 3
   },
   "file_extension": ".py",
   "mimetype": "text/x-python",
   "name": "python",
   "nbconvert_exporter": "python",
   "pygments_lexer": "ipython3",
   "version": "3.7.7"
  }
 },
 "nbformat": 4,
 "nbformat_minor": 4
}
