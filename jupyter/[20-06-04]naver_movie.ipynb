{
 "cells": [
  {
   "cell_type": "code",
   "execution_count": 1,
   "metadata": {},
   "outputs": [],
   "source": [
    "import requests as req\n",
    "from bs4 import BeautifulSoup as bs\n",
    "import re\n",
    "import pandas as pd\n",
    "import fileIO as io"
   ]
  },
  {
   "cell_type": "code",
   "execution_count": 2,
   "metadata": {},
   "outputs": [],
   "source": [
    "# url - Requests - BeautifulSoup\n",
    "url = 'https://movie.naver.com/movie/sdb/rank/rmovie.nhn'\n",
    "params = 'sel=cnt&date=20200603'\n",
    "params = list(map(lambda i: i.split('='),params.split('&')))\n",
    "params = {k: v for k, v in params}\n",
    "resp = req.get(url, params=params)\n",
    "soup = bs(resp.text)"
   ]
  },
  {
   "cell_type": "code",
   "execution_count": 3,
   "metadata": {},
   "outputs": [
    {
     "name": "stdout",
     "output_type": "stream",
     "text": [
      "['언더워터', '프리즌 이스케이프', '초미의 관심사', '그집', '위대한 쇼맨', '침입자', '카페 벨에포크', '더 플랫폼', '#살아있다', '미스비헤이비어', '다만 악에서 구하소서', '날씨의 아이', '범죄해결 특수반', '연애 완전 정복', '패왕별희 디 오리지널', '아홉 스님', '컨테이젼', '범털', '프랑스여자', '결백', '조금씩, 천천히 안녕', '톰보이', '반도', '매드맥스: 분노의 도로', '트롤: 월드 투어', '코로나', '국도극장', '더 블랙아웃', '런 보이 런', '싱크홀', '기생충', '에어로너츠', '사라진 시간', '블러드샷', '더 넌', '여곡성', '지푸라기라도 잡고 싶은 짐승들', '레미: 집 없는 아이', '카메론 포스트의 잘못된 교육', '루팡 3세: 더 퍼스트', '라스트 풀 메저', '더 나이트 클럭', '레이니 데이 인 뉴욕', '영웅: 천하의 시작', '엽기적인 그녀 2', '길버트 그레이프', '무수단', '신세계', '킬러의 보디가드 무삭제 특별판', '사냥의 시간']\n"
     ]
    }
   ],
   "source": [
    "rank_cnt = list(map(lambda i:i.text.replace('\\n',''), soup.select('table.list_ranking td.title')))\n",
    "print(rank_cnt)"
   ]
  },
  {
   "cell_type": "code",
   "execution_count": 4,
   "metadata": {},
   "outputs": [
    {
     "name": "stdout",
     "output_type": "stream",
     "text": [
      "['가버나움', '위대한 쇼맨', '패왕별희 디 오리지널', '톰보이', '나, 다니엘 블레이크', '러빙 빈센트', '어느 가족', '시간을 달리는 소녀', '스타 이즈 본', '늑대아이', '타오르는 여인의 초상', '타샤 튜더', '동감', '씨민과 나데르의 별거', '신세계', '마담 프루스트의 비밀정원', '트롤: 월드 투어', '1917', '라이프 오브 파이', '작은 아씨들', '너의 이름은.', '가장 따뜻한 색, 블루', '이별의 아침에 약속의 꽃을 장식하자', '마미', '썸머 워즈', '찬실이는 복도 많지', '라라랜드', '비커밍 제인', '괴물의 아이', '기생충', '아비정전', '보리밭을 흔드는 바람', '로렌스 애니웨이 ', '좋아해, 너를', '프리즌 이스케이프', '콜드 워', '프란시스 하', '오퍼나지: 비밀의 계단', '날씨의 아이', '오직 사랑하는 이들만이 살아남는다', '멜랑콜리아', '마이 스파이', '엽문4: 더 파이널', '인비저블맨', '멀홀랜드 드라이브', '단지 세상의 끝', '언더워터', '더 플랫폼', '유령선', '미래의 미라이'] ['9.59', '9.39', '9.31', '9.29', '9.27', '9.22', '9.20', '9.20', '9.17', '9.11', '9.04', '9.03', '8.99', '8.95', '8.92', '8.92', '8.90', '8.87', '8.85', '8.80', '8.77', '8.76', '8.72', '8.68', '8.67', '8.61', '8.60', '8.57', '8.51', '8.50', '8.47', '8.46', '8.42', '8.36', '8.35', '8.29', '8.10', '8.02', '7.94', '7.74', '7.72', '7.71', '7.67', '7.60', '7.50', '7.46', '7.31', '7.25', '6.28', '6.01']\n"
     ]
    }
   ],
   "source": [
    "params['sel'] = 'cur'\n",
    "resp = req.get(url, params=params)\n",
    "soup = bs(resp.text)\n",
    "rank_table = soup.select_one('table.list_ranking')\n",
    "cur_rank_title = list(map(lambda i:i.text.replace('\\n',''), rank_table.select('td.title')))\n",
    "cur_rank_point = list(map(lambda i:i.text.replace('\\n',''), rank_table.select('td.point')))\n",
    "print(cur_rank_title, cur_rank_point)"
   ]
  },
  {
   "cell_type": "code",
   "execution_count": 5,
   "metadata": {},
   "outputs": [
    {
     "name": "stdout",
     "output_type": "stream",
     "text": [
      "['그린 북', '가버나움', '베일리 어게인', '포드 V 페라리', '원더', '주전장', '아일라', '당갈', '쇼생크 탈출', '터미네이터 2:오리지널', '보헤미안 랩소디', '덕구', '나 홀로 집에', '월-E', '살인의 추억', '라이언 일병 구하기', '매트릭스', '인생은 아름다워', '사운드 오브 뮤직', '포레스트 검프', '빽 투 더 퓨쳐', '헬프', '글래디에이터', '위대한 쇼맨', '클래식', '센과 치히로의 행방불명', '토이 스토리 3', '타이타닉', '알라딘', '어벤져스: 엔드게임', '안녕 베일리', '레옹', '죽은 시인의 사회', '캐스트 어웨이', '헌터 킬러', '동주', '반지의 제왕: 왕의 귀환', '아이 캔 스피크', '집으로...', '굿 윌 헌팅', '히든 피겨스', '굿바이 마이 프랜드', '여인의 향기', '주토피아', '서유기 2 - 선리기연', '모노노케 히메', '클레멘타인', '쉰들러 리스트', '달링', '세 얼간이'] ['9.59', '9.59', '9.53', '9.49', '9.49', '9.49', '9.48', '9.47', '9.44', '9.44', '9.42', '9.42', '9.41', '9.41', '9.40', '9.40', '9.40', '9.40', '9.40', '9.40', '9.40', '9.40', '9.39', '9.39', '9.39', '9.39', '9.38', '9.38', '9.38', '9.38', '9.37', '9.37', '9.37', '9.37', '9.37', '9.37', '9.37', '9.37', '9.37', '9.36', '9.36', '9.35', '9.35', '9.35', '9.35', '9.35', '9.35', '9.35', '9.35', '9.35']\n"
     ]
    }
   ],
   "source": [
    "params['sel'] = 'pnt'\n",
    "resp = req.get(url, params=params)\n",
    "soup = bs(resp.text)\n",
    "rank_table = soup.select_one('table.list_ranking')\n",
    "pnt_rank_title = list(map(lambda i:i.text.replace('\\n',''), rank_table.select('td.title')))\n",
    "pnt_rank_point = list(map(lambda i:i.text.replace('\\n',''), rank_table.select('td.point')))\n",
    "print(pnt_rank_title, pnt_rank_point)"
   ]
  },
  {
   "cell_type": "code",
   "execution_count": 6,
   "metadata": {},
   "outputs": [],
   "source": [
    "data = list(map(tuple, zip(cur_rank_title, cur_rank_point)))"
   ]
  },
  {
   "cell_type": "code",
   "execution_count": 7,
   "metadata": {},
   "outputs": [],
   "source": [
    "io.list_to_csv('movie.csv',data)\n",
    "# io.csv_to_list('movie.csv')"
   ]
  },
  {
   "cell_type": "code",
   "execution_count": 9,
   "metadata": {},
   "outputs": [],
   "source": [
    "dict_data = [{'m_title': v1,'m_point': v2} for v1, v2 in zip(cur_rank_title, cur_rank_point)]\n",
    "io.list_to_json('movie.json', dict_data)\n",
    "# io.json_to_list('movie.json')"
   ]
  },
  {
   "cell_type": "code",
   "execution_count": null,
   "metadata": {},
   "outputs": [],
   "source": []
  }
 ],
 "metadata": {
  "kernelspec": {
   "display_name": "Python 3",
   "language": "python",
   "name": "python3"
  },
  "language_info": {
   "codemirror_mode": {
    "name": "ipython",
    "version": 3
   },
   "file_extension": ".py",
   "mimetype": "text/x-python",
   "name": "python",
   "nbconvert_exporter": "python",
   "pygments_lexer": "ipython3",
   "version": "3.7.7"
  }
 },
 "nbformat": 4,
 "nbformat_minor": 4
}
