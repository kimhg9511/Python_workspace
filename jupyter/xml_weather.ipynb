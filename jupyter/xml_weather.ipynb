{
 "cells": [
  {
   "cell_type": "code",
   "execution_count": 1,
   "metadata": {},
   "outputs": [],
   "source": [
    "import urllib.request as req\n",
    "import requests\n",
    "from bs4 import BeautifulSoup as bs\n",
    "import os.path\n",
    "import time"
   ]
  },
  {
   "cell_type": "code",
   "execution_count": 2,
   "metadata": {},
   "outputs": [],
   "source": [
    "url = 'http://www.kma.go.kr/weather/forecast/mid-term-rss3.jsp?stnId=108'\n",
    "dt = time.strftime('%Y%m%d', time.localtime(time.time()))\n",
    "xml_file = 'forecast_'+ dt + '.xml'"
   ]
  },
  {
   "cell_type": "code",
   "execution_count": 16,
   "metadata": {},
   "outputs": [
    {
     "name": "stdout",
     "output_type": "stream",
     "text": [
      "+ 맑음\n",
      "+ 구름많음\n",
      "+ 흐리고 비\n",
      "|- 광주\n",
      "|- 목포\n",
      "|- 여수\n",
      "|- 순천\n",
      "|- 광양\n",
      "|- 나주\n",
      "|- 전주\n",
      "|- 군산\n",
      "|- 정읍\n",
      "|- 남원\n",
      "|- 고창\n",
      "|- 무주\n",
      "|- 부산\n",
      "|- 울산\n",
      "|- 창원\n",
      "|- 진주\n",
      "|- 거창\n",
      "|- 통영\n",
      "|- 대구\n",
      "|- 안동\n",
      "|- 포항\n",
      "|- 경주\n",
      "|- 울진\n",
      "|- 울릉도\n",
      "|- 제주\n",
      "|- 서귀포\n"
     ]
    }
   ],
   "source": [
    "if not os.path.exists(xml_file):\n",
    "    req.urlretrieve(url, xml_file)\n",
    "xml = ''\n",
    "with open(xml_file, 'r', encoding='utf-8') as file:\n",
    "    xml = file.read()\n",
    "    soup = bs(xml, 'html.parser')\n",
    "    locations = soup.select('location')\n",
    "    info = {}\n",
    "    for location in locations:\n",
    "        city = location.find('city').get_text()\n",
    "        weather = location.find('wf').get_text()\n",
    "        if not (weather in info):\n",
    "            info[weather] = []\n",
    "        info[weather].append(city)\n",
    "        \n",
    "for weather in info.keys():\n",
    "    print('+', weather)\n",
    "for name in info[weather]:\n",
    "    print('|-', name)"
   ]
  },
  {
   "cell_type": "code",
   "execution_count": 53,
   "metadata": {},
   "outputs": [
    {
     "data": {
      "text/plain": [
       "['11B00000',\n",
       " '11D10000',\n",
       " '11D20000',\n",
       " '11C10000',\n",
       " '11C20000',\n",
       " '11H10000',\n",
       " '11H20000',\n",
       " '11F10000',\n",
       " '11F20000',\n",
       " '11G00000']"
      ]
     },
     "execution_count": 53,
     "metadata": {},
     "output_type": "execute_result"
    }
   ],
   "source": [
    "url = 'http://www.kweather.co.kr/forecast/forecast_living_jisu.html'\n",
    "resp = requests.get(url)\n",
    "soup = bs(resp.text)\n",
    "xml_url = list(map(lambda i:i.attrs['href'].split('/')[-1].split('.xml')[0], soup.select('ul#jisu_navi_content a')))\n",
    "xml_url"
   ]
  },
  {
   "cell_type": "code",
   "execution_count": 79,
   "metadata": {
    "scrolled": true
   },
   "outputs": [
    {
     "name": "stdout",
     "output_type": "stream",
     "text": [
      "('나들이', '80', '더워서 걱정이네요')\n",
      "('나들이', '80', '더워서 걱정이네요')\n",
      "('나들이', '70', '더위먹지 않도록 주의')\n",
      "('나들이', '70', '더위먹지 않도록 주의')\n",
      "('나들이', '80', '더워서 걱정이네요')\n",
      "('나들이', '80', '나들이 즐길만 해요')\n",
      "('나들이', '80', '나들이 괜찮아요')\n",
      "('나들이', '70', '더위먹지 않도록 주의')\n",
      "('나들이', '80', '나들이 즐길만 해요')\n",
      "('나들이', '80', '나들이 즐길만 해요')\n"
     ]
    }
   ],
   "source": [
    "for xml in xml_url:\n",
    "    url = f'http://www.kweather.co.kr/data/JISU/{xml}.xml'\n",
    "#     xml_file = 'kweather_'+ xml + '.xml'\n",
    "#     # if not os.path.exists(xml_file):\n",
    "#     req.urlretrieve(url, xml_file)\n",
    "#     with open(xml_file, 'r', encoding='utf-8') as file:\n",
    "#         r = file.read()\n",
    "#         soup = bs(r,'html.parser')\n",
    "#         print(soup.select_one('areaname'))\n",
    "    resp = requests.get(url)\n",
    "    resp.encoding = None\n",
    "    soup = bs(resp.text)\n",
    "\n",
    "    jisu_name = list(map(lambda i:i.text, soup.select('name')))\n",
    "    jisu_num = list(map(lambda i:i.text, soup.select('jnum')))\n",
    "    jisu_text = list(map(lambda i:i.text, soup.select('jtext')))\n",
    "    jisu_sk_list = [(name, num, text) for name, num, text in zip(jisu_name, jisu_num, jisu_text)]\n",
    "    print(jisu_sk_list[0])"
   ]
  },
  {
   "cell_type": "code",
   "execution_count": null,
   "metadata": {},
   "outputs": [],
   "source": []
  }
 ],
 "metadata": {
  "kernelspec": {
   "display_name": "Python 3",
   "language": "python",
   "name": "python3"
  },
  "language_info": {
   "codemirror_mode": {
    "name": "ipython",
    "version": 3
   },
   "file_extension": ".py",
   "mimetype": "text/x-python",
   "name": "python",
   "nbconvert_exporter": "python",
   "pygments_lexer": "ipython3",
   "version": "3.7.7"
  }
 },
 "nbformat": 4,
 "nbformat_minor": 4
}
