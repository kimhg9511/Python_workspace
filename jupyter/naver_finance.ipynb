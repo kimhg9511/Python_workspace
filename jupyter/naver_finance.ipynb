{
 "cells": [
  {
   "cell_type": "code",
   "execution_count": 62,
   "metadata": {},
   "outputs": [],
   "source": [
    "import requests\n",
    "from bs4 import BeautifulSoup as bs\n",
    "import time\n",
    "import fileIO as io\n",
    "import pandas as pd\n",
    "import json"
   ]
  },
  {
   "cell_type": "code",
   "execution_count": 16,
   "metadata": {},
   "outputs": [
    {
     "name": "stdout",
     "output_type": "stream",
     "text": [
      "comment req: 200\n"
     ]
    }
   ],
   "source": [
    "url = 'https://navercomp.wisereport.co.kr/v2/company/ajax/cF1001.aspx'\n",
    "params = 'cmp_cd=192650&fin_typ=0&freq_typ=A&encparam=NktvWTliV2wzRVpkSzJwTVFBLzNGQT09&id=QmZIZ20rMn'\n",
    "params = list(map(lambda i: i.split('='),params.split('&')))\n",
    "params = {k: v for k, v in params}\n",
    "req = requests.get(url, params=params) \n",
    "print('comment req:',req.status_code)\n",
    "soup = bs(req.text, 'html.parser')"
   ]
  },
  {
   "cell_type": "code",
   "execution_count": 53,
   "metadata": {},
   "outputs": [],
   "source": [
    "# data sort\n",
    "numbers = soup.select('td.num')\n",
    "rows = list(map(lambda i:i.text, soup.select('th.txt')))\n",
    "year_2017 = []\n",
    "year_2018 = []\n",
    "year_2019 = []\n",
    "quarter_2019_3 = []\n",
    "quarter_2019_4 = []\n",
    "quarter_2020_1 = []\n",
    "for i in range(len(numbers)):\n",
    "    if i % 8 == 0:\n",
    "        year_2017.append(numbers[i].text)\n",
    "    elif i % 8 == 1:\n",
    "        year_2018.append(numbers[i].text)\n",
    "    elif i % 8 == 2:\n",
    "        year_2019.append(numbers[i].text)\n",
    "    elif i % 8 == 4:\n",
    "        quarter_2019_3.append(numbers[i].text)\n",
    "    elif i % 8 == 5:\n",
    "        quarter_2019_4.append(numbers[i].text)\n",
    "    elif i % 8 == 6:\n",
    "        quarter_2020_1.append(numbers[i].text)\n",
    "    else:\n",
    "        pass"
   ]
  },
  {
   "cell_type": "code",
   "execution_count": 65,
   "metadata": {},
   "outputs": [],
   "source": [
    "# convert to json\n",
    "dict_naver = {'y2017/12': year_2017,\n",
    "              'y2018/12': year_2018,\n",
    "              'y2019/12': year_2019,\n",
    "              'q2019/09': quarter_2019_3,\n",
    "              'q2019/12': quarter_2019_4,\n",
    "              'q2020/03': quarter_2020_1\n",
    "             }\n",
    "df_naver = pd.DataFrame(dict_naver, index = rows)\n",
    "with open('stock_naver.json','w',encoding='utf-8')as f:\n",
    "    f.write(df_naver.to_json(orient='table', indent=4, force_ascii=False))"
   ]
  }
 ],
 "metadata": {
  "kernelspec": {
   "display_name": "Python 3",
   "language": "python",
   "name": "python3"
  },
  "language_info": {
   "codemirror_mode": {
    "name": "ipython",
    "version": 3
   },
   "file_extension": ".py",
   "mimetype": "text/x-python",
   "name": "python",
   "nbconvert_exporter": "python",
   "pygments_lexer": "ipython3",
   "version": "3.7.7"
  }
 },
 "nbformat": 4,
 "nbformat_minor": 4
}
