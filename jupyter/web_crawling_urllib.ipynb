{
 "cells": [
  {
   "cell_type": "code",
   "execution_count": 31,
   "metadata": {},
   "outputs": [],
   "source": [
    "# urllib.request\n",
    "from urllib import request as req, parse\n",
    "# import ssl"
   ]
  },
  {
   "cell_type": "code",
   "execution_count": 32,
   "metadata": {},
   "outputs": [
    {
     "data": {
      "text/plain": [
       "('daum_logo.png', <http.client.HTTPMessage at 0x216762a02c8>)"
      ]
     },
     "execution_count": 32,
     "metadata": {},
     "output_type": "execute_result"
    }
   ],
   "source": [
    "# download web image\n",
    "url = \"https://t1.daumcdn.net/daumtop_chanel/op/20170315064553027.png\"\n",
    "downfile = 'daum_logo.png'\n",
    "req.urlretrieve(url, downfile)"
   ]
  },
  {
   "cell_type": "code",
   "execution_count": 33,
   "metadata": {},
   "outputs": [
    {
     "data": {
      "text/plain": [
       "200"
      ]
     },
     "execution_count": 33,
     "metadata": {},
     "output_type": "execute_result"
    }
   ],
   "source": [
    "# get html by urllib.request\n",
    "# full url\n",
    "url = \"https://book.naver.com/search/search.nhn?sm=sta_hty.book&sug=&where=nexearch&query=%ED%8C%8C%EC%9D%B4%EC%8D%AC\"\n",
    "# context = ssl._create_unverified_context()\n",
    "resp = req.urlopen(url)#, context=context)\n",
    "resp.getcode()\n",
    "\n"
   ]
  },
  {
   "cell_type": "code",
   "execution_count": 34,
   "metadata": {},
   "outputs": [
    {
     "data": {
      "text/plain": [
       "'https://book.naver.com/search/search.nhn?sm=sta_hty.book&sug=&where=nexearch&query=%ED%8C%8C%EC%9D%B4%EC%8D%AC'"
      ]
     },
     "execution_count": 34,
     "metadata": {},
     "output_type": "execute_result"
    }
   ],
   "source": [
    "# divide - parameter\n",
    "url = \"https://book.naver.com/search/search.nhn\"\n",
    "values = {'sm': 'sta_hty.book','sug': '','where': 'nexearch','query': \"파이썬\"}\n",
    "params = parse.urlencode(values)\n",
    "url = url + '?' + params\n",
    "resp = req.urlopen(url)\n",
    "data = resp.read()\n",
    "text = data.decode('UTF-8')\n",
    "url"
   ]
  },
  {
   "cell_type": "code",
   "execution_count": 35,
   "metadata": {},
   "outputs": [
    {
     "name": "stdout",
     "output_type": "stream",
     "text": [
      "Server: NWS\n",
      "Date: Wed, 03 Jun 2020 02:20:30 GMT\n",
      "Content-Type: text/html; charset=UTF-8\n",
      "Transfer-Encoding: chunked\n",
      "Connection: close\n",
      "Strict-Transport-Security: max-age=63072000\n",
      "Vary: Cookie,Accept-Encoding,User-Agent\n",
      "Set-Cookie: MM_NEW=1; Path=/; Domain=.naver.com; Expires=Thu, 03 Jun 2021 02:20:30 GMT\n",
      "Cache-Control: no-cache, no-store, must-revalidate\n",
      "Pragma: no-cache\n",
      "P3P: CP=\"CAO DSP CURa ADMa TAIa PSAa OUR LAW STP PHY ONL UNI PUR FIN COM NAV INT DEM STA PRE\"\n",
      "X-XSS-Protection: 1; mode=block\n",
      "X-Frame-Options: DENY\n",
      "X-Protocol: https\n",
      "Referrer-Policy: unsafe-url\n",
      "\n",
      "\n"
     ]
    }
   ],
   "source": [
    "# custom header\n",
    "url = 'http://www.naver.com'\n",
    "header_info  = {'user-agent': 'Mozilla/5.0 (iPhone; CPU iPhone OS 13_2_3 like Mac OS X) AppleWebKit/605.1.15 (KHTML, like Gecko) Version/13.0.3 Mobile/15E148 Safari/604.1'}\n",
    "request = req.Request(url, headers=header_info)\n",
    "resp = req.urlopen(request)\n",
    "print(resp.info())"
   ]
  }
 ],
 "metadata": {
  "kernelspec": {
   "display_name": "Python 3",
   "language": "python",
   "name": "python3"
  },
  "language_info": {
   "codemirror_mode": {
    "name": "ipython",
    "version": 3
   },
   "file_extension": ".py",
   "mimetype": "text/x-python",
   "name": "python",
   "nbconvert_exporter": "python",
   "pygments_lexer": "ipython3",
   "version": "3.7.7"
  }
 },
 "nbformat": 4,
 "nbformat_minor": 4
}
