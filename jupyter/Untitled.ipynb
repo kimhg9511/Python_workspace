{
 "cells": [
  {
   "cell_type": "code",
   "execution_count": 1,
   "metadata": {},
   "outputs": [],
   "source": [
    "import requests\n",
    "from bs4 import BeautifulSoup as bs"
   ]
  },
  {
   "cell_type": "code",
   "execution_count": 17,
   "metadata": {},
   "outputs": [],
   "source": [
    "# url = 'http://marketdata.krx.co.kr/mdi#document=050101'\n",
    "url = 'http://marketdata.krx.co.kr/contents/MKD/05/0505/MKD05050000.jsp'\n",
    "resp = requests.get(url)\n"
   ]
  },
  {
   "cell_type": "code",
   "execution_count": 18,
   "metadata": {},
   "outputs": [],
   "source": [
    "soup = bs(resp.text)"
   ]
  },
  {
   "cell_type": "code",
   "execution_count": 25,
   "metadata": {
    "scrolled": true
   },
   "outputs": [
    {
     "data": {
      "text/plain": [
       "'/contents/MKD/99/MKD99000001.jspx'"
      ]
     },
     "execution_count": 25,
     "metadata": {},
     "output_type": "execute_result"
    }
   ],
   "source": [
    "soup.select_one('form')['action']"
   ]
  },
  {
   "cell_type": "code",
   "execution_count": 36,
   "metadata": {},
   "outputs": [],
   "source": [
    "url = 'http://marketdata.krx.co.kr/contents/COM/FinderBndOrdIsu.jsp'\n",
    "params = {\n",
    "    'inputId' : 'isu_cdnm7eabe3a1649ffa2b3ff8c02ebfd5659f',\n",
    "    'hidCodeId' : 'isu_cd7eabe3a1649ffa2b3ff8c02ebfd5659f',\n",
    "    'hidShotCodeId' : 'isu_srt_cd7eabe3a1649ffa2b3ff8c02ebfd5659f',\n",
    "    'hidNameId' : 'iss_inst_nm7eabe3a1649ffa2b3ff8c02ebfd5659f',\n",
    "    'marketTp' : 'ALL',\n",
    "    'no' : 'P10',\n",
    "    'schWord' : ''\n",
    "}\n",
    "resp = requests.get(url)\n"
   ]
  },
  {
   "cell_type": "code",
   "execution_count": 37,
   "metadata": {},
   "outputs": [
    {
     "data": {
      "text/plain": [
       "'\\r\\n\\r\\n\\r\\n\\r\\n\\r\\n\\r\\n<div id=\"finderc4ca4238a0b923820dcc509a6f75849b\" class=\"desgin-code-finder\">\\r\\n<script>\\r\\n$(document).ready(function() {\\r\\n\\tvar $el = $(\\'#finderc4ca4238a0b923820dcc509a6f75849b\\');\\r\\n\\t$el.find(\\'.popupclosebtn\\').on(\\'click\\', function () {\\r\\n\\t\\t$el.remove();\\r\\n\\t});\\r\\n\\t$el.find(\\'.consonantbtn\\').on(\\'click\\', function () {\\r\\n\\t\\t$el.find(\\'input[name=searchText], input[name=isuCd]\\').val(\\'\\');\\r\\n\\t\\t$(\\'#btnidc4ca4238a0b923820dcc509a6f75849b\\').trigger(\\'click\\', {name:\\'consonant\\',value: $(this).val()});\\r\\n\\t});\\r\\n\\t\\r\\n\\t$el.find(\\'input[name=searchText]\\').on(\\'keyup\\', function (event) {\\r\\n\\t\\t$el.find(\\'.CI-GRID-AREA:eq(0)\\')[0].grid.search($(this).val());\\r\\n\\t});\\r\\n});\\r\\nfunction selectBondOrdData(isuCd, isuNm, obj) {\\r\\n\\tvar $el = $(obj).closest(\\'.desgin-code-finder\\')\\r\\n\\t$el.closest(\\'dd\\').find(\\'#\\').val(isuCd +\\'/\\'+ isuNm);\\r\\n\\t$el.closest(\\'dd\\').find(\\'#\\').val(isuCd);\\r\\n\\t$el.closest(\\'dd\\').find(\\'#\\').val(isuCd);\\r\\n\\t$el.closest(\\'dd\\').find(\\'#\\').val(isuNm);\\r\\n\\t//cookie save\\r\\n\\tvar schSdata = {};\\r\\n\\tvar dupChk = true;\\r\\n\\tvar schNo = 0;\\r\\n\\tvar cookieNm = \\'schBondOrdHistory\\';\\r\\n\\tif(Cookies.get(cookieNm) != undefined){\\r\\n\\t\\tschSdata = Cookies.getJSON(cookieNm);\\r\\n\\t\\tfor (var key in schSdata){\\r\\n\\t\\t\\tif(isuCd == key){\\r\\n\\t\\t\\t\\tdupChk = false;\\r\\n\\t\\t\\t}else{\\r\\n\\t\\t\\t\\tschNo++;\\r\\n\\t\\t\\t}\\r\\n\\t\\t}\\r\\n\\t}\\r\\n\\tif(dupChk){\\r\\n\\t\\tif(schNo > 4){\\r\\n\\t\\t\\tdelete schSdata[$.func.getJsonKey(schSdata,0)];\\r\\n\\t\\t}\\r\\n\\t\\tschSdata[isuCd] = {\\'no\\' : schNo, \\'keyCd\\' : isuCd, \\'KeyFullCd\\': isuCd,\\'codNm\\' : isuNm, \\'title\\' : isuCd +\\'/\\'+ isuNm };\\r\\n\\t}\\r\\n\\tCookies.set(cookieNm, schSdata);\\r\\n\\t$el.remove();\\r\\n}\\r\\n</script>\\r\\n<div class=\"design-layer-popup\" id=\"c81e728d9d4c2f636f067f89cc14862c\">\\r\\n\\r\\n<div>\\r\\n<dl>\\r\\n<dt>채권발행기관코드검색기<button type=\"button\" class=\"popupclosebtn\"><span>닫기</span></button></dt>\\r\\n<dd>\\r\\n\\t<fieldset class=\"design-fieldset\">\\r\\n<legend>채권발행기관코드검색기 테이블 검색조건</legend>\\r\\n\\r\\n\\t\\t<form action=\"/contents/MKD/99/MKD99000001.jspx\" method=\"post\" id=\"formc4ca4238a0b923820dcc509a6f75849b\" data-bld=\"COM/finder_bnd_ord_isu\" onsubmit=\"return false;\" autocomplete=\"off\">\\r\\n\\r\\n\\t\\t\\t<dl>\\r\\n\\t\\t\\t\\t<dt>채권발행기관</dt>\\r\\n\\t\\t\\t\\t<dd>\\r\\n\\r\\n\\r\\n\\r\\n\\r\\n<input type=\"radio\" id=\"sch_typa87ff679a2f3e71d9181a67b7542122c\" name=\"sch_typ\" class=\"schdate\" value=\"cd\"/><label for=\"sch_typa87ff679a2f3e71d9181a67b7542122c\">발행기관코드</label><input type=\"radio\" id=\"sch_typ1a87ff679a2f3e71d9181a67b7542122c\" name=\"sch_typ\" class=\"schdate\" value=\"MB\" checked=\"checked\"/><label for=\"sch_typ1a87ff679a2f3e71d9181a67b7542122c\">발행기관명</label><input type=\"radio\" id=\"sch_typ2a87ff679a2f3e71d9181a67b7542122c\" name=\"sch_typ\" class=\"schdate\" value=\"NM\"/><label for=\"sch_typ2a87ff679a2f3e71d9181a67b7542122c\">종목명</label>\\r\\n\\r\\n\\r\\n\\r\\n\\r\\n\\r\\n<script>\\r\\n$(\\'.schdate\\').keypress(function(e){\\r\\n\\tif(e.which == 13){\\r\\n\\t\\treturn false;\\r\\n\\t}\\r\\n});\\r\\n</script></dd>\\r\\n\\t\\t\\t</dl>\\r\\n\\t\\t\\t<dl>\\t\\r\\n\\t\\t\\t\\t<dt>발행기관명</dt>\\r\\n\\t\\t\\t\\t<dd>\\r\\n\\t\\t\\t\\t\\t<input type=\"text\" name=searchText id=\"searchTextc4ca4238a0b923820dcc509a6f75849b\"/><br/>\\r\\n\\t\\t\\t\\t\\r\\n\\t\\t\\t\\t\\t\\r\\n\\t\\t\\t\\t\\t\\r\\n\\t\\t\\t\\t\\t<div class=\"text-button-group\">\\r\\n\\t\\t\\t\\t\\t\\t<button type=\"button\" value=\"1\" class=\"consonantbtn\">ㄱ</button>\\r\\n\\t\\t\\t\\t\\t\\t<button type=\"button\" value=\"2\" class=\"consonantbtn\">ㄴ</button>\\r\\n\\t\\t\\t\\t\\t\\t<button type=\"button\" value=\"3\" class=\"consonantbtn\">ㄷ</button>\\r\\n\\t\\t\\t\\t\\t\\t<button type=\"button\" value=\"4\" class=\"consonantbtn\">ㄹ</button>\\r\\n\\t\\t\\t\\t\\t\\t<button type=\"button\" value=\"5\" class=\"consonantbtn\">ㅁ</button>\\r\\n\\t\\t\\t\\t\\t\\t<button type=\"button\" value=\"6\" class=\"consonantbtn\">ㅂ</button>\\r\\n\\t\\t\\t\\t\\t\\t<button type=\"button\" value=\"7\" class=\"consonantbtn\">ㅅ</button>\\r\\n\\t\\t\\t\\t\\t\\t<button type=\"button\" value=\"8\" class=\"consonantbtn\">ㅇ</button>\\r\\n\\t\\t\\t\\t\\t\\t<button type=\"button\" value=\"9\" class=\"consonantbtn\">ㅈ</button>\\r\\n\\t\\t\\t\\t\\t\\t<button type=\"button\" value=\"10\" class=\"consonantbtn\">ㅊ</button>\\r\\n\\t\\t\\t\\t\\t\\t<button type=\"button\" value=\"11\" class=\"consonantbtn\">ㅋ</button>\\r\\n\\t\\t\\t\\t\\t\\t<button type=\"button\" value=\"12\" class=\"consonantbtn\">ㅌ</button>\\r\\n\\t\\t\\t\\t\\t\\t<button type=\"button\" value=\"13\" class=\"consonantbtn\">ㅍ</button>\\r\\n\\t\\t\\t\\t\\t\\t<button type=\"button\" value=\"14\" class=\"consonantbtn\">ㅎ</button>\\r\\n\\t\\t\\t\\t\\t\\t<button type=\"button\" value=\"15\" class=\"consonantbtn wid\">A-Z</button>\\r\\n\\t\\t\\t\\t\\t</div>\\r\\n\\t\\t\\t\\t\\t\\r\\n\\t\\t\\t\\t\\r\\n\\t\\t\\t\\t</dd>\\r\\n\\t\\t\\t</dl>\\r\\n\\t\\t\\t<input type=\"hidden\" name=\"schIsuCd\"/>\\r\\n\\t\\t\\t<div class=\"design-center\">\\r\\n\\r\\n\\t\\t\\t\\t<button class=\"btn-board btn-board-search\" type=\"button\" id=\"btnidc4ca4238a0b923820dcc509a6f75849b\"><span></span>조회</button>\\r\\n<script>\\r\\n$(document).ready(function(){\\r\\n\\tif(typeof sijangjiPdf == \"undefined\"){\\r\\n\\t\\t$(\\'#btnidc4ca4238a0b923820dcc509a6f75849b\\').on(\\'click\\', function (event, params) {\\r\\n\\t\\t\\t//event.preventDefault();\\r\\n\\t\\t\\t\\r\\n\\t\\t\\tvar $f =  $(this).closest(\\'form\\');\\r\\n\\t\\t\\tvar isChecked = $.func.checkPeriod($f);\\r\\n\\t\\t\\tif(!true){\\r\\n\\t\\t\\t\\tisChecked = true;\\r\\n\\t\\t\\t}\\r\\n\\t\\t\\t\\r\\n\\t\\t\\tif (isChecked) {\\r\\n\\t\\t\\t\\tvar formData = $f.serializeArray();\\r\\n\\t\\t\\t\\tvar code = $.otpCode(\\'form\\', {\\'bld\\' : $f.attr(\\'data-bld\\')});\\r\\n\\t\\t\\t\\tformData.push({name:\\'code\\',value: code});\\r\\n\\t\\t\\t\\t\\r\\n\\t\\t\\t\\tvar isCurPageChk = true;\\r\\n\\t\\t\\t\\tvar isNaviEvtChk = false;\\r\\n\\t\\t\\t\\tif(params != undefined){\\r\\n\\t\\t\\t\\t\\tformData.push(params);\\r\\n\\t\\t\\t\\t\\t//페이지 처음호출이 아닌 두번째 조회버튼 클릭시 curPage를 초기화한다.\\r\\n\\t\\t\\t\\t\\tif(params.name == \\'pageFirstCall\\'){\\r\\n\\t\\t\\t\\t\\t\\tisCurPageChk = false;\\r\\n\\t\\t\\t\\t\\t}\\r\\n\\t\\t\\t\\t\\tif(params.name == \\'naviBtnEvt\\'){\\r\\n\\t\\t\\t\\t\\t\\tisNaviEvtChk = true;\\r\\n\\t\\t\\t\\t\\t\\t//form의 값이 변경되고 페이징 버튼을 클릭한 경우\\r\\n\\t\\t\\t\\t\\t\\tif(params.value == \\'R\\'){\\r\\n\\t\\t\\t\\t\\t\\t\\tisNaviEvtChk = false;\\r\\n\\t\\t\\t\\t\\t\\t}\\r\\n\\t\\t\\t\\t\\t}\\r\\n\\t\\t\\t\\t}\\r\\n\\t\\t\\t\\t\\r\\n\\t\\t\\t\\t//페이징을 하는경우 해당페이지의 페이지네비게이션 이벤트가 아닌경우 조회시 1로 초기화한다.\\r\\n\\t\\t\\t\\tif(isCurPageChk && $(\\'input[name=curPage]\\',$f).length > 0){\\r\\n\\t\\t\\t\\t\\tvar findObj = _.findWhere(formData,{name:\\'curPage\\'});\\r\\n\\t\\t\\t\\t\\tif(isNaviEvtChk == false){\\r\\n\\t\\t\\t\\t\\t\\tvar curPageIdx = _.indexOf(formData, findObj);\\r\\n\\t\\t\\t\\t\\t\\tformData[curPageIdx] = {name:\\'curPage\\', value:1};\\r\\n\\t\\t\\t\\t\\t\\t$(\\'input[name=curPage]\\',$f).val(1);\\r\\n\\t\\t\\t\\t\\t}\\r\\n\\t\\t\\t\\t}\\r\\n\\t\\t\\t\\t\\r\\n\\t\\t\\t\\t$f.attr(\\'data-code\\', code);\\r\\n\\t\\t\\t\\tvar ajaxSync = true;\\r\\n\\t\\t\\t\\t\\r\\n\\t\\t\\t\\t$.func.ajaxSubmit($f.attr(\\'action\\'), formData, ajaxSync, \\'json\\', false);\\r\\n\\t\\t\\t\\t\\r\\n\\t\\t\\t\\t//화면 조회\"WebContent/WEB-INF/tags/func/submitBtn.tag\"시 조회시간(time tag) 동기화\\r\\n\\t\\t\\t\\t//time tag는 일자, 일자+시간, 일자+시간+20분지연메시지(영문포함) 유형\\r\\n\\t\\t\\t\\t\\r\\n\\t\\t\\t\\t//시장정보 화면은 pageId 기준으로 찾음 pageId 가 없는 화면은 body에서 찾자\\r\\n\\t\\t\\t\\tvar $time = $(\\'#pagec4ca4238a0b923820dcc509a6f75849b\\').find(\\'.func-icon-time\\');\\r\\n\\t\\t\\t\\tvar syncTime = $time.find(\\'span:eq(1)\\').html();\\r\\n\\t\\t\\t\\tvar nDay = $.nowTimeDate().getDateFormat(\\'/\\');\\r\\n\\t\\t\\t\\tvar nTime = $.nowTimeDate().getTimeFormat(\\':\\');\\r\\n\\t\\t\\t\\t\\r\\n\\t\\t\\t\\tif (syncTime === undefined) {\\r\\n\\t\\t\\t\\t\\tvar $b = $(this).closest(\\'body\\');\\r\\n\\t\\t\\t\\t\\t$time = $b.find(\\'.func-icon-time\\');\\r\\n\\t\\t\\t\\t\\tsyncTime = $time.find(\\'span:eq(1)\\').html();\\r\\n\\t\\t\\t\\t}\\r\\n\\t\\t\\t\\t\\r\\n\\t\\t\\t\\tif ($time.length > 0) {\\r\\n\\t\\t\\t\\t\\tsyncTime = syncTime.replace(syncTime.split(\\' \\')[0], nDay).replace(syncTime.split(\\' \\')[2], nTime);\\r\\n\\t\\t\\t\\t\\t$time.find(\\'span:eq(1)\\').html(syncTime);\\r\\n\\t\\t\\t\\t}\\r\\n\\t\\t\\t\\t$(\\'#btnidc4ca4238a0b923820dcc509a6f75849b\\').prop(\\'disabled\\', true);\\r\\n\\t\\t\\t} else {\\r\\n\\t\\t\\t\\talert(\\'조회기간은 1년을 초과할 수 없습니다.\\');\\r\\n\\t\\t\\t}\\r\\n\\t\\t});\\r\\n\\t\\t$(document).ready(function(){\\r\\n\\t\\t\\tsetTimeout(function () {\\r\\n\\t\\t\\t\\t$(\\'#btnidc4ca4238a0b923820dcc509a6f75849b\\').trigger(\\'click\\', {name:\\'pageFirstCall\\',value:\\'Y\\'});\\r\\n\\t\\t\\t}, 300);\\r\\n\\t\\t});\\r\\n\\t\\t\\r\\n\\t\\t\\r\\n\\t \\t$(document).ajaxSuccess(function (event, xhr, settings) {\\r\\n\\t\\t\\tvar $frm = $(\\'#btnidc4ca4238a0b923820dcc509a6f75849b\\').closest(\\'form\\');\\r\\n\\t\\t\\tif(settings.url == $frm.attr(\\'action\\') && decodeURIComponent(settings.data).indexOf($frm.attr(\\'data-code\\')) != -1){\\r\\n\\t\\t\\t\\tsetTimeout(function () {\\r\\n\\t\\t\\t\\t\\t$(\\'#btnidc4ca4238a0b923820dcc509a6f75849b\\').prop(\\'disabled\\', false);\\r\\n\\t\\t\\t\\t}, 1000);\\r\\n\\t\\t\\t}\\r\\n\\t\\t}); \\r\\n \\t\\r\\n\\t}\\r\\n});\\r\\n</script>\\r\\n\\t\\t\\t\\r\\n</div>\\r\\n\\t\\t\\r\\n<input type=\"hidden\" name=\"pagePath\" value=\"/contents/COM/FinderBndOrdIsu.jsp\"/>\\r\\n</form>\\r\\n\\t\\r\\n</fieldset>\\r\\n\\t<table id=\"ci-grid-noe4da3b7fbbce2345d7772b0674a318d5\"></table>\\r\\n<script id=\"ci-grid-noe4da3b7fbbce2345d7772b0674a318d5-templet\" type=\"text/template\">\\r\\n<table width=\"100%\" height=\"300px\">\\r\\n<thead><tr><th name=\"iss_inst_cd\" width=\"30%\">발행기관코드</th><th name=\"iss_inst_nm\">발행기관명</th></tr></thead><tbody>\\n\\t\\t\\t\\n<tr>\\n\\t\\t\\t\\t\\n<td name=\"iss_inst_cd\">{{iss_inst_cd}}</td>\\n\\t\\t\\t\\t<td name=\"iss_inst_nm\"><a href=\"#\" onclick=\"selectBondOrdData(\\'{{iss_inst_cd}}\\',\\'{{iss_inst_nm}}\\', this); return false;\">{{iss_inst_nm}}</a></td>\\n\\t\\t\\t\\n</tr>\\n\\t\\t\\n</tbody>\\n\\r\\n</table>\\r\\n</script>\\r\\n<script>\\r\\n$(document).ready(function(){\\r\\n\\tvar tablee4da3b7fbbce2345d7772b0674a318d5 = $(\\'#ci-grid-noe4da3b7fbbce2345d7772b0674a318d5\\');\\r\\n\\tvar templete4da3b7fbbce2345d7772b0674a318d5 = $(\\'#ci-grid-noe4da3b7fbbce2345d7772b0674a318d5-templet\\');\\r\\n\\tvar gride4da3b7fbbce2345d7772b0674a318d5 = webponent.grid.init(tablee4da3b7fbbce2345d7772b0674a318d5, templete4da3b7fbbce2345d7772b0674a318d5, {\\n\\trowSelectable : true\\n});\\r\\n\\tif(gride4da3b7fbbce2345d7772b0674a318d5.markup.main.body.caption != undefined){\\r\\n\\t\\t$(gride4da3b7fbbce2345d7772b0674a318d5.markup.area).append($(gride4da3b7fbbce2345d7772b0674a318d5.markup.main.body.caption).children(\\'span\\'));\\r\\n\\t}\\r\\n\\tvar drawLoadingView = function () {\\r\\n\\t\\tvar innerHTML = \\'<div class=\"grid-loader-wrapper\"><div class=\"grid-loader\"><span class=\"tit\">KRX 데이터를 생성중입니다.</span><span class=\"desc\">데이터를 생성 중이므로 잠시만 기다려 주십시오.</span><span class=\"tel\">문의전화 1577-0088</span></div></div>\\';\\r\\n\\t\\tif(typeof sijangjiPdf == \\'undefined\\'){\\r\\n\\t\\t\\t$(gride4da3b7fbbce2345d7772b0674a318d5.markup.area).append(innerHTML);\\r\\n\\t\\t\\t$(\\'body\\').css(\\'cursor\\',\\'url(/res/pc/img/wait_cursor.cur), auto\\');\\r\\n\\t\\t}\\r\\n\\t};\\r\\n\\t\\r\\n\\ttablee4da3b7fbbce2345d7772b0674a318d5.attr(\\'data-bld\\',\\'COM/finder_bnd_ord_isu\\');\\r\\n\\t\\t\\r\\n\\t\\r\\n\\tif($(\\'#formc4ca4238a0b923820dcc509a6f75849b\\').find(\\'.grid-column-setting\\').length > 0){\\r\\n\\t\\twebponent.grid.UIplugin.init(gride4da3b7fbbce2345d7772b0674a318d5, {\\r\\n\\t\\t\\tsettingUI : true,\\r\\n\\t\\t\\tsettingButton : $(\\'#formc4ca4238a0b923820dcc509a6f75849b\\').find(\\'.grid-column-setting\\')\\r\\n\\t\\t});\\r\\n\\t}\\r\\n\\t\\t\\r\\n\\tif(getDevice() == \\'mobile\\'){\\r\\n\\t\\t$.func.resizeMobileGrid(gride4da3b7fbbce2345d7772b0674a318d5);\\r\\n\\t}else{\\r\\n\\t\\tif(typeof sijangjiPdf == \\'undefined\\'){\\r\\n\\t\\t\\t\\r\\n\\t\\t}\\t\\r\\n\\t}\\r\\n\\tif(typeof sijangjiPdf == \"undefined\"){\\r\\n\\t\\t$(document).ajaxSuccess(function (event, xhr, settings) {\\r\\n\\t\\t\\tif(settings.url == $(\\'#formc4ca4238a0b923820dcc509a6f75849b\\').attr(\\'action\\')){\\r\\n\\t\\t\\t\\tif($(\\'#formc4ca4238a0b923820dcc509a6f75849b\\').attr(\\'data-bld\\') == gride4da3b7fbbce2345d7772b0674a318d5.settings.table.markup.attr(\\'data-bld\\') && decodeURIComponent(settings.data).indexOf($(\\'#formc4ca4238a0b923820dcc509a6f75849b\\').attr(\\'data-code\\')) != -1){\\r\\n\\t\\t\\t\\t\\tvar data = xhr.responseJSON[$.func.getJsonKey(xhr.responseJSON,0)];\\r\\n\\t\\t\\t\\t\\t$(gride4da3b7fbbce2345d7772b0674a318d5.markup.area).find(\\'.grid-loader-wrapper\\').remove();\\r\\n\\t\\t\\t\\t\\t$(\\'body\\').css(\\'cursor\\',\\'default\\');\\r\\n\\t\\t\\t\\t\\tgride4da3b7fbbce2345d7772b0674a318d5.formData = $(\\'#formc4ca4238a0b923820dcc509a6f75849b\\').serializeArray();\\r\\n\\t\\t\\t\\t\\tgride4da3b7fbbce2345d7772b0674a318d5.removeRow();\\r\\n\\t\\t\\t\\t\\tif(data.length == 0){\\r\\n\\t\\t\\t\\t\\t\\tvar cellInt = 0;\\r\\n\\t\\t\\t\\t\\t\\t_.filter(gride4da3b7fbbce2345d7772b0674a318d5.settings.columns, function (column) {\\r\\n\\t\\t\\t\\t\\t\\t\\tif(column.level === 0 && column.visibility != \\'hidden\\'){\\r\\n\\t\\t\\t\\t\\t\\t\\t\\tcellInt = cellInt + column.colspan;\\r\\n\\t\\t\\t\\t\\t\\t\\t}\\r\\n\\t\\t\\t\\t\\t\\t});\\r\\n\\t\\t\\t\\t\\t\\t$(gride4da3b7fbbce2345d7772b0674a318d5.markup.main.body.tbody).append(\\'<tr><td colspan=\"\\'+ cellInt +\\'\" align=\"center\">데이터가 없습니다</td></tr>\\');\\r\\n\\t\\t\\t\\t\\t\\tgride4da3b7fbbce2345d7772b0674a318d5.appendRow({});\\r\\n\\t\\t\\t\\t\\t\\t\\r\\n\\t\\t\\t\\t\\t\\treturn false;\\r\\n\\t\\t\\t\\t\\t} else {\\r\\n\\t\\t\\t\\t\\t\\t\\r\\n\\t\\t\\t\\t\\t\\t\\r\\n\\t\\t\\t\\t\\t\\tgride4da3b7fbbce2345d7772b0674a318d5.appendRow(data);\\r\\n\\t\\t\\t\\t\\t\\t\\r\\n\\t\\t\\t\\t\\t}\\r\\n\\t\\t\\t\\t}\\r\\n\\t\\t\\t}\\r\\n\\t\\t});\\r\\n\\t\\t$(document).ajaxError(function(event, xhr, settings, error){\\r\\n\\t\\t\\tif(settings.url == $(\\'#formc4ca4238a0b923820dcc509a6f75849b\\').attr(\\'action\\')){\\r\\n\\t\\t\\t\\tif($(\\'#formc4ca4238a0b923820dcc509a6f75849b\\').attr(\\'data-bld\\') == gride4da3b7fbbce2345d7772b0674a318d5.settings.table.markup.attr(\\'data-bld\\') && decodeURIComponent(settings.data).indexOf($(\\'#formc4ca4238a0b923820dcc509a6f75849b\\').attr(\\'data-code\\')) != -1){\\r\\n\\t\\t\\t\\t\\t$(gride4da3b7fbbce2345d7772b0674a318d5.markup.area).find(\\'.grid-loader-wrapper\\').remove();\\r\\n\\t\\t\\t\\t\\t$(\\'body\\').css(\\'cursor\\',\\'default\\');\\r\\n\\t\\t\\t\\t}\\r\\n\\t\\t\\t}\\r\\n\\t\\t});\\r\\n\\t\\t$(document).ajaxSend(function(event, xhr, settings){\\r\\n\\t\\t\\tif(settings.url == $(\\'#formc4ca4238a0b923820dcc509a6f75849b\\').attr(\\'action\\')){\\r\\n\\t\\t\\t\\tif($(\\'#formc4ca4238a0b923820dcc509a6f75849b\\').attr(\\'data-bld\\') == gride4da3b7fbbce2345d7772b0674a318d5.settings.table.markup.attr(\\'data-bld\\') && decodeURIComponent(settings.data).indexOf($(\\'#formc4ca4238a0b923820dcc509a6f75849b\\').attr(\\'data-code\\')) != -1){\\r\\n\\t\\t\\t\\t\\tdrawLoadingView();\\r\\n\\t\\t\\t\\t}\\r\\n\\t\\t\\t}\\r\\n\\t\\t});\\r\\n\\t} else {\\r\\n\\t\\tvar $f =  $(\\'#formc4ca4238a0b923820dcc509a6f75849b\\');\\r\\n\\t\\tif($f.attr(\\'data-bld\\') == \\'COM/finder_bnd_ord_isu\\'){\\r\\n\\t\\t\\tvar code = $.otpCode(\\'form\\', {\\'bld\\' : $f.attr(\\'data-bld\\')});\\r\\n\\t\\t\\tvar formData = $f.serializeArray();\\r\\n\\t\\t\\tformData.push({name:\\'code\\',value: code});\\r\\n\\t\\t\\t$f.attr(\\'data-code\\', code);\\r\\n\\t\\t\\t\\r\\n\\t\\t\\tvar sijangjiFormId = $(gride4da3b7fbbce2345d7772b0674a318d5.markup.area).closest(\\'.pdf_container\\').attr(\\'data-form-id\\');\\r\\n\\t\\t\\t\\r\\n\\t\\t\\tif ($(\\'#\\' + sijangjiFormId).length > 0) {\\r\\n\\t\\t\\t\\tvar sijangformData = $(\\'#\\' + sijangjiFormId).serializeArray();\\r\\n\\t\\t\\t\\tfor (var i = 0; i < sijangformData.length; i++) {\\r\\n\\t\\t\\t\\t\\tvar merge = 0;\\r\\n\\t\\t\\t\\t\\tfor (var j = 0; j < formData.length; j++) {\\r\\n\\t\\t\\t\\t\\t\\tif (sijangformData[i].name == formData[j].name) {\\r\\n\\t\\t\\t\\t\\t\\t\\tformData[j].value = sijangformData[i].value;\\r\\n\\t\\t\\t\\t\\t\\t\\tmerge++;\\r\\n\\t\\t\\t\\t\\t\\t}\\r\\n\\t\\t\\t\\t\\t}\\r\\n\\t\\t\\t\\t\\tif (merge == 0) {\\r\\n\\t\\t\\t\\t\\t\\tformData.push({name:sijangformData[i].name,value:sijangformData[i].value});\\r\\n\\t\\t\\t\\t\\t}\\r\\n\\t\\t\\t\\t}\\r\\n\\t\\t\\t}\\r\\n\\t\\t\\t$.func.ajaxSubmit($f.attr(\\'action\\'), formData, false).success(function(responseJSON){\\r\\n\\t\\t\\t\\tvar data = responseJSON[$.func.getJsonKey(responseJSON,0)];\\r\\n\\t\\t\\t\\t$(gride4da3b7fbbce2345d7772b0674a318d5.markup.area).find(\\'.grid-loader-wrapper\\').remove();\\r\\n\\t\\t\\t\\t$(\\'body\\').css(\\'cursor\\',\\'default\\');\\r\\n\\t\\t\\t\\tgride4da3b7fbbce2345d7772b0674a318d5.formData = formData;\\r\\n\\t\\t\\t\\tif(data.length === 0){\\r\\n\\t\\t\\t\\t\\tvar cellInt = 0;\\r\\n\\t\\t\\t\\t\\t_.filter(gride4da3b7fbbce2345d7772b0674a318d5.settings.columns, function (column) {\\r\\n\\t\\t\\t\\t\\t\\tif(column.level === 0 && column.visibility != \\'hidden\\'){\\r\\n\\t\\t\\t\\t\\t\\t\\tcellInt = cellInt + column.colspan;\\r\\n\\t\\t\\t\\t\\t\\t}\\r\\n\\t\\t\\t\\t\\t});\\r\\n\\t\\t\\t\\t\\t$(gride4da3b7fbbce2345d7772b0674a318d5.markup.main.body.tbody).append(\\'<tr><td colspan=\"\\'+ cellInt +\\'\" align=\"center\">데이터가 없습니다</td></tr>\\');\\r\\n\\t\\t\\t\\t\\tgride4da3b7fbbce2345d7772b0674a318d5.appendRow({});\\r\\n\\t\\t\\t\\t\\treturn false;\\r\\n\\t\\t\\t\\t}\\r\\n\\t\\t\\t\\t$.each(gride4da3b7fbbce2345d7772b0674a318d5.settings.columns, function(i, colum){\\r\\n\\t\\t\\t\\t\\tvar thText = colum.copiedHeader.innerHTML;\\r\\n\\t\\t\\t\\t\\t$.each(formData, function(x, data){\\r\\n\\t\\t\\t\\t\\t\\tif(thText.indexOf(data.name) > -1){\\r\\n\\t\\t\\t\\t\\t\\t\\tvar columDate;\\r\\n\\t\\t\\t\\t\\t\\t\\tif(data.name == \\'schdate\\'){\\r\\n\\t\\t\\t\\t\\t\\t\\t\\tcolumDate = data.value.substring(0,4) + \\'/\\' + data.value.substring(4,6) + \\'/\\' + data.value.substring(6,8);\\r\\n\\t\\t\\t\\t\\t\\t\\t}else if(data.name == \\'schyear\\'){\\r\\n\\t\\t\\t\\t\\t\\t\\t\\tcolumDate = data.value;\\r\\n\\t\\t\\t\\t\\t\\t\\t}\\r\\n\\t\\t\\t\\t\\t\\t\\tgride4da3b7fbbce2345d7772b0674a318d5.setColumnLabel(i,thText.replace(\"{{\" + data.name + \"}}\", columDate));\\r\\n\\t\\t\\t\\t\\t\\t}\\r\\n\\t\\t\\t\\t\\t});\\r\\n\\t\\t\\t\\t});\\r\\n\\t\\t\\t\\t\\r\\n\\t\\t\\t\\tif (typeof(rowCachede4da3b7fbbce2345d7772b0674a318d5) != \"undefined\") {\\r\\n\\t\\t\\t\\t\\tgride4da3b7fbbce2345d7772b0674a318d5.event.off(\\'rowCached\\');\\r\\n\\t\\t\\t\\t}\\r\\n\\t\\t\\t\\t\\r\\n\\t\\t\\t\\tif (typeof(dataRenderede4da3b7fbbce2345d7772b0674a318d5) != \"undefined\") {\\r\\n\\t\\t\\t\\t\\tgride4da3b7fbbce2345d7772b0674a318d5.event.off(\\'dataRendered\\');\\r\\n\\t\\t\\t\\t}\\r\\n\\t\\t\\t\\t\\r\\n\\t\\t\\t\\tgride4da3b7fbbce2345d7772b0674a318d5.removeRow();\\r\\n\\t\\t\\t\\tgride4da3b7fbbce2345d7772b0674a318d5.appendRow(data);\\r\\n\\t\\t\\t\\t\\r\\n\\t\\t\\t\\tif (typeof(rowCachede4da3b7fbbce2345d7772b0674a318d5) != \"undefined\") {\\r\\n\\t\\t\\t\\t\\trowCachede4da3b7fbbce2345d7772b0674a318d5(null, gride4da3b7fbbce2345d7772b0674a318d5);\\r\\n\\t\\t\\t\\t}\\r\\n\\t\\t\\t\\t\\r\\n\\t\\t\\t\\tif (typeof(dataRenderede4da3b7fbbce2345d7772b0674a318d5) != \"undefined\") {\\r\\n\\t\\t\\t\\t\\tdataRenderede4da3b7fbbce2345d7772b0674a318d5();\\r\\n\\t\\t\\t\\t}\\r\\n\\t\\t\\t});\\r\\n\\t\\t}else{\\r\\n\\t\\t\\tgride4da3b7fbbce2345d7772b0674a318d5.destroy();\\r\\n\\t\\t}\\r\\n\\t}\\r\\n\\r\\n\\tif($(gride4da3b7fbbce2345d7772b0674a318d5.markup.area).width() > 800 && typeof(gride4da3b7fbbce2345d7772b0674a318d5.settings.docBaseWidth) == \"undefined\" && $(gride4da3b7fbbce2345d7772b0674a318d5.markup.area).closest(\\'.doc-content-wrap\\').find(\\'.max-width\\').length > 0 && \\'true\\' == \\'true\\' ){\\r\\n\\t\\tgride4da3b7fbbce2345d7772b0674a318d5.settings.docBaseWidth = $.func.getWidthSmall(gride4da3b7fbbce2345d7772b0674a318d5); \\r\\n\\t\\t$.func.resizeMarketGrid(gride4da3b7fbbce2345d7772b0674a318d5, $(gride4da3b7fbbce2345d7772b0674a318d5.markup.area).closest(\\'.doc-content-wrap\\').width()-17);\\r\\n\\t}\\r\\n});\\r\\n</script>\\r\\n</dd>\\r\\n</dl>\\r\\n</div>\\r\\n\\r\\n</div>\\r\\n\\r\\n</div>'"
      ]
     },
     "execution_count": 37,
     "metadata": {},
     "output_type": "execute_result"
    }
   ],
   "source": [
    "resp.text"
   ]
  },
  {
   "cell_type": "code",
   "execution_count": null,
   "metadata": {},
   "outputs": [],
   "source": []
  }
 ],
 "metadata": {
  "kernelspec": {
   "display_name": "Python 3",
   "language": "python",
   "name": "python3"
  },
  "language_info": {
   "codemirror_mode": {
    "name": "ipython",
    "version": 3
   },
   "file_extension": ".py",
   "mimetype": "text/x-python",
   "name": "python",
   "nbconvert_exporter": "python",
   "pygments_lexer": "ipython3",
   "version": "3.7.7"
  }
 },
 "nbformat": 4,
 "nbformat_minor": 4
}
