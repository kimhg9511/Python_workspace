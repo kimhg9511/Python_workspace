{
 "cells": [
  {
   "cell_type": "code",
   "execution_count": 1,
   "metadata": {},
   "outputs": [],
   "source": [
    "import os\n",
    "import sys\n",
    "import requests\n",
    "import datetime\n",
    "import time"
   ]
  },
  {
   "cell_type": "code",
   "execution_count": null,
   "metadata": {},
   "outputs": [],
   "source": [
    "# client_id = Cu_DbXmzUvA5GQoVwtnG\n",
    "# client_secret = qUeRsSEWAf"
   ]
  },
  {
   "cell_type": "code",
   "execution_count": 14,
   "metadata": {},
   "outputs": [
    {
     "data": {
      "text/plain": [
       "{'lastBuildDate': 'Tue, 09 Jun 2020 15:44:53 +0900',\n",
       " 'total': 7825,\n",
       " 'start': 1,\n",
       " 'display': 10,\n",
       " 'items': [{'title': '그린컴퓨터학원, 최대 50% 할인 받을 수 있는 방학특강 과정 개설',\n",
       "   'originallink': 'http://www.irobotnews.com/news/articleView.html?idxno=21013',\n",
       "   'link': 'http://www.irobotnews.com/news/articleView.html?idxno=21013',\n",
       "   'description': '자바, <b>파이썬</b>) △OA(엑셀, 파워포인트, 워드, 엑세스) △자격증(컴퓨터그래픽스, GTQ, ATC, 컴퓨터활용능력... 입문과정 △자바, <b>파이썬</b> 활용 빅데이터 UI 전문가 양성과정 △회계, 세무 중급관리자(전산세무회계, TAT)... ',\n",
       "   'pubDate': 'Tue, 09 Jun 2020 15:20:00 +0900'},\n",
       "  {'title': '기술력 업! 무료 온라인 교육 과정 사이트 12선',\n",
       "   'originallink': 'http://www.ciokorea.com/news/154792',\n",
       "   'link': 'http://www.ciokorea.com/news/154792',\n",
       "   'description': '코드아카데미 코드아카데미(Codeacademy)는 <b>파이썬</b>, 루비, 자바, 자바스크립트, 제이쿼리(jQuery), 리액트.js... 프로그래밍의 기본 사항에 대한 과정을 수강하고 <b>파이썬</b>, C, 자바와 같은 다양한 프로그래밍 언어 목록... ',\n",
       "   'pubDate': 'Tue, 09 Jun 2020 12:02:00 +0900'},\n",
       "  {'title': '아시아경제 교육센터, 빅데이터 산업전문가 양성과정 훈련생 모집',\n",
       "   'originallink': 'https://view.asiae.co.kr/article/2020060911341129124',\n",
       "   'link': 'https://news.naver.com/main/read.nhn?mode=LSD&mid=sec&sid1=101&oid=277&aid=0004694828',\n",
       "   'description': '빅데이터 기술은 <b>파이썬</b>(Python) 기반의 프로그래밍을 통해 목적에 맞는 대량의 데이터를 수집, 분석하여... <b>파이썬</b>(Python) 프로그래밍 언어를 기반으로 데이터수집, 통계, 머신러닝, 딥러닝 및 산업 데이터 분석 실습 및... ',\n",
       "   'pubDate': 'Tue, 09 Jun 2020 11:33:00 +0900'},\n",
       "  {'title': '한국 상륙-6개국에서 열린 어린이 코딩대회, 신한카드와 한국공학한림원 지원',\n",
       "   'originallink': 'http://www.ccdailynews.com/news/articleView.html?idxno=1071350',\n",
       "   'link': 'http://www.ccdailynews.com/news/articleView.html?idxno=1071350',\n",
       "   'description': \"&quot;이를 통해 학생들은 블록코딩부터 텍스트코딩, <b>파이썬</b>까지 코딩교육에 필요한 지식을 쉽고 재미있게 배울 수 있다&quot;라고 담당자는 밝혔다. 이번 행사에서 주목해야할 점은 바로 국내 3대 카드사 중 한 곳인 '신한카드... \",\n",
       "   'pubDate': 'Tue, 09 Jun 2020 11:10:00 +0900'},\n",
       "  {'title': '국립중앙과학관, 신규 인공지능(AI) 체험교육 본격 착수',\n",
       "   'originallink': 'http://www.boannews.com/media/view.asp?idx=88803&kind=2',\n",
       "   'link': 'http://www.boannews.com/media/view.asp?idx=88803&kind=2',\n",
       "   'description': '각 동아리는 초급(블록으로 인공지능 스피커 만들기), 중급(<b>파이썬</b>으로 인공지능 스피커 만들기), 고급(딥러닝 이해하기) 등 3개 과정 중 1개 과정을 선택 후 원하는 날짜와 시간에 과학관을 방문(최대 3회)해 체험교육을... ',\n",
       "   'pubDate': 'Tue, 09 Jun 2020 11:04:00 +0900'},\n",
       "  {'title': '[MODU 학셔너리] 문헌정보학과(Library and Information Science)',\n",
       "   'originallink': 'http://www.hani.co.kr/arti/society/schooling/948527.html',\n",
       "   'link': 'https://news.naver.com/main/read.nhn?mode=LSD&mid=sec&sid1=102&oid=028&aid=0002500412',\n",
       "   'description': '실습실 컴퓨터로 수업을 듣기 때문에 <b>파이썬</b>, SQL 등 파일을 USB에 체계적으로 정리해둬야 효과적으로 복습할 수 있지. # 백희나 작가 | ‘아동문학계의 노벨상’으로 불리는 아스트리드 린드그렌 상을 수상한 백희나... ',\n",
       "   'pubDate': 'Tue, 09 Jun 2020 10:54:00 +0900'},\n",
       "  {'title': '위시켓, ‘MZ세대 IT 프리랜서 현황’ 발표',\n",
       "   'originallink': 'https://platum.kr/archives/142726',\n",
       "   'link': 'https://platum.kr/archives/142726',\n",
       "   'description': '6위 <b>파이썬</b> 순으로 위시켓 전체 보유 기술 순위와 유사했으나, Z세대의 데이터만 확인했을 때 1위 <b>파이썬</b>, 2위 JavaScript, 3위 Java, 4위 C/C++, 5위 PHP로 PYPL(PopularitY of Programming Language, 구글에 자주 검색되는 언어... ',\n",
       "   'pubDate': 'Tue, 09 Jun 2020 09:28:00 +0900'},\n",
       "  {'title': '딥러닝 머신러닝 위한 <b>파이썬</b> 넘파이',\n",
       "   'originallink': 'http://www.upinews.kr/newsView/upi202006080054',\n",
       "   'link': 'http://www.upinews.kr/newsView/upi202006080054',\n",
       "   'description': '수학 및 과학 연산을 위한 <b>파이썬</b>(Python) 패키지 넘파이 모듈(Numpy module)은 인공지능의 기초다. <b>파이썬</b>으로 데이터 분석, 통계 관련 기능을 구현할 때 넘파이는 가장 기본이 되는 모듈이다. 그만큼 넘파이는 데이터... ',\n",
       "   'pubDate': 'Mon, 08 Jun 2020 19:44:00 +0900'},\n",
       "  {'title': '국립중앙과학관, 초∙중학생 대상 신규 AI 체험교육 본격 착수',\n",
       "   'originallink': 'http://digitalchosun.dizzo.com/site/data/html_dir/2020/06/08/2020060880191.html',\n",
       "   'link': 'http://digitalchosun.dizzo.com/site/data/html_dir/2020/06/08/2020060880191.html',\n",
       "   'description': '*과학관 AI 자문단 : <b>파이썬</b> 등 프로그래밍 언어, 인공지능관련 수학, 오픈소스 H/W 활용 등 자문을 위해... 각 동아리는 초급(블록으로 AI 스피커 만들기), 중급(<b>파이썬</b>으로 AI 스피커 만들기), 고급(딥러닝 이해하기) 등 3개... ',\n",
       "   'pubDate': 'Mon, 08 Jun 2020 16:48:00 +0900'},\n",
       "  {'title': '국립중앙과학관, 인공지능(AI) 통한 체험 교육 마련',\n",
       "   'originallink': 'http://www.mrepublic.co.kr/news/articleView.html?idxno=47485',\n",
       "   'link': 'http://www.mrepublic.co.kr/news/articleView.html?idxno=47485',\n",
       "   'description': '각 동아리는 초급(블록으로 인공지능 스피커 만들기), 중급(<b>파이썬</b>으로 인공지능 스피커 만들기), 고급(딥러닝 이해하기) 등 3개 과정 중 1개 과정을 선택 후 원하는 날짜와 시간에 과학관을 방문(최대 3회)하여 체험교육을... ',\n",
       "   'pubDate': 'Mon, 08 Jun 2020 15:26:00 +0900'}]}"
      ]
     },
     "execution_count": 14,
     "metadata": {},
     "output_type": "execute_result"
    }
   ],
   "source": [
    "client_id = \"Cu_DbXmzUvA5GQoVwtnG\"\n",
    "client_secret = \"qUeRsSEWAf\"\n",
    "url = 'https://openapi.naver.com/v1/search/news.json'\n",
    "params = {'query': '파이썬', 'display': '10', 'start': '1', 'sort': 'date'}\n",
    "headers = {'X-Naver-Client-Id': client_id, 'X-Naver-Client-Secret': client_secret}\n",
    "resp = requests.get(url, headers=headers, params=params)\n",
    "resp.json()"
   ]
  }
 ],
 "metadata": {
  "kernelspec": {
   "display_name": "Python 3",
   "language": "python",
   "name": "python3"
  },
  "language_info": {
   "codemirror_mode": {
    "name": "ipython",
    "version": 3
   },
   "file_extension": ".py",
   "mimetype": "text/x-python",
   "name": "python",
   "nbconvert_exporter": "python",
   "pygments_lexer": "ipython3",
   "version": "3.7.7"
  }
 },
 "nbformat": 4,
 "nbformat_minor": 4
}
