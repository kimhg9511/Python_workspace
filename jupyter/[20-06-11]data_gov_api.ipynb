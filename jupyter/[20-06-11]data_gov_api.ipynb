{
 "cells": [
  {
   "cell_type": "markdown",
   "metadata": {},
   "source": [
    "# 제목"
   ]
  },
  {
   "cell_type": "markdown",
   "metadata": {},
   "source": [
    "# module import"
   ]
  },
  {
   "cell_type": "code",
   "execution_count": 1,
   "metadata": {},
   "outputs": [],
   "source": [
    "import requests\n",
    "from bs4 import BeautifulSoup as bs\n",
    "import os\n",
    "import sys\n",
    "import datetime\n",
    "import time\n",
    "import matplotlib.pyplot as plt\n",
    "import matplotlib\n",
    "from matplotlib import font_manager, rc\n",
    "import json"
   ]
  },
  {
   "cell_type": "markdown",
   "metadata": {},
   "source": [
    "# 데이터 가져오기 - 샘플 작성"
   ]
  },
  {
   "cell_type": "code",
   "execution_count": 54,
   "metadata": {},
   "outputs": [
    {
     "data": {
      "text/plain": [
       "{'header': {'responseTime': '2020-06-11T15:51:44.035+09:00',\n",
       "  'resultCode': 30,\n",
       "  'resultMsg': 'SERVICE KEY IS NOT REGISTERED ERROR.'}}"
      ]
     },
     "execution_count": 54,
     "metadata": {},
     "output_type": "execute_result"
    }
   ],
   "source": [
    "url = 'http://openapi.tour.go.kr/openapi/service'\n",
    "url_svc = '/EdrcntTourismStatsService'\n",
    "url_op = '/getEdrcntTourismStatsList'\n",
    "# params = 'serviceKey=o4EJOmBnIoliaZ7hRZFIVr4NBjEBURrIeDwRHE9Qj3jqo4K1ZfDkuKHjsOCI%2BpBHRFMkc35YpP94rjF3QussRg%3D%3D&YM=201201&NAT_CD=112&ED_CD=D&'\n",
    "# params = list(map(lambda i: i.split('='),params.rstrip('&').split('&')))\n",
    "# params = {k: v for k, v in params}\n",
    "# api_key = params['serviceKey']\n",
    "# api_key = requests.utils.unquote(api_key)\n",
    "yyyymm = '202004'\n",
    "#중국: 112 / 일본: 130 / 미국: 275\n",
    "national_code = '112'\n",
    "ed_cd = 'E'\n",
    "params = {}\n",
    "params['_type'] = 'json'\n",
    "params['serviceKey'] = requests.utils.unquote('o4EJOmBnIoliaZ7hRZFIVr4NBjEBURrIeDwRHE9Qj3jqo4K1ZfDkuKHjsOCI%2BpBHRFMkc35YpP94rjF3QussRg%3D%3D')\n",
    "params['YM'] = yyyymm\n",
    "params['NAT_CD'] = national_code\n",
    "params['ED_CD'] = ed_cd\n",
    "resp = requests.get(url+url_svc+url_op, params=params)\n",
    "resp.json()['response']"
   ]
  },
  {
   "cell_type": "markdown",
   "metadata": {},
   "source": [
    "# 데이터 가져오기 - 함수\n",
    "## 필요 정보\n",
    "### 하루 최대 요청 수는 1000회"
   ]
  },
  {
   "cell_type": "code",
   "execution_count": 4,
   "metadata": {},
   "outputs": [],
   "source": [
    "def get_resp(yyyymm='201201', nat_cd='112', ed_cd='E'):\n",
    "    url = 'http://openapi.tour.go.kr/openapi/service'\n",
    "    url_svc = '/EdrcntTourismStatsService'\n",
    "    url_op = '/getEdrcntTourismStatsList'\n",
    "    params = {\n",
    "        '_type': 'json',\n",
    "        'serviceKey': requests.utils.unquote('vA%2FvXt3OmfgwIKfVMffi7jcAs%2FRrpoSxeD3rBpOk%2FK7JCg1hgjL7NORf7A6REPB6dYxD35veCxGxSc%2FhnXVx8Q%3D%3D'),\n",
    "        'YM': yyyymm,\n",
    "        'NAT_CD': nat_cd,\n",
    "        'ED_CD': ed_cd\n",
    "    }\n",
    "    resp = requests.get(url+url_svc+url_op, params=params)\n",
    "    if resp.status_code == 200:\n",
    "#         print(f'{datetime.datetime.now()} Url Request Success')\n",
    "        return resp.json()\n",
    "    else:\n",
    "        return None"
   ]
  },
  {
   "cell_type": "markdown",
   "metadata": {},
   "source": [
    "# 함수 테스트"
   ]
  },
  {
   "cell_type": "code",
   "execution_count": 55,
   "metadata": {},
   "outputs": [
    {
     "data": {
      "text/plain": [
       "{'response': {'header': {'responseTime': '2020-06-11T15:51:48.379+09:00',\n",
       "   'resultCode': 22,\n",
       "   'resultMsg': 'LIMITED NUMBER OF SERVICE REQUESTS EXCEEDS ERROR.'}}}"
      ]
     },
     "execution_count": 55,
     "metadata": {},
     "output_type": "execute_result"
    }
   ],
   "source": [
    "get_resp(202004,275)"
   ]
  },
  {
   "cell_type": "markdown",
   "metadata": {},
   "source": [
    "# 반복문으로 데이터 받아오기(540회)"
   ]
  },
  {
   "cell_type": "code",
   "execution_count": 117,
   "metadata": {},
   "outputs": [],
   "source": [
    "json_rs = {}\n",
    "nat_code_dict = {'미국': 275, '중국': 112, '일본': 130}\n",
    "start_year = 2005\n",
    "end_year = 2019\n",
    "for nation, nat_cd in nat_code_dict.items():\n",
    "    json_rs[nation] = []\n",
    "    for year in range(start_year, end_year):\n",
    "        for month in range(1, 13):\n",
    "            yyyymm = '%4d%02d' % (year,month)\n",
    "            resp = get_resp(yyyymm,nat_cd)\n",
    "            if resp['response']['header']['resultMsg'] == 'OK':\n",
    "                num = resp['response']['body']['items']['item']['num']\n",
    "                item = {\n",
    "                    'nation': nation,\n",
    "                    'nat_cd': nat_cd,\n",
    "                    'yyyymm': yyyymm,\n",
    "                    'visit_cnt': num\n",
    "                }\n",
    "#                 print(item)\n",
    "                json_rs[nation].append(item)"
   ]
  },
  {
   "cell_type": "markdown",
   "metadata": {},
   "source": [
    "# json 파일로 저장"
   ]
  },
  {
   "cell_type": "code",
   "execution_count": 8,
   "metadata": {},
   "outputs": [],
   "source": [
    "now = '20200611'\n",
    "fn = '해외방문객정보_%8s.json' % now\n",
    "with open(fn, 'w', encoding='utf-8') as outfile:\n",
    "    retJson = json.dumps(json_rs, indent=4, sort_keys=True, ensure_ascii=False)\n",
    "    outfile.write(retJson)"
   ]
  },
  {
   "cell_type": "code",
   "execution_count": 65,
   "metadata": {},
   "outputs": [
    {
     "data": {
      "text/plain": [
       "[0, 12, 24, 36, 48, 60, 72, 84, 96, 108, 120, 132, 144, 156, 168]"
      ]
     },
     "execution_count": 65,
     "metadata": {},
     "output_type": "execute_result"
    }
   ],
   "source": [
    "json_rs = {}\n",
    "with open('해외방문객정보.json', encoding='UTF-8') as file:\n",
    "    json_rs = json.loads(file.read())\n",
    "indexVisit = [i for i in range(len(json_rs))]\n",
    "indexYear = [i*12 for i in range(int(len(json_rs) / 12))]\n",
    "visitYM = [''.join(i['yyyymm'][0:4]) for i in json_rs]\n",
    "cnVisit = [i['visit_cnt'] for i in json_rs]\n",
    "visitY = list(map(int, set(visitYM)))\n",
    "visitY.sort()\n",
    "indexX"
   ]
  },
  {
   "cell_type": "code",
   "execution_count": 75,
   "metadata": {},
   "outputs": [
    {
     "data": {
      "image/png": "[encoded data removed]",
      "text/plain": [
       "<Figure size 432x288 with 1 Axes>"
      ]
     },
     "metadata": {
      "needs_background": "light"
     },
     "output_type": "display_data"
    }
   ],
   "source": [
    "font_location = 'c:/Windows/fonts/malgun.ttf'\n",
    "font_name = font_manager.FontProperties(fname=font_location).get_name()\n",
    "matplotlib.rc('font', family=font_name)\n",
    "plt.xticks(indexYear, visitY)\n",
    "plt.plot(indexVisit, cnVisit, label='중국')\n",
    "plt.legend(loc=2)\n",
    "# plt.plot(indexVisit, list(map(lambda i:int(i)+10000,cnVisit)))\n",
    "plt.xlabel('방문년도')\n",
    "plt.ylabel('방문객수')\n",
    "plt.grid(True)\n",
    "plt.show()"
   ]
  },
  {
   "cell_type": "code",
   "execution_count": null,
   "metadata": {},
   "outputs": [],
   "source": []
  }
 ],
 "metadata": {
  "kernelspec": {
   "display_name": "Python 3",
   "language": "python",
   "name": "python3"
  },
  "language_info": {
   "codemirror_mode": {
    "name": "ipython",
    "version": 3
   },
   "file_extension": ".py",
   "mimetype": "text/x-python",
   "name": "python",
   "nbconvert_exporter": "python",
   "pygments_lexer": "ipython3",
   "version": "3.7.7"
  }
 },
 "nbformat": 4,
 "nbformat_minor": 4
}
