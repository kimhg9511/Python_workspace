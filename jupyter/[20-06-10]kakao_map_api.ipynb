{
 "cells": [
  {
   "cell_type": "code",
   "execution_count": 47,
   "metadata": {},
   "outputs": [],
   "source": [
    "# pip install folium\n",
    "# ! pip list"
   ]
  },
  {
   "cell_type": "code",
   "execution_count": 2,
   "metadata": {},
   "outputs": [],
   "source": [
    "import requests\n",
    "import folium"
   ]
  },
  {
   "cell_type": "code",
   "execution_count": 9,
   "metadata": {},
   "outputs": [
    {
     "data": {
      "text/plain": [
       "True"
      ]
     },
     "execution_count": 9,
     "metadata": {},
     "output_type": "execute_result"
    }
   ],
   "source": [
    "addr = '종로구 당주동 5 로얄빌딩 지하 1층'\n",
    "app_key = 'KakaoAK' + ' 78106cafe4d656639f171b177dda611f'\n",
    "url = 'https://dapi.kakao.com/v2/local/search/address.json'\n",
    "params = {\n",
    "    'query': addr,\n",
    "    'page': '',\n",
    "    'AddressSize': ''\n",
    "}\n",
    "headers  = {\n",
    "    'Authorization': app_key\n",
    "}\n",
    "resp = requests.get(url, params=params, headers=headers)\n",
    "if resp.json()['documents'] != []:\n",
    "#     resp.status_code == 200:\n",
    "        \n",
    "    # 지도 위치 받아왔을때\n",
    "else\n",
    "    # 안받아왔을때\n",
    "    "
   ]
  },
  {
   "cell_type": "code",
   "execution_count": 50,
   "metadata": {},
   "outputs": [],
   "source": [
    "def getLatLng(addr):\n",
    "#     addr = '서울특별시 구로구 디지털로 306'\n",
    "    app_key = 'KakaoAK' + ' 78106cafe4d656639f171b177dda611f'\n",
    "    url = 'https://dapi.kakao.com/v2/local/search/address.json'\n",
    "    params = {\n",
    "        'query': addr,\n",
    "        'page': '',\n",
    "        'AddressSize': ''\n",
    "    }\n",
    "    headers  = {\n",
    "        'Authorization': app_key\n",
    "    }\n",
    "    resp = requests.get(url, params=params, headers=headers)\n",
    "    if resp.status_code == 200:\n",
    "        json = resp.json()['documents'][0]\n",
    "        return (json['x'], json['y'])\n",
    "    else:\n",
    "        print('수신 실패')\n",
    "        return (0, 0)"
   ]
  },
  {
   "cell_type": "code",
   "execution_count": 67,
   "metadata": {},
   "outputs": [
    {
     "data": {
      "text/plain": [
       "('126.897336395657', '37.4859231683292')"
      ]
     },
     "execution_count": 67,
     "metadata": {},
     "output_type": "execute_result"
    }
   ],
   "source": [
    "x, y = getLatLng('서울특별시 구로구 디지털로 306')\n",
    "x,y"
   ]
  },
  {
   "cell_type": "code",
   "execution_count": 69,
   "metadata": {},
   "outputs": [
    {
     "data": {
      "text/html": [
       "<div style=\"width:100%;\"><div style=\"position:relative;width:100%;height:0;padding-bottom:60%;\"><span style=\"color:#565656\">Make this Notebook Trusted to load map: File -> Trust Notebook</span><iframe src=\"about:blank\" style=\"position:absolute;width:100%;height:100%;left:0;top:0;border:none !important;\" data-html=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 onload=\"this.contentDocument.open();this.contentDocument.write(atob(this.getAttribute('data-html')));this.contentDocument.close();\" allowfullscreen webkitallowfullscreen mozallowfullscreen></iframe></div></div>"
      ],
      "text/plain": [
       "<folium.folium.Map at 0x1d34c40d188>"
      ]
     },
     "execution_count": 69,
     "metadata": {},
     "output_type": "execute_result"
    }
   ],
   "source": [
    "map_thej = folium.Map(location=(y,x), zoom_start=18)\n",
    "folium.Marker((y,x), popup='thejoeun').add_to(map_thej)\n",
    "folium.Icon(color='red', icon='info-sign').add_to(marker)\n",
    "folium.Marker(('126.974989040272', '37.5344088960778'), popup='thejoeun').add_to(map_thej)\n",
    "folium.Icon(color='red', icon='info-sign').add_to(marker)\n",
    "folium.Circle((y,x), popup='thejoeun', radius='50', color='#3311cc', fill_color='#3311cc').add_to(map_thej)\n",
    "\n",
    "map_thej"
   ]
  },
  {
   "cell_type": "code",
   "execution_count": 80,
   "metadata": {},
   "outputs": [
    {
     "data": {
      "text/plain": [
       "{'documents': [{'address': {'address_name': '서울 종로구 당주동 5',\n",
       "    'b_code': '1111011700',\n",
       "    'h_code': '1111053000',\n",
       "    'main_address_no': '5',\n",
       "    'mountain_yn': 'N',\n",
       "    'region_1depth_name': '서울',\n",
       "    'region_2depth_name': '종로구',\n",
       "    'region_3depth_h_name': '사직동',\n",
       "    'region_3depth_name': '당주동',\n",
       "    'sub_address_no': '',\n",
       "    'x': '126.974327965082',\n",
       "    'y': '37.5719883882772'},\n",
       "   'address_name': '서울 종로구 당주동 5',\n",
       "   'address_type': 'REGION_ADDR',\n",
       "   'road_address': {'address_name': '서울 종로구 새문안로5길 19',\n",
       "    'building_name': '로얄빌딩',\n",
       "    'main_building_no': '19',\n",
       "    'region_1depth_name': '서울',\n",
       "    'region_2depth_name': '종로구',\n",
       "    'region_3depth_name': '당주동',\n",
       "    'road_name': '새문안로5길',\n",
       "    'sub_building_no': '',\n",
       "    'underground_yn': 'N',\n",
       "    'x': '126.974293312227',\n",
       "    'y': '37.5720295562121',\n",
       "    'zone_no': '03173'},\n",
       "   'x': '126.974327965082',\n",
       "   'y': '37.5719883882772'}],\n",
       " 'meta': {'is_end': True, 'pageable_count': 1, 'total_count': 1}}"
      ]
     },
     "execution_count": 80,
     "metadata": {},
     "output_type": "execute_result"
    }
   ],
   "source": [
    "app_key = 'KakaoAK' + ' 78106cafe4d656639f171b177dda611f'\n",
    "url = 'https://dapi.kakao.com/v2/local/search/address.json'\n",
    "params = {\n",
    "    'query': addr,\n",
    "    'page': '',\n",
    "    'AddressSize': ''\n",
    "}\n",
    "headers  = {\n",
    "    'Authorization': app_key\n",
    "}\n",
    "resp = requests.get(url, params=params, headers=headers)\n",
    "resp.json()"
   ]
  }
 ],
 "metadata": {
  "kernelspec": {
   "display_name": "Python 3",
   "language": "python",
   "name": "python3"
  },
  "language_info": {
   "codemirror_mode": {
    "name": "ipython",
    "version": 3
   },
   "file_extension": ".py",
   "mimetype": "text/x-python",
   "name": "python",
   "nbconvert_exporter": "python",
   "pygments_lexer": "ipython3",
   "version": "3.7.7"
  }
 },
 "nbformat": 4,
 "nbformat_minor": 4
}
