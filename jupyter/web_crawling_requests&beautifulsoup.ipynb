{
 "cells": [
  {
   "cell_type": "code",
   "execution_count": 1,
   "metadata": {},
   "outputs": [],
   "source": [
    "# pip install bs4"
   ]
  },
  {
   "cell_type": "code",
   "execution_count": 2,
   "metadata": {},
   "outputs": [],
   "source": [
    "# import requests, bs4\n",
    "import requests as req\n",
    "from bs4 import BeautifulSoup as bs"
   ]
  },
  {
   "cell_type": "code",
   "execution_count": 6,
   "metadata": {},
   "outputs": [
    {
     "data": {
      "text/plain": [
       "200"
      ]
     },
     "execution_count": 6,
     "metadata": {},
     "output_type": "execute_result"
    }
   ],
   "source": [
    "# GET : params\n",
    "url = \"https://book.naver.com/search/search.nhn\"\n",
    "params = {'sm': 'sta_hty.book','sug': '','where': 'nexearch','query': \"파이썬\"}\n",
    "# requests.get()\n",
    "resp = req.get(url, params=params)\n",
    "# requests.status_code\n",
    "status_code = resp.status_code\n",
    "# requests.text\n",
    "text = resp.text\n",
    "status_code #, resp.text"
   ]
  },
  {
   "cell_type": "code",
   "execution_count": 4,
   "metadata": {},
   "outputs": [
    {
     "data": {
      "text/plain": [
       "200"
      ]
     },
     "execution_count": 4,
     "metadata": {},
     "output_type": "execute_result"
    }
   ],
   "source": [
    "# POST : data\n",
    "url = \"https://book.naver.com/search/search.nhn\"\n",
    "data = {'sm': 'sta_hty.book','sug': '','where': 'nexearch','query': \"파이썬\"}\n",
    "resp = req.get(url, data=data)\n",
    "status_code = resp.status_code\n",
    "text = resp.text\n",
    "status_code"
   ]
  },
  {
   "cell_type": "code",
   "execution_count": 80,
   "metadata": {},
   "outputs": [
    {
     "data": {
      "text/plain": [
       "200"
      ]
     },
     "execution_count": 80,
     "metadata": {},
     "output_type": "execute_result"
    }
   ],
   "source": [
    "url = \"https://book.naver.com/search/search.nhn\"\n",
    "data = {'sm': 'sta_hty.book','sug': '','where': 'nexearch','query': \"파이썬\"}\n",
    "header_info  = {'user-agent': 'Mozilla/5.0 (iPhone; CPU iPhone OS 13_2_3 like Mac OS X) AppleWebKit/605.1.15 (KHTML, like Gecko) Version/13.0.3 Mobile/15E148 Safari/604.1'}\n",
    "m_resp = req.get(url, headers=header_info, params=params)\n",
    "m_status_code = resp.status_code\n",
    "m_text = m_resp.text\n",
    "m_status_code"
   ]
  },
  {
   "cell_type": "code",
   "execution_count": 81,
   "metadata": {},
   "outputs": [
    {
     "data": {
      "text/plain": [
       "bs4.BeautifulSoup"
      ]
     },
     "execution_count": 81,
     "metadata": {},
     "output_type": "execute_result"
    }
   ],
   "source": [
    "# str -> bs4.BeautifulSoup\n",
    "soup = bs(text, 'html.parser')\n",
    "m_soup = bs(m_text, 'html.parser')\n",
    "type(soup)"
   ]
  },
  {
   "cell_type": "code",
   "execution_count": 8,
   "metadata": {},
   "outputs": [
    {
     "name": "stdout",
     "output_type": "stream",
     "text": [
      "<class 'bs4.element.NavigableString'> <class 'str'> <class 'str'>\n"
     ]
    },
    {
     "data": {
      "text/plain": [
       "<h3 class=\"blind\">전체 분야 메뉴</h3>"
      ]
     },
     "execution_count": 8,
     "metadata": {},
     "output_type": "execute_result"
    }
   ],
   "source": [
    "# obj.[tagname]\n",
    "title = soup.title\n",
    "print(type(title.string), type(title.text), type(title.get_text()))\n",
    "h3 = soup.h3\n",
    "h3"
   ]
  },
  {
   "cell_type": "code",
   "execution_count": 9,
   "metadata": {},
   "outputs": [
    {
     "data": {
      "text/plain": [
       "[<h3 class=\"blind\">전체 분야 메뉴</h3>, <h3 class=\"blind\">푸터</h3>]"
      ]
     },
     "execution_count": 9,
     "metadata": {},
     "output_type": "execute_result"
    }
   ],
   "source": [
    "# obj(tagname)\n",
    "title = soup('h3')\n",
    "title"
   ]
  },
  {
   "cell_type": "code",
   "execution_count": 10,
   "metadata": {},
   "outputs": [
    {
     "name": "stdout",
     "output_type": "stream",
     "text": [
      "<meta content=\"text/html; charset=utf-8\" http-equiv=\"Content-Type\"/>\n",
      "<meta content=\"IE=edge\" http-equiv=\"X-UA-Compatible\"/>\n",
      "<meta content=\"article\" property=\"og:type\"/>\n"
     ]
    }
   ],
   "source": [
    "# obj.find(tagname) - find one\n",
    "find_h3 = soup.find('h3')\n",
    "find_h3\n",
    "# obj.find_all(tagname{, limit=number}) - find all\n",
    "find_all_meta = soup.find_all('meta', limit=3)\n",
    "for i in find_all_meta:\n",
    "    print(i)"
   ]
  },
  {
   "cell_type": "code",
   "execution_count": 11,
   "metadata": {},
   "outputs": [
    {
     "data": {
      "text/plain": [
       "{'15028688': '혼자 공부하는 파이썬',\n",
       " '14921665': '파이썬',\n",
       " '14126163': '모두의 파이썬',\n",
       " '15052904': 'Do it! 점프 투 파이썬',\n",
       " '16238302': '파이썬 머신러닝 완벽 가이드',\n",
       " '15871779': '파이썬 for Beginner',\n",
       " '14922892': '머신 러닝 교과서 with 파이썬, 사이킷런, 텐서플로',\n",
       " '16318024': '생활코딩! 파이썬',\n",
       " '14820571': '모두의 데이터 분석 with 파이썬',\n",
       " '16241301': '파이썬과 리액트를 활용한 주식 자동 거래 시스템 구축(프로그래밍&프랙티스 시리즈 22)',\n",
       " '16324192': 'Do it! 첫 파이썬',\n",
       " '14623546': '파이썬으로 배우는 알고리즘 트레이딩',\n",
       " '14922211': '파이썬 라이브러리를 활용한 데이터 분석',\n",
       " '16276456': '실무자를 위한 파이썬 100제',\n",
       " '14645299': '파이썬 라이브러리를 활용한 머신러닝',\n",
       " '16237901': '이것이 데이터 분석이다 with 파이썬',\n",
       " '15987559': '데이터 분석 실무 with 파이썬',\n",
       " '16330711': '파이썬과 케라스를 이용한 딥러닝/강화학습 주식투자(개정판)(위키북스 데이터 사이언스 시리즈 55)',\n",
       " '14144026': '파이썬 코딩 도장',\n",
       " '15654623': '파이썬 웹프로그래밍 실전편'}"
      ]
     },
     "execution_count": 11,
     "metadata": {},
     "output_type": "execute_result"
    }
   ],
   "source": [
    "# obj.find_all(class_=[classname])\n",
    "find_all_class = soup.find_all(class_='thumb_type thumb_type2')\n",
    "book_address = [i.a.attrs['href'] for i in find_all_class]\n",
    "# save to list\n",
    "book_info_list = []\n",
    "# save to dictionary\n",
    "book_info_dict = {}\n",
    "for i in find_all_class:\n",
    "    title = i.img.attrs['alt']\n",
    "    bid = i.a.attrs['href'].split('=')[-1]\n",
    "    book_info_list.append((bid, title))\n",
    "    book_info_dict[bid] = title\n",
    "book_info_dict"
   ]
  },
  {
   "cell_type": "code",
   "execution_count": 79,
   "metadata": {},
   "outputs": [],
   "source": [
    "# obj.find(id=[id])\n",
    "find_id = soup.find(id='searchBiblioList')\n",
    "# find_id"
   ]
  },
  {
   "cell_type": "code",
   "execution_count": 13,
   "metadata": {},
   "outputs": [],
   "source": [
    "# obj,find(attrs={'attr':'value'})\n",
    "find_all_attrs_type = soup.find_all(attrs={'type':'책소개'})\n",
    "# find_all_attrs_type\n",
    "# for i in find_all_attrs_type:\n",
    "#     print(i.text)"
   ]
  },
  {
   "cell_type": "code",
   "execution_count": 95,
   "metadata": {},
   "outputs": [
    {
     "data": {
      "text/plain": [
       "'#ct'"
      ]
     },
     "execution_count": 95,
     "metadata": {},
     "output_type": "execute_result"
    }
   ],
   "source": [
    "# obj.select{_one}([css selector])\n",
    "book_group_datalab = list(map(lambda i: i.parent.parent, m_soup.select('a.datalab_btn')))\n",
    "book_aside = m_soup.select_one('#aside')\n",
    "book_href = m_soup.select_one('a')['href']\n",
    "book_href"
   ]
  }
 ],
 "metadata": {
  "kernelspec": {
   "display_name": "Python 3",
   "language": "python",
   "name": "python3"
  },
  "language_info": {
   "codemirror_mode": {
    "name": "ipython",
    "version": 3
   },
   "file_extension": ".py",
   "mimetype": "text/x-python",
   "name": "python",
   "nbconvert_exporter": "python",
   "pygments_lexer": "ipython3",
   "version": "3.7.7"
  }
 },
 "nbformat": 4,
 "nbformat_minor": 4
}
