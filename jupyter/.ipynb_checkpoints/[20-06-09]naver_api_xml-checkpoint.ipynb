{
 "cells": [
  {
   "cell_type": "code",
   "execution_count": 11,
   "metadata": {},
   "outputs": [],
   "source": [
    "import requests\n",
    "from bs4 import BeautifulSoup as bs"
   ]
  },
  {
   "cell_type": "code",
   "execution_count": null,
   "metadata": {},
   "outputs": [],
   "source": [
    "kinds = ['book','blog','news', 'shop']\n",
    "prompt = '''\n",
    "    1. Book Search\n",
    "    2. Blog Search\n",
    "    3. News Search\n",
    "    4. Shopping Search\n",
    "    5. Quit\n",
    "'''"
   ]
  },
  {
   "cell_type": "code",
   "execution_count": 12,
   "metadata": {},
   "outputs": [],
   "source": [
    "def naver_search_xml(number, query, display, start, sort): #, dtype\n",
    "#     types = ['xml', 'json']\n",
    "    client_id = \"Cu_DbXmzUvA5GQoVwtnG\"\n",
    "    client_secret = \"qUeRsSEWAf\"\n",
    "    url = f'https://openapi.naver.com/v1/search/{kinds[int(number)-1]}.xml' # {types[int(dtype)-1]}\n",
    "    params = {'query': query, 'display': display, 'start': start, 'sort': sort}\n",
    "    headers = {'X-Naver-Client-Id': client_id, 'X-Naver-Client-Secret': client_secret}\n",
    "    resp = requests.get(url, headers=headers, params=params)\n",
    "    if resp.status_code == 200:\n",
    "        return [resp.text, resp.status_code]\n",
    "    else:\n",
    "        return ['잘못된 요청입니다.', resp.status_code]"
   ]
  },
  {
   "cell_type": "code",
   "execution_count": 13,
   "metadata": {},
   "outputs": [],
   "source": [
    "def get_book_list(resp):\n",
    "    soup = bs(resp)\n",
    "    title_list = list(map(lambda i:i.text.replace('<b>','').replace('</b>',''), soup.select('item>title')))\n",
    "    price_list = list(map(lambda i:i.text, soup.select('item>price')))\n",
    "    discount_list = list(map(lambda i:i.text, soup.select('item>discount')))\n",
    "    book_list = [(t, p, d) for t, p, d in zip(title_list, price_list, discount_list)]\n",
    "    return book_list"
   ]
  },
  {
   "cell_type": "code",
   "execution_count": 14,
   "metadata": {},
   "outputs": [],
   "source": [
    "def get_blog_list(resp):\n",
    "    soup = bs(resp)\n",
    "    title_list = list(map(lambda i:i.text.replace('<b>','').replace('</b>',''), soup.select('item>title')))\n",
    "    name_list = list(map(lambda i:i.text, soup.select('item>bloggername')))\n",
    "    link_list = list(map(lambda i:i.text, soup.select('item>bloggerlink')))\n",
    "    blog_list = [(t, n, l) for t, n, l in zip(title_list, name_list, link_list)]\n",
    "    return blog_list"
   ]
  },
  {
   "cell_type": "code",
   "execution_count": 15,
   "metadata": {},
   "outputs": [],
   "source": [
    "def get_news_list(resp):\n",
    "    soup = bs(resp)\n",
    "    title_list = list(map(lambda i:i.text.replace('<b>','').replace('</b>',''), soup.select('item>title')))\n",
    "    olink_list = list(map(lambda i:i.text, soup.select('item>originallink')))\n",
    "    link_list = list(map(lambda i:i.next, soup.select('item>link')))\n",
    "    news_list = [(t, o, l) for t, o, l in zip(title_list, olink_list, link_list)]\n",
    "    return news_list"
   ]
  },
  {
   "cell_type": "code",
   "execution_count": 16,
   "metadata": {},
   "outputs": [],
   "source": [
    "def get_shop_list(resp):\n",
    "    soup = bs(resp)\n",
    "    title_list = list(map(lambda i:i.text.replace('<b>','').replace('</b>',''), soup.select('item>title')))\n",
    "    price_list = list(map(lambda i:i.text, soup.select('item>lprice')))\n",
    "    mall_list = list(map(lambda i:i.text, soup.select('item>mallname')))\n",
    "    shop_list = [(t, p, m) for t, p, m in zip(title_list, price_list, mall_list)]\n",
    "    return shop_list"
   ]
  },
  {
   "cell_type": "code",
   "execution_count": 19,
   "metadata": {},
   "outputs": [],
   "source": [
    "def app():\n",
    "#     prompt2 = '''\n",
    "#         데이터 출력 선택\n",
    "#         1. xml\n",
    "#         2. json\n",
    "#     '''\n",
    "    number = 0\n",
    "    while True:\n",
    "\n",
    "        print(prompt)\n",
    "        number = input()\n",
    "        if number == '5':\n",
    "            print('종료')\n",
    "            break\n",
    "        query = input('검색어를 넣으세요 >')\n",
    "#         dtype = input(prompt2)\n",
    "        display = 10\n",
    "        start = 1\n",
    "        sort = 'date'\n",
    "        resp = naver_search_xml(number, query, display, start, sort)# , dtype\n",
    "        if resp[1] == 200:\n",
    "            resp = resp[0]\n",
    "        else:\n",
    "            print(resp[0])\n",
    "            continue\n",
    "        list = []\n",
    "        if number == '1':\n",
    "            list = get_book_list(resp)\n",
    "        elif number == '2':\n",
    "            list = get_blog_list(resp)\n",
    "        elif number == '3':\n",
    "            list = get_news_list(resp)\n",
    "        elif number == '4':\n",
    "            list = get_shop_list(resp)\n",
    "        for i in range(len(list)):\n",
    "            print(f'*************************{i+1}*************************')\n",
    "            for item in list[i]:\n",
    "                print(item)"
   ]
  },
  {
   "cell_type": "code",
   "execution_count": null,
   "metadata": {
    "scrolled": true
   },
   "outputs": [
    {
     "name": "stdout",
     "output_type": "stream",
     "text": [
      "\n",
      "        1. Book Search\n",
      "        2. Blog Search\n",
      "        3. News Search\n",
      "        4. Shopping Search\n",
      "        5. Quit\n",
      "    \n",
      "1\n",
      "검색어를 넣으세요 >돈\n",
      "*************************0**********************\n",
      "나는 네이버스토어 마케팅으로 돈 번다 (스마트스토어 사업자에게 필요한 핵심 마케팅 실전 노하우)\n",
      "17000\n",
      "15300\n",
      "*************************1**********************\n",
      "무역으로 돈을 벌 수 있는 7가지 방법 (실전에 강한 무역창업)\n",
      "17000\n",
      "15300\n",
      "*************************2**********************\n",
      "돈의 속성 (최상위 부자가 말하는 돈에 대한 모든 것)\n",
      "16800\n",
      "15120\n",
      "*************************3**********************\n",
      "해빙 노트 (Having Note) (돈과 행운, 평안을 함께 누리는 시간!)\n",
      "14800\n",
      "13320\n",
      "*************************4**********************\n",
      "게으르지만 콘텐츠로 돈은 잘 법니다 (자본없이 콘텐츠로 10억 번 게으른 고수의 성공 비결)\n",
      "15000\n",
      "13500\n",
      "*************************5**********************\n",
      "돈워리스쿨 (‘월급 200만 원’ 받는 이들을 위한 돈 되는 수업)\n",
      "16000\n",
      "14400\n",
      "*************************6**********************\n",
      "돈의 왕 [독점]\n",
      "300\n",
      "300\n",
      "*************************7**********************\n",
      "예화포커스 12 물질, 돈\n",
      "2000\n",
      "\n",
      "*************************8**********************\n",
      "요즘 애들을 위한슬기로운 재테크 생활 (밀레니얼의 돈 관리 가이드)\n",
      "15000\n",
      "13500\n",
      "*************************9**********************\n",
      "나는 잘 살고 싶어 나누기로 했다(아름다운 나눔인문학(경제편) 2) (일, 돈, 사람, 공동체가 보이는 나눔과 삶의 경제)\n",
      "16000\n",
      "14400\n",
      "\n",
      "        1. Book Search\n",
      "        2. Blog Search\n",
      "        3. News Search\n",
      "        4. Shopping Search\n",
      "        5. Quit\n",
      "    \n"
     ]
    }
   ],
   "source": [
    "app()"
   ]
  },
  {
   "cell_type": "code",
   "execution_count": 130,
   "metadata": {},
   "outputs": [],
   "source": [
    "resp = naver_search_xml(3, 'bigdata', display, start, sort)# , dtype\n",
    "soup = bs(resp[0])\n",
    "title_list = list(map(lambda i:i.text.replace('<b>','').replace('</b>',''), soup.select('item>title')))\n",
    "olink_list = list(map(lambda i:i.text, soup.select('item>originallink')))\n",
    "link_list = list(map(lambda i:i.text, soup.select('item')))\n",
    "news_list = [(t, o, l) for t, o, l in zip(title_list, olink_list, link_list)]\n",
    "sel = soup.select_one('item>link')"
   ]
  },
  {
   "cell_type": "code",
   "execution_count": 134,
   "metadata": {},
   "outputs": [
    {
     "name": "stdout",
     "output_type": "stream",
     "text": [
      "<originallink>http://www.gpkorea.com/news/articleView.html?idxno=64851</originallink>\n"
     ]
    }
   ],
   "source": [
    "print(sel.)"
   ]
  }
 ],
 "metadata": {
  "kernelspec": {
   "display_name": "Python 3",
   "language": "python",
   "name": "python3"
  },
  "language_info": {
   "codemirror_mode": {
    "name": "ipython",
    "version": 3
   },
   "file_extension": ".py",
   "mimetype": "text/x-python",
   "name": "python",
   "nbconvert_exporter": "python",
   "pygments_lexer": "ipython3",
   "version": "3.7.7"
  }
 },
 "nbformat": 4,
 "nbformat_minor": 4
}
