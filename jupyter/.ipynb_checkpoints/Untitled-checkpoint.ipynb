{
 "cells": [
  {
   "cell_type": "code",
   "execution_count": 1,
   "metadata": {},
   "outputs": [],
   "source": [
    "import requests\n",
    "from bs4 import BeautifulSoup as bs"
   ]
  },
  {
   "cell_type": "code",
   "execution_count": 17,
   "metadata": {},
   "outputs": [],
   "source": [
    "# url = 'http://marketdata.krx.co.kr/mdi#document=050101'\n",
    "url = 'http://marketdata.krx.co.kr/contents/MKD/05/0505/MKD05050000.jsp'\n",
    "resp = requests.get(url)\n"
   ]
  },
  {
   "cell_type": "code",
   "execution_count": 18,
   "metadata": {},
   "outputs": [],
   "source": [
    "soup = bs(resp.text)"
   ]
  },
  {
   "cell_type": "code",
   "execution_count": 25,
   "metadata": {
    "scrolled": true
   },
   "outputs": [
    {
     "data": {
      "text/plain": [
       "'/contents/MKD/99/MKD99000001.jspx'"
      ]
     },
     "execution_count": 25,
     "metadata": {},
     "output_type": "execute_result"
    }
   ],
   "source": [
    "soup.select_one('form')['action']"
   ]
  },
  {
   "cell_type": "code",
   "execution_count": 32,
   "metadata": {},
   "outputs": [],
   "source": [
    "url = 'http://marketdata.krx.co.kr/contents/COM/FinderBndOrdIsu.jsp'\n",
    "params = {\n",
    "    'inputId' : 'isu_cdnm7eabe3a1649ffa2b3ff8c02ebfd5659f',\n",
    "    'hidCodeId' : 'isu_cd7eabe3a1649ffa2b3ff8c02ebfd5659f',\n",
    "    'hidShotCodeId' : 'isu_srt_cd7eabe3a1649ffa2b3ff8c02ebfd5659f',\n",
    "    'hidNameId' : 'iss_inst_nm7eabe3a1649ffa2b3ff8c02ebfd5659f',\n",
    "    'marketTp' : 'ALL',\n",
    "    'no' : 'P10',\n",
    "    'schWord' : ''\n",
    "}\n",
    "resp = requests.get(url)\n"
   ]
  },
  {
   "cell_type": "code",
   "execution_count": 35,
   "metadata": {},
   "outputs": [
    {
     "data": {
      "text/plain": [
       "'<!DOCTYPE html>\\r\\n<html lang=\"ko\">\\r\\n<head>\\r\\n<title>403 Page</title>\\r\\n<style type=\"text/css\">\\r\\n.wrap {\\r\\n\\tdisplay: table;\\r\\n\\tmargin: 0 auto;\\r\\n\\theight: 700px;\\r\\n}\\r\\n.wrap div {\\r\\n\\tdisplay: table-cell;\\r\\n\\ttext-align: center;\\r\\n\\tvertical-align: middle;\\r\\n}\\r\\n.span1 {\\r\\n\\tfont-size:140px;\\r\\n\\tfont-weight: bold;\\r\\n}\\r\\n.span2 {\\r\\n\\tfont-size:70px;\\r\\n\\tfont-weight: bold;\\r\\n}\\r\\n.span3 {\\r\\n\\tfont-size:50px;\\r\\n}\\r\\n</style>\\r\\n</head>\\r\\n<body>\\r\\n<div class=\"wrap\">\\r\\n\\t<div><span class=\"span1\">403</span><br/><br/><span class=\"span2\">Forbidden</span><br/><span class=\"span3\">Access to this resource on the server is denied!</span></div>\\r\\n</div>\\r\\n</body>\\r\\n</html>'"
      ]
     },
     "execution_count": 35,
     "metadata": {},
     "output_type": "execute_result"
    }
   ],
   "source": [
    "resp.text"
   ]
  },
  {
   "cell_type": "code",
   "execution_count": null,
   "metadata": {},
   "outputs": [],
   "source": []
  }
 ],
 "metadata": {
  "kernelspec": {
   "display_name": "Python 3",
   "language": "python",
   "name": "python3"
  },
  "language_info": {
   "codemirror_mode": {
    "name": "ipython",
    "version": 3
   },
   "file_extension": ".py",
   "mimetype": "text/x-python",
   "name": "python",
   "nbconvert_exporter": "python",
   "pygments_lexer": "ipython3",
   "version": "3.7.7"
  }
 },
 "nbformat": 4,
 "nbformat_minor": 4
}
