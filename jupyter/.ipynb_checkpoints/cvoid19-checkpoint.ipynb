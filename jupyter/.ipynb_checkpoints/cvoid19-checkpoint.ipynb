{
 "cells": [
  {
   "cell_type": "code",
   "execution_count": 18,
   "metadata": {},
   "outputs": [
    {
     "data": {
      "text/plain": [
       "['18명', '7명', '11명']"
      ]
     },
     "execution_count": 18,
     "metadata": {},
     "output_type": "execute_result"
    }
   ],
   "source": [
    "import requests\n",
    "from bs4 import BeautifulSoup as bs\n",
    "\n",
    "url = 'https://www.ansan.go.kr/DATA/preview/corona/coronaPage.html'\n",
    "req = requests.get(url)\n",
    "soup = bs(req.text, 'html.parser')\n",
    "ansan_tr = soup.select('table.pop_in_tbl tr')\n",
    "occured_person = []\n",
    "under_treatment = []\n",
    "cured_person = []\n",
    "for span in ansan_tr:\n",
    "    person = span.select('span.cnt')\n",
    "#     print(person)\n",
    "    if person != []:\n",
    "        occured_person.append(person[0].text)\n",
    "        under_treatment.append(person[1].text)\n",
    "        cured_person.append(person[2].text)\n",
    "occured_person"
   ]
  },
  {
   "cell_type": "code",
   "execution_count": null,
   "metadata": {},
   "outputs": [],
   "source": []
  }
 ],
 "metadata": {
  "kernelspec": {
   "display_name": "Python 3",
   "language": "python",
   "name": "python3"
  },
  "language_info": {
   "codemirror_mode": {
    "name": "ipython",
    "version": 3
   },
   "file_extension": ".py",
   "mimetype": "text/x-python",
   "name": "python",
   "nbconvert_exporter": "python",
   "pygments_lexer": "ipython3",
   "version": "3.7.7"
  }
 },
 "nbformat": 4,
 "nbformat_minor": 4
}
