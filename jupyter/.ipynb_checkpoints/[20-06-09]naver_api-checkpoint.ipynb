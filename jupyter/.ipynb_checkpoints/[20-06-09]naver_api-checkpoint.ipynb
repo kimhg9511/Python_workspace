{
 "cells": [
  {
   "cell_type": "code",
   "execution_count": 1,
   "metadata": {},
   "outputs": [],
   "source": [
    "import os\n",
    "import sys\n",
    "import requests\n",
    "import datetime\n",
    "import time"
   ]
  },
  {
   "cell_type": "code",
   "execution_count": null,
   "metadata": {},
   "outputs": [],
   "source": [
    "# client_id = Cu_DbXmzUvA5GQoVwtnG\n",
    "# client_secret = qUeRsSEWAf"
   ]
  },
  {
   "cell_type": "code",
   "execution_count": 11,
   "metadata": {},
   "outputs": [
    {
     "data": {
      "text/plain": [
       "401"
      ]
     },
     "execution_count": 11,
     "metadata": {},
     "output_type": "execute_result"
    }
   ],
   "source": [
    "client_id = \"Cu_DbXmzUvA5GQoVwtnG\"\n",
    "client_secret = \"qUeRsSEWAf\"\n",
    "url = 'https://openapi.naver.com/v1/search/news.json'\n",
    "params = {'query': '파이썬', 'display': '10', 'start': '1', 'sort': 'date'}\n",
    "headers = {'X-Naver_Client_Id': client_id, 'X-Naver_Client_Secret': client_secret}\n",
    "resp = requests.get(url, headers=headers, params=params)\n",
    "resp.status_code"
   ]
  }
 ],
 "metadata": {
  "kernelspec": {
   "display_name": "Python 3",
   "language": "python",
   "name": "python3"
  },
  "language_info": {
   "codemirror_mode": {
    "name": "ipython",
    "version": 3
   },
   "file_extension": ".py",
   "mimetype": "text/x-python",
   "name": "python",
   "nbconvert_exporter": "python",
   "pygments_lexer": "ipython3",
   "version": "3.7.7"
  }
 },
 "nbformat": 4,
 "nbformat_minor": 4
}
