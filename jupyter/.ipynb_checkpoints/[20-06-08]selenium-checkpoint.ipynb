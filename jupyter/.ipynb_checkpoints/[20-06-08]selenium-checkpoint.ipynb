{
 "cells": [
  {
   "cell_type": "code",
   "execution_count": 3,
   "metadata": {},
   "outputs": [],
   "source": [
    "# pip install selenium"
   ]
  },
  {
   "cell_type": "code",
   "execution_count": 18,
   "metadata": {},
   "outputs": [],
   "source": [
    "from selenium import webdriver\n",
    "from selenium.webdriver.common.keys import Keys\n",
    "from selenium.webdriver.support.ui import WebDriverWait\n",
    "from selenium.webdriver.support import expected_conditions as EC\n",
    "from selenium.webdriver.common.by import By\n",
    "from bs4 import BeautifulSoup as bs \n",
    "import time "
   ]
  },
  {
   "cell_type": "code",
   "execution_count": 13,
   "metadata": {},
   "outputs": [],
   "source": [
    "# python.org search\n",
    "chrome_driver = 'D:/bigdata/Python_workspace/jupyter/chromedriver.exe'\n",
    "driver = webdriver.Chrome(chrome_driver)\n",
    "driver.get('https://www.python.org/')\n",
    "search = driver.find_element_by_id('id-search-field')\n",
    "time.sleep(2)\n",
    "search.clear()\n",
    "time.sleep(2)\n",
    "search.send_keys('lambda')\n",
    "time.sleep(2)\n",
    "search.send_keys(Keys.RETURN)\n",
    "time.sleep(2)\n",
    "driver.close()"
   ]
  },
  {
   "cell_type": "code",
   "execution_count": 23,
   "metadata": {},
   "outputs": [
    {
     "name": "stdout",
     "output_type": "stream",
     "text": [
      "2\n"
     ]
    }
   ],
   "source": [
    "chrome_driver = 'D:/bigdata/Python_workspace/jupyter/chromedriver.exe'\n",
    "driver = webdriver.Chrome(chrome_driver)\n",
    "driver.implicitly_wait(5)\n",
    "driver.get('https://news.v.daum.net/v/20200608154235258')\n",
    "src = driver.page_source\n",
    "soup = bs(src)\n",
    "comment_area  = soup.select_one('span.alex-count-area')\n",
    "print(comment_area.text)\n",
    "driver.close()"
   ]
  }
 ],
 "metadata": {
  "kernelspec": {
   "display_name": "Python 3",
   "language": "python",
   "name": "python3"
  },
  "language_info": {
   "codemirror_mode": {
    "name": "ipython",
    "version": 3
   },
   "file_extension": ".py",
   "mimetype": "text/x-python",
   "name": "python",
   "nbconvert_exporter": "python",
   "pygments_lexer": "ipython3",
   "version": "3.7.7"
  }
 },
 "nbformat": 4,
 "nbformat_minor": 4
}
