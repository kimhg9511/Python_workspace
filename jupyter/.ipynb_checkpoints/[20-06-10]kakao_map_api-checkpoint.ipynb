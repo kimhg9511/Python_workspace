{
 "cells": [
  {
   "cell_type": "code",
   "execution_count": 19,
   "metadata": {},
   "outputs": [
    {
     "name": "stdout",
     "output_type": "stream",
     "text": [
      "Package            Version            \n",
      "------------------ -------------------\n",
      "attrs              19.3.0             \n",
      "backcall           0.1.0              \n",
      "beautifulsoup4     4.9.1              \n",
      "bleach             3.1.4              \n",
      "branca             0.4.1              \n",
      "bs4                0.0.1              \n",
      "certifi            2020.4.5.1         \n",
      "chardet            3.0.4              \n",
      "colorama           0.4.3              \n",
      "decorator          4.4.2              \n",
      "defusedxml         0.6.0              \n",
      "entrypoints        0.3                \n",
      "finance-datareader 0.9.6              \n",
      "folium             0.11.0             \n",
      "idna               2.9                \n",
      "importlib-metadata 1.6.0              \n",
      "ipykernel          5.1.4              \n",
      "ipython            7.13.0             \n",
      "ipython-genutils   0.2.0              \n",
      "ipywidgets         7.5.1              \n",
      "jedi               0.17.0             \n",
      "Jinja2             2.11.2             \n",
      "jsonschema         3.2.0              \n",
      "jupyter            1.0.0              \n",
      "jupyter-client     6.1.3              \n",
      "jupyter-console    6.1.0              \n",
      "jupyter-core       4.6.3              \n",
      "lxml               4.5.1              \n",
      "MarkupSafe         1.1.1              \n",
      "mistune            0.8.4              \n",
      "mkl-fft            1.0.15             \n",
      "mkl-random         1.1.1              \n",
      "mkl-service        2.3.0              \n",
      "nbconvert          5.6.1              \n",
      "nbformat           5.0.6              \n",
      "notebook           6.0.3              \n",
      "numpy              1.18.4             \n",
      "pandas             1.0.4              \n",
      "pandocfilters      1.4.2              \n",
      "parso              0.7.0              \n",
      "pickleshare        0.7.5              \n",
      "pip                20.0.2             \n",
      "prometheus-client  0.7.1              \n",
      "prompt-toolkit     3.0.4              \n",
      "Pygments           2.6.1              \n",
      "pyrsistent         0.16.0             \n",
      "python-dateutil    2.8.1              \n",
      "pytz               2020.1             \n",
      "pywin32            227                \n",
      "pywinpty           0.5.7              \n",
      "pyzmq              18.1.1             \n",
      "qtconsole          4.7.4              \n",
      "QtPy               1.9.0              \n",
      "requests           2.23.0             \n",
      "requests-file      1.5.1              \n",
      "selenium           3.141.0            \n",
      "Send2Trash         1.5.0              \n",
      "setuptools         46.4.0.post20200518\n",
      "six                1.14.0             \n",
      "soupsieve          2.0.1              \n",
      "terminado          0.8.3              \n",
      "testpath           0.4.4              \n",
      "tornado            6.0.4              \n",
      "traitlets          4.3.3              \n",
      "urllib3            1.25.9             \n",
      "wcwidth            0.1.9              \n",
      "webencodings       0.5.1              \n",
      "wheel              0.34.2             \n",
      "widgetsnbextension 3.5.1              \n",
      "wincertstore       0.2                \n",
      "zipp               3.1.0              \n"
     ]
    }
   ],
   "source": [
    "# pip install folium\n",
    "# ! pip list"
   ]
  },
  {
   "cell_type": "code",
   "execution_count": 20,
   "metadata": {},
   "outputs": [],
   "source": [
    "import requests\n",
    "import folium"
   ]
  },
  {
   "cell_type": "code",
   "execution_count": 6,
   "metadata": {},
   "outputs": [],
   "source": [
    "addr = '서울특별시 구로구 디지털로 306'\n",
    "app_key = 'KakaoAK' + ' 78106cafe4d656639f171b177dda611f'\n",
    "url = 'https://dapi.kakao.com/v2/local/search/address.json'\n",
    "params = {\n",
    "    'query': addr,\n",
    "    'page': '',\n",
    "    'AddressSize': ''\n",
    "}\n",
    "headers  = {\n",
    "    'Authorization': app_key\n",
    "}\n",
    "resp = requests.get(url, params=params, headers=headers)\n",
    "# json = resp.json()['x']\n"
   ]
  },
  {
   "cell_type": "code",
   "execution_count": 7,
   "metadata": {},
   "outputs": [],
   "source": [
    "def getLatLng(addr):\n",
    "#     addr = '서울특별시 구로구 디지털로 306'\n",
    "    app_key = 'KakaoAK' + ' 78106cafe4d656639f171b177dda611f'\n",
    "    url = 'https://dapi.kakao.com/v2/local/search/address.json'\n",
    "    params = {\n",
    "        'query': addr,\n",
    "        'page': '',\n",
    "        'AddressSize': ''\n",
    "    }\n",
    "    headers  = {\n",
    "        'Authorization': app_key\n",
    "    }\n",
    "    resp = requests.get(url, params=params, headers=headers)\n",
    "    if resp.status_code == 200:\n",
    "        json = resp.json()['documents'][0]\n",
    "        return (json['x'], json['y'])\n",
    "    else:\n",
    "        print('수신 실패')\n",
    "        return (0, 0)"
   ]
  },
  {
   "cell_type": "code",
   "execution_count": 14,
   "metadata": {},
   "outputs": [
    {
     "name": "stdout",
     "output_type": "stream",
     "text": [
      "126.897336395657 37.4859231683292\n"
     ]
    }
   ],
   "source": [
    "x, y = getLatLng('서울특별시 구로구 디지털로 306')"
   ]
  },
  {
   "cell_type": "code",
   "execution_count": null,
   "metadata": {},
   "outputs": [],
   "source": []
  }
 ],
 "metadata": {
  "kernelspec": {
   "display_name": "Python 3",
   "language": "python",
   "name": "python3"
  },
  "language_info": {
   "codemirror_mode": {
    "name": "ipython",
    "version": 3
   },
   "file_extension": ".py",
   "mimetype": "text/x-python",
   "name": "python",
   "nbconvert_exporter": "python",
   "pygments_lexer": "ipython3",
   "version": "3.7.7"
  }
 },
 "nbformat": 4,
 "nbformat_minor": 4
}
