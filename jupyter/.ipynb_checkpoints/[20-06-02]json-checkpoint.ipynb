{
 "cells": [
  {
   "cell_type": "code",
   "execution_count": 101,
   "metadata": {},
   "outputs": [],
   "source": [
    "# pip install requests"
   ]
  },
  {
   "cell_type": "code",
   "execution_count": 98,
   "metadata": {},
   "outputs": [],
   "source": [
    "import requests"
   ]
  },
  {
   "cell_type": "code",
   "execution_count": 99,
   "metadata": {},
   "outputs": [
    {
     "name": "stdout",
     "output_type": "stream",
     "text": [
      "회차번호를 넣어주세요 : 913\n"
     ]
    }
   ],
   "source": [
    "url_lotto = \"https://www.dhlottery.co.kr/common.do?method=getLottoNumber&drwNo=\"\n",
    "input_num = input('회차번호를 넣어주세요 : ')\n",
    "# input_num = range(0,913)"
   ]
  },
  {
   "cell_type": "code",
   "execution_count": 100,
   "metadata": {},
   "outputs": [
    {
     "name": "stdout",
     "output_type": "stream",
     "text": [
      "[6, 14, 16, 21, 27, 37]\n"
     ]
    }
   ],
   "source": [
    "resp_lotto = requests.get(url_lotto + input_num)\n",
    "json_lotto = resp_lotto.json()\n",
    "list_lotto = []\n",
    "for k, v in json_lotto.items():\n",
    "    if k[:-1] == 'drwtNo':\n",
    "        list_lotto.append(v)\n",
    "sort_lotto = list(map(int, list_lotto))\n",
    "sort_lotto.sort()\n",
    "print(sort_lotto)\n"
   ]
  }
 ],
 "metadata": {
  "kernelspec": {
   "display_name": "Python 3",
   "language": "python",
   "name": "python3"
  },
  "language_info": {
   "codemirror_mode": {
    "name": "ipython",
    "version": 3
   },
   "file_extension": ".py",
   "mimetype": "text/x-python",
   "name": "python",
   "nbconvert_exporter": "python",
   "pygments_lexer": "ipython3",
   "version": "3.7.7"
  }
 },
 "nbformat": 4,
 "nbformat_minor": 4
}
