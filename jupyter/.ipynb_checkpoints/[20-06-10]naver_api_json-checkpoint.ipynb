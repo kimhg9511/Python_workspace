{
 "cells": [
  {
   "cell_type": "code",
   "execution_count": 2,
   "metadata": {},
   "outputs": [],
   "source": [
    "import requests\n",
    "from bs4 import BeautifulSoup as bs\n",
    "import re"
   ]
  },
  {
   "cell_type": "code",
   "execution_count": 42,
   "metadata": {},
   "outputs": [],
   "source": [
    "kinds = ['book','blog','news', 'shop']\n",
    "prompt = '''\n",
    "    1. Book Search\n",
    "    2. Blog Search\n",
    "    3. News Search\n",
    "    4. Shopping Search\n",
    "    5. Quit\n",
    "'''\n",
    "delstring = re.compile('<b>|</b>|&quot;|&amp')\n",
    "delete = re.sub(delstring,'','<b>apple</b>')"
   ]
  },
  {
   "cell_type": "code",
   "execution_count": 43,
   "metadata": {},
   "outputs": [],
   "source": [
    "def naver_search_xml(number, query, display, start, sort):\n",
    "    client_id = \"Cu_DbXmzUvA5GQoVwtnG\"\n",
    "    client_secret = \"qUeRsSEWAf\"\n",
    "    url = f'https://openapi.naver.com/v1/search/{kinds[int(number)-1]}.json'\n",
    "    params = {'query': query, 'display': display, 'start': start, 'sort': sort}\n",
    "    headers = {'X-Naver-Client-Id': client_id, 'X-Naver-Client-Secret': client_secret}\n",
    "    resp = requests.get(url, headers=headers, params=params)\n",
    "    if resp.status_code == 200:\n",
    "        return [resp, resp.status_code]\n",
    "    else:\n",
    "        return ['잘못된 요청입니다.', resp.status_code]"
   ]
  },
  {
   "cell_type": "code",
   "execution_count": 44,
   "metadata": {},
   "outputs": [],
   "source": [
    "def get_book_list(resp):\n",
    "    soup = resp.json()['items']\n",
    "    title_list = list(map(lambda i:re.sub(delstring,'',i['title']), soup))\n",
    "    price_list = list(map(lambda i:re.sub(delstring,'',i['price']), soup))\n",
    "    discount_list = list(map(lambda i:re.sub(delstring,'',i['discount']), soup))\n",
    "    book_list = [(t, p, d) for t, p, d in zip(title_list, price_list, discount_list)]\n",
    "    return book_list"
   ]
  },
  {
   "cell_type": "code",
   "execution_count": 45,
   "metadata": {},
   "outputs": [],
   "source": [
    "def get_blog_list(resp):\n",
    "    soup = resp.json()['items']\n",
    "    title_list = list(map(lambda i:re.sub(delstring,'',i['title']), soup))\n",
    "    name_list = list(map(lambda i:re.sub(delstring,'',i['bloggername']), soup))\n",
    "    link_list = list(map(lambda i:re.sub(delstring, '', i['bloggerlink']), soup))\n",
    "    blog_list = [(t, n, l) for t, n, l in zip(title_list, name_list, link_list)]\n",
    "    return blog_list"
   ]
  },
  {
   "cell_type": "code",
   "execution_count": 46,
   "metadata": {},
   "outputs": [],
   "source": [
    "def get_news_list(resp):\n",
    "    soup = resp.json()['items']\n",
    "    title_list = list(map(lambda i:re.sub(delstring, '', i['title']), soup))\n",
    "    olink_list = list(map(lambda i:re.sub(delstring, '', i['originallink']), soup))\n",
    "    link_list = list(map(lambda i:re.sub(delstring, '', i['link']), soup))\n",
    "    news_list = [(t, o, l) for t, o, l in zip(title_list, olink_list, link_list)]\n",
    "    return news_list"
   ]
  },
  {
   "cell_type": "code",
   "execution_count": 47,
   "metadata": {},
   "outputs": [],
   "source": [
    "def get_shop_list(resp):\n",
    "    soup = resp.json()['items']\n",
    "    title_list = list(map(lambda i:re.sub(delstring, '', i['title']), soup))\n",
    "    price_list = list(map(lambda i:re.sub(delstring, '', i['lprice']), soup))\n",
    "    mall_list = list(map(lambda i:re.sub(delstring, '', i['mallName']), soup))\n",
    "    shop_list = [(t, p, m) for t, p, m in zip(title_list, price_list, mall_list)]\n",
    "    return shop_list"
   ]
  },
  {
   "cell_type": "code",
   "execution_count": 48,
   "metadata": {},
   "outputs": [],
   "source": [
    "def app():\n",
    "    number = 0\n",
    "    while True:\n",
    "        print(prompt)\n",
    "        number = input()\n",
    "        if number == '5':\n",
    "            print('종료')\n",
    "            break\n",
    "        query = input('검색어를 넣으세요 >')\n",
    "        display = 10\n",
    "        start = 1\n",
    "        sort = 'date'\n",
    "        resp = naver_search_xml(number, query, display, start, sort)# , dtype\n",
    "        if resp[1] == 200:\n",
    "            resp = resp[0]\n",
    "        else:\n",
    "            print(resp[0])\n",
    "            continue\n",
    "        list = []\n",
    "        if number == '1':\n",
    "            list = get_book_list(resp)\n",
    "        elif number == '2':\n",
    "            list = get_blog_list(resp)\n",
    "        elif number == '3':\n",
    "            list = get_news_list(resp)\n",
    "        elif number == '4':\n",
    "            list = get_shop_list(resp)\n",
    "        print(f'\\n{kinds[int(number)-1]} 검색 keyword : {query}\\n')\n",
    "        for i in range(len(list)):\n",
    "            print(f'*************************{i+1}*************************')\n",
    "            for item in list[i]:\n",
    "                print(item)"
   ]
  },
  {
   "cell_type": "code",
   "execution_count": null,
   "metadata": {},
   "outputs": [],
   "source": [
    "app()"
   ]
  },
  {
   "cell_type": "code",
   "execution_count": 3,
   "metadata": {},
   "outputs": [],
   "source": [
    "# test area\n",
    "query = 'python'\n",
    "display = 10\n",
    "start = 1\n",
    "sort = 'date'\n",
    "client_id = \"Cu_DbXmzUvA5GQoVwtnG\"\n",
    "client_secret = \"qUeRsSEWAf\"\n",
    "url = f'https://openapi.naver.com/v1/search/shop.json'\n",
    "params = {'query': query, 'display': display, 'start': start, 'sort': sort}\n",
    "headers = {'X-Naver-Client-Id': client_id, 'X-Naver-Client-Secret': client_secret}\n",
    "resp = requests.get(url, headers=headers, params=params)\n",
    "if resp.status_code == 200:\n",
    "#     print(([resp.json(), resp.status_code])\n",
    "    pass\n",
    "else:\n",
    "    print(['잘못된 요청입니다.', resp.status_code])\n",
    "# resp.json()['items'][0]['title']"
   ]
  }
 ],
 "metadata": {
  "kernelspec": {
   "display_name": "Python 3",
   "language": "python",
   "name": "python3"
  },
  "language_info": {
   "codemirror_mode": {
    "name": "ipython",
    "version": 3
   },
   "file_extension": ".py",
   "mimetype": "text/x-python",
   "name": "python",
   "nbconvert_exporter": "python",
   "pygments_lexer": "ipython3",
   "version": "3.7.7"
  }
 },
 "nbformat": 4,
 "nbformat_minor": 4
}
