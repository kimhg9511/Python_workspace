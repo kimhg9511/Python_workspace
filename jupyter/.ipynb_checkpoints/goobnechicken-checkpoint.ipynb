{
 "cells": [
  {
   "cell_type": "code",
   "execution_count": 138,
   "metadata": {},
   "outputs": [],
   "source": [
    "from selenium import webdriver\n",
    "from selenium.webdriver.common.keys import Keys\n",
    "from selenium.webdriver.support.ui import WebDriverWait\n",
    "from selenium.webdriver.support import expected_conditions as EC\n",
    "from selenium.webdriver.common.by import By\n",
    "import requests\n",
    "import folium\n",
    "from bs4 import BeautifulSoup as bs\n",
    "import time \n",
    "import json"
   ]
  },
  {
   "cell_type": "code",
   "execution_count": 146,
   "metadata": {
    "scrolled": false
   },
   "outputs": [
    {
     "ename": "SyntaxError",
     "evalue": "invalid syntax (<ipython-input-146-d52bca799bf0>, line 37)",
     "output_type": "error",
     "traceback": [
      "\u001b[1;36m  File \u001b[1;32m\"<ipython-input-146-d52bca799bf0>\"\u001b[1;36m, line \u001b[1;32m37\u001b[0m\n\u001b[1;33m    elem = WebDriverWait(driver, 10).until(EC.presence_of_element_located((By.CSS_SELECTOR, 'f'a[href=\"javascript:store.getList(\\'{cnt*10 + i}\\')\"]'')))\u001b[0m\n\u001b[1;37m                                                                                               ^\u001b[0m\n\u001b[1;31mSyntaxError\u001b[0m\u001b[1;31m:\u001b[0m invalid syntax\n"
     ]
    }
   ],
   "source": [
    "# # headless options\n",
    "# options = webdriver.ChromeOptions()\n",
    "# options.add_argument('headless')\n",
    "# options.add_argument('window-size=1920x1080')\n",
    "# options.add_argument('disable-gpu')\n",
    "\n",
    "chrome_driver = 'D:/bigdata/Python_workspace/jupyter/chromedriver.exe'\n",
    "# # headless driver\n",
    "# driver = webdriver.Chrome(chrome_driver, chrome_options=options)\n",
    "driver = webdriver.Chrome(chrome_driver)\n",
    "url = 'https://www.goobne.co.kr/store/search_store.jsp'\n",
    "# 1페이지 불러오기\n",
    "driver.get(url)\n",
    "# 10페이지 단위를 세는 카운터\n",
    "cnt = 0\n",
    "# 가게 정보를 담을 리스트\n",
    "store_list = []\n",
    "while True:\n",
    "    # 콘솔창에 크롤링 진행상황 표시(*1페이지)\n",
    "    print(cnt*10+1,'page')\n",
    "    # 페이지를 BeautifulSoup으로 변환\n",
    "    resp = driver.page_source\n",
    "    soup = bs(resp, 'html.parser')\n",
    "    # 데이터 가공 : jijum, tel, addr\n",
    "#     jijum_list = list(map(lambda i:i.text, soup.select('li.sto_title')))\n",
    "#     addr_list = list(map(lambda i:i['addr'], soup.select('li.add_text[groupname=Address]')))\n",
    "#     tel_list = list(map(lambda i:i.text, soup.select('li.add_text[groupname=Tel]')))\n",
    "    # 가공한 데이터를 store_list에 저장\n",
    "#     store_list.extend([{'jijum': j, 'tel': a, 'addr': t} for j, a, t in zip(jijum_list, tel_list, addr_list )])\n",
    "    # 크롤링이 제대로 수행되도록 간격 설정\n",
    "    time.sleep(1)\n",
    "    for i in range(2,11):\n",
    "        # 콘솔창에 크롤링 진행상황 표시(*2~*0 페이지)\n",
    "        print(cnt*10+i,'page')\n",
    "        # 진행하는 페이지가 있을 경우\n",
    "        try:     \n",
    "            elem = WebDriverWait(driver, 10).until(EC.presence_of_element_located((By.CSS_SELECTOR, 'fa[href=\"javascript:store.getList(\\'{cnt*10 + i}\\')\"]')))\n",
    "            print('test')\n",
    "            elem.click()\n",
    "        # 진행하려는 페이지가 없을 경우 나오도록 조건 설정        \n",
    "        except Exception:\n",
    "            break\n",
    "        # 페이지를 BeautifulSoup으로 변환\n",
    "        resp = driver.page_source\n",
    "        soup = bs(resp, 'html.parser')\n",
    "        # 데이터 가공 : jijum, tel, addr\n",
    "#         jijum_list = list(map(lambda i:i.text.split('[')[1].split(']')[0], soup.select('li.sto_title')))\n",
    "#         addr_list = list(map(lambda i:i['addr'], soup.select('li.add_text[groupname=Address]')))\n",
    "#         tel_list = list(map(lambda i:i.text, soup.select('li.add_text[groupname=Tel]')))\n",
    "        # 가공한 데이터를 store_list에 저장\n",
    "#         store_list.extend([{'jijum': j, 'tel': a, 'addr': t} for j, a, t in zip(jijum_list, tel_list, addr_list )])\n",
    "        time.sleep(0.1)\n",
    "    # 진행하는 페이지가 있을 경우\n",
    "    try:\n",
    "        elem = WebDriverWait(driver, 10).until(EC.presence_of_element_located((By.CSS_SELECTOR, 'fa[href=\"javascript:store.getList(\\'{cnt*10 + i}\\')\"]')))\n",
    "        elem.click()\n",
    "    # 진행하려는 페이지가 없을 경우 나오도록 조건 설정 \n",
    "    except Exception:\n",
    "        print('end')\n",
    "        break\n",
    "    # 페이지를 10페이지 단위로 추가\n",
    "    cnt += 1\n",
    "# driver.close()"
   ]
  }
 ],
 "metadata": {
  "kernelspec": {
   "display_name": "Python 3",
   "language": "python",
   "name": "python3"
  },
  "language_info": {
   "codemirror_mode": {
    "name": "ipython",
    "version": 3
   },
   "file_extension": ".py",
   "mimetype": "text/x-python",
   "name": "python",
   "nbconvert_exporter": "python",
   "pygments_lexer": "ipython3",
   "version": "3.7.7"
  }
 },
 "nbformat": 4,
 "nbformat_minor": 4
}
