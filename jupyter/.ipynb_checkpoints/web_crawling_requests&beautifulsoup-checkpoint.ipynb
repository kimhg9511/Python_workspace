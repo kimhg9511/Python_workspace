{
 "cells": [
  {
   "cell_type": "code",
   "execution_count": 64,
   "metadata": {},
   "outputs": [],
   "source": [
    "# pip install bs4"
   ]
  },
  {
   "cell_type": "code",
   "execution_count": 92,
   "metadata": {},
   "outputs": [],
   "source": [
    "# import requests, bs4\n",
    "import requests as req\n",
    "from bs4 import BeautifulSoup as bs"
   ]
  },
  {
   "cell_type": "code",
   "execution_count": 93,
   "metadata": {},
   "outputs": [
    {
     "data": {
      "text/plain": [
       "200"
      ]
     },
     "execution_count": 93,
     "metadata": {},
     "output_type": "execute_result"
    }
   ],
   "source": [
    "# GET : params\n",
    "url = \"https://book.naver.com/search/search.nhn\"\n",
    "params = {'sm': 'sta_hty.book','sug': '','where': 'nexearch','query': \"파이썬\"}\n",
    "# requests.get()\n",
    "resp = req.get(url, params=params)\n",
    "# requests.status_code\n",
    "status_code = resp.status_code\n",
    "# requests.text\n",
    "text = resp.text\n",
    "status_code #, resp.text"
   ]
  },
  {
   "cell_type": "code",
   "execution_count": 107,
   "metadata": {},
   "outputs": [
    {
     "data": {
      "text/plain": [
       "200"
      ]
     },
     "execution_count": 107,
     "metadata": {},
     "output_type": "execute_result"
    }
   ],
   "source": [
    "# POST : data\n",
    "url = \"https://book.naver.com/search/search.nhn\"\n",
    "data = {'sm': 'sta_hty.book','sug': '','where': 'nexearch','query': \"파이썬\"}\n",
    "resp = req.get(url, data=data)\n",
    "status_code = resp.status_code\n",
    "text = resp.text\n",
    "status_code"
   ]
  },
  {
   "cell_type": "code",
   "execution_count": 68,
   "metadata": {},
   "outputs": [
    {
     "data": {
      "text/plain": [
       "200"
      ]
     },
     "execution_count": 68,
     "metadata": {},
     "output_type": "execute_result"
    }
   ],
   "source": [
    "url = \"https://book.naver.com/search/search.nhn\"\n",
    "data = {'sm': 'sta_hty.book','sug': '','where': 'nexearch','query': \"파이썬\"}\n",
    "header_info  = {'user-agent': 'Mozilla/5.0 (iPhone; CPU iPhone OS 13_2_3 like Mac OS X) AppleWebKit/605.1.15 (KHTML, like Gecko) Version/13.0.3 Mobile/15E148 Safari/604.1'}\n",
    "m_resp = req.get(url, headers=header_info, params=params)\n",
    "m_status_code = resp.status_code\n",
    "m_text = resp.text\n",
    "m_status_code"
   ]
  },
  {
   "cell_type": "code",
   "execution_count": 94,
   "metadata": {},
   "outputs": [
    {
     "data": {
      "text/plain": [
       "bs4.BeautifulSoup"
      ]
     },
     "execution_count": 94,
     "metadata": {},
     "output_type": "execute_result"
    }
   ],
   "source": [
    "# str -> bs4.BeautifulSoup\n",
    "soup = bs(text, 'html.parser')\n",
    "type(soup)"
   ]
  },
  {
   "cell_type": "code",
   "execution_count": 95,
   "metadata": {},
   "outputs": [
    {
     "name": "stdout",
     "output_type": "stream",
     "text": [
      "<class 'bs4.element.NavigableString'> <class 'str'> <class 'str'>\n"
     ]
    },
    {
     "data": {
      "text/plain": [
       "<h3 class=\"blind\">전체 분야 메뉴</h3>"
      ]
     },
     "execution_count": 95,
     "metadata": {},
     "output_type": "execute_result"
    }
   ],
   "source": [
    "# obj.[tagname]\n",
    "title = soup.title\n",
    "print(type(title.string), type(title.text), type(title.get_text()))\n",
    "h3 = soup.h3\n",
    "h3"
   ]
  },
  {
   "cell_type": "code",
   "execution_count": 96,
   "metadata": {},
   "outputs": [
    {
     "data": {
      "text/plain": [
       "[<h3 class=\"blind\">전체 분야 메뉴</h3>, <h3 class=\"blind\">푸터</h3>]"
      ]
     },
     "execution_count": 96,
     "metadata": {},
     "output_type": "execute_result"
    }
   ],
   "source": [
    "# obj(tagname)\n",
    "title = soup('h3')\n",
    "title"
   ]
  },
  {
   "cell_type": "code",
   "execution_count": 97,
   "metadata": {},
   "outputs": [
    {
     "name": "stdout",
     "output_type": "stream",
     "text": [
      "<meta content=\"text/html; charset=utf-8\" http-equiv=\"Content-Type\"/>\n",
      "<meta content=\"IE=edge\" http-equiv=\"X-UA-Compatible\"/>\n",
      "<meta content=\"article\" property=\"og:type\"/>\n"
     ]
    }
   ],
   "source": [
    "# obj.find(tagname) - find one\n",
    "find_h3 = soup.find('h3')\n",
    "find_h3\n",
    "# obj.find_all(tagname{, limit=number}) - find all\n",
    "find_all_meta = soup.find_all('meta', limit=3)\n",
    "for i in find_all_meta:\n",
    "    print(i)"
   ]
  },
  {
   "cell_type": "code",
   "execution_count": 106,
   "metadata": {},
   "outputs": [
    {
     "data": {
      "text/plain": [
       "{'15028688': '혼자 공부하는 파이썬',\n",
       " '14921665': '파이썬',\n",
       " '14126163': '모두의 파이썬',\n",
       " '15052904': 'Do it! 점프 투 파이썬',\n",
       " '16238302': '파이썬 머신러닝 완벽 가이드',\n",
       " '15871779': '파이썬 for Beginner',\n",
       " '16318024': '생활코딩! 파이썬',\n",
       " '14922892': '머신 러닝 교과서 with 파이썬, 사이킷런, 텐서플로',\n",
       " '14820571': '모두의 데이터 분석 with 파이썬',\n",
       " '16241301': '파이썬과 리액트를 활용한 주식 자동 거래 시스템 구축(프로그래밍&프랙티스 시리즈 22)',\n",
       " '16324192': 'Do it! 첫 파이썬',\n",
       " '14623546': '파이썬으로 배우는 알고리즘 트레이딩',\n",
       " '14922211': '파이썬 라이브러리를 활용한 데이터 분석',\n",
       " '16276456': '실무자를 위한 파이썬 100제',\n",
       " '14645299': '파이썬 라이브러리를 활용한 머신러닝',\n",
       " '16237901': '이것이 데이터 분석이다 with 파이썬',\n",
       " '15987559': '데이터 분석 실무 with 파이썬',\n",
       " '16330711': '파이썬과 케라스를 이용한 딥러닝/강화학습 주식투자(개정판)(위키북스 데이터 사이언스 시리즈 55)',\n",
       " '14144026': '파이썬 코딩 도장',\n",
       " '15654623': '파이썬 웹프로그래밍 실전편'}"
      ]
     },
     "execution_count": 106,
     "metadata": {},
     "output_type": "execute_result"
    }
   ],
   "source": [
    "# obj.find_all(class_=[classname])\n",
    "find_all_class = soup.find_all(class_='thumb_type thumb_type2')\n",
    "book_address = [i.a.attrs['href'] for i in find_all_class]\n",
    "# save to list\n",
    "book_info_list = []\n",
    "# save to dictionary\n",
    "book_info_dict = {}\n",
    "for i in find_all_class:\n",
    "    title = i.img.attrs['alt']\n",
    "    bid = i.a.attrs['href'].split('=')[-1]\n",
    "    book_info_list.append((bid, title))\n",
    "    book_info_dict[bid] = title\n",
    "book_info_dict"
   ]
  },
  {
   "cell_type": "code",
   "execution_count": 110,
   "metadata": {},
   "outputs": [],
   "source": [
    "# obj.find(id=[id])\n",
    "find_id = soup.find(id='searchBiblioList')\n",
    "# find_id"
   ]
  },
  {
   "cell_type": "code",
   "execution_count": 114,
   "metadata": {},
   "outputs": [
    {
     "name": "stdout",
     "output_type": "stream",
     "text": [
      "\n",
      "소개 \r\n",
      "\t\t\t\t1:1 과외하듯 배우는 파이썬 프로그래밍 자습서(파이썬 최신 버전 반영)\n",
      "이 책은 독학으로 프로그래밍 언어를 처음 배우려는 입문자가, 혹은 파이썬을 배우려는 입문자가 ‘꼭 필요한 내용을 제대로’ 학습할 수 있도록 구성했다. ‘무엇을’, ‘어떻게’ 학습해야 할지조차 모르는 입문자의...\n",
      "\n",
      "소개 \r\n",
      "\t\t\t\t막막했던 파이썬, 이제 한 권으로 기초를 배우는\n",
      "파이썬 사용 설명서!전 세계적으로 유명한 구글(GOOGLE)이 자신의 많은 서비스를 파이썬으로 제공하고 있습니다. 이것은 구글의 뛰어난 서비스를 개인의 비즈니스에 쉽게 이용할 수 있다는 의미입니다.이러한 발전에 맞춰 파이썬 문법의 기초를...\n",
      "\n",
      "소개 \n",
      "파이썬 분야 & 어린이 코딩 교육 분야\n",
      "2년 연속 베스트셀러! 개정판 출간!\n",
      "\n",
      "즐겁게 시작하는 나의 첫 프로그래밍!\n",
      "프로그래밍을 한 번도 해본 적이 없어도 괜찮다. 파이썬이 무엇인지 몰라도... 어느새 파이썬 프로그램으로 멋진 그림을 그리고, 계산을 하고, 간단한 게임을 만들고, 수학 문제를...\n",
      "\n",
      "소개 \n",
      "파이썬 4년 연속 베스트셀러 1위! ★★★★\n",
      "《DO IT! 점프 투 파이썬》 전면 개정판 출시!\n",
      "문과생도 중고등학생도 직장인도 프로그래밍에 눈뜨게... 점프 투 파이썬》으로 출간되었던 이 책은 약 4년 동안의 피드백을 반영하여 초보자가 더 빠르게 입문하고, 더 깊이 있게 공부할 수 있도록...\n",
      "\n",
      "소개 \r\n",
      "\t\t\t\t자세한 이론 설명과 파이썬 실습을 통해 머신러닝을 완벽하게 배울 수 있습니다!《파이썬 머신러닝 완벽 가이드》는 이론 위주의 머신러닝 책에서 탈피해 다양한 실전 예제를 직접 구현해 보면서 머신러닝을 체득할 수 있도록 만들었습니다.캐글과 UCI 머신러닝 리포지토리에서 난이도가...\n",
      "\n",
      "소개 \r\n",
      "\t\t\t\t이 책은 생활코딩에서 제공하는 파이썬 강좌를 정리하여 다듬은 책입니다. 그리고 심도 있는 실습을 위해 생활코딩에는 없는 실습 챌린지를 포함합니다. 2장은 파이썬 언어의 문법과 기능을 다룹니다. 파이썬을 처음 접하는 초심자의 눈높이에 적합하게 구성되어 있습니다. 빠르게 무엇인가를...\n",
      "\n",
      "소개 \n",
      "파이썬 언어와 파이썬 기반의 머신 러닝 핵심 라이브러리(SCIPY, NUMPY, SCIKIT-LEARN, MATPLOTLIB, PANDAS)를 사용해 머신 러닝을, 텐서플로를 사용해 딥러닝을 실습하면서 머신 러닝과 딥러닝 핵심 알고리즘을 설명하고, 간단한 알고리즘은 처음부터 직접 구현해본다. 또한, 사이킷런의 기여자이자...\n",
      "\n",
      "소개 \r\n",
      "\t\t\t\t데이터 다운로드부터 정제, 문제 해결 방법 구상, 파이썬 코드로 구현까지 차근차근 진행하면서, 초보자가 데이터 분석의 성공적인 첫걸음을... 최소한의 파이썬 문법만을 사용하여 설명하므로 프로그래밍 경험이 적은 사람도 충분히 따라 할 수 있다. 이제 데이터 분석 전문가가 아니어도...\n",
      "\n",
      "소개 \n",
      "파이썬을 이용해 데이터를 수집, 저장, 가공, 분석하는 방법부터 리액트를 이용해 사용자의 화면까지 개발하는 방법까지 한 권에 담았다. 이... ★ 이 책에서 다루는 내용 ★\n",
      "◎ 증권사(이베스트)에서 제공하는 API를 이용해 파이썬으로 거래 자동화 시스템을 개발한다.\n",
      "◎ 외부로 기능을...\n",
      "\n",
      "소개 \r\n",
      "\t\t\t\t왕초보 맞춤 파이썬 입문서\n",
      "초등 고학년부터 필수인 코딩, 주인공 ‘엘리스 토끼’와 함께 게임하듯 배우세요. 176가지 그림과 45가지 코딩 문제를... 마지막 과제인 ‘점심 메뉴 추첨기’ 프로그램까지 만들면 ‘파이썬 이수증’도 드립니다. 제대로 설계된 코딩 교육 콘텐츠를 찾는 학생·학부모...\n",
      "\n",
      "소개 \r\n",
      "\t\t\t\t『파이썬으로 배우는 알고리즘 트레이딩』은 파이썬이라는 프로그래밍 언어를 이용한 알고리즘 트레이딩을 다룬다. 프로그래밍을 전혀 모르는 비전공자나 HTS(Home Trading System)로 주식 투자 정도만 할 수 있는 일반인도 빠르게 파이썬과 알고리즘 트레이딩을...\n",
      "\n",
      "소개 \r\n",
      "\t\t\t\t빅데이터 분석에 관한 가장 완벽한 교재!이 책은 NUMPY, PANDAS, MATPLOTLIB, IPYTHON, JUPYTER 등 다양한 파이썬 라이브러리를 사용해서 효과적으로 데이터를 분석하는 방법을 알려준다. PANDAS의 새로운 기능뿐만 아니라 메모리 사용량을 줄이고 성능을 개선하는 고급 사용법까지...\n",
      "\n",
      "소개 \r\n",
      "\t\t\t\t누구나 시작할 수 있다, 파이썬!이 책은 파이썬이 필요해 공부를 시작했는데, 기초는 끝냈고 더 깊고 넓은 방향으로 배워보고 싶은 사람들을 대상으로 했다. 파이썬 기초 문법을 익혔다면 이 책을 통해 다양한 라이브러리 활용까지 도전해볼 수 있을 것이다. 데이터를 수집하고...\n",
      "\n",
      "소개 \r\n",
      "\t\t\t\t실생활 예제로 쉽게, 단계별 분석에 따라 구조적으로 배우는 데이터 분석 입문서데이터를 다루는 데 언어나 라이브러리는 도구일 뿐입니다. 진짜 중요한 것은 문제해결 능력입니다. 이 책은 주어진 문제를 어떻게 단계적으로 접근하면 좋을지에 대해 독자 친화적으로 가이드를 주는 책입니다....\n",
      "\n",
      "소개 \r\n",
      "\t\t\t\t이 책은 파이썬을 처음 접하는 마케팅, 영업, 기획 실무 담당자들이 파이썬을 활용한 데이터 분석에 재미있게 빠져들 수 있도록 실제 업무에 활용할 수 있거나 흥미로운 예제로 구성돼 있습니다. 이 책을 마치고 나면 데이터를 기반으로 좋은 질문에 답할 수 있는 실력을 키울 수 있을 것입니다.\n",
      "\n",
      "소개 \r\n",
      "\t\t\t\t실제 주식 데이터를 이용해 파이썬으로 강화학습 주식투자 프로그램을 직접 구현해 봅니다!강화학습은 스스로 학습하는 머신러닝 기법으로 주식 데이터 학습에 잘 적용되는 기법입니다. 이 책은 파이썬을 이용한 강화학습 기반의 주식투자 시뮬레이션 프로그램 개발에 대해 설명합니다. 이를 위한...\n",
      "\n",
      "소개 \r\n",
      "\t\t\t\t외우기만 해서는 파이썬도 어렵다!\n",
      "프로그래밍은 연습으로 배우는 것!\n",
      "문법을 외우기만 해서는 파이썬도 배우기 어렵다. 프로그래밍은 개념을... 최고의 학습은 반복이고, 스스로 생각하기다\n",
      "파이썬 문법을 학습한 다음에는 반드시 퀴즈를 풀어보게 했다. 퀴즈를 풀어본 다음에는 반드시...\n"
     ]
    }
   ],
   "source": [
    "# obj,find(attrs={'attr':'value'})\n",
    "find_all_attrs_type = soup.find_all(attrs={'type':'책소개'})\n",
    "# find_all_attrs_type\n",
    "for i in find_all_attrs_type:\n",
    "    print(i.text)"
   ]
  },
  {
   "cell_type": "code",
   "execution_count": null,
   "metadata": {},
   "outputs": [],
   "source": []
  }
 ],
 "metadata": {
  "kernelspec": {
   "display_name": "Python 3",
   "language": "python",
   "name": "python3"
  },
  "language_info": {
   "codemirror_mode": {
    "name": "ipython",
    "version": 3
   },
   "file_extension": ".py",
   "mimetype": "text/x-python",
   "name": "python",
   "nbconvert_exporter": "python",
   "pygments_lexer": "ipython3",
   "version": "3.7.7"
  }
 },
 "nbformat": 4,
 "nbformat_minor": 4
}
