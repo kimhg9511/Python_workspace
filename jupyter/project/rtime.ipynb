{
 "cells": [
  {
   "cell_type": "markdown",
   "metadata": {},
   "source": [
    "# 모듈 "
   ]
  },
  {
   "cell_type": "code",
   "execution_count": 1,
   "metadata": {},
   "outputs": [],
   "source": [
    "import requests\n",
    "from bs4 import BeautifulSoup as bs\n",
    "from selenium import webdriver\n",
    "from selenium.webdriver.common.keys import Keys\n",
    "from selenium.webdriver.support.ui import WebDriverWait\n",
    "from selenium.webdriver.support import expected_conditions as EC\n",
    "from selenium.webdriver.common.by import By\n",
    "import datetime\n",
    "import time as t\n",
    "import pandas as pd\n",
    "from urllib import request as req\n",
    "import math\n",
    "import sys\n",
    "import fileIO as io"
   ]
  },
  {
   "cell_type": "code",
   "execution_count": 2,
   "metadata": {},
   "outputs": [],
   "source": [
    "def addZero(isLowerTen):\n",
    "    for index in range(len(isLowerTen)):\n",
    "        if isLowerTen[index] < 10:\n",
    "            isLowerTen[index] = '0' + str(isLowerTen[index])\n",
    "        else:\n",
    "            isLowerTen[index] = str(isLowerTen[index])\n",
    "    return isLowerTen"
   ]
  },
  {
   "cell_type": "markdown",
   "metadata": {},
   "source": [
    "# case1) 현재 실시간 검색어 크롤링"
   ]
  },
  {
   "cell_type": "code",
   "execution_count": null,
   "metadata": {},
   "outputs": [],
   "source": [
    "nowDateTime = datetime.datetime.now()\n",
    "year = nowDateTime.year\n",
    "month = nowDateTime.month\n",
    "day = nowDateTime.day\n",
    "hour = nowDateTime.hour\n",
    "minute = nowDateTime.minute\n",
    "isLowerTen = [month, day, hour, minute]\n",
    "month, day, hour, minute = addZero(isLowerTen)\n",
    "\n",
    "chrome_driver = 'D:/bigdata/Python_workspace/jupyter/chromedriver.exe'\n",
    "driver = webdriver.Chrome(chrome_driver)\n",
    "url = 'https://datalab.naver.com/keyword/realtimeList.naver'\n",
    "url += f'?datetime={year}-{month}-{day}T{hour}%3A{minute}%3A00&where=main'\n",
    "driver.get(url)\n",
    "soup = bs(driver.page_source,'html.parser')\n",
    "driver.close()\n",
    "# soup"
   ]
  },
  {
   "cell_type": "markdown",
   "metadata": {},
   "source": [
    "# case2) 하루 실시간 검색어 크롤링"
   ]
  },
  {
   "cell_type": "code",
   "execution_count": 4,
   "metadata": {},
   "outputs": [],
   "source": [
    "soup_list = []\n",
    "chrome_driver = 'D:/bigdata/Python_workspace/jupyter/chromedriver.exe'\n",
    "# open window\n",
    "driver = webdriver.Chrome(chrome_driver)\n",
    "nowDateTime = datetime.datetime.now()\n",
    "year = nowDateTime.year\n",
    "month = nowDateTime.month\n",
    "day = nowDateTime.day\n",
    "isLowerTen = [month, day]\n",
    "month, day = addZero(isLowerTen)\n",
    "\n",
    "times = pd.date_range('05:00:00',f'17:00:00',freq='1min')\n",
    "for time in times:\n",
    "    hour = time.hour\n",
    "    minute = time.minute\n",
    "    hour, minute = addZero([hour,minute])\n",
    "    url = 'https://datalab.naver.com/keyword/realtimeList.naver'\n",
    "    url += f'?datetime={year}-{month}-{day}T{hour}%3A{minute}%3A00'\n",
    "    driver.get(url)\n",
    "    soup_list.append(bs(driver.page_source,'html.parser'))\n",
    "    t.sleep(0.1)\n",
    "driver.close()\n",
    "io.list_to_csv('naverRtop20_'+f'{year}-{month}-{day}', soup_list)\n",
    "len(soup_list)"
   ]
  },
  {
   "cell_type": "markdown",
   "metadata": {},
   "source": [
    "# case3) 2020년 실시간 검색어 크롤링\n",
    "## 트래픽 제한으로 인하여 실행이 제한됨"
   ]
  },
  {
   "cell_type": "code",
   "execution_count": 7,
   "metadata": {
    "scrolled": true
   },
   "outputs": [],
   "source": [
    "# chrome_driver = 'D:/bigdata/Python_workspace/jupyter/chromedriver.exe'\n",
    "# # open window\n",
    "# driver = webdriver.Chrome(chrome_driver)\n",
    "# nowDateTime = datetime.datetime.now()\n",
    "# year = nowDateTime.year\n",
    "# month = nowDateTime.month\n",
    "# day = nowDateTime.day\n",
    "# hour = nowDateTime.hour\n",
    "# minute = nowDateTime.minute\n",
    "# isLowerTen = [month, day, hour, minute]\n",
    "# month, day, hour, minute = addZero(isLowerTen)\n",
    "# dates = pd.date_range('2020-01-01', '2020-06-26', freq=\"D\")\n",
    "# for date in dates[::-1]:\n",
    "#     soup_list = []\n",
    "#     year = date.year\n",
    "#     month = date.month\n",
    "#     day = date.day\n",
    "#     if f'{month}{day}' == f'{nowDateTime.month}{nowDateTime.day}':\n",
    "#         times = pd.date_range('00:00:00',f'{hour}:{minute}:00',freq='1min')\n",
    "#     else:\n",
    "#         times = pd.date_range('00:00:00','23:59:00',freq='1min')\n",
    "#     year,month,day = addZero([year, month, day])\n",
    "#     for time in times:\n",
    "#         hour = time.hour\n",
    "#         minute = time.minute\n",
    "#         hour, minute = addZero([hour,minute])\n",
    "#         url = 'https://datalab.naver.com/keyword/realtimeList.naver'\n",
    "#         url += f'?datetime={year}-{month}-{day}T{hour}%3A{minute}%3A00'\n",
    "#         print(url)\n",
    "#         driver.get(url)\n",
    "#         soup_list.append(bs(driver.page_source,'html.parser'))\n",
    "#         t.sleep(2)\n",
    "#     io.list_to_csv('naverRtop20_'+f'{year}-{month}-{day}', soup_list)\n",
    "# driver.close()"
   ]
  },
  {
   "cell_type": "markdown",
   "metadata": {},
   "source": [
    "# 주가 관련 검색어 필터링"
   ]
  },
  {
   "cell_type": "code",
   "execution_count": 26,
   "metadata": {},
   "outputs": [],
   "source": [
    "soup_list = io.csv_to_list('naverRtop20_2020-07-06')\n",
    "soup_list = list(map(lambda i:bs(i,'html.parser'), soup_list))"
   ]
  },
  {
   "cell_type": "code",
   "execution_count": 27,
   "metadata": {},
   "outputs": [],
   "source": [
    "times = pd.date_range('00:00:00',f'{18}:00:00',freq='1min')\n",
    "ranking_list = list(map(lambda i:i.select_one('.ranking_box'), soup_list))\n",
    "col = [f'rank{i}' for i in range(1,21)]\n",
    "df_ranking = pd.DataFrame(index=times, columns=col)\n",
    "df_rel_rank = pd.DataFrame(index=times, columns=col)\n",
    "for ranking_box, date in zip(ranking_list, times):\n",
    "    item_title = ranking_box.select('.item_title')\n",
    "    item_title_list = list(map(lambda i:i.text, item_title))\n",
    "    df_ranking.loc[date] = item_title_list\n",
    "    item_sub_list_raw = list(map(lambda i:i.find_next_sibling(), item_title))\n",
    "    item_sub_list = []\n",
    "    for item_sub in item_sub_list_raw:\n",
    "        if item_sub:\n",
    "            item_sub_list.append(list(map(lambda i:i.replace('\\n','').strip(), item_sub.text.split(','))))\n",
    "        else:\n",
    "            item_sub_list.append('')\n",
    "    df_rel_rank.loc[date] = item_sub_list"
   ]
  },
  {
   "cell_type": "markdown",
   "metadata": {},
   "source": [
    "# 상장법인목록 가져오기"
   ]
  },
  {
   "cell_type": "code",
   "execution_count": 28,
   "metadata": {},
   "outputs": [],
   "source": [
    "url = 'http://kind.krx.co.kr/corpgeneral/corpList.do'\n",
    "url += '?currentPageSize=5000'\n",
    "url += '&fiscalYearEnd=all'\n",
    "url += '&location=all'\n",
    "url += '&method=download'\n",
    "url += '&orderMode=3'\n",
    "url += '&orderStat=D'\n",
    "url += '&pageIndex=1'\n",
    "url += '&searchType=13'\n",
    "df = pd.read_html(url, header=0)\n",
    "jongmok_list = list(df[0]['회사명'])"
   ]
  },
  {
   "cell_type": "code",
   "execution_count": 29,
   "metadata": {},
   "outputs": [],
   "source": [
    "df_ranking = df_ranking[df_ranking.isin(jongmok_list)]\n",
    "set_ranking = set()\n",
    "for time in times:\n",
    "    for ranking in df_ranking:\n",
    "        data = df_ranking[ranking][time]\n",
    "#         print(ranking, date)\n",
    "        if type(data) is str:\n",
    "            if data not in map(lambda i:i[0], set_ranking):\n",
    "                set_ranking.add((data,str(time)))\n",
    "#                 print(data)\n",
    "#                 print(data, time)"
   ]
  },
  {
   "cell_type": "code",
   "execution_count": 30,
   "metadata": {
    "scrolled": false
   },
   "outputs": [],
   "source": [
    "io.list_to_csv(\"rtop20_stocks.csv\",list(set_ranking))"
   ]
  },
  {
   "cell_type": "code",
   "execution_count": 14,
   "metadata": {},
   "outputs": [],
   "source": [
    "df_sample = df[0].loc[:, ['회사명','종목코드','업종']]"
   ]
  },
  {
   "cell_type": "code",
   "execution_count": 21,
   "metadata": {},
   "outputs": [
    {
     "data": {
      "text/html": [
       "<div>\n",
       "<style scoped>\n",
       "    .dataframe tbody tr th:only-of-type {\n",
       "        vertical-align: middle;\n",
       "    }\n",
       "\n",
       "    .dataframe tbody tr th {\n",
       "        vertical-align: top;\n",
       "    }\n",
       "\n",
       "    .dataframe thead th {\n",
       "        text-align: right;\n",
       "    }\n",
       "</style>\n",
       "<table border=\"1\" class=\"dataframe\">\n",
       "  <thead>\n",
       "    <tr style=\"text-align: right;\">\n",
       "      <th></th>\n",
       "      <th>회사명</th>\n",
       "      <th>종목코드</th>\n",
       "      <th>업종</th>\n",
       "      <th>주요제품</th>\n",
       "      <th>상장일</th>\n",
       "      <th>결산월</th>\n",
       "      <th>대표자명</th>\n",
       "      <th>홈페이지</th>\n",
       "      <th>지역</th>\n",
       "    </tr>\n",
       "  </thead>\n",
       "  <tbody>\n",
       "  </tbody>\n",
       "</table>\n",
       "</div>"
      ],
      "text/plain": [
       "Empty DataFrame\n",
       "Columns: [회사명, 종목코드, 업종, 주요제품, 상장일, 결산월, 대표자명, 홈페이지, 지역]\n",
       "Index: []"
      ]
     },
     "execution_count": 21,
     "metadata": {},
     "output_type": "execute_result"
    }
   ],
   "source": [
    "df[0].loc[df[0]['회사명']=='마인', :]"
   ]
  },
  {
   "cell_type": "code",
   "execution_count": 18,
   "metadata": {},
   "outputs": [],
   "source": [
    "df_real = df[0]"
   ]
  },
  {
   "cell_type": "code",
   "execution_count": 19,
   "metadata": {},
   "outputs": [
    {
     "data": {
      "text/plain": [
       "Index(['회사명', '종목코드', '업종', '주요제품', '상장일', '결산월', '대표자명', '홈페이지', '지역'], dtype='object')"
      ]
     },
     "execution_count": 19,
     "metadata": {},
     "output_type": "execute_result"
    }
   ],
   "source": [
    "df_real.columns"
   ]
  },
  {
   "cell_type": "code",
   "execution_count": null,
   "metadata": {},
   "outputs": [],
   "source": []
  }
 ],
 "metadata": {
  "kernelspec": {
   "display_name": "Python 3",
   "language": "python",
   "name": "python3"
  },
  "language_info": {
   "codemirror_mode": {
    "name": "ipython",
    "version": 3
   },
   "file_extension": ".py",
   "mimetype": "text/x-python",
   "name": "python",
   "nbconvert_exporter": "python",
   "pygments_lexer": "ipython3",
   "version": "3.7.7"
  }
 },
 "nbformat": 4,
 "nbformat_minor": 4
}
