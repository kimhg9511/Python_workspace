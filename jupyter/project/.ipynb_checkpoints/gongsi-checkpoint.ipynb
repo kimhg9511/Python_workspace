{
 "cells": [
  {
   "cell_type": "code",
   "execution_count": 27,
   "metadata": {},
   "outputs": [],
   "source": [
    "import requests\n",
    "from bs4 import BeautifulSoup as bs\n",
    "import zipfile\n",
    "from urllib import request as req"
   ]
  },
  {
   "cell_type": "markdown",
   "metadata": {},
   "source": [
    "# 모든 회사의 정보"
   ]
  },
  {
   "cell_type": "code",
   "execution_count": 28,
   "metadata": {},
   "outputs": [
    {
     "data": {
      "text/plain": [
       "('corp_code.zip', <http.client.HTTPMessage at 0x255d72ffe08>)"
      ]
     },
     "execution_count": 28,
     "metadata": {},
     "output_type": "execute_result"
    }
   ],
   "source": [
    "url = 'https://opendart.fss.or.kr/api/corpCode.xml?crtfc_key=f34638c11aaa3ed9ee3fbbabec9b0a9762a4a628'\t\n",
    "downfile = 'corp_code.zip'\n",
    "params = {\n",
    "    'crtfc_key': 'f34638c11aaa3ed9ee3fbbabec9b0a9762a4a628',\n",
    "}\n",
    "req.urlretrieve(url, downfile)"
   ]
  },
  {
   "cell_type": "code",
   "execution_count": 59,
   "metadata": {},
   "outputs": [],
   "source": [
    "corp_list = []"
   ]
  },
  {
   "cell_type": "code",
   "execution_count": 60,
   "metadata": {},
   "outputs": [],
   "source": [
    "with zipfile.ZipFile(downfile) as z:\n",
    "    z.extractall()\n",
    "    xml = z.filelist[0].filename\n",
    "    with open(xml,'r', encoding='utf-8') as f:\n",
    "        soup = bs(f.read())\n",
    "        corp_list = soup.select('list')"
   ]
  },
  {
   "cell_type": "code",
   "execution_count": 61,
   "metadata": {},
   "outputs": [
    {
     "name": "stdout",
     "output_type": "stream",
     "text": [
      "셀트리온헬스케어\n",
      "00554024\n"
     ]
    }
   ],
   "source": [
    "for item in corp_list:\n",
    "    if item.select_one('corp_name').text == '셀트리온헬스케어':\n",
    "        print(item.select_one('corp_name').text)\n",
    "        print(item.select_one('corp_code').text)"
   ]
  },
  {
   "cell_type": "markdown",
   "metadata": {},
   "source": [
    "# 분기보고서 찾기 "
   ]
  },
  {
   "cell_type": "code",
   "execution_count": 73,
   "metadata": {},
   "outputs": [],
   "source": [
    "url = 'https://opendart.fss.or.kr/api/list.json'\n",
    "params = {\n",
    "    'crtfc_key': 'f34638c11aaa3ed9ee3fbbabec9b0a9762a4a628',\n",
    "    'bgn_de': '20200101',\n",
    "    'corp_code': '00554024',\n",
    "    'pblntf_ty': 'A'\n",
    "}\n",
    "resp = requests.get(url, params=params)"
   ]
  },
  {
   "cell_type": "code",
   "execution_count": 74,
   "metadata": {},
   "outputs": [
    {
     "data": {
      "text/plain": [
       "{'status': '000',\n",
       " 'message': '정상',\n",
       " 'page_no': 1,\n",
       " 'page_count': 10,\n",
       " 'total_count': 2,\n",
       " 'total_page': 1,\n",
       " 'list': [{'corp_code': '00554024',\n",
       "   'corp_name': '셀트리온헬스케어',\n",
       "   'stock_code': '091990',\n",
       "   'corp_cls': 'K',\n",
       "   'report_nm': '분기보고서 (2020.03)',\n",
       "   'rcept_no': '20200515001285',\n",
       "   'flr_nm': '셀트리온헬스케어',\n",
       "   'rcept_dt': '20200515',\n",
       "   'rm': ''},\n",
       "  {'corp_code': '00554024',\n",
       "   'corp_name': '셀트리온헬스케어',\n",
       "   'stock_code': '091990',\n",
       "   'corp_cls': 'K',\n",
       "   'report_nm': '사업보고서 (2019.12)',\n",
       "   'rcept_no': '20200330003778',\n",
       "   'flr_nm': '셀트리온헬스케어',\n",
       "   'rcept_dt': '20200330',\n",
       "   'rm': '연'}]}"
      ]
     },
     "execution_count": 74,
     "metadata": {},
     "output_type": "execute_result"
    }
   ],
   "source": [
    "resp.json()"
   ]
  },
  {
   "cell_type": "markdown",
   "metadata": {},
   "source": [
    "# 분기보고서 데이터 가져오기"
   ]
  },
  {
   "cell_type": "code",
   "execution_count": null,
   "metadata": {},
   "outputs": [],
   "source": [
    "url = 'https://opendart.fss.or.kr/api/document.xml'\n",
    "params = {\n",
    "    'crtfc_key': 'f34638c11aaa3ed9ee3fbbabec9b0a9762a4a628',\n",
    "    'rcept_no': '20200515001285'\n",
    "}\n",
    "resp = requests.get(url, params=params)\n",
    "resp.encoding= 'euc-kr'"
   ]
  }
 ],
 "metadata": {
  "kernelspec": {
   "display_name": "Python 3",
   "language": "python",
   "name": "python3"
  },
  "language_info": {
   "codemirror_mode": {
    "name": "ipython",
    "version": 3
   },
   "file_extension": ".py",
   "mimetype": "text/x-python",
   "name": "python",
   "nbconvert_exporter": "python",
   "pygments_lexer": "ipython3",
   "version": "3.7.7"
  }
 },
 "nbformat": 4,
 "nbformat_minor": 4
}
