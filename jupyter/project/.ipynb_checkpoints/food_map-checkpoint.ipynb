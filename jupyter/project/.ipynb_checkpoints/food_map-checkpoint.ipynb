{
 "cells": [
  {
   "cell_type": "code",
   "execution_count": 1,
   "metadata": {},
   "outputs": [],
   "source": [
    "from bs4 import BeautifulSoup as bs\n",
    "import requests\n",
    "import folium\n",
    "import re"
   ]
  },
  {
   "cell_type": "code",
   "execution_count": 8,
   "metadata": {},
   "outputs": [],
   "source": [
    "def getLatLng(addr):\n",
    "#     addr = '서울특별시 구로구 디지털로 306'\n",
    "    app_key = 'KakaoAK' + ' 78106cafe4d656639f171b177dda611f'\n",
    "    url = 'https://dapi.kakao.com/v2/local/search/address.json'\n",
    "    params = {\n",
    "        'query': addr,\n",
    "        'page': '',\n",
    "        'AddressSize': ''\n",
    "    }\n",
    "    headers  = {\n",
    "        'Authorization': app_key\n",
    "    }\n",
    "    resp = requests.get(url, params=params, headers=headers)\n",
    "    if resp.json()['documents'] != []:\n",
    "        json = resp.json()['documents'][0]\n",
    "        return (json['x'], json['y'])\n",
    "    else:\n",
    "        fixed_addr = addr.replace(addr.split(' ')[-1], '').strip()\n",
    "        return getLatLng(fixed_addr)\n",
    "\n",
    "def add_marker(mapobj, x, y, info):\n",
    "    folium.Marker((y,x), popup=info[0] + '\\n' + info[1], icon=folium.Icon(color='red', icon='info-sign')).add_to(mapobj)\n",
    "\n",
    "def get_avg_point(point_list):\n",
    "    x = sum(map(lambda i:float(i[0]), point_list)) / len(point_list)\n",
    "    y = sum(map(lambda i:float(i[1]), point_list)) / len(point_list)\n",
    "    return y,x"
   ]
  },
  {
   "cell_type": "code",
   "execution_count": 9,
   "metadata": {},
   "outputs": [],
   "source": [
    "# load html\n",
    "url = 'https://www.wikitree.co.kr/articles/217101'\n",
    "resp = requests.get(url)\n",
    "\n",
    "# dataset\n",
    "soup = bs(resp.text.replace('&nbsp;', ' '),'html.parser')\n",
    "news_content = soup.select_one('div#wikicon')\n",
    "store_list = []\n",
    "tel_list = []\n",
    "addr_list = []\n",
    "stores = list(map(lambda i : i.text.split('회 '), news_content.select('strong')))\n",
    "tel_p = re.compile('^\\d{2,3}-\\d{3,4}-\\d{4}')\n",
    "addr_p = re.compile('^[가-힣 ]{0,4}시?[가-힣]{1,3}구 [가-힣]{0,3}동?[0-9 ]')\n",
    "addr_err = re.compile('^동[0-9 ]{0,3}-?[0-9]{0,2}')\n",
    "# create each list\n",
    "for store in stores:\n",
    "    if len(store) > 1:\n",
    "        store_list.append(store[-1])\n",
    "tel_list = news_content.find_all(string = tel_p)\n",
    "addr_list = news_content.find_all(string = addr_p)\n",
    "store_total = [(store.strip(), tel.strip(), addr.strip()) for store,tel,addr in zip(store_list, tel_list, addr_list)]\n",
    "\n",
    "# test \n",
    "addr_point_list = list(map(lambda i: getLatLng(i[2]),store_total))"
   ]
  },
  {
   "cell_type": "code",
   "execution_count": 10,
   "metadata": {},
   "outputs": [
    {
     "ename": "TypeError",
     "evalue": "add_marker() missing 1 required positional argument: 'info'",
     "output_type": "error",
     "traceback": [
      "\u001b[1;31m---------------------------------------------------------------------------\u001b[0m",
      "\u001b[1;31mTypeError\u001b[0m                                 Traceback (most recent call last)",
      "\u001b[1;32m<ipython-input-10-55ff4dec099a>\u001b[0m in \u001b[0;36m<module>\u001b[1;34m\u001b[0m\n\u001b[0;32m      1\u001b[0m \u001b[0mmap_food\u001b[0m \u001b[1;33m=\u001b[0m \u001b[0mfolium\u001b[0m\u001b[1;33m.\u001b[0m\u001b[0mMap\u001b[0m\u001b[1;33m(\u001b[0m\u001b[0mlocation\u001b[0m \u001b[1;33m=\u001b[0m \u001b[0mget_avg_point\u001b[0m\u001b[1;33m(\u001b[0m\u001b[0maddr_point_list\u001b[0m\u001b[1;33m)\u001b[0m\u001b[1;33m,\u001b[0m \u001b[0mzoom_start\u001b[0m\u001b[1;33m=\u001b[0m\u001b[1;36m11\u001b[0m\u001b[1;33m)\u001b[0m\u001b[1;33m\u001b[0m\u001b[1;33m\u001b[0m\u001b[0m\n\u001b[0;32m      2\u001b[0m \u001b[1;32mfor\u001b[0m \u001b[0mx\u001b[0m\u001b[1;33m,\u001b[0m\u001b[0my\u001b[0m \u001b[1;32min\u001b[0m \u001b[0maddr_point_list\u001b[0m\u001b[1;33m:\u001b[0m\u001b[1;33m\u001b[0m\u001b[1;33m\u001b[0m\u001b[0m\n\u001b[1;32m----> 3\u001b[1;33m     \u001b[0madd_marker\u001b[0m\u001b[1;33m(\u001b[0m\u001b[0mmap_food\u001b[0m\u001b[1;33m,\u001b[0m \u001b[0mx\u001b[0m\u001b[1;33m,\u001b[0m \u001b[0my\u001b[0m\u001b[1;33m)\u001b[0m\u001b[1;33m\u001b[0m\u001b[1;33m\u001b[0m\u001b[0m\n\u001b[0m\u001b[0;32m      4\u001b[0m \u001b[0mmap_food\u001b[0m\u001b[1;33m\u001b[0m\u001b[1;33m\u001b[0m\u001b[0m\n",
      "\u001b[1;31mTypeError\u001b[0m: add_marker() missing 1 required positional argument: 'info'"
     ]
    }
   ],
   "source": [
    "map_food = folium.Map(location = get_avg_point(addr_point_list), zoom_start=11)\n",
    "for x,y in addr_point_list:\n",
    "    add_marker(map_food, x, y, tel_list)\n",
    "map_food "
   ]
  },
  {
   "cell_type": "code",
   "execution_count": null,
   "metadata": {},
   "outputs": [],
   "source": []
  }
 ],
 "metadata": {
  "kernelspec": {
   "display_name": "Python 3",
   "language": "python",
   "name": "python3"
  },
  "language_info": {
   "codemirror_mode": {
    "name": "ipython",
    "version": 3
   },
   "file_extension": ".py",
   "mimetype": "text/x-python",
   "name": "python",
   "nbconvert_exporter": "python",
   "pygments_lexer": "ipython3",
   "version": "3.7.7"
  }
 },
 "nbformat": 4,
 "nbformat_minor": 4
}
