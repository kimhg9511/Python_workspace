{
 "cells": [
  {
   "cell_type": "code",
   "execution_count": 1,
   "metadata": {},
   "outputs": [],
   "source": [
    "# pip install xlrd"
   ]
  },
  {
   "cell_type": "code",
   "execution_count": 2,
   "metadata": {},
   "outputs": [],
   "source": [
    "from bs4 import BeautifulSoup as bs \n",
    "from urllib import request\n",
    "import requests\n",
    "import time \n",
    "import folium\n",
    "import re\n",
    "import pandas as pd\n",
    "import folium"
   ]
  },
  {
   "cell_type": "code",
   "execution_count": 3,
   "metadata": {},
   "outputs": [],
   "source": [
    "def getLatLng(addr):\n",
    "#     addr = '서울특별시 구로구 디지털로 306'\n",
    "    app_key = 'KakaoAK' + ' 78106cafe4d656639f171b177dda611f'\n",
    "    url = 'https://dapi.kakao.com/v2/local/search/address.json'\n",
    "    params = {\n",
    "        'query': addr,\n",
    "        'page': '',\n",
    "        'AddressSize': ''\n",
    "    }\n",
    "    headers  = {\n",
    "        'Authorization': app_key\n",
    "    }\n",
    "    resp = requests.get(url, params=params, headers=headers)\n",
    "    if resp.json()['documents'] != []:\n",
    "        json = resp.json()['documents'][0]\n",
    "        return (json['x'], json['y'])\n",
    "    else:\n",
    "        fixed_addr = addr.replace(addr.split(' ')[-1], '').strip()\n",
    "        return getLatLng(fixed_addr)\n",
    "\n",
    "def add_marker(mapobj, x, y):\n",
    "    folium.Marker((y,x), icon=folium.Icon(color='green', icon='glyphicon glyphicon-print')).add_to(mapobj)\n",
    "\n",
    "def get_avg_point(point_list):\n",
    "    x = sum(map(lambda i:float(i[0]), point_list)) / len(point_list)\n",
    "    y = sum(map(lambda i:float(i[1]), point_list)) / len(point_list)\n",
    "    return y,x"
   ]
  },
  {
   "cell_type": "code",
   "execution_count": 14,
   "metadata": {},
   "outputs": [
    {
     "data": {
      "text/plain": [
       "('noman.xls', <http.client.HTTPMessage at 0x137dbc704c8>)"
      ]
     },
     "execution_count": 14,
     "metadata": {},
     "output_type": "execute_result"
    }
   ],
   "source": [
    "url2 = 'http://www.minwon.go.kr/main?d=AA100DataDownApp&SAVE_FILE_NM=38800.xls'\n",
    "file = 'noman.xls'\n",
    "request.urlretrieve(url2, file)"
   ]
  },
  {
   "cell_type": "code",
   "execution_count": 27,
   "metadata": {},
   "outputs": [],
   "source": [
    "df_noman = pd.read_excel('D:/bigdata/Python_workspace/jupyter/project/noman.xls')\n",
    "addr_point_list = []\n",
    "for addr in df_noman['도로명주소']:\n",
    "    addr_point_list.append(getLatLng(addr))"
   ]
  },
  {
   "cell_type": "code",
   "execution_count": 95,
   "metadata": {},
   "outputs": [],
   "source": [
    "def draw_map(addr):\n",
    "    map_noman = folium.Map(location=get_avg_point(addr_point_list),zoom_start=7)\n",
    "    cnt = 0\n",
    "    disabled_sup = list(set(df_noman['장애인편의발급기형태']))\n",
    "    for x, y in addr_point_list:\n",
    "        if df_noman['장애인편의발급기형태'][cnt] == disabled_sup[0]:\n",
    "            add_marker(map_noman, x, y)\n",
    "        cnt += 1\n",
    "        if cnt == 100:\n",
    "            break\n",
    "    return map_noman\n"
   ]
  },
  {
   "cell_type": "code",
   "execution_count": null,
   "metadata": {},
   "outputs": [],
   "source": [
    "input_addr = input('도로명을 입력하세요: ')\n",
    "# print(input_addr)\n",
    "addr_pattern = re.compile(f'{input_addr}')\n",
    "df_noman_road = df_noman.sort_index(by='도로명주소')\n",
    "start = -1\n",
    "end = -1\n",
    "for i in range(len(df_noman_road['도로명주소'])):\n",
    "#     print(i)\n",
    "#     print(df_noman_road['도로명주소'][i])\n",
    "    if re.search(addr_pattern, df_noman_road['도로명주소'][i]):\n",
    "        if start != -1:\n",
    "            continue\n",
    "        start = i\n",
    "    else:\n",
    "        if start == -1:\n",
    "            continue\n",
    "        end = i\n",
    "        break\n",
    "# print(start, end)\n",
    "# df_noman['도로명주소'][start:end]\n",
    "# df_noman['도로명주소'][0]\n",
    "df_noman_road['도로명주소'][1]"
   ]
  }
 ],
 "metadata": {
  "kernelspec": {
   "display_name": "Python 3",
   "language": "python",
   "name": "python3"
  },
  "language_info": {
   "codemirror_mode": {
    "name": "ipython",
    "version": 3
   },
   "file_extension": ".py",
   "mimetype": "text/x-python",
   "name": "python",
   "nbconvert_exporter": "python",
   "pygments_lexer": "ipython3",
   "version": "3.7.7"
  }
 },
 "nbformat": 4,
 "nbformat_minor": 4
}
