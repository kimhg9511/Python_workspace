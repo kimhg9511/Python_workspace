{
 "cells": [
  {
   "cell_type": "code",
   "execution_count": 2,
   "metadata": {},
   "outputs": [],
   "source": [
    "from selenium import webdriver\n",
    "from selenium.webdriver.common.keys import Keys\n",
    "from selenium.webdriver.support.ui import WebDriverWait\n",
    "from selenium.webdriver.support import expected_conditions as EC\n",
    "from selenium.webdriver.common.by import By\n",
    "import requests\n",
    "import folium\n",
    "from bs4 import BeautifulSoup as bs\n",
    "import time \n",
    "import json"
   ]
  },
  {
   "cell_type": "code",
   "execution_count": 3,
   "metadata": {},
   "outputs": [],
   "source": [
    "chrome_driver = 'D:/bigdata/Python_workspace/jupyter/chromedriver.exe'\n",
    "# # headless driver\n",
    "# driver = webdriver.Chrome(chrome_driver, chrome_options=options)\n",
    "driver = webdriver.Chrome(chrome_driver)\n",
    "driver.implicitly_wait(10)\n",
    "url = 'http://marketdata.krx.co.kr/mdi#document=050101'\n",
    "driver.get(url)\n",
    "elem = driver.find_element_by_name('finderbtn')\n",
    "elem.click()\n",
    "driver.implicitly_wait(10)\n",
    "WebDriverWait(driver, 20).until(EC.presence_of_element_located((By.CSS_SELECTOR, '.CI-GRID-ALIGN-LEFT')))\n",
    "# elem = driver.find_element_by_class_name('CI-GRID-MAIN-WRAPPER')\n",
    "# elem = driver.find_element_by_class_name('CI-GRID-BODY-INNER')\n",
    "time.sleep(1)\n",
    "# driver.close()"
   ]
  },
  {
   "cell_type": "code",
   "execution_count": 47,
   "metadata": {},
   "outputs": [],
   "source": [
    "soup = bs(driver.page_source)"
   ]
  },
  {
   "cell_type": "code",
   "execution_count": 51,
   "metadata": {},
   "outputs": [
    {
     "data": {
      "text/plain": [
       "[<td class=\"CI-GRID-ALIGN-LEFT\" name=\"iss_inst_cd\">25971</td>,\n",
       " <td class=\"CI-GRID-ALIGN-LEFT\" name=\"iss_inst_nm\"><a href=\"#\" onclick=\"selectBondOrdData('25971','(주) 가나개발', this); return false;\">(주) 가나개발</a></td>,\n",
       " <td class=\"CI-GRID-ALIGN-LEFT\" name=\"iss_inst_cd\">14747</td>,\n",
       " <td class=\"CI-GRID-ALIGN-LEFT\" name=\"iss_inst_nm\"><a href=\"#\" onclick=\"selectBondOrdData('14747','(주) 건호공영', this); return false;\">(주) 건호공영</a></td>,\n",
       " <td class=\"CI-GRID-ALIGN-LEFT\" name=\"iss_inst_cd\">07791</td>,\n",
       " <td class=\"CI-GRID-ALIGN-LEFT\" name=\"iss_inst_nm\"><a href=\"#\" onclick=\"selectBondOrdData('07791','(주)강남산업', this); return false;\">(주)강남산업</a></td>,\n",
       " <td class=\"CI-GRID-ALIGN-LEFT\" name=\"iss_inst_cd\">31018</td>,\n",
       " <td class=\"CI-GRID-ALIGN-LEFT\" name=\"iss_inst_nm\"><a href=\"#\" onclick=\"selectBondOrdData('31018','(주)강진테크', this); return false;\">(주)강진테크</a></td>,\n",
       " <td class=\"CI-GRID-ALIGN-LEFT\" name=\"iss_inst_cd\">15477</td>,\n",
       " <td class=\"CI-GRID-ALIGN-LEFT\" name=\"iss_inst_nm\"><a href=\"#\" onclick=\"selectBondOrdData('15477','(주)거상', this); return false;\">(주)거상</a></td>,\n",
       " <td class=\"CI-GRID-ALIGN-LEFT\" name=\"iss_inst_cd\">25460</td>,\n",
       " <td class=\"CI-GRID-ALIGN-LEFT\" name=\"iss_inst_nm\"><a href=\"#\" onclick=\"selectBondOrdData('25460','(주)거탑건설', this); return false;\">(주)거탑건설</a></td>,\n",
       " <td class=\"CI-GRID-ALIGN-LEFT\" name=\"iss_inst_cd\">15921</td>,\n",
       " <td class=\"CI-GRID-ALIGN-LEFT\" name=\"iss_inst_nm\"><a href=\"#\" onclick=\"selectBondOrdData('15921','(주)건원건설', this); return false;\">(주)건원건설</a></td>,\n",
       " <td class=\"CI-GRID-ALIGN-LEFT\" name=\"iss_inst_cd\">16949</td>,\n",
       " <td class=\"CI-GRID-ALIGN-LEFT\" name=\"iss_inst_nm\"><a href=\"#\" onclick=\"selectBondOrdData('16949','(주)게임젠', this); return false;\">(주)게임젠</a></td>,\n",
       " <td class=\"CI-GRID-ALIGN-LEFT\" name=\"iss_inst_cd\">16702</td>,\n",
       " <td class=\"CI-GRID-ALIGN-LEFT\" name=\"iss_inst_nm\"><a href=\"#\" onclick=\"selectBondOrdData('16702','(주)경북가스', this); return false;\">(주)경북가스</a></td>,\n",
       " <td class=\"CI-GRID-ALIGN-LEFT\" name=\"iss_inst_cd\">10954</td>,\n",
       " <td class=\"CI-GRID-ALIGN-LEFT\" name=\"iss_inst_nm\"><a href=\"#\" onclick=\"selectBondOrdData('10954','(주)경인', this); return false;\">(주)경인</a></td>,\n",
       " <td class=\"CI-GRID-ALIGN-LEFT\" name=\"iss_inst_cd\">11010</td>,\n",
       " <td class=\"CI-GRID-ALIGN-LEFT\" name=\"iss_inst_nm\"><a href=\"#\" onclick=\"selectBondOrdData('11010','(주)고금산업개발', this); return false;\">(주)고금산업개발</a></td>,\n",
       " <td class=\"CI-GRID-ALIGN-LEFT\" name=\"iss_inst_cd\">11038</td>,\n",
       " <td class=\"CI-GRID-ALIGN-LEFT\" name=\"iss_inst_nm\"><a href=\"#\" onclick=\"selectBondOrdData('11038','(주)골드스타라이트', this); return false;\">(주)골드스타라이트</a></td>,\n",
       " <td class=\"CI-GRID-ALIGN-LEFT\" name=\"iss_inst_cd\">23349</td>,\n",
       " <td class=\"CI-GRID-ALIGN-LEFT\" name=\"iss_inst_nm\"><a href=\"#\" onclick=\"selectBondOrdData('23349','(주)광진기계', this); return false;\">(주)광진기계</a></td>,\n",
       " <td class=\"CI-GRID-ALIGN-LEFT\" name=\"iss_inst_cd\">14749</td>,\n",
       " <td class=\"CI-GRID-ALIGN-LEFT\" name=\"iss_inst_nm\"><a href=\"#\" onclick=\"selectBondOrdData('14749','(주)교동식품', this); return false;\">(주)교동식품</a></td>,\n",
       " <td class=\"CI-GRID-ALIGN-LEFT\" name=\"iss_inst_cd\">15481</td>,\n",
       " <td class=\"CI-GRID-ALIGN-LEFT\" name=\"iss_inst_nm\"><a href=\"#\" onclick=\"selectBondOrdData('15481','(주)구룡건설', this); return false;\">(주)구룡건설</a></td>,\n",
       " <td class=\"CI-GRID-ALIGN-LEFT\" name=\"iss_inst_cd\">16324</td>,\n",
       " <td class=\"CI-GRID-ALIGN-LEFT\" name=\"iss_inst_nm\"><a href=\"#\" onclick=\"selectBondOrdData('16324','(주)굿텔', this); return false;\">(주)굿텔</a></td>,\n",
       " <td class=\"CI-GRID-ALIGN-LEFT\" name=\"iss_inst_cd\">15497</td>,\n",
       " <td class=\"CI-GRID-ALIGN-LEFT\" name=\"iss_inst_nm\"><a href=\"#\" onclick=\"selectBondOrdData('15497','(주)금강기업', this); return false;\">(주)금강기업</a></td>,\n",
       " <td class=\"CI-GRID-ALIGN-LEFT\" name=\"iss_inst_cd\">11662</td>,\n",
       " <td class=\"CI-GRID-ALIGN-LEFT\" name=\"iss_inst_nm\"><a href=\"#\" onclick=\"selectBondOrdData('11662','(주)금강알텍', this); return false;\">(주)금강알텍</a></td>,\n",
       " <td class=\"CI-GRID-ALIGN-LEFT\" name=\"iss_inst_cd\">14882</td>,\n",
       " <td class=\"CI-GRID-ALIGN-LEFT\" name=\"iss_inst_nm\"><a href=\"#\" onclick=\"selectBondOrdData('14882','(주)금성산업', this); return false;\">(주)금성산업</a></td>,\n",
       " <td class=\"CI-GRID-ALIGN-LEFT\" name=\"iss_inst_cd\">15502</td>,\n",
       " <td class=\"CI-GRID-ALIGN-LEFT\" name=\"iss_inst_nm\"><a href=\"#\" onclick=\"selectBondOrdData('15502','(주)금성산업', this); return false;\">(주)금성산업</a></td>]"
      ]
     },
     "execution_count": 51,
     "metadata": {},
     "output_type": "execute_result"
    }
   ],
   "source": [
    "soup.select('.CI-GRID-ALIGN-LEFT')"
   ]
  },
  {
   "cell_type": "code",
   "execution_count": null,
   "metadata": {},
   "outputs": [],
   "source": []
  }
 ],
 "metadata": {
  "kernelspec": {
   "display_name": "Python 3",
   "language": "python",
   "name": "python3"
  },
  "language_info": {
   "codemirror_mode": {
    "name": "ipython",
    "version": 3
   },
   "file_extension": ".py",
   "mimetype": "text/x-python",
   "name": "python",
   "nbconvert_exporter": "python",
   "pygments_lexer": "ipython3",
   "version": "3.7.7"
  }
 },
 "nbformat": 4,
 "nbformat_minor": 4
}
