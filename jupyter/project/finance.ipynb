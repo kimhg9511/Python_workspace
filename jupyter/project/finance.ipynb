{
 "cells": [
  {
   "cell_type": "code",
   "execution_count": 42,
   "metadata": {},
   "outputs": [],
   "source": [
    "from selenium import webdriver\n",
    "from selenium.webdriver.common.keys import Keys\n",
    "from selenium.webdriver.support.ui import WebDriverWait\n",
    "from selenium.webdriver.support import expected_conditions as EC\n",
    "from selenium.webdriver.common.by import By\n",
    "from selenium.webdriver.common.action_chains import ActionChains\n",
    "import requests\n",
    "import folium\n",
    "from bs4 import BeautifulSoup as bs\n",
    "import time \n",
    "import json\n",
    "import datetime"
   ]
  },
  {
   "cell_type": "code",
   "execution_count": 49,
   "metadata": {},
   "outputs": [
    {
     "name": "stdout",
     "output_type": "stream",
     "text": [
      "<div class=\"CI-GRID-BODY-WRAPPER\"><div class=\"CI-GRID-BODY-SCROLLER\" style=\"overflow: hidden; position: relative; height: 271px;\"><div class=\"CI-GRID-BODY-INNER\" style=\"position: relative; min-height: 1px; width: 516px; height: 58072px;\"><div style=\"position: absolute; top: 0px; left: 0px; width: 1px; height: 58072px;\"></div><table class=\"CI-GRID-BODY-TABLE\" style=\"z-index: 1; position: absolute; top: 0px;\"><thead class=\"CI-GRID-BODY-TABLE-THEAD\"><tr><th class=\"CI-GRID-BODY-TABLE-THEAD-CELL\" colspan=\"1\" data-name=\"iss_inst_cd\" style=\"max-width: 154.8px; width: 154.8px;\">발행기관코드</th><th class=\"CI-GRID-BODY-TABLE-THEAD-CELL\" colspan=\"1\" data-name=\"iss_inst_nm\" style=\"max-width: 361.2px; width: 361.2px;\">발행기관명</th></tr></thead><tbody class=\"CI-GRID-BODY-TABLE-TBODY\"><tr class=\"CI-GRID-EVEN\" tabindex=\"0\">\n",
      "<td class=\"CI-GRID-ALIGN-LEFT\" name=\"iss_inst_cd\">25971</td>\n",
      "<td class=\"CI-GRID-ALIGN-LEFT\" name=\"iss_inst_nm\"><a href=\"#\" onclick=\"selectBondOrdData('25971','(주) 가나개발', this); return false;\">(주) 가나개발</a></td>\n",
      "</tr><tr class=\"CI-GRID-ODD\" tabindex=\"0\">\n",
      "<td class=\"CI-GRID-ALIGN-LEFT\" name=\"iss_inst_cd\">14747</td>\n",
      "<td class=\"CI-GRID-ALIGN-LEFT\" name=\"iss_inst_nm\"><a href=\"#\" onclick=\"selectBondOrdData('14747','(주) 건호공영', this); return false;\">(주) 건호공영</a></td>\n",
      "</tr><tr class=\"CI-GRID-EVEN\" tabindex=\"0\">\n",
      "<td class=\"CI-GRID-ALIGN-LEFT\" name=\"iss_inst_cd\">07791</td>\n",
      "<td class=\"CI-GRID-ALIGN-LEFT\" name=\"iss_inst_nm\"><a href=\"#\" onclick=\"selectBondOrdData('07791','(주)강남산업', this); return false;\">(주)강남산업</a></td>\n",
      "</tr><tr class=\"CI-GRID-ODD\" tabindex=\"0\">\n",
      "<td class=\"CI-GRID-ALIGN-LEFT\" name=\"iss_inst_cd\">31018</td>\n",
      "<td class=\"CI-GRID-ALIGN-LEFT\" name=\"iss_inst_nm\"><a href=\"#\" onclick=\"selectBondOrdData('31018','(주)강진테크', this); return false;\">(주)강진테크</a></td>\n",
      "</tr><tr class=\"CI-GRID-EVEN\" tabindex=\"0\">\n",
      "<td class=\"CI-GRID-ALIGN-LEFT\" name=\"iss_inst_cd\">15477</td>\n",
      "<td class=\"CI-GRID-ALIGN-LEFT\" name=\"iss_inst_nm\"><a href=\"#\" onclick=\"selectBondOrdData('15477','(주)거상', this); return false;\">(주)거상</a></td>\n",
      "</tr><tr class=\"CI-GRID-ODD\" tabindex=\"0\">\n",
      "<td class=\"CI-GRID-ALIGN-LEFT\" name=\"iss_inst_cd\">25460</td>\n",
      "<td class=\"CI-GRID-ALIGN-LEFT\" name=\"iss_inst_nm\"><a href=\"#\" onclick=\"selectBondOrdData('25460','(주)거탑건설', this); return false;\">(주)거탑건설</a></td>\n",
      "</tr><tr class=\"CI-GRID-EVEN\" tabindex=\"0\">\n",
      "<td class=\"CI-GRID-ALIGN-LEFT\" name=\"iss_inst_cd\">15921</td>\n",
      "<td class=\"CI-GRID-ALIGN-LEFT\" name=\"iss_inst_nm\"><a href=\"#\" onclick=\"selectBondOrdData('15921','(주)건원건설', this); return false;\">(주)건원건설</a></td>\n",
      "</tr><tr class=\"CI-GRID-ODD\" tabindex=\"0\">\n",
      "<td class=\"CI-GRID-ALIGN-LEFT\" name=\"iss_inst_cd\">16949</td>\n",
      "<td class=\"CI-GRID-ALIGN-LEFT\" name=\"iss_inst_nm\"><a href=\"#\" onclick=\"selectBondOrdData('16949','(주)게임젠', this); return false;\">(주)게임젠</a></td>\n",
      "</tr><tr class=\"CI-GRID-EVEN\" tabindex=\"0\">\n",
      "<td class=\"CI-GRID-ALIGN-LEFT\" name=\"iss_inst_cd\">16702</td>\n",
      "<td class=\"CI-GRID-ALIGN-LEFT\" name=\"iss_inst_nm\"><a href=\"#\" onclick=\"selectBondOrdData('16702','(주)경북가스', this); return false;\">(주)경북가스</a></td>\n",
      "</tr><tr class=\"CI-GRID-ODD\" tabindex=\"0\">\n",
      "<td class=\"CI-GRID-ALIGN-LEFT\" name=\"iss_inst_cd\">10954</td>\n",
      "<td class=\"CI-GRID-ALIGN-LEFT\" name=\"iss_inst_nm\"><a href=\"#\" onclick=\"selectBondOrdData('10954','(주)경인', this); return false;\">(주)경인</a></td>\n",
      "</tr><tr class=\"CI-GRID-EVEN\" tabindex=\"0\">\n",
      "<td class=\"CI-GRID-ALIGN-LEFT\" name=\"iss_inst_cd\">11010</td>\n",
      "<td class=\"CI-GRID-ALIGN-LEFT\" name=\"iss_inst_nm\"><a href=\"#\" onclick=\"selectBondOrdData('11010','(주)고금산업개발', this); return false;\">(주)고금산업개발</a></td>\n",
      "</tr><tr class=\"CI-GRID-ODD\" tabindex=\"0\">\n",
      "<td class=\"CI-GRID-ALIGN-LEFT\" name=\"iss_inst_cd\">11038</td>\n",
      "<td class=\"CI-GRID-ALIGN-LEFT\" name=\"iss_inst_nm\"><a href=\"#\" onclick=\"selectBondOrdData('11038','(주)골드스타라이트', this); return false;\">(주)골드스타라이트</a></td>\n",
      "</tr><tr class=\"CI-GRID-EVEN\" tabindex=\"0\">\n",
      "<td class=\"CI-GRID-ALIGN-LEFT\" name=\"iss_inst_cd\">23349</td>\n",
      "<td class=\"CI-GRID-ALIGN-LEFT\" name=\"iss_inst_nm\"><a href=\"#\" onclick=\"selectBondOrdData('23349','(주)광진기계', this); return false;\">(주)광진기계</a></td>\n",
      "</tr><tr class=\"CI-GRID-ODD\" tabindex=\"0\">\n",
      "<td class=\"CI-GRID-ALIGN-LEFT\" name=\"iss_inst_cd\">14749</td>\n",
      "<td class=\"CI-GRID-ALIGN-LEFT\" name=\"iss_inst_nm\"><a href=\"#\" onclick=\"selectBondOrdData('14749','(주)교동식품', this); return false;\">(주)교동식품</a></td>\n",
      "</tr><tr class=\"CI-GRID-EVEN\" tabindex=\"0\">\n",
      "<td class=\"CI-GRID-ALIGN-LEFT\" name=\"iss_inst_cd\">15481</td>\n",
      "<td class=\"CI-GRID-ALIGN-LEFT\" name=\"iss_inst_nm\"><a href=\"#\" onclick=\"selectBondOrdData('15481','(주)구룡건설', this); return false;\">(주)구룡건설</a></td>\n",
      "</tr><tr class=\"CI-GRID-ODD\" tabindex=\"0\">\n",
      "<td class=\"CI-GRID-ALIGN-LEFT\" name=\"iss_inst_cd\">16324</td>\n",
      "<td class=\"CI-GRID-ALIGN-LEFT\" name=\"iss_inst_nm\"><a href=\"#\" onclick=\"selectBondOrdData('16324','(주)굿텔', this); return false;\">(주)굿텔</a></td>\n",
      "</tr><tr class=\"CI-GRID-EVEN\" tabindex=\"0\">\n",
      "<td class=\"CI-GRID-ALIGN-LEFT\" name=\"iss_inst_cd\">15497</td>\n",
      "<td class=\"CI-GRID-ALIGN-LEFT\" name=\"iss_inst_nm\"><a href=\"#\" onclick=\"selectBondOrdData('15497','(주)금강기업', this); return false;\">(주)금강기업</a></td>\n",
      "</tr><tr class=\"CI-GRID-ODD\" tabindex=\"0\">\n",
      "<td class=\"CI-GRID-ALIGN-LEFT\" name=\"iss_inst_cd\">11662</td>\n",
      "<td class=\"CI-GRID-ALIGN-LEFT\" name=\"iss_inst_nm\"><a href=\"#\" onclick=\"selectBondOrdData('11662','(주)금강알텍', this); return false;\">(주)금강알텍</a></td>\n",
      "</tr><tr class=\"CI-GRID-EVEN\" tabindex=\"0\">\n",
      "<td class=\"CI-GRID-ALIGN-LEFT\" name=\"iss_inst_cd\">14882</td>\n",
      "<td class=\"CI-GRID-ALIGN-LEFT\" name=\"iss_inst_nm\"><a href=\"#\" onclick=\"selectBondOrdData('14882','(주)금성산업', this); return false;\">(주)금성산업</a></td>\n",
      "</tr><tr class=\"CI-GRID-ODD\" tabindex=\"0\">\n",
      "<td class=\"CI-GRID-ALIGN-LEFT\" name=\"iss_inst_cd\">15502</td>\n",
      "<td class=\"CI-GRID-ALIGN-LEFT\" name=\"iss_inst_nm\"><a href=\"#\" onclick=\"selectBondOrdData('15502','(주)금성산업', this); return false;\">(주)금성산업</a></td>\n",
      "</tr></tbody></table></div></div></div>\n",
      "<div class=\"CI-GRID-BODY-WRAPPER\"><div class=\"CI-GRID-BODY-SCROLLER\" style=\"overflow: hidden; position: relative; height: 271px;\"><div class=\"CI-GRID-BODY-INNER\" style=\"position: relative; min-height: 1px; width: 516px; height: 58072px;\"><div style=\"position: absolute; top: 0px; left: 0px; width: 1px; height: 58072px;\"></div><table class=\"CI-GRID-BODY-TABLE\" style=\"z-index: 1; position: absolute; top: 0px;\"><thead class=\"CI-GRID-BODY-TABLE-THEAD\"><tr><th class=\"CI-GRID-BODY-TABLE-THEAD-CELL\" colspan=\"1\" data-name=\"iss_inst_cd\" style=\"max-width: 154.8px; width: 154.8px;\">발행기관코드</th><th class=\"CI-GRID-BODY-TABLE-THEAD-CELL\" colspan=\"1\" data-name=\"iss_inst_nm\" style=\"max-width: 361.2px; width: 361.2px;\">발행기관명</th></tr></thead><tbody class=\"CI-GRID-BODY-TABLE-TBODY\"><tr class=\"CI-GRID-EVEN\" tabindex=\"0\">\n",
      "<td class=\"CI-GRID-ALIGN-LEFT\" name=\"iss_inst_cd\">25971</td>\n",
      "<td class=\"CI-GRID-ALIGN-LEFT\" name=\"iss_inst_nm\"><a href=\"#\" onclick=\"selectBondOrdData('25971','(주) 가나개발', this); return false;\">(주) 가나개발</a></td>\n",
      "</tr><tr class=\"CI-GRID-ODD\" tabindex=\"0\">\n",
      "<td class=\"CI-GRID-ALIGN-LEFT\" name=\"iss_inst_cd\">14747</td>\n",
      "<td class=\"CI-GRID-ALIGN-LEFT\" name=\"iss_inst_nm\"><a href=\"#\" onclick=\"selectBondOrdData('14747','(주) 건호공영', this); return false;\">(주) 건호공영</a></td>\n",
      "</tr><tr class=\"CI-GRID-EVEN\" tabindex=\"0\">\n",
      "<td class=\"CI-GRID-ALIGN-LEFT\" name=\"iss_inst_cd\">07791</td>\n",
      "<td class=\"CI-GRID-ALIGN-LEFT\" name=\"iss_inst_nm\"><a href=\"#\" onclick=\"selectBondOrdData('07791','(주)강남산업', this); return false;\">(주)강남산업</a></td>\n",
      "</tr><tr class=\"CI-GRID-ODD\" tabindex=\"0\">\n",
      "<td class=\"CI-GRID-ALIGN-LEFT\" name=\"iss_inst_cd\">31018</td>\n",
      "<td class=\"CI-GRID-ALIGN-LEFT\" name=\"iss_inst_nm\"><a href=\"#\" onclick=\"selectBondOrdData('31018','(주)강진테크', this); return false;\">(주)강진테크</a></td>\n",
      "</tr><tr class=\"CI-GRID-EVEN\" tabindex=\"0\">\n",
      "<td class=\"CI-GRID-ALIGN-LEFT\" name=\"iss_inst_cd\">15477</td>\n",
      "<td class=\"CI-GRID-ALIGN-LEFT\" name=\"iss_inst_nm\"><a href=\"#\" onclick=\"selectBondOrdData('15477','(주)거상', this); return false;\">(주)거상</a></td>\n",
      "</tr><tr class=\"CI-GRID-ODD\" tabindex=\"0\">\n",
      "<td class=\"CI-GRID-ALIGN-LEFT\" name=\"iss_inst_cd\">25460</td>\n",
      "<td class=\"CI-GRID-ALIGN-LEFT\" name=\"iss_inst_nm\"><a href=\"#\" onclick=\"selectBondOrdData('25460','(주)거탑건설', this); return false;\">(주)거탑건설</a></td>\n",
      "</tr><tr class=\"CI-GRID-EVEN\" tabindex=\"0\">\n",
      "<td class=\"CI-GRID-ALIGN-LEFT\" name=\"iss_inst_cd\">15921</td>\n",
      "<td class=\"CI-GRID-ALIGN-LEFT\" name=\"iss_inst_nm\"><a href=\"#\" onclick=\"selectBondOrdData('15921','(주)건원건설', this); return false;\">(주)건원건설</a></td>\n",
      "</tr><tr class=\"CI-GRID-ODD\" tabindex=\"0\">\n",
      "<td class=\"CI-GRID-ALIGN-LEFT\" name=\"iss_inst_cd\">16949</td>\n",
      "<td class=\"CI-GRID-ALIGN-LEFT\" name=\"iss_inst_nm\"><a href=\"#\" onclick=\"selectBondOrdData('16949','(주)게임젠', this); return false;\">(주)게임젠</a></td>\n",
      "</tr><tr class=\"CI-GRID-EVEN\" tabindex=\"0\">\n",
      "<td class=\"CI-GRID-ALIGN-LEFT\" name=\"iss_inst_cd\">16702</td>\n",
      "<td class=\"CI-GRID-ALIGN-LEFT\" name=\"iss_inst_nm\"><a href=\"#\" onclick=\"selectBondOrdData('16702','(주)경북가스', this); return false;\">(주)경북가스</a></td>\n",
      "</tr><tr class=\"CI-GRID-ODD\" tabindex=\"0\">\n",
      "<td class=\"CI-GRID-ALIGN-LEFT\" name=\"iss_inst_cd\">10954</td>\n",
      "<td class=\"CI-GRID-ALIGN-LEFT\" name=\"iss_inst_nm\"><a href=\"#\" onclick=\"selectBondOrdData('10954','(주)경인', this); return false;\">(주)경인</a></td>\n",
      "</tr><tr class=\"CI-GRID-EVEN\" tabindex=\"0\">\n",
      "<td class=\"CI-GRID-ALIGN-LEFT\" name=\"iss_inst_cd\">11010</td>\n",
      "<td class=\"CI-GRID-ALIGN-LEFT\" name=\"iss_inst_nm\"><a href=\"#\" onclick=\"selectBondOrdData('11010','(주)고금산업개발', this); return false;\">(주)고금산업개발</a></td>\n",
      "</tr><tr class=\"CI-GRID-ODD\" tabindex=\"0\">\n",
      "<td class=\"CI-GRID-ALIGN-LEFT\" name=\"iss_inst_cd\">11038</td>\n",
      "<td class=\"CI-GRID-ALIGN-LEFT\" name=\"iss_inst_nm\"><a href=\"#\" onclick=\"selectBondOrdData('11038','(주)골드스타라이트', this); return false;\">(주)골드스타라이트</a></td>\n",
      "</tr><tr class=\"CI-GRID-EVEN\" tabindex=\"0\">\n",
      "<td class=\"CI-GRID-ALIGN-LEFT\" name=\"iss_inst_cd\">23349</td>\n",
      "<td class=\"CI-GRID-ALIGN-LEFT\" name=\"iss_inst_nm\"><a href=\"#\" onclick=\"selectBondOrdData('23349','(주)광진기계', this); return false;\">(주)광진기계</a></td>\n",
      "</tr><tr class=\"CI-GRID-ODD\" tabindex=\"0\">\n",
      "<td class=\"CI-GRID-ALIGN-LEFT\" name=\"iss_inst_cd\">14749</td>\n",
      "<td class=\"CI-GRID-ALIGN-LEFT\" name=\"iss_inst_nm\"><a href=\"#\" onclick=\"selectBondOrdData('14749','(주)교동식품', this); return false;\">(주)교동식품</a></td>\n",
      "</tr><tr class=\"CI-GRID-EVEN\" tabindex=\"0\">\n",
      "<td class=\"CI-GRID-ALIGN-LEFT\" name=\"iss_inst_cd\">15481</td>\n",
      "<td class=\"CI-GRID-ALIGN-LEFT\" name=\"iss_inst_nm\"><a href=\"#\" onclick=\"selectBondOrdData('15481','(주)구룡건설', this); return false;\">(주)구룡건설</a></td>\n",
      "</tr><tr class=\"CI-GRID-ODD\" tabindex=\"0\">\n",
      "<td class=\"CI-GRID-ALIGN-LEFT\" name=\"iss_inst_cd\">16324</td>\n",
      "<td class=\"CI-GRID-ALIGN-LEFT\" name=\"iss_inst_nm\"><a href=\"#\" onclick=\"selectBondOrdData('16324','(주)굿텔', this); return false;\">(주)굿텔</a></td>\n",
      "</tr><tr class=\"CI-GRID-EVEN\" tabindex=\"0\">\n",
      "<td class=\"CI-GRID-ALIGN-LEFT\" name=\"iss_inst_cd\">15497</td>\n",
      "<td class=\"CI-GRID-ALIGN-LEFT\" name=\"iss_inst_nm\"><a href=\"#\" onclick=\"selectBondOrdData('15497','(주)금강기업', this); return false;\">(주)금강기업</a></td>\n",
      "</tr><tr class=\"CI-GRID-ODD\" tabindex=\"0\">\n",
      "<td class=\"CI-GRID-ALIGN-LEFT\" name=\"iss_inst_cd\">11662</td>\n",
      "<td class=\"CI-GRID-ALIGN-LEFT\" name=\"iss_inst_nm\"><a href=\"#\" onclick=\"selectBondOrdData('11662','(주)금강알텍', this); return false;\">(주)금강알텍</a></td>\n",
      "</tr><tr class=\"CI-GRID-EVEN\" tabindex=\"0\">\n",
      "<td class=\"CI-GRID-ALIGN-LEFT\" name=\"iss_inst_cd\">14882</td>\n",
      "<td class=\"CI-GRID-ALIGN-LEFT\" name=\"iss_inst_nm\"><a href=\"#\" onclick=\"selectBondOrdData('14882','(주)금성산업', this); return false;\">(주)금성산업</a></td>\n",
      "</tr><tr class=\"CI-GRID-ODD\" tabindex=\"0\">\n",
      "<td class=\"CI-GRID-ALIGN-LEFT\" name=\"iss_inst_cd\">15502</td>\n",
      "<td class=\"CI-GRID-ALIGN-LEFT\" name=\"iss_inst_nm\"><a href=\"#\" onclick=\"selectBondOrdData('15502','(주)금성산업', this); return false;\">(주)금성산업</a></td>\n",
      "</tr></tbody></table></div></div></div>\n"
     ]
    }
   ],
   "source": [
    "chrome_driver = 'D:/bigdata/Python_workspace/jupyter/chromedriver.exe'\n",
    "# # headless driver\n",
    "# driver = webdriver.Chrome(chrome_driver, chrome_options=options)\n",
    "driver = webdriver.Chrome(chrome_driver)\n",
    "driver.implicitly_wait(10)\n",
    "url = 'http://marketdata.krx.co.kr/mdi#document=050101'\n",
    "driver.get(url)\n",
    "elem = driver.find_element_by_name('finderbtn')\n",
    "elem.click()\n",
    "driver.implicitly_wait(10)\n",
    "WebDriverWait(driver, 20).until(EC.presence_of_element_located((By.CSS_SELECTOR, '.CI-GRID-ALIGN-LEFT')))\n",
    "soup = bs(driver.page_source,'html.parser')\n",
    "print(soup.select_one('.CI-GRID-BODY-WRAPPER'))\n",
    "elem = driver.find_element_by_css_selector('.CI-FREEZE-SCROLLER')\n",
    "\n",
    "soup = bs(driver.page_source,'html.parser')\n",
    "print(soup.select_one('.CI-GRID-BODY-WRAPPER'))\n",
    "time.sleep(1)"
   ]
  },
  {
   "cell_type": "code",
   "execution_count": 50,
   "metadata": {},
   "outputs": [
    {
     "data": {
      "text/plain": [
       "{'x': 467, 'y': 0}"
      ]
     },
     "execution_count": 50,
     "metadata": {},
     "output_type": "execute_result"
    }
   ],
   "source": [
    "elem."
   ]
  },
  {
   "cell_type": "code",
   "execution_count": 53,
   "metadata": {},
   "outputs": [
    {
     "data": {
      "text/plain": [
       "''"
      ]
     },
     "execution_count": 53,
     "metadata": {},
     "output_type": "execute_result"
    }
   ],
   "source": [
    "url = 'http://marketdata.krx.co.kr/contents/COM/GenerateOTP.jspx?name=fileDown&filetype=csv&url=MKD/05/0501/05010100/mkd05010100&isu_cdnm=%EC%A0%84%EC%B2%B4&isu_cd=&iss_inst_nm=&isu_srt_cd=&bnd_typ=&isu_cdnm=&isu_cd=&bnd_div_nm=&isu_srt_cd=&endr_typ=&spb_typ=&opb_typ=0&irt_pay_mth_n=&refund_nm_n=&fr_dis_dt=&to_dis_dt=&fr_lst_dt=&to_lst_dt=&crdt_ass_inst=&crdt_ass_inst_rk=&fr_iss_dt=&to_iss_dt=&curr_cd=&rank_tp_cd=&pagePath=%2Fcontents%2FMKD%2F05%2F0501%2F05010100%2FMKD05010100.jsp'\n",
    "resp = requests.get(url)\n",
    "resp.text"
   ]
  },
  {
   "cell_type": "code",
   "execution_count": null,
   "metadata": {},
   "outputs": [],
   "source": []
  }
 ],
 "metadata": {
  "kernelspec": {
   "display_name": "Python 3",
   "language": "python",
   "name": "python3"
  },
  "language_info": {
   "codemirror_mode": {
    "name": "ipython",
    "version": 3
   },
   "file_extension": ".py",
   "mimetype": "text/x-python",
   "name": "python",
   "nbconvert_exporter": "python",
   "pygments_lexer": "ipython3",
   "version": "3.7.7"
  }
 },
 "nbformat": 4,
 "nbformat_minor": 4
}
