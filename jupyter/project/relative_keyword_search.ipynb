{
 "cells": [
  {
   "cell_type": "markdown",
   "metadata": {},
   "source": [
    "# module import"
   ]
  },
  {
   "cell_type": "code",
   "execution_count": 48,
   "metadata": {},
   "outputs": [],
   "source": [
    "import requests\n",
    "from bs4 import BeautifulSoup as bs\n",
    "import pandas as pd\n",
    "import fileIO as io"
   ]
  },
  {
   "cell_type": "markdown",
   "metadata": {},
   "source": [
    "# 데이터 불러오기"
   ]
  },
  {
   "cell_type": "code",
   "execution_count": 42,
   "metadata": {},
   "outputs": [],
   "source": [
    "keywords_csv = io.csv_to_list(\"rtop20_stocks.csv\")\n",
    "keywords_list = list(map(lambda i:i.split(\",\")[0], keywords_csv))\n",
    "df = pd.read_html('http://kind.krx.co.kr/corpgeneral/corpList.do?method=download', header=0)\n",
    "jongmok_list = list(df[0]['회사명'])"
   ]
  },
  {
   "cell_type": "markdown",
   "metadata": {},
   "source": [
    "# 테스트"
   ]
  },
  {
   "cell_type": "code",
   "execution_count": 38,
   "metadata": {},
   "outputs": [
    {
     "name": "stdout",
     "output_type": "stream",
     "text": [
      "연관검색어가 없음\n"
     ]
    }
   ],
   "source": [
    "url = 'https://search.naver.com/search.naver'\n",
    "keyword = '조비'\n",
    "params = {\n",
    "    \"sm\" : \"top_hty\",\n",
    "    \"fbm\" : \"1\",\n",
    "    \"ie\" : \"utf8\",\n",
    "    \"query\" : keyword\n",
    "}\n",
    "resp = requests.get(url, params=params)\n",
    "soup = bs(resp.text, 'html.parser')\n",
    "rel_keywords = soup.select_one('.relate_area')\n",
    "if rel_keywords == None:\n",
    "    print('연관검색어가 없음')\n",
    "# print(list(map(lambda i:i.text.strip(), rel_keywords)))\n",
    "# print(rel_keywords)"
   ]
  },
  {
   "cell_type": "markdown",
   "metadata": {},
   "source": [
    "# 실행"
   ]
  },
  {
   "cell_type": "code",
   "execution_count": 60,
   "metadata": {},
   "outputs": [],
   "source": [
    "keywords_list_addrel = list(map(lambda i:i.split(\",\"), keywords_csv))\n",
    "for keyword, item in zip(keywords_list, keywords_list_addrel):\n",
    "    url = 'https://search.naver.com/search.naver'\n",
    "#     keyword = '셀트리온헬스케어'\n",
    "    params = {\n",
    "        \"sm\" : \"top_hty\",\n",
    "        \"fbm\" : \"1\",\n",
    "        \"ie\" : \"utf8\",\n",
    "        \"query\" : keyword\n",
    "    }\n",
    "    resp = requests.get(url, params=params)\n",
    "    soup = bs(resp.text, 'html.parser')\n",
    "    rel_keywords_area = soup.select_one('.relate_area')\n",
    "    rel_keywords = []\n",
    "    if rel_keywords_area == None:\n",
    "        pass\n",
    "    else:\n",
    "        rel_keywords = list(map(lambda i:i.text.strip(), rel_keywords_area.select('li')))\n",
    "        cnt = 0\n",
    "        for i in range(len(rel_keywords)):\n",
    "            if rel_keywords[i-cnt] in jongmok_list:\n",
    "                pass\n",
    "            else:\n",
    "                del rel_keywords[i-cnt]\n",
    "                cnt += 1\n",
    "#     print(rel_keywords)\n",
    "    item.append(rel_keywords)"
   ]
  },
  {
   "cell_type": "code",
   "execution_count": 63,
   "metadata": {},
   "outputs": [
    {
     "data": {
      "text/plain": [
       "['영화테크',\n",
       " '우정바이오',\n",
       " '덕양산업',\n",
       " '파멥신',\n",
       " '엠게임',\n",
       " '마인',\n",
       " '조비',\n",
       " '녹십자셀',\n",
       " '넷마블',\n",
       " '신도기연',\n",
       " '부국철강']"
      ]
     },
     "execution_count": 63,
     "metadata": {},
     "output_type": "execute_result"
    }
   ],
   "source": [
    "keywords_list"
   ]
  },
  {
   "cell_type": "code",
   "execution_count": null,
   "metadata": {},
   "outputs": [],
   "source": []
  }
 ],
 "metadata": {
  "kernelspec": {
   "display_name": "Python 3",
   "language": "python",
   "name": "python3"
  },
  "language_info": {
   "codemirror_mode": {
    "name": "ipython",
    "version": 3
   },
   "file_extension": ".py",
   "mimetype": "text/x-python",
   "name": "python",
   "nbconvert_exporter": "python",
   "pygments_lexer": "ipython3",
   "version": "3.7.7"
  }
 },
 "nbformat": 4,
 "nbformat_minor": 4
}
