{
 "cells": [
  {
   "cell_type": "code",
   "execution_count": 4,
   "metadata": {},
   "outputs": [
    {
     "name": "stdout",
     "output_type": "stream",
     "text": [
      "Collecting finance-datareaderNote: you may need to restart the kernel to use updated packages.\n",
      "\n",
      "  Downloading finance_datareader-0.9.6-py3-none-any.whl (17 kB)\n",
      "Collecting lxml\n",
      "  Downloading lxml-4.5.1-cp37-cp37m-win_amd64.whl (3.5 MB)\n",
      "Requirement already satisfied: requests>=2.3.0 in c:\\programdata\\anaconda3\\envs\\collect\\lib\\site-packages (from finance-datareader) (2.23.0)\n",
      "Collecting requests-file\n",
      "  Using cached requests_file-1.5.1-py2.py3-none-any.whl (3.7 kB)\n",
      "Requirement already satisfied: pandas>=0.19.2 in c:\\programdata\\anaconda3\\envs\\collect\\lib\\site-packages (from finance-datareader) (1.0.4)\n",
      "Requirement already satisfied: idna<3,>=2.5 in c:\\programdata\\anaconda3\\envs\\collect\\lib\\site-packages (from requests>=2.3.0->finance-datareader) (2.9)\n",
      "Requirement already satisfied: chardet<4,>=3.0.2 in c:\\programdata\\anaconda3\\envs\\collect\\lib\\site-packages (from requests>=2.3.0->finance-datareader) (3.0.4)\n",
      "Requirement already satisfied: urllib3!=1.25.0,!=1.25.1,<1.26,>=1.21.1 in c:\\programdata\\anaconda3\\envs\\collect\\lib\\site-packages (from requests>=2.3.0->finance-datareader) (1.25.9)\n",
      "Requirement already satisfied: certifi>=2017.4.17 in c:\\programdata\\anaconda3\\envs\\collect\\lib\\site-packages (from requests>=2.3.0->finance-datareader) (2020.4.5.1)\n",
      "Requirement already satisfied: six in c:\\programdata\\anaconda3\\envs\\collect\\lib\\site-packages (from requests-file->finance-datareader) (1.14.0)\n",
      "Requirement already satisfied: pytz>=2017.2 in c:\\programdata\\anaconda3\\envs\\collect\\lib\\site-packages (from pandas>=0.19.2->finance-datareader) (2020.1)\n",
      "Requirement already satisfied: numpy>=1.13.3 in c:\\programdata\\anaconda3\\envs\\collect\\lib\\site-packages (from pandas>=0.19.2->finance-datareader) (1.18.4)\n",
      "Requirement already satisfied: python-dateutil>=2.6.1 in c:\\programdata\\anaconda3\\envs\\collect\\lib\\site-packages (from pandas>=0.19.2->finance-datareader) (2.8.1)\n",
      "Installing collected packages: lxml, requests-file, finance-datareader\n",
      "Successfully installed finance-datareader-0.9.6 lxml-4.5.1 requests-file-1.5.1\n"
     ]
    }
   ],
   "source": [
    "pip install finance-datareader"
   ]
  },
  {
   "cell_type": "code",
   "execution_count": 11,
   "metadata": {},
   "outputs": [
    {
     "data": {
      "text/plain": [
       "'0.9.6'"
      ]
     },
     "execution_count": 11,
     "metadata": {},
     "output_type": "execute_result"
    }
   ],
   "source": [
    "import FinanceDataReader as fdr\n",
    "import pandas as pd\n",
    "fdr.__version__"
   ]
  },
  {
   "cell_type": "code",
   "execution_count": 18,
   "metadata": {
    "scrolled": false
   },
   "outputs": [],
   "source": [
    "# df_krx = fdr.StockListing('KRX')\n",
    "# df_krx.head()\n",
    "df = fdr.DataReader('060310','2020') # 3S\n",
    "df_pd = pd.DataFrame(df)\n",
    "df_pd.to_json('3s.json', orient='table', indent=4)"
   ]
  }
 ],
 "metadata": {
  "kernelspec": {
   "display_name": "Python 3",
   "language": "python",
   "name": "python3"
  },
  "language_info": {
   "codemirror_mode": {
    "name": "ipython",
    "version": 3
   },
   "file_extension": ".py",
   "mimetype": "text/x-python",
   "name": "python",
   "nbconvert_exporter": "python",
   "pygments_lexer": "ipython3",
   "version": "3.7.7"
  }
 },
 "nbformat": 4,
 "nbformat_minor": 4
}
