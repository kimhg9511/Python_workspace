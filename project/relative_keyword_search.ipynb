{
 "cells": [
  {
   "cell_type": "markdown",
   "metadata": {},
   "source": [
    "# module import"
   ]
  },
  {
   "cell_type": "code",
   "execution_count": 1,
   "metadata": {},
   "outputs": [],
   "source": [
    "import requests\n",
    "from bs4 import BeautifulSoup as bs\n",
    "import pandas as pd\n",
    "import fileIO as io"
   ]
  },
  {
   "cell_type": "markdown",
   "metadata": {},
   "source": [
    "# 데이터 불러오기"
   ]
  },
  {
   "cell_type": "code",
   "execution_count": 2,
   "metadata": {},
   "outputs": [],
   "source": [
    "keywords_csv = io.csv_to_list(\"rtop20_stocks.csv\")\n",
    "keywords_list = list(map(lambda i:i.split(\",\")[0], keywords_csv))\n",
    "df = pd.read_html('http://kind.krx.co.kr/corpgeneral/corpList.do?method=download', header=0)\n",
    "jongmok_list = list(df[0]['회사명'])"
   ]
  },
  {
   "cell_type": "markdown",
   "metadata": {},
   "source": [
    "# 테스트"
   ]
  },
  {
   "cell_type": "code",
   "execution_count": 38,
   "metadata": {},
   "outputs": [
    {
     "name": "stdout",
     "output_type": "stream",
     "text": [
      "연관검색어가 없음\n"
     ]
    }
   ],
   "source": [
    "url = 'https://search.naver.com/search.naver'\n",
    "keyword = '조비'\n",
    "params = {\n",
    "    \"sm\" : \"top_hty\",\n",
    "    \"fbm\" : \"1\",\n",
    "    \"ie\" : \"utf8\",\n",
    "    \"query\" : keyword\n",
    "}\n",
    "resp = requests.get(url, params=params)\n",
    "soup = bs(resp.text, 'html.parser')\n",
    "rel_keywords = soup.select_one('.relate_area')\n",
    "if rel_keywords == None:\n",
    "    print('연관검색어가 없음')\n",
    "# print(list(map(lambda i:i.text.strip(), rel_keywords)))\n",
    "# print(rel_keywords)"
   ]
  },
  {
   "cell_type": "markdown",
   "metadata": {},
   "source": [
    "# 실행"
   ]
  },
  {
   "cell_type": "code",
   "execution_count": 3,
   "metadata": {},
   "outputs": [],
   "source": [
    "keywords_list_addrel = list(map(lambda i:i.split(\",\"), keywords_csv))\n",
    "for keyword, item in zip(keywords_list, keywords_list_addrel):\n",
    "    url = 'https://search.naver.com/search.naver'\n",
    "#     keyword = '셀트리온헬스케어'\n",
    "    params = {\n",
    "        \"sm\" : \"top_hty\",\n",
    "        \"fbm\" : \"1\",\n",
    "        \"ie\" : \"utf8\",\n",
    "        \"query\" : keyword\n",
    "    }\n",
    "    resp = requests.get(url, params=params)\n",
    "    soup = bs(resp.text, 'html.parser')\n",
    "    rel_keywords_area = soup.select_one('.relate_area')\n",
    "    rel_keywords = []\n",
    "    if rel_keywords_area == None:\n",
    "        pass\n",
    "    else:\n",
    "        rel_keywords = list(map(lambda i:i.text.strip(), rel_keywords_area.select('li')))\n",
    "        cnt = 0\n",
    "        for i in range(len(rel_keywords)):\n",
    "            if rel_keywords[i-cnt] in jongmok_list:\n",
    "                pass\n",
    "            else:\n",
    "                del rel_keywords[i-cnt]\n",
    "                cnt += 1\n",
    "#     print(rel_keywords)\n",
    "    item.append(rel_keywords)"
   ]
  },
  {
   "cell_type": "code",
   "execution_count": 4,
   "metadata": {},
   "outputs": [
    {
     "data": {
      "text/plain": [
       "['엠게임', '조비', '영화테크', '녹십자셀', '신도기연', '덕양산업', '파멥신', '부국철강', '넷마블', '우정바이오']"
      ]
     },
     "execution_count": 4,
     "metadata": {},
     "output_type": "execute_result"
    }
   ],
   "source": [
    "keywords_list"
   ]
  },
  {
   "cell_type": "code",
   "execution_count": 5,
   "metadata": {},
   "outputs": [
    {
     "data": {
      "text/plain": [
       "['신풍제약', '삼성제약', '보령제약', '이글벳', '국제약품', '종근당바이오']"
      ]
     },
     "execution_count": 5,
     "metadata": {},
     "output_type": "execute_result"
    }
   ],
   "source": [
    "rel_keywords"
   ]
  },
  {
   "cell_type": "code",
   "execution_count": 6,
   "metadata": {},
   "outputs": [
    {
     "data": {
      "text/plain": [
       "[['엠게임',\n",
       "  '2020-07-07 10:24:00',\n",
       "  ['넷마블', '게임빌', '웹젠', '드래곤플라이', '액토즈소프트', '넥슨지티']],\n",
       " ['조비', '2020-07-07 09:19:00', []],\n",
       " ['영화테크',\n",
       "  '2020-07-07 12:31:00',\n",
       "  ['알에프세미',\n",
       "   '알티캐스트',\n",
       "   '덕양산업',\n",
       "   '디피씨',\n",
       "   '영화금속',\n",
       "   '일진다이아',\n",
       "   '에코프로비엠',\n",
       "   '동화기업',\n",
       "   '경창산업']],\n",
       " ['녹십자셀',\n",
       "  '2020-07-07 14:17:00',\n",
       "  ['녹십자랩셀', '녹십자', '녹십자엠에스', '녹십자웰빙', '녹십자홀딩스', '삼성전자']],\n",
       " ['신도기연', '2020-07-07 07:50:00', ['위더스제약']],\n",
       " ['덕양산업',\n",
       "  '2020-07-07 10:22:00',\n",
       "  ['조비', '인지컨트롤스', '영화테크', '풍강', '알티캐스트', '알에프세미', '삼진엘앤디']],\n",
       " ['파멥신',\n",
       "  '2020-07-07 17:22:00',\n",
       "  ['풍강', '삼진엘앤디', '넥스트아이', '펩트론', '에이비엘바이오', '레고켐바이오', '제넥신']],\n",
       " ['부국철강', '2020-07-07 13:24:00', ['범양건영', '남선알미늄', '서원', '문배철강', '이월드']],\n",
       " ['넷마블', '2020-07-07 10:53:00', ['엔씨소프트', '디피씨', '카카오', '넥슨지티', '컴투스']],\n",
       " ['우정바이오',\n",
       "  '2020-07-07 08:43:00',\n",
       "  ['신풍제약', '삼성제약', '보령제약', '이글벳', '국제약품', '종근당바이오']]]"
      ]
     },
     "execution_count": 6,
     "metadata": {},
     "output_type": "execute_result"
    }
   ],
   "source": [
    "keywords_list_addrel"
   ]
  },
  {
   "cell_type": "code",
   "execution_count": null,
   "metadata": {},
   "outputs": [],
   "source": []
  }
 ],
 "metadata": {
  "kernelspec": {
   "display_name": "Python 3",
   "language": "python",
   "name": "python3"
  },
  "language_info": {
   "codemirror_mode": {
    "name": "ipython",
    "version": 3
   },
   "file_extension": ".py",
   "mimetype": "text/x-python",
   "name": "python",
   "nbconvert_exporter": "python",
   "pygments_lexer": "ipython3",
   "version": "3.7.7"
  }
 },
 "nbformat": 4,
 "nbformat_minor": 4
}
