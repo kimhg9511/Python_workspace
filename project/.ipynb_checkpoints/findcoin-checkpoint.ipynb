{
 "cells": [
  {
   "cell_type": "code",
   "execution_count": 1,
   "metadata": {},
   "outputs": [],
   "source": [
    "import pandas as pd\n",
    "import requests\n",
    "import time\n",
    "import datetime\n",
    "from datetime import datetime as dt\n",
    "from tqdm.notebook import tqdm"
   ]
  },
  {
   "cell_type": "markdown",
   "metadata": {},
   "source": [
    "# bithumb api 호출"
   ]
  },
  {
   "cell_type": "code",
   "execution_count": 2,
   "metadata": {},
   "outputs": [],
   "source": [
    "url = 'https://api.bithumb.com/public/ticker/all'\n",
    "params = '{order_currency}_{payment_currency}/{chart_intervals}'\n",
    "resp = requests.get(url)\n",
    "coin_list = list(resp.json()['data'].keys())[:-1]\n",
    "df_list = list(map(lambda i: 'df_' + i, coin_list))\n",
    "df_coin_dict = {}"
   ]
  },
  {
   "cell_type": "code",
   "execution_count": 3,
   "metadata": {},
   "outputs": [],
   "source": [
    "to_dt = lambda i: dt.fromtimestamp(i/1000)\n",
    "def get_dist(df):\n",
    "    return abs(df['ma90']- df['ma45'])\n",
    "def get_voldist(df):\n",
    "    return abs(df['volMA90']- df['volMA45'])"
   ]
  },
  {
   "cell_type": "code",
   "execution_count": 4,
   "metadata": {},
   "outputs": [
    {
     "data": {
      "application/vnd.jupyter.widget-view+json": {
       "model_id": "192d3903c3c34d919b391d03e2bc7eec",
       "version_major": 2,
       "version_minor": 0
      },
      "text/plain": [
       "HBox(children=(FloatProgress(value=0.0, max=103.0), HTML(value='')))"
      ]
     },
     "metadata": {},
     "output_type": "display_data"
    },
    {
     "name": "stdout",
     "output_type": "stream",
     "text": [
      "\n"
     ]
    }
   ],
   "source": [
    "for coin in tqdm(coin_list):\n",
    "    # crawling part\n",
    "    chart_intervals = ''\n",
    "    payment_currency = 'KRW'\n",
    "    order_currency = coin\n",
    "    url = f'https://api.bithumb.com/public/candlestick/{order_currency}_{payment_currency}/{chart_intervals}'\n",
    "    resp = requests.get(url)\n",
    "    json_coin = resp.json()['data']\n",
    "    # json to df\n",
    "    df_coin = pd.DataFrame.from_dict(json_coin)\n",
    "    df_coin.columns = ['datetime','open','close','high','low','volume']\n",
    "    df_coin['datetime'] = df_coin['datetime'].apply(to_dt)\n",
    "    df_coin.set_index('datetime', inplace=True)\n",
    "    df_coin['open'] = df_coin['open'].astype('float')\n",
    "    df_coin['close'] = df_coin['close'].astype('float')\n",
    "    df_coin['high'] = df_coin['high'].astype('float')\n",
    "    df_coin['low'] = df_coin['low'].astype('float')\n",
    "    df_coin['volume'] = df_coin['volume'].astype('float')\n",
    "    # 주가 변동폭 계산\n",
    "    df_coin['diff'] = df_coin['high'] - df_coin['low']    \n",
    "    # 이평 이격도 계산\n",
    "    df_coin['ma90'] = df_coin['close'].rolling(window=90, min_periods=90).mean()\n",
    "    df_coin['ma45'] = df_coin['close'].rolling(window=45, min_periods=45).mean()\n",
    "    df_coin['dist'] = df_coin.apply(get_dist, axis=1)\n",
    "    # 거래량 비율 계산\n",
    "    df_coin['volMA90'] = df_coin['volume'].rolling(window=90, min_periods=90).mean()\n",
    "    df_coin['volMA45'] = df_coin['volume'].rolling(window=45, min_periods=45).mean()\n",
    "    df_coin['voldist'] = df_coin.apply(get_voldist, axis=1)\n",
    "    df_coin['volRatio'] = abs(1 - df_coin['volume'] / df_coin['volMA90'])\n",
    "    # 볼린저 밴드 계산\n",
    "    df_coin['mbb'] = df_coin['close'].rolling(20).mean()\n",
    "    df_coin['ubb'] = df_coin['mbb'] + 2 * df_coin['close'].rolling(20).std()\n",
    "    df_coin['lbb'] = df_coin['mbb'] - 2 * df_coin['close'].rolling(20).std()\n",
    "    df_coin['bolingerdiff'] = df_coin['ubb'] - df_coin['lbb']\n",
    "    df_coin_dict[coin] = df_coin\n",
    "# 시간 시 종 고 저 거래량"
   ]
  },
  {
   "cell_type": "code",
   "execution_count": 5,
   "metadata": {},
   "outputs": [],
   "source": [
    "df_BTC = df_coin_dict['BTC']"
   ]
  },
  {
   "cell_type": "markdown",
   "metadata": {},
   "source": [
    "# 주가 변동폭"
   ]
  },
  {
   "cell_type": "code",
   "execution_count": null,
   "metadata": {},
   "outputs": [],
   "source": [
    "# df_BTC['diff'] = df_BTC['high'] - df_BTC['low']    "
   ]
  },
  {
   "cell_type": "markdown",
   "metadata": {},
   "source": [
    "# macd(deprecated)"
   ]
  },
  {
   "cell_type": "code",
   "execution_count": 12,
   "metadata": {},
   "outputs": [],
   "source": [
    "# def get_macd(df):\n",
    "#     df['ma12'] = df.close.ewm(span=12).mean() # 단기(12) EMA(지수이동평균) \n",
    "#     df['ma26'] = df.close.ewm(span=26).mean() # 장기(26) EMA \n",
    "#     df['macd'] = df['ma12'] - df['ma26'] # MACD \n",
    "#     df['sig'] = df['macd'].ewm(span=9).mean() # Signal \n",
    "#     df['osc'] = df['macd'] - df['sig'] # Oscillator"
   ]
  },
  {
   "cell_type": "code",
   "execution_count": 13,
   "metadata": {},
   "outputs": [],
   "source": [
    "# get_macd(df_BTC)"
   ]
  },
  {
   "cell_type": "markdown",
   "metadata": {},
   "source": [
    "# 볼린저 밴드"
   ]
  },
  {
   "cell_type": "code",
   "execution_count": null,
   "metadata": {},
   "outputs": [],
   "source": [
    "# df_BTC['mbb'] = df_BTC['close'].rolling(20).mean()\n",
    "# df_BTC['ubb'] = mbb + 2 * df_BTC['close'].rolling(20).std()\n",
    "# df_BTC['lbb'] = mbb - 2 * df_BTC['close'].rolling(20).std()\n",
    "# df_BTC['bolingerdiff'] = df_BTC['ubb'] - df_BTC['lbb']"
   ]
  },
  {
   "cell_type": "markdown",
   "metadata": {},
   "source": [
    "# 거래량 비율"
   ]
  },
  {
   "cell_type": "code",
   "execution_count": 31,
   "metadata": {},
   "outputs": [],
   "source": [
    "# df_BTC['volMA90'] = df_BTC['volume'].rolling(window=90, min_periods=90).mean()\n",
    "# df_BTC['volRatio'] = df_BTC['volume'] / df_BTC['volMA90']"
   ]
  },
  {
   "cell_type": "markdown",
   "metadata": {},
   "source": [
    "# 상관계수"
   ]
  },
  {
   "cell_type": "code",
   "execution_count": 6,
   "metadata": {
    "scrolled": true
   },
   "outputs": [
    {
     "data": {
      "text/plain": [
       "diff            1.000000\n",
       "bolingerdiff    0.771598\n",
       "ubb             0.701374\n",
       "dist            0.696433\n",
       "high            0.695303\n",
       "open            0.669563\n",
       "close           0.665222\n",
       "mbb             0.649313\n",
       "low             0.635072\n",
       "ma45            0.612271\n",
       "lbb             0.556576\n",
       "ma90            0.530111\n",
       "volMA90         0.516306\n",
       "volMA45         0.505428\n",
       "volume          0.490014\n",
       "voldist         0.318136\n",
       "volRatio        0.200739\n",
       "Name: diff, dtype: float64"
      ]
     },
     "execution_count": 6,
     "metadata": {},
     "output_type": "execute_result"
    }
   ],
   "source": [
    "df_BTC.corr()['diff'].sort_values(ascending=False)"
   ]
  },
  {
   "cell_type": "markdown",
   "metadata": {},
   "source": [
    "# 회귀분석"
   ]
  },
  {
   "cell_type": "code",
   "execution_count": 7,
   "metadata": {},
   "outputs": [],
   "source": [
    "import statsmodels.formula.api as sm\n",
    "from statsmodels.sandbox.regression.predstd import wls_prediction_std"
   ]
  },
  {
   "cell_type": "code",
   "execution_count": 13,
   "metadata": {},
   "outputs": [
    {
     "data": {
      "text/html": [
       "<table class=\"simpletable\">\n",
       "<caption>OLS Regression Results</caption>\n",
       "<tr>\n",
       "  <th>Dep. Variable:</th>          <td>diff</td>       <th>  R-squared:         </th>  <td>   1.000</td> \n",
       "</tr>\n",
       "<tr>\n",
       "  <th>Model:</th>                   <td>OLS</td>       <th>  Adj. R-squared:    </th>  <td>   1.000</td> \n",
       "</tr>\n",
       "<tr>\n",
       "  <th>Method:</th>             <td>Least Squares</td>  <th>  F-statistic:       </th>  <td>6.478e+30</td>\n",
       "</tr>\n",
       "<tr>\n",
       "  <th>Date:</th>             <td>Fri, 24 Jul 2020</td> <th>  Prob (F-statistic):</th>   <td>  0.00</td>  \n",
       "</tr>\n",
       "<tr>\n",
       "  <th>Time:</th>                 <td>09:57:08</td>     <th>  Log-Likelihood:    </th>  <td>  40805.</td> \n",
       "</tr>\n",
       "<tr>\n",
       "  <th>No. Observations:</th>      <td>  2223</td>      <th>  AIC:               </th> <td>-8.158e+04</td>\n",
       "</tr>\n",
       "<tr>\n",
       "  <th>Df Residuals:</th>          <td>  2208</td>      <th>  BIC:               </th> <td>-8.149e+04</td>\n",
       "</tr>\n",
       "<tr>\n",
       "  <th>Df Model:</th>              <td>    14</td>      <th>                     </th>      <td> </td>    \n",
       "</tr>\n",
       "<tr>\n",
       "  <th>Covariance Type:</th>      <td>nonrobust</td>    <th>                     </th>      <td> </td>    \n",
       "</tr>\n",
       "</table>\n",
       "<table class=\"simpletable\">\n",
       "<tr>\n",
       "        <td></td>          <th>coef</th>     <th>std err</th>      <th>t</th>      <th>P>|t|</th>  <th>[0.025</th>    <th>0.975]</th>  \n",
       "</tr>\n",
       "<tr>\n",
       "  <th>Intercept</th>    <td>-9.968e-10</td> <td> 9.95e-11</td> <td>  -10.016</td> <td> 0.000</td> <td>-1.19e-09</td> <td>-8.02e-10</td>\n",
       "</tr>\n",
       "<tr>\n",
       "  <th>bolingerdiff</th> <td> 3.118e-16</td> <td> 3.38e-17</td> <td>    9.238</td> <td> 0.000</td> <td> 2.46e-16</td> <td> 3.78e-16</td>\n",
       "</tr>\n",
       "<tr>\n",
       "  <th>dist</th>         <td>-5.378e-17</td> <td> 1.26e-16</td> <td>   -0.427</td> <td> 0.669</td> <td>-3.01e-16</td> <td> 1.93e-16</td>\n",
       "</tr>\n",
       "<tr>\n",
       "  <th>volume</th>       <td> 1.688e-14</td> <td> 7.36e-15</td> <td>    2.292</td> <td> 0.022</td> <td> 2.44e-15</td> <td> 3.13e-14</td>\n",
       "</tr>\n",
       "<tr>\n",
       "  <th>ubb</th>          <td> -1.18e-16</td> <td> 5.59e-17</td> <td>   -2.109</td> <td> 0.035</td> <td>-2.28e-16</td> <td>-8.26e-18</td>\n",
       "</tr>\n",
       "<tr>\n",
       "  <th>high</th>         <td>    1.0000</td> <td> 4.05e-16</td> <td> 2.47e+15</td> <td> 0.000</td> <td>    1.000</td> <td>    1.000</td>\n",
       "</tr>\n",
       "<tr>\n",
       "  <th>open</th>         <td> 2.776e-17</td> <td> 3.46e-16</td> <td>    0.080</td> <td> 0.936</td> <td> -6.5e-16</td> <td> 7.06e-16</td>\n",
       "</tr>\n",
       "<tr>\n",
       "  <th>close</th>        <td>-1.055e-15</td> <td>  4.4e-16</td> <td>   -2.398</td> <td> 0.017</td> <td>-1.92e-15</td> <td>-1.92e-16</td>\n",
       "</tr>\n",
       "<tr>\n",
       "  <th>mbb</th>          <td>-6.072e-17</td> <td> 5.04e-17</td> <td>   -1.205</td> <td> 0.228</td> <td> -1.6e-16</td> <td> 3.81e-17</td>\n",
       "</tr>\n",
       "<tr>\n",
       "  <th>low</th>          <td>   -1.0000</td> <td> 3.93e-16</td> <td>-2.54e+15</td> <td> 0.000</td> <td>   -1.000</td> <td>   -1.000</td>\n",
       "</tr>\n",
       "<tr>\n",
       "  <th>ma45</th>         <td>-4.163e-17</td> <td>  1.4e-16</td> <td>   -0.297</td> <td> 0.767</td> <td>-3.17e-16</td> <td> 2.34e-16</td>\n",
       "</tr>\n",
       "<tr>\n",
       "  <th>lbb</th>          <td> 4.736e-16</td> <td> 5.02e-17</td> <td>    9.436</td> <td> 0.000</td> <td> 3.75e-16</td> <td> 5.72e-16</td>\n",
       "</tr>\n",
       "<tr>\n",
       "  <th>ma90</th>         <td>-1.128e-16</td> <td> 7.17e-17</td> <td>   -1.572</td> <td> 0.116</td> <td>-2.53e-16</td> <td> 2.79e-17</td>\n",
       "</tr>\n",
       "<tr>\n",
       "  <th>volMA90</th>      <td>  2.82e-14</td> <td> 2.16e-14</td> <td>    1.304</td> <td> 0.192</td> <td>-1.42e-14</td> <td> 7.06e-14</td>\n",
       "</tr>\n",
       "<tr>\n",
       "  <th>volMA45</th>      <td>  7.55e-15</td> <td> 1.72e-14</td> <td>    0.439</td> <td> 0.661</td> <td>-2.62e-14</td> <td> 4.13e-14</td>\n",
       "</tr>\n",
       "<tr>\n",
       "  <th>voldist</th>      <td>-9.326e-15</td> <td> 2.44e-14</td> <td>   -0.383</td> <td> 0.702</td> <td>-5.71e-14</td> <td> 3.85e-14</td>\n",
       "</tr>\n",
       "<tr>\n",
       "  <th>volRatio</th>     <td>-1.164e-10</td> <td> 9.44e-11</td> <td>   -1.233</td> <td> 0.218</td> <td>-3.02e-10</td> <td> 6.88e-11</td>\n",
       "</tr>\n",
       "</table>\n",
       "<table class=\"simpletable\">\n",
       "<tr>\n",
       "  <th>Omnibus:</th>       <td>562.872</td> <th>  Durbin-Watson:     </th> <td>   0.050</td> \n",
       "</tr>\n",
       "<tr>\n",
       "  <th>Prob(Omnibus):</th> <td> 0.000</td>  <th>  Jarque-Bera (JB):  </th> <td>1409.858</td> \n",
       "</tr>\n",
       "<tr>\n",
       "  <th>Skew:</th>          <td>-1.363</td>  <th>  Prob(JB):          </th> <td>7.13e-307</td>\n",
       "</tr>\n",
       "<tr>\n",
       "  <th>Kurtosis:</th>      <td> 5.791</td>  <th>  Cond. No.          </th> <td>5.18e+16</td> \n",
       "</tr>\n",
       "</table><br/><br/>Warnings:<br/>[1] Standard Errors assume that the covariance matrix of the errors is correctly specified.<br/>[2] The smallest eigenvalue is 3.35e-16. This might indicate that there are<br/>strong multicollinearity problems or that the design matrix is singular."
      ],
      "text/plain": [
       "<class 'statsmodels.iolib.summary.Summary'>\n",
       "\"\"\"\n",
       "                            OLS Regression Results                            \n",
       "==============================================================================\n",
       "Dep. Variable:                   diff   R-squared:                       1.000\n",
       "Model:                            OLS   Adj. R-squared:                  1.000\n",
       "Method:                 Least Squares   F-statistic:                 6.478e+30\n",
       "Date:                Fri, 24 Jul 2020   Prob (F-statistic):               0.00\n",
       "Time:                        09:57:08   Log-Likelihood:                 40805.\n",
       "No. Observations:                2223   AIC:                        -8.158e+04\n",
       "Df Residuals:                    2208   BIC:                        -8.149e+04\n",
       "Df Model:                          14                                         \n",
       "Covariance Type:            nonrobust                                         \n",
       "================================================================================\n",
       "                   coef    std err          t      P>|t|      [0.025      0.975]\n",
       "--------------------------------------------------------------------------------\n",
       "Intercept    -9.968e-10   9.95e-11    -10.016      0.000   -1.19e-09   -8.02e-10\n",
       "bolingerdiff  3.118e-16   3.38e-17      9.238      0.000    2.46e-16    3.78e-16\n",
       "dist         -5.378e-17   1.26e-16     -0.427      0.669   -3.01e-16    1.93e-16\n",
       "volume        1.688e-14   7.36e-15      2.292      0.022    2.44e-15    3.13e-14\n",
       "ubb           -1.18e-16   5.59e-17     -2.109      0.035   -2.28e-16   -8.26e-18\n",
       "high             1.0000   4.05e-16   2.47e+15      0.000       1.000       1.000\n",
       "open          2.776e-17   3.46e-16      0.080      0.936    -6.5e-16    7.06e-16\n",
       "close        -1.055e-15    4.4e-16     -2.398      0.017   -1.92e-15   -1.92e-16\n",
       "mbb          -6.072e-17   5.04e-17     -1.205      0.228    -1.6e-16    3.81e-17\n",
       "low             -1.0000   3.93e-16  -2.54e+15      0.000      -1.000      -1.000\n",
       "ma45         -4.163e-17    1.4e-16     -0.297      0.767   -3.17e-16    2.34e-16\n",
       "lbb           4.736e-16   5.02e-17      9.436      0.000    3.75e-16    5.72e-16\n",
       "ma90         -1.128e-16   7.17e-17     -1.572      0.116   -2.53e-16    2.79e-17\n",
       "volMA90        2.82e-14   2.16e-14      1.304      0.192   -1.42e-14    7.06e-14\n",
       "volMA45        7.55e-15   1.72e-14      0.439      0.661   -2.62e-14    4.13e-14\n",
       "voldist      -9.326e-15   2.44e-14     -0.383      0.702   -5.71e-14    3.85e-14\n",
       "volRatio     -1.164e-10   9.44e-11     -1.233      0.218   -3.02e-10    6.88e-11\n",
       "==============================================================================\n",
       "Omnibus:                      562.872   Durbin-Watson:                   0.050\n",
       "Prob(Omnibus):                  0.000   Jarque-Bera (JB):             1409.858\n",
       "Skew:                          -1.363   Prob(JB):                    7.13e-307\n",
       "Kurtosis:                       5.791   Cond. No.                     5.18e+16\n",
       "==============================================================================\n",
       "\n",
       "Warnings:\n",
       "[1] Standard Errors assume that the covariance matrix of the errors is correctly specified.\n",
       "[2] The smallest eigenvalue is 3.35e-16. This might indicate that there are\n",
       "strong multicollinearity problems or that the design matrix is singular.\n",
       "\"\"\""
      ]
     },
     "execution_count": 13,
     "metadata": {},
     "output_type": "execute_result"
    }
   ],
   "source": [
    "result = sm.ols(formula= '''diff ~ bolingerdiff + dist + \n",
    "                volume + ubb + high + open + close +\n",
    "                mbb + low + ma45 + lbb + ma90 + volMA90 + \n",
    "                volMA45 + voldist + volRatio\n",
    "                ''', data= df_BTC).fit()\n",
    "result.summary()"
   ]
  },
  {
   "cell_type": "markdown",
   "metadata": {},
   "source": [
    "## p값이 높아 쓸 수 없는 변수\n",
    "dist?? open mbb ma45 ma90 volMA90 volMA45 voldist volRatio"
   ]
  },
  {
   "cell_type": "code",
   "execution_count": null,
   "metadata": {},
   "outputs": [],
   "source": [
    "result = sm.ols(formula= '''diff ~ bolingerdiff + dist + \n",
    "                volume\n",
    "                ''', data= df_BTC).fit()\n",
    "result.summary()"
   ]
  },
  {
   "cell_type": "code",
   "execution_count": null,
   "metadata": {},
   "outputs": [],
   "source": [
    "for coin in coin_list:\n",
    "    if df_coin_dict[coin].iloc[-1]['bol'] < 0.1:\n",
    "        print(coin)"
   ]
  }
 ],
 "metadata": {
  "kernelspec": {
   "display_name": "Python 3",
   "language": "python",
   "name": "python3"
  },
  "language_info": {
   "codemirror_mode": {
    "name": "ipython",
    "version": 3
   },
   "file_extension": ".py",
   "mimetype": "text/x-python",
   "name": "python",
   "nbconvert_exporter": "python",
   "pygments_lexer": "ipython3",
   "version": "3.7.7"
  }
 },
 "nbformat": 4,
 "nbformat_minor": 4
}
