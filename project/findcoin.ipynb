{
 "cells": [
  {
   "cell_type": "code",
   "execution_count": 8,
   "metadata": {},
   "outputs": [],
   "source": [
    "import pandas as pd\n",
    "import requests\n",
    "import time\n",
    "import datetime\n",
    "from datetime import datetime as dt\n",
    "from tqdm.notebook import tqdm"
   ]
  },
  {
   "cell_type": "markdown",
   "metadata": {},
   "source": [
    "# bithumb api 호출"
   ]
  },
  {
   "cell_type": "code",
   "execution_count": 19,
   "metadata": {},
   "outputs": [],
   "source": [
    "url = 'https://api.bithumb.com/public/ticker/all'\n",
    "params = '{order_currency}_{payment_currency}/{chart_intervals}'\n",
    "resp = requests.get(url)\n",
    "coin_list = list(resp.json()['data'].keys())[:-1]\n",
    "df_list = list(map(lambda i: 'df_' + i, coin_list))\n",
    "df_coin_dict = {}"
   ]
  },
  {
   "cell_type": "code",
   "execution_count": 33,
   "metadata": {},
   "outputs": [],
   "source": [
    "to_dt = lambda i: dt.fromtimestamp(i/1000)\n",
    "def get_dist(df):\n",
    "    return abs(df['ma90']- df['ma45'])\n",
    "def get_voldist(df):\n",
    "    return abs(df['volMA90']- df['volMA45'])"
   ]
  },
  {
   "cell_type": "code",
   "execution_count": 34,
   "metadata": {},
   "outputs": [
    {
     "data": {
      "application/vnd.jupyter.widget-view+json": {
       "model_id": "cd136c5a0166440580bb6ac8d0f59eca",
       "version_major": 2,
       "version_minor": 0
      },
      "text/plain": [
       "HBox(children=(FloatProgress(value=0.0, max=103.0), HTML(value='')))"
      ]
     },
     "metadata": {},
     "output_type": "display_data"
    },
    {
     "name": "stdout",
     "output_type": "stream",
     "text": [
      "\n"
     ]
    }
   ],
   "source": [
    "for coin in tqdm(coin_list):\n",
    "    # crawling part\n",
    "    chart_intervals = ''\n",
    "    payment_currency = 'KRW'\n",
    "    order_currency = coin\n",
    "    url = f'https://api.bithumb.com/public/candlestick/{order_currency}_{payment_currency}/{chart_intervals}'\n",
    "    resp = requests.get(url)\n",
    "    json_coin = resp.json()['data']\n",
    "    # json to df\n",
    "    df_coin = pd.DataFrame.from_dict(json_coin)\n",
    "    df_coin.columns = ['datetime','open','close','high','low','volume']\n",
    "    df_coin['datetime'] = df_coin['datetime'].apply(to_dt)\n",
    "    df_coin.set_index('datetime', inplace=True)\n",
    "    df_coin['open'] = df_coin['open'].astype('float')\n",
    "    df_coin['close'] = df_coin['close'].astype('float')\n",
    "    df_coin['high'] = df_coin['high'].astype('float')\n",
    "    df_coin['low'] = df_coin['low'].astype('float')\n",
    "    df_coin['volume'] = df_coin['volume'].astype('float')\n",
    "    # 주가 변동폭 계산\n",
    "    df_coin['diff'] = df_coin['high'] - df_coin['low']    \n",
    "    # 이평 이격도 계산\n",
    "    df_coin['ma90'] = df_coin['close'].rolling(window=90, min_periods=90).mean()\n",
    "    df_coin['ma45'] = df_coin['close'].rolling(window=45, min_periods=45).mean()\n",
    "    df_coin['dist'] = df_coin.apply(get_dist, axis=1)\n",
    "    # 거래량 비율 계산\n",
    "    df_coin['volMA90'] = df_coin['volume'].rolling(window=90, min_periods=90).mean()\n",
    "    df_coin['volMA45'] = df_coin['volume'].rolling(window=45, min_periods=45).mean()\n",
    "    df_coin['voldist'] = df_coin.apply(get_voldist, axis=1)\n",
    "    df_coin['volRatio'] = abs(1 - df_coin['volume'] / df_coin['volMA90'])\n",
    "    # 볼린저 밴드 계산\n",
    "    df_coin['mbb'] = df_coin['close'].rolling(20).mean()\n",
    "    df_coin['ubb'] = df_coin['mbb'] + 2 * df_coin['close'].rolling(20).std()\n",
    "    df_coin['lbb'] = df_coin['mbb'] - 2 * df_coin['close'].rolling(20).std()\n",
    "    df_coin['bolingerdiff'] = df_coin['ubb'] - df_coin['lbb']\n",
    "    df_coin_dict[coin] = df_coin\n",
    "# 시간 시 종 고 저 거래량"
   ]
  },
  {
   "cell_type": "code",
   "execution_count": 35,
   "metadata": {},
   "outputs": [],
   "source": [
    "df_BTC = df_coin_dict['BTC']"
   ]
  },
  {
   "cell_type": "markdown",
   "metadata": {},
   "source": [
    "# 주가 변동폭"
   ]
  },
  {
   "cell_type": "code",
   "execution_count": null,
   "metadata": {},
   "outputs": [],
   "source": [
    "df_BTC['diff'] = df_BTC['high'] - df_BTC['low']    "
   ]
  },
  {
   "cell_type": "markdown",
   "metadata": {},
   "source": [
    "# macd(deprecated)"
   ]
  },
  {
   "cell_type": "code",
   "execution_count": 12,
   "metadata": {},
   "outputs": [],
   "source": [
    "# def get_macd(df):\n",
    "#     df['ma12'] = df.close.ewm(span=12).mean() # 단기(12) EMA(지수이동평균) \n",
    "#     df['ma26'] = df.close.ewm(span=26).mean() # 장기(26) EMA \n",
    "#     df['macd'] = df['ma12'] - df['ma26'] # MACD \n",
    "#     df['sig'] = df['macd'].ewm(span=9).mean() # Signal \n",
    "#     df['osc'] = df['macd'] - df['sig'] # Oscillator"
   ]
  },
  {
   "cell_type": "code",
   "execution_count": 13,
   "metadata": {},
   "outputs": [],
   "source": [
    "# get_macd(df_BTC)"
   ]
  },
  {
   "cell_type": "markdown",
   "metadata": {},
   "source": [
    "# 볼린저 밴드"
   ]
  },
  {
   "cell_type": "code",
   "execution_count": null,
   "metadata": {},
   "outputs": [],
   "source": [
    "df_BTC['mbb'] = df_BTC['close'].rolling(20).mean()\n",
    "df_BTC['ubb'] = mbb + 2 * df_BTC['close'].rolling(20).std()\n",
    "df_BTC['lbb'] = mbb - 2 * df_BTC['close'].rolling(20).std()\n",
    "df_BTC['bolingerdiff'] = df_BTC['ubb'] - df_BTC['lbb']"
   ]
  },
  {
   "cell_type": "markdown",
   "metadata": {},
   "source": [
    "# 거래량 비율"
   ]
  },
  {
   "cell_type": "code",
   "execution_count": 31,
   "metadata": {},
   "outputs": [],
   "source": [
    "df_BTC['volMA90'] = df_BTC['volume'].rolling(window=90, min_periods=90).mean()\n",
    "df_BTC['volRatio'] = df_BTC['volume'] / df_BTC['volMA90']"
   ]
  },
  {
   "cell_type": "markdown",
   "metadata": {},
   "source": [
    "# 상관계수"
   ]
  },
  {
   "cell_type": "code",
   "execution_count": 36,
   "metadata": {
    "scrolled": true
   },
   "outputs": [
    {
     "data": {
      "text/plain": [
       "diff            1.000000\n",
       "bolingerdiff    0.771605\n",
       "ubb             0.701611\n",
       "dist            0.696454\n",
       "high            0.695652\n",
       "open            0.669920\n",
       "close           0.665585\n",
       "mbb             0.649651\n",
       "low             0.635448\n",
       "ma45            0.612619\n",
       "lbb             0.557029\n",
       "ma90            0.530454\n",
       "volMA90         0.516306\n",
       "volMA45         0.505438\n",
       "volume          0.490017\n",
       "voldist         0.318133\n",
       "volRatio        0.200764\n",
       "Name: diff, dtype: float64"
      ]
     },
     "execution_count": 36,
     "metadata": {},
     "output_type": "execute_result"
    }
   ],
   "source": [
    "df_BTC.corr()['diff'].sort_values(ascending=False)"
   ]
  },
  {
   "cell_type": "markdown",
   "metadata": {},
   "source": [
    "# 회귀분석"
   ]
  },
  {
   "cell_type": "code",
   "execution_count": 39,
   "metadata": {},
   "outputs": [],
   "source": [
    "import statsmodels.formula.api as sm\n",
    "from statsmodels.sandbox.regression.predstd import wls_prediction_std"
   ]
  },
  {
   "cell_type": "code",
   "execution_count": 43,
   "metadata": {},
   "outputs": [
    {
     "data": {
      "text/html": [
       "<table class=\"simpletable\">\n",
       "<caption>OLS Regression Results</caption>\n",
       "<tr>\n",
       "  <th>Dep. Variable:</th>          <td>diff</td>       <th>  R-squared:         </th> <td>   0.673</td> \n",
       "</tr>\n",
       "<tr>\n",
       "  <th>Model:</th>                   <td>OLS</td>       <th>  Adj. R-squared:    </th> <td>   0.673</td> \n",
       "</tr>\n",
       "<tr>\n",
       "  <th>Method:</th>             <td>Least Squares</td>  <th>  F-statistic:       </th> <td>   1524.</td> \n",
       "</tr>\n",
       "<tr>\n",
       "  <th>Date:</th>             <td>Thu, 23 Jul 2020</td> <th>  Prob (F-statistic):</th>  <td>  0.00</td>  \n",
       "</tr>\n",
       "<tr>\n",
       "  <th>Time:</th>                 <td>17:20:19</td>     <th>  Log-Likelihood:    </th> <td> -31170.</td> \n",
       "</tr>\n",
       "<tr>\n",
       "  <th>No. Observations:</th>      <td>  2222</td>      <th>  AIC:               </th> <td>6.235e+04</td>\n",
       "</tr>\n",
       "<tr>\n",
       "  <th>Df Residuals:</th>          <td>  2218</td>      <th>  BIC:               </th> <td>6.237e+04</td>\n",
       "</tr>\n",
       "<tr>\n",
       "  <th>Df Model:</th>              <td>     3</td>      <th>                     </th>     <td> </td>    \n",
       "</tr>\n",
       "<tr>\n",
       "  <th>Covariance Type:</th>      <td>nonrobust</td>    <th>                     </th>     <td> </td>    \n",
       "</tr>\n",
       "</table>\n",
       "<table class=\"simpletable\">\n",
       "<tr>\n",
       "        <td></td>          <th>coef</th>     <th>std err</th>      <th>t</th>      <th>P>|t|</th>  <th>[0.025</th>    <th>0.975]</th>  \n",
       "</tr>\n",
       "<tr>\n",
       "  <th>Intercept</th>    <td>-5.196e+04</td> <td> 8244.042</td> <td>   -6.303</td> <td> 0.000</td> <td>-6.81e+04</td> <td>-3.58e+04</td>\n",
       "</tr>\n",
       "<tr>\n",
       "  <th>bolingerdiff</th> <td>    0.1090</td> <td>    0.005</td> <td>   23.901</td> <td> 0.000</td> <td>    0.100</td> <td>    0.118</td>\n",
       "</tr>\n",
       "<tr>\n",
       "  <th>dist</th>         <td>    0.1710</td> <td>    0.011</td> <td>   15.398</td> <td> 0.000</td> <td>    0.149</td> <td>    0.193</td>\n",
       "</tr>\n",
       "<tr>\n",
       "  <th>volume</th>       <td>    9.7457</td> <td>    0.529</td> <td>   18.417</td> <td> 0.000</td> <td>    8.708</td> <td>   10.783</td>\n",
       "</tr>\n",
       "</table>\n",
       "<table class=\"simpletable\">\n",
       "<tr>\n",
       "  <th>Omnibus:</th>       <td>2316.052</td> <th>  Durbin-Watson:     </th>  <td>   1.085</td> \n",
       "</tr>\n",
       "<tr>\n",
       "  <th>Prob(Omnibus):</th>  <td> 0.000</td>  <th>  Jarque-Bera (JB):  </th> <td>423811.988</td>\n",
       "</tr>\n",
       "<tr>\n",
       "  <th>Skew:</th>           <td> 4.682</td>  <th>  Prob(JB):          </th>  <td>    0.00</td> \n",
       "</tr>\n",
       "<tr>\n",
       "  <th>Kurtosis:</th>       <td>70.007</td>  <th>  Cond. No.          </th>  <td>3.58e+06</td> \n",
       "</tr>\n",
       "</table><br/><br/>Warnings:<br/>[1] Standard Errors assume that the covariance matrix of the errors is correctly specified.<br/>[2] The condition number is large, 3.58e+06. This might indicate that there are<br/>strong multicollinearity or other numerical problems."
      ],
      "text/plain": [
       "<class 'statsmodels.iolib.summary.Summary'>\n",
       "\"\"\"\n",
       "                            OLS Regression Results                            \n",
       "==============================================================================\n",
       "Dep. Variable:                   diff   R-squared:                       0.673\n",
       "Model:                            OLS   Adj. R-squared:                  0.673\n",
       "Method:                 Least Squares   F-statistic:                     1524.\n",
       "Date:                Thu, 23 Jul 2020   Prob (F-statistic):               0.00\n",
       "Time:                        17:20:19   Log-Likelihood:                -31170.\n",
       "No. Observations:                2222   AIC:                         6.235e+04\n",
       "Df Residuals:                    2218   BIC:                         6.237e+04\n",
       "Df Model:                           3                                         \n",
       "Covariance Type:            nonrobust                                         \n",
       "================================================================================\n",
       "                   coef    std err          t      P>|t|      [0.025      0.975]\n",
       "--------------------------------------------------------------------------------\n",
       "Intercept    -5.196e+04   8244.042     -6.303      0.000   -6.81e+04   -3.58e+04\n",
       "bolingerdiff     0.1090      0.005     23.901      0.000       0.100       0.118\n",
       "dist             0.1710      0.011     15.398      0.000       0.149       0.193\n",
       "volume           9.7457      0.529     18.417      0.000       8.708      10.783\n",
       "==============================================================================\n",
       "Omnibus:                     2316.052   Durbin-Watson:                   1.085\n",
       "Prob(Omnibus):                  0.000   Jarque-Bera (JB):           423811.988\n",
       "Skew:                           4.682   Prob(JB):                         0.00\n",
       "Kurtosis:                      70.007   Cond. No.                     3.58e+06\n",
       "==============================================================================\n",
       "\n",
       "Warnings:\n",
       "[1] Standard Errors assume that the covariance matrix of the errors is correctly specified.\n",
       "[2] The condition number is large, 3.58e+06. This might indicate that there are\n",
       "strong multicollinearity or other numerical problems.\n",
       "\"\"\""
      ]
     },
     "execution_count": 43,
     "metadata": {},
     "output_type": "execute_result"
    }
   ],
   "source": [
    "result = sm.ols(formula= 'diff ~ bolingerdiff + dist + volume', data= df_BTC).fit()\n",
    "result.summary()"
   ]
  },
  {
   "cell_type": "code",
   "execution_count": null,
   "metadata": {},
   "outputs": [],
   "source": [
    "for coin in coin_list:\n",
    "    if df_coin_dict[coin].iloc[-1]['bol'] < 0.1:\n",
    "        print(coin)"
   ]
  }
 ],
 "metadata": {
  "kernelspec": {
   "display_name": "Python 3",
   "language": "python",
   "name": "python3"
  },
  "language_info": {
   "codemirror_mode": {
    "name": "ipython",
    "version": 3
   },
   "file_extension": ".py",
   "mimetype": "text/x-python",
   "name": "python",
   "nbconvert_exporter": "python",
   "pygments_lexer": "ipython3",
   "version": "3.7.7"
  }
 },
 "nbformat": 4,
 "nbformat_minor": 4
}
