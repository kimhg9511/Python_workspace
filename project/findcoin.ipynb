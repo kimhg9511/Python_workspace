{
 "cells": [
  {
   "cell_type": "code",
   "execution_count": 97,
   "metadata": {},
   "outputs": [],
   "source": [
    "import pandas as pd\n",
    "import requests\n",
    "import time\n",
    "import datetime\n",
    "from datetime import datetime as dt\n",
    "from tqdm.notebook import tqdm"
   ]
  },
  {
   "cell_type": "markdown",
   "metadata": {},
   "source": [
    "# bithumb api 호출"
   ]
  },
  {
   "cell_type": "code",
   "execution_count": 98,
   "metadata": {},
   "outputs": [],
   "source": [
    "url = 'https://api.bithumb.com/public/ticker/all'\n",
    "params = '{order_currency}_{payment_currency}/{chart_intervals}'\n",
    "resp = requests.get(url)\n",
    "coin_list = list(resp.json()['data'].keys())[:-1]\n",
    "df_list = list(map(lambda i: 'df_' + i, coin_list))\n",
    "df_coin_dict = {}"
   ]
  },
  {
   "cell_type": "code",
   "execution_count": 99,
   "metadata": {},
   "outputs": [],
   "source": [
    "to_dt = lambda i: dt.fromtimestamp(i/1000)\n",
    "def get_dist(df):\n",
    "    return abs(df['ma90']- df['ma45'])\n",
    "def get_voldist(df):\n",
    "    return abs(df['volMA90']- df['volMA45'])"
   ]
  },
  {
   "cell_type": "code",
   "execution_count": 116,
   "metadata": {},
   "outputs": [
    {
     "data": {
      "application/vnd.jupyter.widget-view+json": {
       "model_id": "9055b1547b45455492b38739a7f4cf9a",
       "version_major": 2,
       "version_minor": 0
      },
      "text/plain": [
       "HBox(children=(FloatProgress(value=0.0, max=103.0), HTML(value='')))"
      ]
     },
     "metadata": {},
     "output_type": "display_data"
    },
    {
     "name": "stdout",
     "output_type": "stream",
     "text": [
      "\n"
     ]
    }
   ],
   "source": [
    "for coin in tqdm(coin_list):\n",
    "    # crawling part\n",
    "    chart_intervals = ''\n",
    "    payment_currency = 'KRW'\n",
    "    order_currency = coin\n",
    "    url = f'https://api.bithumb.com/public/candlestick/{order_currency}_{payment_currency}/{chart_intervals}'\n",
    "    resp = requests.get(url)\n",
    "    json_coin = resp.json()['data']\n",
    "    # json to df\n",
    "    df_coin = pd.DataFrame.from_dict(json_coin)\n",
    "    df_coin.columns = ['datetime','open','close','high','low','volume']\n",
    "    df_coin['datetime'] = df_coin['datetime'].apply(to_dt)\n",
    "    df_coin.set_index('datetime', inplace=True)\n",
    "    df_coin['open'] = df_coin['open'].astype('float')\n",
    "    df_coin['close'] = df_coin['close'].astype('float')\n",
    "    df_coin['high'] = df_coin['high'].astype('float')\n",
    "    df_coin['low'] = df_coin['low'].astype('float')\n",
    "    df_coin['volume'] = df_coin['volume'].astype('float')\n",
    "    # 주가 변동폭 계산\n",
    "    df_coin['diff'] = df_coin['high'] - df_coin['low']    \n",
    "    # 이평 이격도 계산\n",
    "    df_coin['ma90'] = df_coin['close'].rolling(window=90, min_periods=90).mean()\n",
    "    df_coin['ma45'] = df_coin['close'].rolling(window=45, min_periods=45).mean()\n",
    "    df_coin['dist'] = df_coin.apply(get_dist, axis=1)\n",
    "    # 거래량 비율 계산\n",
    "    df_coin['volMA90'] = df_coin['volume'].rolling(window=90, min_periods=90).mean()\n",
    "    df_coin['volMA45'] = df_coin['volume'].rolling(window=45, min_periods=45).mean()\n",
    "    df_coin['voldist'] = df_coin.apply(get_voldist, axis=1)\n",
    "    df_coin['volRatio'] = abs(1 - df_coin['volume'] / df_coin['volMA90'])\n",
    "    # 볼린저 밴드 계산\n",
    "    df_coin['mbb'] = df_coin['close'].rolling(90).mean()\n",
    "    df_coin['ubb'] = df_coin['mbb'] + 2 * df_coin['close'].rolling(60).std()\n",
    "    df_coin['lbb'] = df_coin['mbb'] - 2 * df_coin['close'].rolling(60).std()\n",
    "    df_coin['bolingerdiff'] = df_coin['ubb'] - df_coin['lbb']\n",
    "    df_coin_dict[coin] = df_coin\n",
    "# 시간 시 종 고 저 거래량"
   ]
  },
  {
   "cell_type": "code",
   "execution_count": 101,
   "metadata": {},
   "outputs": [],
   "source": [
    "df_BTC = df_coin_dict['BTC']"
   ]
  },
  {
   "cell_type": "markdown",
   "metadata": {},
   "source": [
    "# 주가 변동폭"
   ]
  },
  {
   "cell_type": "code",
   "execution_count": null,
   "metadata": {},
   "outputs": [],
   "source": [
    "# df_BTC['diff'] = df_BTC['high'] - df_BTC['low']    "
   ]
  },
  {
   "cell_type": "markdown",
   "metadata": {},
   "source": [
    "# macd(deprecated)"
   ]
  },
  {
   "cell_type": "code",
   "execution_count": 12,
   "metadata": {},
   "outputs": [],
   "source": [
    "# def get_macd(df):\n",
    "#     df['ma12'] = df.close.ewm(span=12).mean() # 단기(12) EMA(지수이동평균) \n",
    "#     df['ma26'] = df.close.ewm(span=26).mean() # 장기(26) EMA \n",
    "#     df['macd'] = df['ma12'] - df['ma26'] # MACD \n",
    "#     df['sig'] = df['macd'].ewm(span=9).mean() # Signal \n",
    "#     df['osc'] = df['macd'] - df['sig'] # Oscillator"
   ]
  },
  {
   "cell_type": "code",
   "execution_count": 13,
   "metadata": {},
   "outputs": [],
   "source": [
    "# get_macd(df_BTC)"
   ]
  },
  {
   "cell_type": "markdown",
   "metadata": {},
   "source": [
    "# 볼린저 밴드"
   ]
  },
  {
   "cell_type": "code",
   "execution_count": null,
   "metadata": {},
   "outputs": [],
   "source": [
    "# df_BTC['mbb'] = df_BTC['close'].rolling(20).mean()\n",
    "# df_BTC['ubb'] = mbb + 2 * df_BTC['close'].rolling(20).std()\n",
    "# df_BTC['lbb'] = mbb - 2 * df_BTC['close'].rolling(20).std()\n",
    "# df_BTC['bolingerdiff'] = df_BTC['ubb'] - df_BTC['lbb']"
   ]
  },
  {
   "cell_type": "markdown",
   "metadata": {},
   "source": [
    "# 거래량 비율"
   ]
  },
  {
   "cell_type": "code",
   "execution_count": 31,
   "metadata": {},
   "outputs": [],
   "source": [
    "# df_BTC['volMA90'] = df_BTC['volume'].rolling(window=90, min_periods=90).mean()\n",
    "# df_BTC['volRatio'] = df_BTC['volume'] / df_BTC['volMA90']"
   ]
  },
  {
   "cell_type": "markdown",
   "metadata": {},
   "source": [
    "# 90일간 변동폭"
   ]
  },
  {
   "cell_type": "code",
   "execution_count": 117,
   "metadata": {},
   "outputs": [],
   "source": [
    "df_XSR = df_coin_dict['XSR']"
   ]
  },
  {
   "cell_type": "code",
   "execution_count": 118,
   "metadata": {},
   "outputs": [],
   "source": [
    "df_XSR['preboldiff'] = df_XSR['bolingerdiff'].shift(1)\n",
    "df_XSR['boldiffratio'] = (df_XSR['bolingerdiff'] - df_XSR['preboldiff']) / df_XSR['preboldiff'] * 100"
   ]
  },
  {
   "cell_type": "code",
   "execution_count": 120,
   "metadata": {},
   "outputs": [
    {
     "data": {
      "text/plain": [
       "datetime\n",
       "2020-03-01   -5.278364\n",
       "2020-03-02   -5.403522\n",
       "2020-03-03   -5.063421\n",
       "2020-03-04   -6.274180\n",
       "2020-03-05   -6.650976\n",
       "                ...   \n",
       "2020-04-27   -2.534925\n",
       "2020-04-28   -3.448477\n",
       "2020-04-29   -3.946271\n",
       "2020-04-30   -5.469519\n",
       "2020-05-01   -5.424642\n",
       "Name: boldiffratio, Length: 62, dtype: float64"
      ]
     },
     "execution_count": 120,
     "metadata": {},
     "output_type": "execute_result"
    }
   ],
   "source": [
    "df_XSR['boldiffratio']['2020-03-01':'2020-05-01']"
   ]
  },
  {
   "cell_type": "markdown",
   "metadata": {},
   "source": [
    "# 상관계수"
   ]
  },
  {
   "cell_type": "code",
   "execution_count": 102,
   "metadata": {
    "scrolled": true
   },
   "outputs": [
    {
     "data": {
      "text/plain": [
       "diff            1.000000\n",
       "bolingerdiff    0.771597\n",
       "ubb             0.701375\n",
       "dist            0.696433\n",
       "high            0.695303\n",
       "open            0.669563\n",
       "close           0.665226\n",
       "mbb             0.649314\n",
       "low             0.635072\n",
       "ma45            0.612271\n",
       "lbb             0.556575\n",
       "ma90            0.530111\n",
       "volMA90         0.516306\n",
       "volMA45         0.505428\n",
       "volume          0.490018\n",
       "voldist         0.318136\n",
       "volRatio        0.200772\n",
       "Name: diff, dtype: float64"
      ]
     },
     "execution_count": 102,
     "metadata": {},
     "output_type": "execute_result"
    }
   ],
   "source": [
    "df_BTC.corr()['diff'].sort_values(ascending=False)"
   ]
  },
  {
   "cell_type": "markdown",
   "metadata": {},
   "source": [
    "# 지금 알고싶은것  \n",
    "## 기어가는 종목 = 90일(가정)간 변동폭이 일정한 종목  \n",
    "# 기준 날짜 = 90일  \n",
    "# 유력 후보  \n",
    "## dist = 90이평 - 45이평간 거리\n",
    "## bolingerdiff = 볼린저밴드 상하 거리\n",
    "## volume = 거래량"
   ]
  },
  {
   "cell_type": "markdown",
   "metadata": {},
   "source": [
    "# 데이터 전처리"
   ]
  },
  {
   "cell_type": "code",
   "execution_count": null,
   "metadata": {},
   "outputs": [],
   "source": [
    "from sklearn.preprocessing import StandardScaler"
   ]
  },
  {
   "cell_type": "code",
   "execution_count": 29,
   "metadata": {},
   "outputs": [],
   "source": [
    "scaler = StandardScaler()\n",
    "scaler.fit(df_BTC)\n",
    "BTC_scaled = scaler.transform(df_BTC)"
   ]
  },
  {
   "cell_type": "code",
   "execution_count": 33,
   "metadata": {},
   "outputs": [
    {
     "data": {
      "text/html": [
       "<div>\n",
       "<style scoped>\n",
       "    .dataframe tbody tr th:only-of-type {\n",
       "        vertical-align: middle;\n",
       "    }\n",
       "\n",
       "    .dataframe tbody tr th {\n",
       "        vertical-align: top;\n",
       "    }\n",
       "\n",
       "    .dataframe thead th {\n",
       "        text-align: right;\n",
       "    }\n",
       "</style>\n",
       "<table border=\"1\" class=\"dataframe\">\n",
       "  <thead>\n",
       "    <tr style=\"text-align: right;\">\n",
       "      <th></th>\n",
       "      <th>open</th>\n",
       "      <th>close</th>\n",
       "      <th>high</th>\n",
       "      <th>low</th>\n",
       "      <th>volume</th>\n",
       "      <th>diff</th>\n",
       "      <th>ma90</th>\n",
       "      <th>ma45</th>\n",
       "      <th>dist</th>\n",
       "      <th>volMA90</th>\n",
       "      <th>volMA45</th>\n",
       "      <th>voldist</th>\n",
       "      <th>volRatio</th>\n",
       "      <th>mbb</th>\n",
       "      <th>ubb</th>\n",
       "      <th>lbb</th>\n",
       "      <th>bolingerdiff</th>\n",
       "    </tr>\n",
       "  </thead>\n",
       "  <tbody>\n",
       "    <tr>\n",
       "      <th>180</th>\n",
       "      <td>-0.840885</td>\n",
       "      <td>-0.840510</td>\n",
       "      <td>-0.836285</td>\n",
       "      <td>-0.842978</td>\n",
       "      <td>-0.647717</td>\n",
       "      <td>-0.497556</td>\n",
       "      <td>-0.890048</td>\n",
       "      <td>-0.857175</td>\n",
       "      <td>-0.527378</td>\n",
       "      <td>-0.936436</td>\n",
       "      <td>-0.811116</td>\n",
       "      <td>-0.531732</td>\n",
       "      <td>-0.215827</td>\n",
       "      <td>-0.847173</td>\n",
       "      <td>-0.832137</td>\n",
       "      <td>-0.842631</td>\n",
       "      <td>-0.586800</td>\n",
       "    </tr>\n",
       "    <tr>\n",
       "      <th>181</th>\n",
       "      <td>-0.839834</td>\n",
       "      <td>-0.841561</td>\n",
       "      <td>-0.836488</td>\n",
       "      <td>-0.843196</td>\n",
       "      <td>-0.574008</td>\n",
       "      <td>-0.497556</td>\n",
       "      <td>-0.889875</td>\n",
       "      <td>-0.856437</td>\n",
       "      <td>-0.524359</td>\n",
       "      <td>-0.935866</td>\n",
       "      <td>-0.808616</td>\n",
       "      <td>-0.526452</td>\n",
       "      <td>1.102985</td>\n",
       "      <td>-0.847534</td>\n",
       "      <td>-0.833239</td>\n",
       "      <td>-0.841941</td>\n",
       "      <td>-0.590832</td>\n",
       "    </tr>\n",
       "    <tr>\n",
       "      <th>182</th>\n",
       "      <td>-0.840885</td>\n",
       "      <td>-0.844922</td>\n",
       "      <td>-0.837907</td>\n",
       "      <td>-0.848205</td>\n",
       "      <td>-0.526386</td>\n",
       "      <td>-0.466500</td>\n",
       "      <td>-0.889713</td>\n",
       "      <td>-0.855757</td>\n",
       "      <td>-0.521594</td>\n",
       "      <td>-0.933805</td>\n",
       "      <td>-0.805008</td>\n",
       "      <td>-0.521815</td>\n",
       "      <td>2.575853</td>\n",
       "      <td>-0.848054</td>\n",
       "      <td>-0.834516</td>\n",
       "      <td>-0.841382</td>\n",
       "      <td>-0.595073</td>\n",
       "    </tr>\n",
       "    <tr>\n",
       "      <th>183</th>\n",
       "      <td>-0.844249</td>\n",
       "      <td>-0.851436</td>\n",
       "      <td>-0.840744</td>\n",
       "      <td>-0.858007</td>\n",
       "      <td>-0.493725</td>\n",
       "      <td>-0.406328</td>\n",
       "      <td>-0.889530</td>\n",
       "      <td>-0.855240</td>\n",
       "      <td>-0.519793</td>\n",
       "      <td>-0.931319</td>\n",
       "      <td>-0.800239</td>\n",
       "      <td>-0.515115</td>\n",
       "      <td>3.436162</td>\n",
       "      <td>-0.848733</td>\n",
       "      <td>-0.833910</td>\n",
       "      <td>-0.843843</td>\n",
       "      <td>-0.589101</td>\n",
       "    </tr>\n",
       "    <tr>\n",
       "      <th>184</th>\n",
       "      <td>-0.850975</td>\n",
       "      <td>-0.861102</td>\n",
       "      <td>-0.846824</td>\n",
       "      <td>-0.864977</td>\n",
       "      <td>-0.523755</td>\n",
       "      <td>-0.402446</td>\n",
       "      <td>-0.889432</td>\n",
       "      <td>-0.854991</td>\n",
       "      <td>-0.518981</td>\n",
       "      <td>-0.929640</td>\n",
       "      <td>-0.796522</td>\n",
       "      <td>-0.509267</td>\n",
       "      <td>2.356601</td>\n",
       "      <td>-0.849847</td>\n",
       "      <td>-0.831273</td>\n",
       "      <td>-0.850190</td>\n",
       "      <td>-0.570982</td>\n",
       "    </tr>\n",
       "  </tbody>\n",
       "</table>\n",
       "</div>"
      ],
      "text/plain": [
       "         open     close      high       low    volume      diff      ma90  \\\n",
       "180 -0.840885 -0.840510 -0.836285 -0.842978 -0.647717 -0.497556 -0.890048   \n",
       "181 -0.839834 -0.841561 -0.836488 -0.843196 -0.574008 -0.497556 -0.889875   \n",
       "182 -0.840885 -0.844922 -0.837907 -0.848205 -0.526386 -0.466500 -0.889713   \n",
       "183 -0.844249 -0.851436 -0.840744 -0.858007 -0.493725 -0.406328 -0.889530   \n",
       "184 -0.850975 -0.861102 -0.846824 -0.864977 -0.523755 -0.402446 -0.889432   \n",
       "\n",
       "         ma45      dist   volMA90   volMA45   voldist  volRatio       mbb  \\\n",
       "180 -0.857175 -0.527378 -0.936436 -0.811116 -0.531732 -0.215827 -0.847173   \n",
       "181 -0.856437 -0.524359 -0.935866 -0.808616 -0.526452  1.102985 -0.847534   \n",
       "182 -0.855757 -0.521594 -0.933805 -0.805008 -0.521815  2.575853 -0.848054   \n",
       "183 -0.855240 -0.519793 -0.931319 -0.800239 -0.515115  3.436162 -0.848733   \n",
       "184 -0.854991 -0.518981 -0.929640 -0.796522 -0.509267  2.356601 -0.849847   \n",
       "\n",
       "          ubb       lbb  bolingerdiff  \n",
       "180 -0.832137 -0.842631     -0.586800  \n",
       "181 -0.833239 -0.841941     -0.590832  \n",
       "182 -0.834516 -0.841382     -0.595073  \n",
       "183 -0.833910 -0.843843     -0.589101  \n",
       "184 -0.831273 -0.850190     -0.570982  "
      ]
     },
     "execution_count": 33,
     "metadata": {},
     "output_type": "execute_result"
    }
   ],
   "source": [
    "BTC_df_scaled = pd.DataFrame(data=BTC_scaled, columns=df_BTC.columns)\n",
    "BTC_df_scaled[180:].head()"
   ]
  },
  {
   "cell_type": "markdown",
   "metadata": {},
   "source": [
    "# 선형회귀분석"
   ]
  },
  {
   "cell_type": "code",
   "execution_count": 7,
   "metadata": {},
   "outputs": [],
   "source": [
    "import statsmodels.formula.api as sm\n",
    "from statsmodels.sandbox.regression.predstd import wls_prediction_std"
   ]
  },
  {
   "cell_type": "code",
   "execution_count": 34,
   "metadata": {},
   "outputs": [
    {
     "data": {
      "text/html": [
       "<table class=\"simpletable\">\n",
       "<caption>OLS Regression Results</caption>\n",
       "<tr>\n",
       "  <th>Dep. Variable:</th>          <td>diff</td>       <th>  R-squared:         </th>  <td>   1.000</td> \n",
       "</tr>\n",
       "<tr>\n",
       "  <th>Model:</th>                   <td>OLS</td>       <th>  Adj. R-squared:    </th>  <td>   1.000</td> \n",
       "</tr>\n",
       "<tr>\n",
       "  <th>Method:</th>             <td>Least Squares</td>  <th>  F-statistic:       </th>  <td>1.671e+31</td>\n",
       "</tr>\n",
       "<tr>\n",
       "  <th>Date:</th>             <td>Fri, 24 Jul 2020</td> <th>  Prob (F-statistic):</th>   <td>  0.00</td>  \n",
       "</tr>\n",
       "<tr>\n",
       "  <th>Time:</th>                 <td>17:25:35</td>     <th>  Log-Likelihood:    </th>  <td>  71096.</td> \n",
       "</tr>\n",
       "<tr>\n",
       "  <th>No. Observations:</th>      <td>  2223</td>      <th>  AIC:               </th> <td>-1.422e+05</td>\n",
       "</tr>\n",
       "<tr>\n",
       "  <th>Df Residuals:</th>          <td>  2208</td>      <th>  BIC:               </th> <td>-1.421e+05</td>\n",
       "</tr>\n",
       "<tr>\n",
       "  <th>Df Model:</th>              <td>    14</td>      <th>                     </th>      <td> </td>    \n",
       "</tr>\n",
       "<tr>\n",
       "  <th>Covariance Type:</th>      <td>nonrobust</td>    <th>                     </th>      <td> </td>    \n",
       "</tr>\n",
       "</table>\n",
       "<table class=\"simpletable\">\n",
       "<tr>\n",
       "        <td></td>          <th>coef</th>     <th>std err</th>      <th>t</th>      <th>P>|t|</th>  <th>[0.025</th>    <th>0.975]</th>  \n",
       "</tr>\n",
       "<tr>\n",
       "  <th>Intercept</th>    <td>-1.372e-15</td> <td> 6.67e-17</td> <td>  -20.558</td> <td> 0.000</td> <td> -1.5e-15</td> <td>-1.24e-15</td>\n",
       "</tr>\n",
       "<tr>\n",
       "  <th>bolingerdiff</th> <td> 4.982e-15</td> <td> 1.35e-16</td> <td>   36.931</td> <td> 0.000</td> <td> 4.72e-15</td> <td> 5.25e-15</td>\n",
       "</tr>\n",
       "<tr>\n",
       "  <th>dist</th>         <td>-1.965e-15</td> <td> 1.33e-16</td> <td>  -14.757</td> <td> 0.000</td> <td>-2.23e-15</td> <td> -1.7e-15</td>\n",
       "</tr>\n",
       "<tr>\n",
       "  <th>volume</th>       <td>-2.706e-16</td> <td> 1.14e-16</td> <td>   -2.374</td> <td> 0.018</td> <td>-4.94e-16</td> <td>-4.71e-17</td>\n",
       "</tr>\n",
       "<tr>\n",
       "  <th>ubb</th>          <td>-1.185e-14</td> <td>  2.5e-16</td> <td>  -47.458</td> <td> 0.000</td> <td>-1.23e-14</td> <td>-1.14e-14</td>\n",
       "</tr>\n",
       "<tr>\n",
       "  <th>high</th>         <td>    9.5776</td> <td> 2.42e-15</td> <td> 3.96e+15</td> <td> 0.000</td> <td>    9.578</td> <td>    9.578</td>\n",
       "</tr>\n",
       "<tr>\n",
       "  <th>open</th>         <td> 4.885e-15</td> <td> 1.99e-15</td> <td>    2.458</td> <td> 0.014</td> <td> 9.87e-16</td> <td> 8.78e-15</td>\n",
       "</tr>\n",
       "<tr>\n",
       "  <th>close</th>        <td>-9.326e-15</td> <td> 2.53e-15</td> <td>   -3.687</td> <td> 0.000</td> <td>-1.43e-14</td> <td>-4.37e-15</td>\n",
       "</tr>\n",
       "<tr>\n",
       "  <th>mbb</th>          <td> 1.624e-15</td> <td> 2.79e-16</td> <td>    5.821</td> <td> 0.000</td> <td> 1.08e-15</td> <td> 2.17e-15</td>\n",
       "</tr>\n",
       "<tr>\n",
       "  <th>low</th>          <td>   -8.9113</td> <td> 2.18e-15</td> <td>-4.09e+15</td> <td> 0.000</td> <td>   -8.911</td> <td>   -8.911</td>\n",
       "</tr>\n",
       "<tr>\n",
       "  <th>ma45</th>         <td> 4.968e-15</td> <td> 7.88e-16</td> <td>    6.308</td> <td> 0.000</td> <td> 3.42e-15</td> <td> 6.51e-15</td>\n",
       "</tr>\n",
       "<tr>\n",
       "  <th>lbb</th>          <td> 1.693e-15</td> <td> 3.15e-16</td> <td>    5.379</td> <td> 0.000</td> <td> 1.08e-15</td> <td> 2.31e-15</td>\n",
       "</tr>\n",
       "<tr>\n",
       "  <th>ma90</th>         <td>-6.176e-16</td> <td> 3.91e-16</td> <td>   -1.580</td> <td> 0.114</td> <td>-1.38e-15</td> <td> 1.49e-16</td>\n",
       "</tr>\n",
       "<tr>\n",
       "  <th>volMA90</th>      <td> -1.11e-15</td> <td> 2.33e-16</td> <td>   -4.763</td> <td> 0.000</td> <td>-1.57e-15</td> <td>-6.53e-16</td>\n",
       "</tr>\n",
       "<tr>\n",
       "  <th>volMA45</th>      <td>  1.18e-16</td> <td> 2.05e-16</td> <td>    0.575</td> <td> 0.565</td> <td>-2.84e-16</td> <td>  5.2e-16</td>\n",
       "</tr>\n",
       "<tr>\n",
       "  <th>voldist</th>      <td> 1.249e-15</td> <td> 1.09e-16</td> <td>   11.448</td> <td> 0.000</td> <td> 1.04e-15</td> <td> 1.46e-15</td>\n",
       "</tr>\n",
       "<tr>\n",
       "  <th>volRatio</th>     <td> 2.012e-16</td> <td> 7.84e-17</td> <td>    2.568</td> <td> 0.010</td> <td> 4.75e-17</td> <td> 3.55e-16</td>\n",
       "</tr>\n",
       "</table>\n",
       "<table class=\"simpletable\">\n",
       "<tr>\n",
       "  <th>Omnibus:</th>       <td>365.915</td> <th>  Durbin-Watson:     </th> <td>   0.244</td>\n",
       "</tr>\n",
       "<tr>\n",
       "  <th>Prob(Omnibus):</th> <td> 0.000</td>  <th>  Jarque-Bera (JB):  </th> <td>3337.995</td>\n",
       "</tr>\n",
       "<tr>\n",
       "  <th>Skew:</th>          <td> 0.491</td>  <th>  Prob(JB):          </th> <td>    0.00</td>\n",
       "</tr>\n",
       "<tr>\n",
       "  <th>Kurtosis:</th>      <td> 8.922</td>  <th>  Cond. No.          </th> <td>1.34e+16</td>\n",
       "</tr>\n",
       "</table><br/><br/>Warnings:<br/>[1] Standard Errors assume that the covariance matrix of the errors is correctly specified.<br/>[2] The smallest eigenvalue is 1.36e-28. This might indicate that there are<br/>strong multicollinearity problems or that the design matrix is singular."
      ],
      "text/plain": [
       "<class 'statsmodels.iolib.summary.Summary'>\n",
       "\"\"\"\n",
       "                            OLS Regression Results                            \n",
       "==============================================================================\n",
       "Dep. Variable:                   diff   R-squared:                       1.000\n",
       "Model:                            OLS   Adj. R-squared:                  1.000\n",
       "Method:                 Least Squares   F-statistic:                 1.671e+31\n",
       "Date:                Fri, 24 Jul 2020   Prob (F-statistic):               0.00\n",
       "Time:                        17:25:35   Log-Likelihood:                 71096.\n",
       "No. Observations:                2223   AIC:                        -1.422e+05\n",
       "Df Residuals:                    2208   BIC:                        -1.421e+05\n",
       "Df Model:                          14                                         \n",
       "Covariance Type:            nonrobust                                         \n",
       "================================================================================\n",
       "                   coef    std err          t      P>|t|      [0.025      0.975]\n",
       "--------------------------------------------------------------------------------\n",
       "Intercept    -1.372e-15   6.67e-17    -20.558      0.000    -1.5e-15   -1.24e-15\n",
       "bolingerdiff  4.982e-15   1.35e-16     36.931      0.000    4.72e-15    5.25e-15\n",
       "dist         -1.965e-15   1.33e-16    -14.757      0.000   -2.23e-15    -1.7e-15\n",
       "volume       -2.706e-16   1.14e-16     -2.374      0.018   -4.94e-16   -4.71e-17\n",
       "ubb          -1.185e-14    2.5e-16    -47.458      0.000   -1.23e-14   -1.14e-14\n",
       "high             9.5776   2.42e-15   3.96e+15      0.000       9.578       9.578\n",
       "open          4.885e-15   1.99e-15      2.458      0.014    9.87e-16    8.78e-15\n",
       "close        -9.326e-15   2.53e-15     -3.687      0.000   -1.43e-14   -4.37e-15\n",
       "mbb           1.624e-15   2.79e-16      5.821      0.000    1.08e-15    2.17e-15\n",
       "low             -8.9113   2.18e-15  -4.09e+15      0.000      -8.911      -8.911\n",
       "ma45          4.968e-15   7.88e-16      6.308      0.000    3.42e-15    6.51e-15\n",
       "lbb           1.693e-15   3.15e-16      5.379      0.000    1.08e-15    2.31e-15\n",
       "ma90         -6.176e-16   3.91e-16     -1.580      0.114   -1.38e-15    1.49e-16\n",
       "volMA90       -1.11e-15   2.33e-16     -4.763      0.000   -1.57e-15   -6.53e-16\n",
       "volMA45        1.18e-16   2.05e-16      0.575      0.565   -2.84e-16     5.2e-16\n",
       "voldist       1.249e-15   1.09e-16     11.448      0.000    1.04e-15    1.46e-15\n",
       "volRatio      2.012e-16   7.84e-17      2.568      0.010    4.75e-17    3.55e-16\n",
       "==============================================================================\n",
       "Omnibus:                      365.915   Durbin-Watson:                   0.244\n",
       "Prob(Omnibus):                  0.000   Jarque-Bera (JB):             3337.995\n",
       "Skew:                           0.491   Prob(JB):                         0.00\n",
       "Kurtosis:                       8.922   Cond. No.                     1.34e+16\n",
       "==============================================================================\n",
       "\n",
       "Warnings:\n",
       "[1] Standard Errors assume that the covariance matrix of the errors is correctly specified.\n",
       "[2] The smallest eigenvalue is 1.36e-28. This might indicate that there are\n",
       "strong multicollinearity problems or that the design matrix is singular.\n",
       "\"\"\""
      ]
     },
     "execution_count": 34,
     "metadata": {},
     "output_type": "execute_result"
    }
   ],
   "source": [
    "result = sm.ols(formula= '''diff ~ bolingerdiff + dist + \n",
    "                volume + ubb + high + open + close +\n",
    "                mbb + low + ma45 + lbb + ma90 + volMA90 + \n",
    "                volMA45 + voldist + volRatio\n",
    "                ''', data= BTC_df_scaled).fit()\n",
    "result.summary()"
   ]
  },
  {
   "cell_type": "markdown",
   "metadata": {},
   "source": [
    "## p값이 높아 쓸 수 없는 변수\n",
    "dist?? open mbb ma45 ma90 volMA90 volMA45 voldist volRatio"
   ]
  },
  {
   "cell_type": "code",
   "execution_count": 35,
   "metadata": {
    "scrolled": true
   },
   "outputs": [
    {
     "data": {
      "text/html": [
       "<table class=\"simpletable\">\n",
       "<caption>OLS Regression Results</caption>\n",
       "<tr>\n",
       "  <th>Dep. Variable:</th>          <td>diff</td>       <th>  R-squared:         </th> <td>   0.673</td>\n",
       "</tr>\n",
       "<tr>\n",
       "  <th>Model:</th>                   <td>OLS</td>       <th>  Adj. R-squared:    </th> <td>   0.673</td>\n",
       "</tr>\n",
       "<tr>\n",
       "  <th>Method:</th>             <td>Least Squares</td>  <th>  F-statistic:       </th> <td>   1524.</td>\n",
       "</tr>\n",
       "<tr>\n",
       "  <th>Date:</th>             <td>Fri, 24 Jul 2020</td> <th>  Prob (F-statistic):</th>  <td>  0.00</td> \n",
       "</tr>\n",
       "<tr>\n",
       "  <th>Time:</th>                 <td>17:25:53</td>     <th>  Log-Likelihood:    </th> <td> -1945.9</td>\n",
       "</tr>\n",
       "<tr>\n",
       "  <th>No. Observations:</th>      <td>  2223</td>      <th>  AIC:               </th> <td>   3900.</td>\n",
       "</tr>\n",
       "<tr>\n",
       "  <th>Df Residuals:</th>          <td>  2219</td>      <th>  BIC:               </th> <td>   3923.</td>\n",
       "</tr>\n",
       "<tr>\n",
       "  <th>Df Model:</th>              <td>     3</td>      <th>                     </th>     <td> </td>   \n",
       "</tr>\n",
       "<tr>\n",
       "  <th>Covariance Type:</th>      <td>nonrobust</td>    <th>                     </th>     <td> </td>   \n",
       "</tr>\n",
       "</table>\n",
       "<table class=\"simpletable\">\n",
       "<tr>\n",
       "        <td></td>          <th>coef</th>     <th>std err</th>      <th>t</th>      <th>P>|t|</th>  <th>[0.025</th>    <th>0.975]</th>  \n",
       "</tr>\n",
       "<tr>\n",
       "  <th>Intercept</th>    <td>    0.0033</td> <td>    0.012</td> <td>    0.270</td> <td> 0.787</td> <td>   -0.021</td> <td>    0.028</td>\n",
       "</tr>\n",
       "<tr>\n",
       "  <th>bolingerdiff</th> <td>    0.4660</td> <td>    0.019</td> <td>   23.907</td> <td> 0.000</td> <td>    0.428</td> <td>    0.504</td>\n",
       "</tr>\n",
       "<tr>\n",
       "  <th>dist</th>         <td>    0.2906</td> <td>    0.019</td> <td>   15.395</td> <td> 0.000</td> <td>    0.254</td> <td>    0.328</td>\n",
       "</tr>\n",
       "<tr>\n",
       "  <th>volume</th>       <td>    0.2423</td> <td>    0.013</td> <td>   18.415</td> <td> 0.000</td> <td>    0.217</td> <td>    0.268</td>\n",
       "</tr>\n",
       "</table>\n",
       "<table class=\"simpletable\">\n",
       "<tr>\n",
       "  <th>Omnibus:</th>       <td>2317.367</td> <th>  Durbin-Watson:     </th>  <td>   1.084</td> \n",
       "</tr>\n",
       "<tr>\n",
       "  <th>Prob(Omnibus):</th>  <td> 0.000</td>  <th>  Jarque-Bera (JB):  </th> <td>424291.356</td>\n",
       "</tr>\n",
       "<tr>\n",
       "  <th>Skew:</th>           <td> 4.683</td>  <th>  Prob(JB):          </th>  <td>    0.00</td> \n",
       "</tr>\n",
       "<tr>\n",
       "  <th>Kurtosis:</th>       <td>70.030</td>  <th>  Cond. No.          </th>  <td>    2.91</td> \n",
       "</tr>\n",
       "</table><br/><br/>Warnings:<br/>[1] Standard Errors assume that the covariance matrix of the errors is correctly specified."
      ],
      "text/plain": [
       "<class 'statsmodels.iolib.summary.Summary'>\n",
       "\"\"\"\n",
       "                            OLS Regression Results                            \n",
       "==============================================================================\n",
       "Dep. Variable:                   diff   R-squared:                       0.673\n",
       "Model:                            OLS   Adj. R-squared:                  0.673\n",
       "Method:                 Least Squares   F-statistic:                     1524.\n",
       "Date:                Fri, 24 Jul 2020   Prob (F-statistic):               0.00\n",
       "Time:                        17:25:53   Log-Likelihood:                -1945.9\n",
       "No. Observations:                2223   AIC:                             3900.\n",
       "Df Residuals:                    2219   BIC:                             3923.\n",
       "Df Model:                           3                                         \n",
       "Covariance Type:            nonrobust                                         \n",
       "================================================================================\n",
       "                   coef    std err          t      P>|t|      [0.025      0.975]\n",
       "--------------------------------------------------------------------------------\n",
       "Intercept        0.0033      0.012      0.270      0.787      -0.021       0.028\n",
       "bolingerdiff     0.4660      0.019     23.907      0.000       0.428       0.504\n",
       "dist             0.2906      0.019     15.395      0.000       0.254       0.328\n",
       "volume           0.2423      0.013     18.415      0.000       0.217       0.268\n",
       "==============================================================================\n",
       "Omnibus:                     2317.367   Durbin-Watson:                   1.084\n",
       "Prob(Omnibus):                  0.000   Jarque-Bera (JB):           424291.356\n",
       "Skew:                           4.683   Prob(JB):                         0.00\n",
       "Kurtosis:                      70.030   Cond. No.                         2.91\n",
       "==============================================================================\n",
       "\n",
       "Warnings:\n",
       "[1] Standard Errors assume that the covariance matrix of the errors is correctly specified.\n",
       "\"\"\""
      ]
     },
     "execution_count": 35,
     "metadata": {},
     "output_type": "execute_result"
    }
   ],
   "source": [
    "result = sm.ols(formula= '''diff ~ \n",
    "                bolingerdiff + dist + volume\n",
    "                ''', data= BTC_df_scaled).fit()\n",
    "result.summary()"
   ]
  },
  {
   "cell_type": "code",
   "execution_count": null,
   "metadata": {},
   "outputs": [],
   "source": [
    "for coin in coin_list:\n",
    "    if df_coin_dict[coin].iloc[-1]['bol'] < 0.1:\n",
    "        print(coin)"
   ]
  },
  {
   "cell_type": "markdown",
   "metadata": {},
   "source": [
    "# SVM 적용"
   ]
  },
  {
   "cell_type": "code",
   "execution_count": 60,
   "metadata": {},
   "outputs": [],
   "source": [
    "import matplotlib.pyplot as plt"
   ]
  },
  {
   "cell_type": "code",
   "execution_count": 66,
   "metadata": {},
   "outputs": [
    {
     "data": {
      "text/plain": [
       "{'whiskers': [<matplotlib.lines.Line2D at 0x1cf65cc96c8>,\n",
       "  <matplotlib.lines.Line2D at 0x1cf65cd6808>],\n",
       " 'caps': [<matplotlib.lines.Line2D at 0x1cf65cdbb48>,\n",
       "  <matplotlib.lines.Line2D at 0x1cf65cdbc88>],\n",
       " 'boxes': [<matplotlib.lines.Line2D at 0x1cf65cd6248>],\n",
       " 'medians': [<matplotlib.lines.Line2D at 0x1cf65cdedc8>],\n",
       " 'fliers': [<matplotlib.lines.Line2D at 0x1cf65cdefc8>],\n",
       " 'means': []}"
      ]
     },
     "execution_count": 66,
     "metadata": {},
     "output_type": "execute_result"
    },
    {
     "data": {
      "image/png": "[encoded data removed]",
      "text/plain": [
       "<Figure size 432x288 with 1 Axes>"
      ]
     },
     "metadata": {
      "needs_background": "light"
     },
     "output_type": "display_data"
    }
   ],
   "source": [
    "plt.boxplot(BTC_df_scaled[90:]['diff'])"
   ]
  },
  {
   "cell_type": "code",
   "execution_count": 41,
   "metadata": {},
   "outputs": [],
   "source": [
    "from sklearn.model_selection import train_test_split\n",
    "from sklearn import svm, metrics"
   ]
  },
  {
   "cell_type": "code",
   "execution_count": 68,
   "metadata": {},
   "outputs": [],
   "source": [
    "def isNarrow(val):\n",
    "    if abs(val) <= 1:\n",
    "        return 'narrow'\n",
    "    else:\n",
    "        return 'wide'"
   ]
  },
  {
   "cell_type": "code",
   "execution_count": 76,
   "metadata": {},
   "outputs": [],
   "source": [
    "BTC_df_scaled['diff'] = BTC_df_scaled['diff'].apply(isNarrow)"
   ]
  },
  {
   "cell_type": "code",
   "execution_count": 77,
   "metadata": {},
   "outputs": [
    {
     "data": {
      "text/plain": [
       "0       narrow\n",
       "1       narrow\n",
       "2       narrow\n",
       "3       narrow\n",
       "4       narrow\n",
       "         ...  \n",
       "2307    narrow\n",
       "2308    narrow\n",
       "2309    narrow\n",
       "2310    narrow\n",
       "2311    narrow\n",
       "Name: diff, Length: 2312, dtype: object"
      ]
     },
     "execution_count": 77,
     "metadata": {},
     "output_type": "execute_result"
    }
   ],
   "source": [
    "BTC_df_scaled['diff']"
   ]
  },
  {
   "cell_type": "code",
   "execution_count": 78,
   "metadata": {},
   "outputs": [],
   "source": [
    "label = BTC_df_scaled[90:]['diff']\n",
    "data = BTC_df_scaled[90:][['bolingerdiff','dist','volume']]"
   ]
  },
  {
   "cell_type": "code",
   "execution_count": 79,
   "metadata": {},
   "outputs": [],
   "source": [
    "data_train, data_test, label_train, label_test = train_test_split(data, label)"
   ]
  },
  {
   "cell_type": "code",
   "execution_count": 80,
   "metadata": {},
   "outputs": [],
   "source": [
    "clf = svm.SVC()\n",
    "clf.fit(data_train, label_train)\n",
    "predict = clf.predict(data_test)"
   ]
  },
  {
   "cell_type": "code",
   "execution_count": 81,
   "metadata": {},
   "outputs": [],
   "source": [
    "ac_score = metrics.accuracy_score(label_test, predict)\n",
    "cl_report = metrics.classification_report(label_test, predict)"
   ]
  },
  {
   "cell_type": "code",
   "execution_count": 82,
   "metadata": {},
   "outputs": [
    {
     "data": {
      "text/plain": [
       "0.9568345323741008"
      ]
     },
     "execution_count": 82,
     "metadata": {},
     "output_type": "execute_result"
    }
   ],
   "source": [
    "ac_score"
   ]
  },
  {
   "cell_type": "code",
   "execution_count": 84,
   "metadata": {},
   "outputs": [
    {
     "name": "stdout",
     "output_type": "stream",
     "text": [
      "              precision    recall  f1-score   support\n",
      "\n",
      "      narrow       0.97      0.99      0.98       509\n",
      "        wide       0.83      0.62      0.71        47\n",
      "\n",
      "    accuracy                           0.96       556\n",
      "   macro avg       0.90      0.80      0.84       556\n",
      "weighted avg       0.95      0.96      0.95       556\n",
      "\n"
     ]
    }
   ],
   "source": [
    "print(cl_report)"
   ]
  },
  {
   "cell_type": "markdown",
   "metadata": {},
   "source": [
    "# 그리드 서치"
   ]
  },
  {
   "cell_type": "code",
   "execution_count": 85,
   "metadata": {},
   "outputs": [],
   "source": [
    "import pandas as pd\n",
    "from sklearn import model_selection, svm, metrics\n",
    "#from sklearn.grid_search import GridSearchCV => error\n",
    "from sklearn.model_selection import GridSearchCV"
   ]
  },
  {
   "cell_type": "code",
   "execution_count": 86,
   "metadata": {},
   "outputs": [],
   "source": [
    "label = BTC_df_scaled[90:]['diff']\n",
    "data = BTC_df_scaled[90:][['bolingerdiff','dist','volume']]\n",
    "data_train, data_test, label_train, label_test = train_test_split(data, label)"
   ]
  },
  {
   "cell_type": "code",
   "execution_count": 87,
   "metadata": {},
   "outputs": [],
   "source": [
    "params = [\n",
    "    {\"C\": [1,10,100,1000], \"kernel\":[\"linear\"]},\n",
    "    {\"C\": [1,10,100,1000], \"kernel\":[\"rbf\"], \"gamma\":[0.001, 0.0001]}\n",
    "]"
   ]
  },
  {
   "cell_type": "code",
   "execution_count": 89,
   "metadata": {},
   "outputs": [
    {
     "data": {
      "text/plain": [
       "GridSearchCV(estimator=SVC(), n_jobs=-1,\n",
       "             param_grid=[{'C': [1, 10, 100, 1000], 'kernel': ['linear']},\n",
       "                         {'C': [1, 10, 100, 1000], 'gamma': [0.001, 0.0001],\n",
       "                          'kernel': ['rbf']}])"
      ]
     },
     "execution_count": 89,
     "metadata": {},
     "output_type": "execute_result"
    }
   ],
   "source": [
    "clf = GridSearchCV( svm.SVC(), params, n_jobs=-1 )\n",
    "clf.fit(data_train, label_train)"
   ]
  },
  {
   "cell_type": "code",
   "execution_count": 91,
   "metadata": {},
   "outputs": [
    {
     "data": {
      "text/plain": [
       "SVC(C=1000, gamma=0.001)"
      ]
     },
     "execution_count": 91,
     "metadata": {},
     "output_type": "execute_result"
    }
   ],
   "source": [
    "clf.best_estimator_"
   ]
  },
  {
   "cell_type": "code",
   "execution_count": 94,
   "metadata": {},
   "outputs": [
    {
     "name": "stdout",
     "output_type": "stream",
     "text": [
      "정답률 = 0.9514388489208633\n"
     ]
    }
   ],
   "source": [
    "pre = clf.predict(data_test)\n",
    "ac_score = metrics.accuracy_score(pre, label_test)\n",
    "print(\"정답률 =\",ac_score)\n",
    "cl_report = metrics.classification_report(label_test, pre)"
   ]
  },
  {
   "cell_type": "code",
   "execution_count": 96,
   "metadata": {},
   "outputs": [
    {
     "name": "stdout",
     "output_type": "stream",
     "text": [
      "              precision    recall  f1-score   support\n",
      "\n",
      "      narrow       0.95      1.00      0.97       503\n",
      "        wide       0.96      0.51      0.67        53\n",
      "\n",
      "    accuracy                           0.95       556\n",
      "   macro avg       0.96      0.75      0.82       556\n",
      "weighted avg       0.95      0.95      0.94       556\n",
      "\n"
     ]
    }
   ],
   "source": [
    "print(cl_report)"
   ]
  }
 ],
 "metadata": {
  "kernelspec": {
   "display_name": "Python 3",
   "language": "python",
   "name": "python3"
  },
  "language_info": {
   "codemirror_mode": {
    "name": "ipython",
    "version": 3
   },
   "file_extension": ".py",
   "mimetype": "text/x-python",
   "name": "python",
   "nbconvert_exporter": "python",
   "pygments_lexer": "ipython3",
   "version": "3.7.7"
  }
 },
 "nbformat": 4,
 "nbformat_minor": 4
}
