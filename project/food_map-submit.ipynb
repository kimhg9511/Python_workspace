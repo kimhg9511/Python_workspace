{
 "cells": [
  {
   "cell_type": "markdown",
   "metadata": {},
   "source": [
    "# 맛집 지도에 표시\n",
    "맛집 칼럼에서 맛집 이름, 전화번호, 주소를 받아 지도에 표시하는 코드입니다."
   ]
  },
  {
   "cell_type": "markdown",
   "metadata": {},
   "source": [
    "# module import\n",
    "## 사용 모듈 : \n",
    "### requests\n",
    "웹 request, response를 처리하기 위한 모듈\n",
    "### BeautifulSoup\n",
    "request의 html 데이터를 DOM Object처럼 처리하기 위한 모듈\n",
    "### folium\n",
    "좌표 데이터를 지도로 시각화하기 위한 모듈\n",
    "### re\n",
    "정규표현식 사용을 위한 모듈"
   ]
  },
  {
   "cell_type": "code",
   "execution_count": 19,
   "metadata": {},
   "outputs": [],
   "source": [
    "from bs4 import BeautifulSoup as bs\n",
    "import requests\n",
    "import folium\n",
    "import re"
   ]
  },
  {
   "cell_type": "markdown",
   "metadata": {},
   "source": [
    "# 함수 작성\n",
    "## 공통\n",
    "### get_avg_point\n",
    "#### parameter\n",
    "point_list : list(sequence) 자료형으로 x,y값을 담아 전달\n",
    "#### return\n",
    "y, x (확장성을 위하여 위도(y), 경도(x)값으로 뒤집어서 반환)\n",
    "## folium 사용\n",
    "### getLatLng\n",
    "#### parameter\n",
    "addr : str 자료형으로 주소값을 전달\n",
    "#### return\n",
    "##### 좌표값 수신 성공\n",
    "x, y로 좌표값을 반환\n",
    "##### 좌표값 수신 실패\n",
    "주소를 공백단위로 끊어 더 넓은 범위로 다시 호출\n",
    "아예 부르지 못했을 경우 0, 0 좌표로 반환\n",
    "### add_marker\n",
    "#### parameter\n",
    "mapobj : marker를 그릴 Map(folium) 오브젝트를 전달\n",
    "x : x좌표(경도) 전달\n",
    "y : y좌표(위도) 전달\n",
    "info : 맛집 정보를 전달(info[0] : 가게이름, info[1] : 전화번호)\n",
    "#### return\n",
    "없음 (이미 Map object에 그렸으므로)"
   ]
  },
  {
   "cell_type": "code",
   "execution_count": 20,
   "metadata": {},
   "outputs": [],
   "source": [
    "def getLatLng(addr):\n",
    "#     addr = '서울특별시 구로구 디지털로 306'\n",
    "    app_key = 'KakaoAK' + ' 78106cafe4d656639f171b177dda611f'\n",
    "    url = 'https://dapi.kakao.com/v2/local/search/address.json'\n",
    "    params = {\n",
    "        'query': addr,\n",
    "        'page': '',\n",
    "        'AddressSize': ''\n",
    "    }\n",
    "    headers  = {\n",
    "        'Authorization': app_key\n",
    "    }\n",
    "    resp = requests.get(url, params=params, headers=headers)\n",
    "    if resp.json()['documents'] != []:\n",
    "        json = resp.json()['documents'][0]\n",
    "        return (json['x'], json['y'])\n",
    "    else:\n",
    "        fixed_addr = addr.replace(addr.split(' ')[-1], '').strip()\n",
    "        if fixed_addr == '':\n",
    "            print('불러오지 못했습니다 : ', addr)\n",
    "            return (0, 0)\n",
    "        else:\n",
    "            return getLatLng(fixed_addr)\n",
    "\n",
    "def add_marker(mapobj, x, y, info):\n",
    "    folium.Marker((y,x), popup=(info[0] + '\\n' + info[1]), icon=folium.Icon(color='red', icon='info-sign')).add_to(mapobj)\n",
    "\n",
    "def get_avg_point(point_list):\n",
    "    x = sum(map(lambda i:float(i[0]), point_list)) / len(point_list)\n",
    "    y = sum(map(lambda i:float(i[1]), point_list)) / len(point_list)\n",
    "    return y,x"
   ]
  },
  {
   "cell_type": "markdown",
   "metadata": {},
   "source": [
    "# 칼럼에서 맛집 정보 가공\n",
    "## 필요한 정보\n",
    "### 대상 url\n",
    "url = 'https://www.wikitree.co.kr/articles/217101'\n",
    "### 공백처리\n",
    "response 객체의 &nbsp; 문자열을 공백 ' '으로 치환\n",
    "resp.text.replace('&nbsp;', ' ')\n",
    "### 정규표현식 패턴 \n",
    "전화번호 : '^\\d{2,3}-\\d{3,4}-\\d{4}'  \n",
    "주소 : '^[가-힣 ]{0,4}시?[가-힣]{1,3}구 [가-힣]{0,3}동?[0-9 ]'\n",
    "## 결과\n",
    "### 맛집 정보 리스트\n",
    "리스트 자료형, contents : tuple(가게이름, 전화번호, 주소)\n",
    "### 맛집 좌표 리스트\n",
    "리스트 자료형, contents : tuple(x좌표 , y좌표)"
   ]
  },
  {
   "cell_type": "code",
   "execution_count": 21,
   "metadata": {},
   "outputs": [],
   "source": [
    "# load html\n",
    "url = 'https://www.wikitree.co.kr/articles/217101'\n",
    "resp = requests.get(url)\n",
    "\n",
    "# dataset\n",
    "soup = bs(resp.text.replace('&nbsp;', ' '),'html.parser')\n",
    "news_content = soup.select_one('div#wikicon')\n",
    "store_list = []\n",
    "tel_list = []\n",
    "addr_list = []\n",
    "stores = list(map(lambda i : i.text.split('회 '), news_content.select('strong')))\n",
    "tel_p = re.compile('^\\d{2,3}-\\d{3,4}-\\d{4}')\n",
    "addr_p = re.compile('^[가-힣 ]{0,4}시?[가-힣]{1,3}구 [가-힣]{0,3}동?[0-9 ]')\n",
    "# addr_err = re.compile('^동[0-9 ]{0,3}-?[0-9]{0,2}')\n",
    "\n",
    "# create each list\n",
    "for store in stores:\n",
    "    if len(store) > 1:\n",
    "        store_list.append(store[-1])\n",
    "tel_list = news_content.find_all(string = tel_p)\n",
    "addr_list = news_content.find_all(string = addr_p)\n",
    "store_total = [(store.strip(), tel.strip(), addr.strip()) for store,tel,addr in zip(store_list, tel_list, addr_list)]\n",
    "\n",
    "# test \n",
    "addr_point_list = list(map(lambda i: getLatLng(i[2]),store_total))"
   ]
  },
  {
   "cell_type": "markdown",
   "metadata": {},
   "source": [
    "# 가공한 데이터를 지도로 시각화(5개만!)\n",
    "## 필요한 정보\n",
    "맛집 정보 리스트\n",
    "맛집 좌표 리스트\n",
    "## 결과\n",
    "시각화된 지도"
   ]
  },
  {
   "cell_type": "code",
   "execution_count": 22,
   "metadata": {},
   "outputs": [],
   "source": [
    "import random"
   ]
  },
  {
   "cell_type": "code",
   "execution_count": 23,
   "metadata": {},
   "outputs": [
    {
     "data": {
      "text/plain": [
       "[5, 6, 7, 10, 17]"
      ]
     },
     "execution_count": 23,
     "metadata": {},
     "output_type": "execute_result"
    }
   ],
   "source": [
    "random_five = []\n",
    "while True: \n",
    "    rand_one = random.randint(1,20)\n",
    "    if rand_one not in random_five:\n",
    "        random_five.append(rand_one)\n",
    "    if len(random_five) >= 5:\n",
    "        break\n",
    "random_five.sort()\n",
    "random_five"
   ]
  },
  {
   "cell_type": "code",
   "execution_count": 30,
   "metadata": {},
   "outputs": [
    {
     "data": {
      "text/plain": [
       "[('127.00839172712', '37.5900669779109'),\n",
       " ('127.027897674019', '37.4986090348489'),\n",
       " ('126.955664169252', '37.5551587300272'),\n",
       " ('127.019786406742', '37.5210732573275'),\n",
       " ('126.923556958229', '37.5620838593197')]"
      ]
     },
     "execution_count": 30,
     "metadata": {},
     "output_type": "execute_result"
    }
   ],
   "source": [
    "addr_point_list_five = []\n",
    "store_total_five = []\n",
    "for i in random_five:\n",
    "    addr_point_list_five.append(addr_point_list[i])\n",
    "    store_total_five.append(store_total[i])\n",
    "addr_point_list_five"
   ]
  },
  {
   "cell_type": "code",
   "execution_count": 34,
   "metadata": {},
   "outputs": [],
   "source": [
    "map_food = folium.Map(location = get_avg_point(addr_point_list_five), zoom_start=11)\n",
    "cnt = 0\n",
    "for x,y in addr_point_list_five:\n",
    "    add_marker(map_food, x, y, store_total_five[cnt])\n",
    "    cnt += 1\n",
    "map_food.save('map.html')"
   ]
  },
  {
   "cell_type": "code",
   "execution_count": 35,
   "metadata": {},
   "outputs": [
    {
     "data": {
      "text/html": [
       "<div style=\"width:100%;\"><div style=\"position:relative;width:100%;height:0;padding-bottom:60%;\"><span style=\"color:#565656\">Make this Notebook Trusted to load map: File -> Trust Notebook</span><iframe src=\"about:blank\" style=\"position:absolute;width:100%;height:100%;left:0;top:0;border:none !important;\" data-html=PCFET0NUWVBFIGh0bWw+CjxoZWFkPiAgICAKICAgIDxtZXRhIGh0dHAtZXF1aXY9ImNvbnRlbnQtdHlwZSIgY29udGVudD0idGV4dC9odG1sOyBjaGFyc2V0PVVURi04IiAvPgogICAgCiAgICAgICAgPHNjcmlwdD4KICAgICAgICAgICAgTF9OT19UT1VDSCA9IGZhbHNlOwogICAgICAgICAgICBMX0RJU0FCTEVfM0QgPSBmYWxzZTsKICAgICAgICA8L3NjcmlwdD4KICAgIAogICAgPHNjcmlwdCBzcmM9Imh0dHBzOi8vY2RuLmpzZGVsaXZyLm5ldC9ucG0vbGVhZmxldEAxLjYuMC9kaXN0L2xlYWZsZXQuanMiPjwvc2NyaXB0PgogICAgPHNjcmlwdCBzcmM9Imh0dHBzOi8vY29kZS5qcXVlcnkuY29tL2pxdWVyeS0xLjEyLjQubWluLmpzIj48L3NjcmlwdD4KICAgIDxzY3JpcHQgc3JjPSJodHRwczovL21heGNkbi5ib290c3RyYXBjZG4uY29tL2Jvb3RzdHJhcC8zLjIuMC9qcy9ib290c3RyYXAubWluLmpzIj48L3NjcmlwdD4KICAgIDxzY3JpcHQgc3JjPSJodHRwczovL2NkbmpzLmNsb3VkZmxhcmUuY29tL2FqYXgvbGlicy9MZWFmbGV0LmF3ZXNvbWUtbWFya2Vycy8yLjAuMi9sZWFmbGV0LmF3ZXNvbWUtbWFya2Vycy5qcyI+PC9zY3JpcHQ+CiAgICA8bGluayByZWw9InN0eWxlc2hlZXQiIGhyZWY9Imh0dHBzOi8vY2RuLmpzZGVsaXZyLm5ldC9ucG0vbGVhZmxldEAxLjYuMC9kaXN0L2xlYWZsZXQuY3NzIi8+CiAgICA8bGluayByZWw9InN0eWxlc2hlZXQiIGhyZWY9Imh0dHBzOi8vbWF4Y2RuLmJvb3RzdHJhcGNkbi5jb20vYm9vdHN0cmFwLzMuMi4wL2Nzcy9ib290c3RyYXAubWluLmNzcyIvPgogICAgPGxpbmsgcmVsPSJzdHlsZXNoZWV0IiBocmVmPSJodHRwczovL21heGNkbi5ib290c3RyYXBjZG4uY29tL2Jvb3RzdHJhcC8zLjIuMC9jc3MvYm9vdHN0cmFwLXRoZW1lLm1pbi5jc3MiLz4KICAgIDxsaW5rIHJlbD0ic3R5bGVzaGVldCIgaHJlZj0iaHR0cHM6Ly9tYXhjZG4uYm9vdHN0cmFwY2RuLmNvbS9mb250LWF3ZXNvbWUvNC42LjMvY3NzL2ZvbnQtYXdlc29tZS5taW4uY3NzIi8+CiAgICA8bGluayByZWw9InN0eWxlc2hlZXQiIGhyZWY9Imh0dHBzOi8vY2RuanMuY2xvdWRmbGFyZS5jb20vYWpheC9saWJzL0xlYWZsZXQuYXdlc29tZS1tYXJrZXJzLzIuMC4yL2xlYWZsZXQuYXdlc29tZS1tYXJrZXJzLmNzcyIvPgogICAgPGxpbmsgcmVsPSJzdHlsZXNoZWV0IiBocmVmPSJodHRwczovL3Jhd2Nkbi5naXRoYWNrLmNvbS9weXRob24tdmlzdWFsaXphdGlvbi9mb2xpdW0vbWFzdGVyL2ZvbGl1bS90ZW1wbGF0ZXMvbGVhZmxldC5hd2Vzb21lLnJvdGF0ZS5jc3MiLz4KICAgIDxzdHlsZT5odG1sLCBib2R5IHt3aWR0aDogMTAwJTtoZWlnaHQ6IDEwMCU7bWFyZ2luOiAwO3BhZGRpbmc6IDA7fTwvc3R5bGU+CiAgICA8c3R5bGU+I21hcCB7cG9zaXRpb246YWJzb2x1dGU7dG9wOjA7Ym90dG9tOjA7cmlnaHQ6MDtsZWZ0OjA7fTwvc3R5bGU+CiAgICAKICAgICAgICAgICAgPG1ldGEgbmFtZT0idmlld3BvcnQiIGNvbnRlbnQ9IndpZHRoPWRldmljZS13aWR0aCwKICAgICAgICAgICAgICAgIGluaXRpYWwtc2NhbGU9MS4wLCBtYXhpbXVtLXNjYWxlPTEuMCwgdXNlci1zY2FsYWJsZT1ubyIgLz4KICAgICAgICAgICAgPHN0eWxlPgogICAgICAgICAgICAgICAgI21hcF8xNGMxYmQzOTA3ZWY0ZjJkYWQyNTZhNDFkNWRiMWJjMyB7CiAgICAgICAgICAgICAgICAgICAgcG9zaXRpb246IHJlbGF0aXZlOwogICAgICAgICAgICAgICAgICAgIHdpZHRoOiAxMDAuMCU7CiAgICAgICAgICAgICAgICAgICAgaGVpZ2h0OiAxMDAuMCU7CiAgICAgICAgICAgICAgICAgICAgbGVmdDogMC4wJTsKICAgICAgICAgICAgICAgICAgICB0b3A6IDAuMCU7CiAgICAgICAgICAgICAgICB9CiAgICAgICAgICAgIDwvc3R5bGU+CiAgICAgICAgCjwvaGVhZD4KPGJvZHk+ICAgIAogICAgCiAgICAgICAgICAgIDxkaXYgY2xhc3M9ImZvbGl1bS1tYXAiIGlkPSJtYXBfMTRjMWJkMzkwN2VmNGYyZGFkMjU2YTQxZDVkYjFiYzMiID48L2Rpdj4KICAgICAgICAKPC9ib2R5Pgo8c2NyaXB0PiAgICAKICAgIAogICAgICAgICAgICB2YXIgbWFwXzE0YzFiZDM5MDdlZjRmMmRhZDI1NmE0MWQ1ZGIxYmMzID0gTC5tYXAoCiAgICAgICAgICAgICAgICAibWFwXzE0YzFiZDM5MDdlZjRmMmRhZDI1NmE0MWQ1ZGIxYmMzIiwKICAgICAgICAgICAgICAgIHsKICAgICAgICAgICAgICAgICAgICBjZW50ZXI6IFszNy41NDUzOTgzNzE4ODY4NCwgMTI2Ljk4NzA1OTM4NzA3MjQyXSwKICAgICAgICAgICAgICAgICAgICBjcnM6IEwuQ1JTLkVQU0czODU3LAogICAgICAgICAgICAgICAgICAgIHpvb206IDExLAogICAgICAgICAgICAgICAgICAgIHpvb21Db250cm9sOiB0cnVlLAogICAgICAgICAgICAgICAgICAgIHByZWZlckNhbnZhczogZmFsc2UsCiAgICAgICAgICAgICAgICB9CiAgICAgICAgICAgICk7CgogICAgICAgICAgICAKCiAgICAgICAgCiAgICAKICAgICAgICAgICAgdmFyIHRpbGVfbGF5ZXJfNGMzMDgyOTg0NGI5NGQyOThlODU3NjFmN2E1MTg4YTQgPSBMLnRpbGVMYXllcigKICAgICAgICAgICAgICAgICJodHRwczovL3tzfS50aWxlLm9wZW5zdHJlZXRtYXAub3JnL3t6fS97eH0ve3l9LnBuZyIsCiAgICAgICAgICAgICAgICB7ImF0dHJpYnV0aW9uIjogIkRhdGEgYnkgXHUwMDI2Y29weTsgXHUwMDNjYSBocmVmPVwiaHR0cDovL29wZW5zdHJlZXRtYXAub3JnXCJcdTAwM2VPcGVuU3RyZWV0TWFwXHUwMDNjL2FcdTAwM2UsIHVuZGVyIFx1MDAzY2EgaHJlZj1cImh0dHA6Ly93d3cub3BlbnN0cmVldG1hcC5vcmcvY29weXJpZ2h0XCJcdTAwM2VPRGJMXHUwMDNjL2FcdTAwM2UuIiwgImRldGVjdFJldGluYSI6IGZhbHNlLCAibWF4TmF0aXZlWm9vbSI6IDE4LCAibWF4Wm9vbSI6IDE4LCAibWluWm9vbSI6IDAsICJub1dyYXAiOiBmYWxzZSwgIm9wYWNpdHkiOiAxLCAic3ViZG9tYWlucyI6ICJhYmMiLCAidG1zIjogZmFsc2V9CiAgICAgICAgICAgICkuYWRkVG8obWFwXzE0YzFiZDM5MDdlZjRmMmRhZDI1NmE0MWQ1ZGIxYmMzKTsKICAgICAgICAKICAgIAogICAgICAgICAgICB2YXIgbWFya2VyXzk4NTNmNjZjYjY5MTQ4YTQ5YTBhMDM3MjFjZDQ1ZjhlID0gTC5tYXJrZXIoCiAgICAgICAgICAgICAgICBbMzcuNTkwMDY2OTc3OTEwOSwgMTI3LjAwODM5MTcyNzEyXSwKICAgICAgICAgICAgICAgIHt9CiAgICAgICAgICAgICkuYWRkVG8obWFwXzE0YzFiZDM5MDdlZjRmMmRhZDI1NmE0MWQ1ZGIxYmMzKTsKICAgICAgICAKICAgIAogICAgICAgICAgICB2YXIgaWNvbl9iNmQzNGRmMDMxM2M0NzNkYmNhMzNmYjVhN2MzNjIyNCA9IEwuQXdlc29tZU1hcmtlcnMuaWNvbigKICAgICAgICAgICAgICAgIHsiZXh0cmFDbGFzc2VzIjogImZhLXJvdGF0ZS0wIiwgImljb24iOiAiaW5mby1zaWduIiwgImljb25Db2xvciI6ICJ3aGl0ZSIsICJtYXJrZXJDb2xvciI6ICJyZWQiLCAicHJlZml4IjogImdseXBoaWNvbiJ9CiAgICAgICAgICAgICk7CiAgICAgICAgICAgIG1hcmtlcl85ODUzZjY2Y2I2OTE0OGE0OWEwYTAzNzIxY2Q0NWY4ZS5zZXRJY29uKGljb25fYjZkMzRkZjAzMTNjNDczZGJjYTMzZmI1YTdjMzYyMjQpOwogICAgICAgIAogICAgCiAgICAgICAgdmFyIHBvcHVwXzhiYzg3MDIzNDM2NjQwZGE4M2U4ZjJjZGI2MmNjNTllID0gTC5wb3B1cCh7Im1heFdpZHRoIjogIjEwMCUifSk7CgogICAgICAgIAogICAgICAgICAgICB2YXIgaHRtbF85NmY4ZTBjOWJmZDc0ZGUwYTVlMDUzNGZiMTgwMWEzMSA9ICQoYDxkaXYgaWQ9Imh0bWxfOTZmOGUwYzliZmQ3NGRlMGE1ZTA1MzRmYjE4MDFhMzEiIHN0eWxlPSJ3aWR0aDogMTAwLjAlOyBoZWlnaHQ6IDEwMC4wJTsiPu2VtOucqOuKlOynkSAwMi03NjQtNjM1NDwvZGl2PmApWzBdOwogICAgICAgICAgICBwb3B1cF84YmM4NzAyMzQzNjY0MGRhODNlOGYyY2RiNjJjYzU5ZS5zZXRDb250ZW50KGh0bWxfOTZmOGUwYzliZmQ3NGRlMGE1ZTA1MzRmYjE4MDFhMzEpOwogICAgICAgIAoKICAgICAgICBtYXJrZXJfOTg1M2Y2NmNiNjkxNDhhNDlhMGEwMzcyMWNkNDVmOGUuYmluZFBvcHVwKHBvcHVwXzhiYzg3MDIzNDM2NjQwZGE4M2U4ZjJjZGI2MmNjNTllKQogICAgICAgIDsKCiAgICAgICAgCiAgICAKICAgIAogICAgICAgICAgICB2YXIgbWFya2VyXzQ3OGRkYzcyNDU2NDQ0MmY5OWZkYWE3MTczMTAyMzk1ID0gTC5tYXJrZXIoCiAgICAgICAgICAgICAgICBbMzcuNDk4NjA5MDM0ODQ4OSwgMTI3LjAyNzg5NzY3NDAxOV0sCiAgICAgICAgICAgICAgICB7fQogICAgICAgICAgICApLmFkZFRvKG1hcF8xNGMxYmQzOTA3ZWY0ZjJkYWQyNTZhNDFkNWRiMWJjMyk7CiAgICAgICAgCiAgICAKICAgICAgICAgICAgdmFyIGljb25fZTc3YzkwM2EyZWIzNDBkNDgxMDEwOTQzNjcwMTU4MmIgPSBMLkF3ZXNvbWVNYXJrZXJzLmljb24oCiAgICAgICAgICAgICAgICB7ImV4dHJhQ2xhc3NlcyI6ICJmYS1yb3RhdGUtMCIsICJpY29uIjogImluZm8tc2lnbiIsICJpY29uQ29sb3IiOiAid2hpdGUiLCAibWFya2VyQ29sb3IiOiAicmVkIiwgInByZWZpeCI6ICJnbHlwaGljb24ifQogICAgICAgICAgICApOwogICAgICAgICAgICBtYXJrZXJfNDc4ZGRjNzI0NTY0NDQyZjk5ZmRhYTcxNzMxMDIzOTUuc2V0SWNvbihpY29uX2U3N2M5MDNhMmViMzQwZDQ4MTAxMDk0MzY3MDE1ODJiKTsKICAgICAgICAKICAgIAogICAgICAgIHZhciBwb3B1cF9mMzE4YjRkMzBiOTg0MGQ3OWY1YzZlMzIzMzE2YzEzMiA9IEwucG9wdXAoeyJtYXhXaWR0aCI6ICIxMDAlIn0pOwoKICAgICAgICAKICAgICAgICAgICAgdmFyIGh0bWxfNDVkZWJlOWQ1MGQ1NDdjMGFkMjA5ODUxYjQzYmM0YjYgPSAkKGA8ZGl2IGlkPSJodG1sXzQ1ZGViZTlkNTBkNTQ3YzBhZDIwOTg1MWI0M2JjNGI2IiBzdHlsZT0id2lkdGg6IDEwMC4wJTsgaGVpZ2h0OiAxMDAuMCU7Ij7slYTsnbQg7ZW067iM7Ja0IOuTnOumvCAwMi0zNDUzLTc2OTY8L2Rpdj5gKVswXTsKICAgICAgICAgICAgcG9wdXBfZjMxOGI0ZDMwYjk4NDBkNzlmNWM2ZTMyMzMxNmMxMzIuc2V0Q29udGVudChodG1sXzQ1ZGViZTlkNTBkNTQ3YzBhZDIwOTg1MWI0M2JjNGI2KTsKICAgICAgICAKCiAgICAgICAgbWFya2VyXzQ3OGRkYzcyNDU2NDQ0MmY5OWZkYWE3MTczMTAyMzk1LmJpbmRQb3B1cChwb3B1cF9mMzE4YjRkMzBiOTg0MGQ3OWY1YzZlMzIzMzE2YzEzMikKICAgICAgICA7CgogICAgICAgIAogICAgCiAgICAKICAgICAgICAgICAgdmFyIG1hcmtlcl9kOGMyMzQxZWFjMjk0MmY2OTg5MTUzOTJjMjk4NTAwOSA9IEwubWFya2VyKAogICAgICAgICAgICAgICAgWzM3LjU1NTE1ODczMDAyNzIsIDEyNi45NTU2NjQxNjkyNTJdLAogICAgICAgICAgICAgICAge30KICAgICAgICAgICAgKS5hZGRUbyhtYXBfMTRjMWJkMzkwN2VmNGYyZGFkMjU2YTQxZDVkYjFiYzMpOwogICAgICAgIAogICAgCiAgICAgICAgICAgIHZhciBpY29uXzg4YWM4YmQ4ZTBmZDRkODJhYWQ5MjRlNDIwNDQyODExID0gTC5Bd2Vzb21lTWFya2Vycy5pY29uKAogICAgICAgICAgICAgICAgeyJleHRyYUNsYXNzZXMiOiAiZmEtcm90YXRlLTAiLCAiaWNvbiI6ICJpbmZvLXNpZ24iLCAiaWNvbkNvbG9yIjogIndoaXRlIiwgIm1hcmtlckNvbG9yIjogInJlZCIsICJwcmVmaXgiOiAiZ2x5cGhpY29uIn0KICAgICAgICAgICAgKTsKICAgICAgICAgICAgbWFya2VyX2Q4YzIzNDFlYWMyOTQyZjY5ODkxNTM5MmMyOTg1MDA5LnNldEljb24oaWNvbl84OGFjOGJkOGUwZmQ0ZDgyYWFkOTI0ZTQyMDQ0MjgxMSk7CiAgICAgICAgCiAgICAKICAgICAgICB2YXIgcG9wdXBfZTZmNWU0NDNmYmJhNDZiY2E2N2FlMzNhZjRmNjYzOGMgPSBMLnBvcHVwKHsibWF4V2lkdGgiOiAiMTAwJSJ9KTsKCiAgICAgICAgCiAgICAgICAgICAgIHZhciBodG1sXzc2ZjUzNTMwZDUzYzQyZmVhNjRiNWM5Zjk5MWEzZWNhID0gJChgPGRpdiBpZD0iaHRtbF83NmY1MzUzMGQ1M2M0MmZlYTY0YjVjOWY5OTFhM2VjYSIgc3R5bGU9IndpZHRoOiAxMDAuMCU7IGhlaWdodDogMTAwLjAlOyI+7JWE7ZiE64+ZIOqwhOyepeqyjOyepSAwMi0zMTItNzUzMDwvZGl2PmApWzBdOwogICAgICAgICAgICBwb3B1cF9lNmY1ZTQ0M2ZiYmE0NmJjYTY3YWUzM2FmNGY2NjM4Yy5zZXRDb250ZW50KGh0bWxfNzZmNTM1MzBkNTNjNDJmZWE2NGI1YzlmOTkxYTNlY2EpOwogICAgICAgIAoKICAgICAgICBtYXJrZXJfZDhjMjM0MWVhYzI5NDJmNjk4OTE1MzkyYzI5ODUwMDkuYmluZFBvcHVwKHBvcHVwX2U2ZjVlNDQzZmJiYTQ2YmNhNjdhZTMzYWY0ZjY2MzhjKQogICAgICAgIDsKCiAgICAgICAgCiAgICAKICAgIAogICAgICAgICAgICB2YXIgbWFya2VyX2QyMDAwOTM0ZDg4YzQwNWE5ZTFkZmY1Y2NmODQzODQxID0gTC5tYXJrZXIoCiAgICAgICAgICAgICAgICBbMzcuNTIxMDczMjU3MzI3NSwgMTI3LjAxOTc4NjQwNjc0Ml0sCiAgICAgICAgICAgICAgICB7fQogICAgICAgICAgICApLmFkZFRvKG1hcF8xNGMxYmQzOTA3ZWY0ZjJkYWQyNTZhNDFkNWRiMWJjMyk7CiAgICAgICAgCiAgICAKICAgICAgICAgICAgdmFyIGljb25fYThlYWExYTY2NDhiNDNiM2JhZmZiMjQyOWM4ZTQ1MDggPSBMLkF3ZXNvbWVNYXJrZXJzLmljb24oCiAgICAgICAgICAgICAgICB7ImV4dHJhQ2xhc3NlcyI6ICJmYS1yb3RhdGUtMCIsICJpY29uIjogImluZm8tc2lnbiIsICJpY29uQ29sb3IiOiAid2hpdGUiLCAibWFya2VyQ29sb3IiOiAicmVkIiwgInByZWZpeCI6ICJnbHlwaGljb24ifQogICAgICAgICAgICApOwogICAgICAgICAgICBtYXJrZXJfZDIwMDA5MzRkODhjNDA1YTllMWRmZjVjY2Y4NDM4NDEuc2V0SWNvbihpY29uX2E4ZWFhMWE2NjQ4YjQzYjNiYWZmYjI0MjljOGU0NTA4KTsKICAgICAgICAKICAgIAogICAgICAgIHZhciBwb3B1cF83MGU1ODFiYmM4ZTM0MWUyYTRkMGVkNGU3NTE5M2FjMSA9IEwucG9wdXAoeyJtYXhXaWR0aCI6ICIxMDAlIn0pOwoKICAgICAgICAKICAgICAgICAgICAgdmFyIGh0bWxfNjEwYWY2MmIyMmE3NDZiZDk5OTgxMzhlOWZiYTQ2ZTQgPSAkKGA8ZGl2IGlkPSJodG1sXzYxMGFmNjJiMjJhNzQ2YmQ5OTk4MTM4ZTlmYmE0NmU0IiBzdHlsZT0id2lkdGg6IDEwMC4wJTsgaGVpZ2h0OiAxMDAuMCU7Ij7ruYTsiqTtirjroZwg65Sp6rOgIDAyLTUxOC03ODY2PC9kaXY+YClbMF07CiAgICAgICAgICAgIHBvcHVwXzcwZTU4MWJiYzhlMzQxZTJhNGQwZWQ0ZTc1MTkzYWMxLnNldENvbnRlbnQoaHRtbF82MTBhZjYyYjIyYTc0NmJkOTk5ODEzOGU5ZmJhNDZlNCk7CiAgICAgICAgCgogICAgICAgIG1hcmtlcl9kMjAwMDkzNGQ4OGM0MDVhOWUxZGZmNWNjZjg0Mzg0MS5iaW5kUG9wdXAocG9wdXBfNzBlNTgxYmJjOGUzNDFlMmE0ZDBlZDRlNzUxOTNhYzEpCiAgICAgICAgOwoKICAgICAgICAKICAgIAogICAgCiAgICAgICAgICAgIHZhciBtYXJrZXJfMDE4MWJiNTM0YzYwNDliYmIwYjlhMzIzNmI0NDBlZDkgPSBMLm1hcmtlcigKICAgICAgICAgICAgICAgIFszNy41NjIwODM4NTkzMTk3LCAxMjYuOTIzNTU2OTU4MjI5XSwKICAgICAgICAgICAgICAgIHt9CiAgICAgICAgICAgICkuYWRkVG8obWFwXzE0YzFiZDM5MDdlZjRmMmRhZDI1NmE0MWQ1ZGIxYmMzKTsKICAgICAgICAKICAgIAogICAgICAgICAgICB2YXIgaWNvbl84NTU2MTIxMTg5ZWE0ZTI1YmRmZTA1YzFiZGExZWVhNSA9IEwuQXdlc29tZU1hcmtlcnMuaWNvbigKICAgICAgICAgICAgICAgIHsiZXh0cmFDbGFzc2VzIjogImZhLXJvdGF0ZS0wIiwgImljb24iOiAiaW5mby1zaWduIiwgImljb25Db2xvciI6ICJ3aGl0ZSIsICJtYXJrZXJDb2xvciI6ICJyZWQiLCAicHJlZml4IjogImdseXBoaWNvbiJ9CiAgICAgICAgICAgICk7CiAgICAgICAgICAgIG1hcmtlcl8wMTgxYmI1MzRjNjA0OWJiYjBiOWEzMjM2YjQ0MGVkOS5zZXRJY29uKGljb25fODU1NjEyMTE4OWVhNGUyNWJkZmUwNWMxYmRhMWVlYTUpOwogICAgICAgIAogICAgCiAgICAgICAgdmFyIHBvcHVwXzIxYjE3MTQxNjFmMzQwYzQ4ZmUyZWNiYmM3ODNmY2M4ID0gTC5wb3B1cCh7Im1heFdpZHRoIjogIjEwMCUifSk7CgogICAgICAgIAogICAgICAgICAgICB2YXIgaHRtbF81N2YzNGQ1Yjg4OTA0OWUyODBmYjJjODRiMzgyZjc0NiA9ICQoYDxkaXYgaWQ9Imh0bWxfNTdmMzRkNWI4ODkwNDllMjgwZmIyYzg0YjM4MmY3NDYiIHN0eWxlPSJ3aWR0aDogMTAwLjAlOyBoZWlnaHQ6IDEwMC4wJTsiPuq5jOyCrOuUlOuFuOyVhCAwMi0zMTQyLTExMDg8L2Rpdj5gKVswXTsKICAgICAgICAgICAgcG9wdXBfMjFiMTcxNDE2MWYzNDBjNDhmZTJlY2JiYzc4M2ZjYzguc2V0Q29udGVudChodG1sXzU3ZjM0ZDViODg5MDQ5ZTI4MGZiMmM4NGIzODJmNzQ2KTsKICAgICAgICAKCiAgICAgICAgbWFya2VyXzAxODFiYjUzNGM2MDQ5YmJiMGI5YTMyMzZiNDQwZWQ5LmJpbmRQb3B1cChwb3B1cF8yMWIxNzE0MTYxZjM0MGM0OGZlMmVjYmJjNzgzZmNjOCkKICAgICAgICA7CgogICAgICAgIAogICAgCjwvc2NyaXB0Pg== onload=\"this.contentDocument.open();this.contentDocument.write(atob(this.getAttribute('data-html')));this.contentDocument.close();\" allowfullscreen webkitallowfullscreen mozallowfullscreen></iframe></div></div>"
      ],
      "text/plain": [
       "<folium.folium.Map at 0x206f72d6308>"
      ]
     },
     "execution_count": 35,
     "metadata": {},
     "output_type": "execute_result"
    }
   ],
   "source": [
    "map_food"
   ]
  },
  {
   "cell_type": "markdown",
   "metadata": {},
   "source": [
    "# 개선사항\n",
    "marker의 범위에 따른 zoom 범위 조정  \n",
    "folium이 현재 marker에 한글을 지원하지 못함(20.06.11)"
   ]
  },
  {
   "cell_type": "code",
   "execution_count": null,
   "metadata": {},
   "outputs": [],
   "source": []
  }
 ],
 "metadata": {
  "kernelspec": {
   "display_name": "Python 3",
   "language": "python",
   "name": "python3"
  },
  "language_info": {
   "codemirror_mode": {
    "name": "ipython",
    "version": 3
   },
   "file_extension": ".py",
   "mimetype": "text/x-python",
   "name": "python",
   "nbconvert_exporter": "python",
   "pygments_lexer": "ipython3",
   "version": "3.7.7"
  }
 },
 "nbformat": 4,
 "nbformat_minor": 4
}
