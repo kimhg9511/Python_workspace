{
 "cells": [
  {
   "cell_type": "code",
   "execution_count": 1,
   "metadata": {},
   "outputs": [],
   "source": [
    "import pandas as pd\n",
    "import FinanceDataReader as fdr"
   ]
  },
  {
   "cell_type": "markdown",
   "metadata": {},
   "source": [
    "# 주가 가져오기"
   ]
  },
  {
   "cell_type": "code",
   "execution_count": 7,
   "metadata": {},
   "outputs": [],
   "source": [
    "df = fdr.DataReader('BTC/KRW','2015')"
   ]
  },
  {
   "cell_type": "code",
   "execution_count": 9,
   "metadata": {},
   "outputs": [
    {
     "data": {
      "text/html": [
       "<div>\n",
       "<style scoped>\n",
       "    .dataframe tbody tr th:only-of-type {\n",
       "        vertical-align: middle;\n",
       "    }\n",
       "\n",
       "    .dataframe tbody tr th {\n",
       "        vertical-align: top;\n",
       "    }\n",
       "\n",
       "    .dataframe thead th {\n",
       "        text-align: right;\n",
       "    }\n",
       "</style>\n",
       "<table border=\"1\" class=\"dataframe\">\n",
       "  <thead>\n",
       "    <tr style=\"text-align: right;\">\n",
       "      <th></th>\n",
       "      <th>Close</th>\n",
       "      <th>Open</th>\n",
       "      <th>High</th>\n",
       "      <th>Low</th>\n",
       "      <th>Volume</th>\n",
       "      <th>Change</th>\n",
       "    </tr>\n",
       "    <tr>\n",
       "      <th>Date</th>\n",
       "      <th></th>\n",
       "      <th></th>\n",
       "      <th></th>\n",
       "      <th></th>\n",
       "      <th></th>\n",
       "      <th></th>\n",
       "    </tr>\n",
       "  </thead>\n",
       "  <tbody>\n",
       "    <tr>\n",
       "      <th>2020-07-12</th>\n",
       "      <td>11022000</td>\n",
       "      <td>10968000</td>\n",
       "      <td>11022000</td>\n",
       "      <td>10946000</td>\n",
       "      <td>520.0</td>\n",
       "      <td>0.0049</td>\n",
       "    </tr>\n",
       "    <tr>\n",
       "      <th>2020-07-13</th>\n",
       "      <td>11000000</td>\n",
       "      <td>11022000</td>\n",
       "      <td>11022000</td>\n",
       "      <td>11000000</td>\n",
       "      <td>970.0</td>\n",
       "      <td>-0.0020</td>\n",
       "    </tr>\n",
       "    <tr>\n",
       "      <th>2020-07-14</th>\n",
       "      <td>11006000</td>\n",
       "      <td>11000000</td>\n",
       "      <td>11006000</td>\n",
       "      <td>10970000</td>\n",
       "      <td>580.0</td>\n",
       "      <td>0.0005</td>\n",
       "    </tr>\n",
       "    <tr>\n",
       "      <th>2020-07-15</th>\n",
       "      <td>10975000</td>\n",
       "      <td>11006000</td>\n",
       "      <td>11006000</td>\n",
       "      <td>10973000</td>\n",
       "      <td>470.0</td>\n",
       "      <td>-0.0028</td>\n",
       "    </tr>\n",
       "    <tr>\n",
       "      <th>2020-07-16</th>\n",
       "      <td>10967000</td>\n",
       "      <td>10975000</td>\n",
       "      <td>10975000</td>\n",
       "      <td>10967000</td>\n",
       "      <td>1010.0</td>\n",
       "      <td>-0.0007</td>\n",
       "    </tr>\n",
       "  </tbody>\n",
       "</table>\n",
       "</div>"
      ],
      "text/plain": [
       "               Close      Open      High       Low  Volume  Change\n",
       "Date                                                              \n",
       "2020-07-12  11022000  10968000  11022000  10946000   520.0  0.0049\n",
       "2020-07-13  11000000  11022000  11022000  11000000   970.0 -0.0020\n",
       "2020-07-14  11006000  11000000  11006000  10970000   580.0  0.0005\n",
       "2020-07-15  10975000  11006000  11006000  10973000   470.0 -0.0028\n",
       "2020-07-16  10967000  10975000  10975000  10967000  1010.0 -0.0007"
      ]
     },
     "execution_count": 9,
     "metadata": {},
     "output_type": "execute_result"
    }
   ],
   "source": [
    "df.tail()"
   ]
  },
  {
   "cell_type": "markdown",
   "metadata": {},
   "source": [
    "# macd 생성"
   ]
  },
  {
   "cell_type": "code",
   "execution_count": 5,
   "metadata": {},
   "outputs": [],
   "source": [
    "ma12 = df['Close'].rolling(window=12).mean()\n",
    "ma26 = df['Close'].rolling(window=26).mean()\n",
    "macd = ma12 - ma26\n",
    "macd_signal = macd.rolling(window=9).mean()\n",
    "macd_oscillator = macd - macd_signal"
   ]
  },
  {
   "cell_type": "code",
   "execution_count": null,
   "metadata": {},
   "outputs": [],
   "source": []
  }
 ],
 "metadata": {
  "kernelspec": {
   "display_name": "Python 3",
   "language": "python",
   "name": "python3"
  },
  "language_info": {
   "codemirror_mode": {
    "name": "ipython",
    "version": 3
   },
   "file_extension": ".py",
   "mimetype": "text/x-python",
   "name": "python",
   "nbconvert_exporter": "python",
   "pygments_lexer": "ipython3",
   "version": "3.7.7"
  }
 },
 "nbformat": 4,
 "nbformat_minor": 4
}
