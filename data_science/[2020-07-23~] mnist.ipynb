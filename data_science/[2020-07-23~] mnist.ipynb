{
 "cells": [
  {
   "cell_type": "code",
   "execution_count": 1,
   "metadata": {},
   "outputs": [],
   "source": [
    "import struct"
   ]
  },
  {
   "cell_type": "code",
   "execution_count": 2,
   "metadata": {},
   "outputs": [],
   "source": [
    "def to_csv(name, maxdata):\n",
    "    lbl_f = open(f\"mnist/{name}-labels.idx1-ubyte\",\"rb\")\n",
    "    img_f = open(f\"mnist/{name}-images.idx3-ubyte\",\"rb\")\n",
    "    csv_f = open(f\"mnist/{name}-.csv\",'w', encoding=\"utf-8\")\n",
    "    mag, lbl_count = struct.unpack('>II', lbl_f.read(8))\n",
    "    mag, img_count = struct.unpack('>II', img_f.read(8))\n",
    "    rows, cols = struct.unpack('>II', img_f.read(8))\n",
    "    pixels = rows * cols\n",
    "    \n",
    "    res = []\n",
    "    for idx in range(lbl_count):\n",
    "        if idx > maxdata: break;\n",
    "        label = struct.unpack(\"B\", lbl_f.read(1))[0]\n",
    "        bdata = img_f.read(pixels)\n",
    "        sdata = list(map(lambda n: str(n), bdata))\n",
    "        csv_f.write(str(label)+\",\")\n",
    "        csv_f.write(\",\".join(sdata)+\"\\r\\n\")\n",
    "        if idx < 10:\n",
    "            s = \"P2 28 28 255\\n\"\n",
    "            s += \" \".join(sdata)\n",
    "            iname = f\"./mnist/{name}-{idx}-{label}.pgm\"\n",
    "            with open(iname, 'w', encoding=\"utf-8\") as f:\n",
    "                f.write(s)\n",
    "    csv_f.close()\n",
    "    lbl_f.close()\n",
    "    img_f.close()"
   ]
  },
  {
   "cell_type": "code",
   "execution_count": 3,
   "metadata": {},
   "outputs": [],
   "source": [
    "to_csv(\"train\", 1000)\n",
    "to_csv(\"t10k\", 500)"
   ]
  },
  {
   "cell_type": "code",
   "execution_count": 6,
   "metadata": {},
   "outputs": [],
   "source": [
    "def load_csv(fname):\n",
    "    labels = []\n",
    "    images = []\n",
    "    with open(fname, 'r') as f:\n",
    "        for line in f:\n",
    "            cols = line.split(',')\n",
    "            if len(cols) < 2: continue\n",
    "            labels.append(int(cols.pop(0)))\n",
    "            vals = list(map(lambda n:int(n) / 256, cols))\n",
    "            images.append(vals)\n",
    "    return {'labels':labels, 'images':images}\n",
    "data = load_csv('./mnist/train-.csv')\n",
    "test = load_csv('./mnist/t10k-.csv')"
   ]
  },
  {
   "cell_type": "code",
   "execution_count": 10,
   "metadata": {},
   "outputs": [
    {
     "name": "stderr",
     "output_type": "stream",
     "text": [
      "C:\\ProgramData\\Anaconda3\\envs\\collect\\lib\\importlib\\_bootstrap.py:219: RuntimeWarning: numpy.ufunc size changed, may indicate binary incompatibility. Expected 192 from C header, got 216 from PyObject\n",
      "  return f(*args, **kwds)\n"
     ]
    }
   ],
   "source": [
    "from sklearn import model_selection, svm, metrics"
   ]
  },
  {
   "cell_type": "code",
   "execution_count": 12,
   "metadata": {},
   "outputs": [],
   "source": [
    "clf = svm.SVC()\n",
    "clf.fit(data['images'], data['labels'])\n",
    "predict = clf.predict(test['images'])"
   ]
  },
  {
   "cell_type": "code",
   "execution_count": 13,
   "metadata": {},
   "outputs": [
    {
     "name": "stdout",
     "output_type": "stream",
     "text": [
      "정답률 = 0.8842315369261478\n",
      "리포트\n",
      "              precision    recall  f1-score   support\n",
      "\n",
      "           0       0.87      0.98      0.92        42\n",
      "           1       0.99      1.00      0.99        67\n",
      "           2       0.91      0.89      0.90        55\n",
      "           3       0.94      0.72      0.81        46\n",
      "           4       0.86      0.93      0.89        55\n",
      "           5       0.75      0.82      0.78        50\n",
      "           6       0.95      0.81      0.88        43\n",
      "           7       0.79      0.94      0.86        49\n",
      "           8       0.94      0.82      0.88        40\n",
      "           9       0.89      0.87      0.88        54\n",
      "\n",
      "    accuracy                           0.88       501\n",
      "   macro avg       0.89      0.88      0.88       501\n",
      "weighted avg       0.89      0.88      0.88       501\n",
      "\n"
     ]
    }
   ],
   "source": [
    "ac_score = metrics.accuracy_score(test['labels'], predict)\n",
    "cl_report = metrics.classification_report(test['labels'], predict)\n",
    "print(f'정답률 = {ac_score}')\n",
    "print('리포트')\n",
    "print(cl_report)"
   ]
  },
  {
   "cell_type": "code",
   "execution_count": null,
   "metadata": {},
   "outputs": [],
   "source": []
  }
 ],
 "metadata": {
  "kernelspec": {
   "display_name": "Python 3",
   "language": "python",
   "name": "python3"
  },
  "language_info": {
   "codemirror_mode": {
    "name": "ipython",
    "version": 3
   },
   "file_extension": ".py",
   "mimetype": "text/x-python",
   "name": "python",
   "nbconvert_exporter": "python",
   "pygments_lexer": "ipython3",
   "version": "3.7.7"
  }
 },
 "nbformat": 4,
 "nbformat_minor": 4
}
