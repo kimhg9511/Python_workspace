{
 "cells": [
  {
   "cell_type": "code",
   "execution_count": 1,
   "metadata": {},
   "outputs": [],
   "source": [
    "target = '대한민국의 영토는 한반도와 그 부속도서로 한다'"
   ]
  },
  {
   "cell_type": "code",
   "execution_count": 2,
   "metadata": {},
   "outputs": [],
   "source": [
    "import konlpy.tag as tag"
   ]
  },
  {
   "cell_type": "code",
   "execution_count": 3,
   "metadata": {},
   "outputs": [],
   "source": [
    "kkma = tag.Kkma()\n",
    "hannanum = tag.Hannanum()\n",
    "okt = tag.Okt()"
   ]
  },
  {
   "cell_type": "markdown",
   "metadata": {},
   "source": [
    "# 명사 분석"
   ]
  },
  {
   "cell_type": "code",
   "execution_count": 11,
   "metadata": {},
   "outputs": [
    {
     "data": {
      "text/plain": [
       "['대한', '대한민국', '민국', '영토', '한반도', '부속']"
      ]
     },
     "execution_count": 11,
     "metadata": {},
     "output_type": "execute_result"
    }
   ],
   "source": [
    "kkma.nouns(target)"
   ]
  },
  {
   "cell_type": "code",
   "execution_count": 14,
   "metadata": {},
   "outputs": [
    {
     "data": {
      "text/plain": [
       "['대한민국', '영토', '한반도', '부속도서']"
      ]
     },
     "execution_count": 14,
     "metadata": {},
     "output_type": "execute_result"
    }
   ],
   "source": [
    "hannanum.nouns(target)"
   ]
  },
  {
   "cell_type": "code",
   "execution_count": 15,
   "metadata": {},
   "outputs": [
    {
     "data": {
      "text/plain": [
       "['대한민국', '영토', '한반도', '그', '부속', '도서']"
      ]
     },
     "execution_count": 15,
     "metadata": {},
     "output_type": "execute_result"
    }
   ],
   "source": [
    "okt.nouns(target)"
   ]
  },
  {
   "cell_type": "markdown",
   "metadata": {},
   "source": [
    "# 형태소 분석"
   ]
  },
  {
   "cell_type": "code",
   "execution_count": 16,
   "metadata": {},
   "outputs": [
    {
     "data": {
      "text/plain": [
       "[('대한민국', 'NNG'),\n",
       " ('의', 'JKG'),\n",
       " ('영토', 'NNG'),\n",
       " ('는', 'JX'),\n",
       " ('한반도', 'NNG'),\n",
       " ('와', 'JC'),\n",
       " ('그', 'MDT'),\n",
       " ('부속', 'NNG'),\n",
       " ('도', 'JX'),\n",
       " ('서로', 'MAG'),\n",
       " ('하', 'VV'),\n",
       " ('ㄴ다', 'EFN')]"
      ]
     },
     "execution_count": 16,
     "metadata": {},
     "output_type": "execute_result"
    }
   ],
   "source": [
    "kkma.pos(target)"
   ]
  },
  {
   "cell_type": "code",
   "execution_count": 17,
   "metadata": {},
   "outputs": [
    {
     "data": {
      "text/plain": [
       "[('대한민국', 'N'),\n",
       " ('의', 'J'),\n",
       " ('영토', 'N'),\n",
       " ('는', 'J'),\n",
       " ('한반도', 'N'),\n",
       " ('와', 'J'),\n",
       " ('그', 'M'),\n",
       " ('부속도서', 'N'),\n",
       " ('로', 'J'),\n",
       " ('하', 'P'),\n",
       " ('ㄴ다', 'E')]"
      ]
     },
     "execution_count": 17,
     "metadata": {},
     "output_type": "execute_result"
    }
   ],
   "source": [
    "hannanum.pos(target)"
   ]
  },
  {
   "cell_type": "code",
   "execution_count": 18,
   "metadata": {},
   "outputs": [
    {
     "data": {
      "text/plain": [
       "[('대한민국', 'Noun'),\n",
       " ('의', 'Josa'),\n",
       " ('영토', 'Noun'),\n",
       " ('는', 'Josa'),\n",
       " ('한반도', 'Noun'),\n",
       " ('와', 'Josa'),\n",
       " ('그', 'Noun'),\n",
       " ('부속', 'Noun'),\n",
       " ('도서', 'Noun'),\n",
       " ('로', 'Josa'),\n",
       " ('한다', 'Verb')]"
      ]
     },
     "execution_count": 18,
     "metadata": {},
     "output_type": "execute_result"
    }
   ],
   "source": [
    "okt.pos(target)"
   ]
  },
  {
   "cell_type": "code",
   "execution_count": null,
   "metadata": {},
   "outputs": [],
   "source": []
  }
 ],
 "metadata": {
  "kernelspec": {
   "display_name": "Python 3",
   "language": "python",
   "name": "python3"
  },
  "language_info": {
   "codemirror_mode": {
    "name": "ipython",
    "version": 3
   },
   "file_extension": ".py",
   "mimetype": "text/x-python",
   "name": "python",
   "nbconvert_exporter": "python",
   "pygments_lexer": "ipython3",
   "version": "3.7.7"
  }
 },
 "nbformat": 4,
 "nbformat_minor": 4
}
